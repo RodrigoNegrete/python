{
 "metadata": {
  "language_info": {
   "codemirror_mode": {
    "name": "ipython",
    "version": 3
   },
   "file_extension": ".py",
   "mimetype": "text/x-python",
   "name": "python",
   "nbconvert_exporter": "python",
   "pygments_lexer": "ipython3",
   "version": 3
  },
  "orig_nbformat": 2
 },
 "nbformat": 4,
 "nbformat_minor": 2,
 "cells": [
  {
   "cell_type": "markdown",
   "metadata": {},
   "source": [
    "# PIP\n",
    "## Python Installation\n",
    "apt install python \n",
    "\n",
    "apt install python-pip"
   ]
  },
  {
   "cell_type": "markdown",
   "metadata": {},
   "source": [
    "### Manual Environment Install\n",
    "last env is the name of the environment\n",
    "\n",
    "env is used as a convention\n",
    "\n",
    "#### install commands\n",
    "apt-get install python3-venv -y\n",
    "\n",
    "python3 -m venv env\n",
    "\n",
    "#### activate and deactivate\n",
    "\n",
    "source env/bin/activate\n",
    "\n",
    "deactivate"
   ]
  },
  {
   "cell_type": "markdown",
   "metadata": {},
   "source": [
    "## create virtual environments\n",
    "\n",
    "pip install pipenv\n",
    "\n",
    "pipenv --version\n",
    "\n",
    "cd to app folder\n",
    "\n",
    "pipenv install module_name\n",
    "\n",
    "pipenv --venv\n",
    "\n",
    "code ."
   ]
  },
  {
   "cell_type": "markdown",
   "metadata": {},
   "source": [
    "### Vbox extensions\n",
    "extensions\n",
    "coderunner\n",
    "python"
   ]
  },
  {
   "cell_type": "markdown",
   "metadata": {},
   "source": [
    "## install all dependiencies\n",
    "backup pipfile.lock from development\n",
    "\n",
    "place pipfile.lock on app folder \n",
    "\n",
    "contains all the info required to recrate the virtual environment\n",
    "\n",
    "create new environment with pipenv installthis will install all dependencies declared on pipfile.lock"
   ]
  },
  {
   "cell_type": "code",
   "execution_count": null,
   "metadata": {},
   "outputs": [],
   "source": [
    "## update dependencies\n",
    "set specific version on pipfile \n",
    "\n",
    "example\n",
    "requests ==2.9.*"
   ]
  },
  {
   "cell_type": "markdown",
   "metadata": {},
   "source": [
    "## update outdated\n",
    "pipenv update --outdated"
   ]
  },
  {
   "cell_type": "markdown",
   "metadata": {},
   "source": [
    "## update individually\n",
    "pipenv update requests"
   ]
  },
  {
   "cell_type": "markdown",
   "metadata": {},
   "source": [
    "## publish packages"
   ]
  },
  {
   "cell_type": "code",
   "execution_count": null,
   "metadata": {},
   "outputs": [],
   "source": [
    "create account in pypi.org\n",
    "\n",
    "activate account\n",
    "\n",
    "pip install setuptools wheel twine\n",
    "\n",
    "mkdir some_app\n",
    "\n",
    "cd some_app\n",
    "\n",
    "code .\n",
    "\n",
    "create high level dir with same name as main folder\n",
    "\n",
    "create tests dir\n",
    "\n",
    "create data dir\n",
    "\n",
    "add __init__file.py to main folder\n",
    "\n",
    "select the global interpreter\n",
    "\n",
    "save new workplace\n",
    "\n",
    "create app files\n",
    "\n",
    "create setup.py on app root folder with:\n",
    "\n",
    "        import setuptools\n",
    "        from pathlib import Path\n",
    "\n",
    "        setuptools.setup(\n",
    "            name=\"publish_pypi\",\n",
    "            version=1.0,\n",
    "            long_description=Path(\"README.md\").read_text(),\n",
    "            # specify packages\n",
    "            # find packages finds all packages\n",
    "            # we pass the folders to exclude from search as arguments\n",
    "            packages=setuptools.find_packages(exclude=[\"tests\", \"data\"]),\n",
    "        )\n",
    "\n",
    "Add README.md to app root folder\n",
    "\n",
    "Add LICENSE to app root folder\n",
    "\n",
    "google choose license to find agreement text\n"
   ]
  },
  {
   "cell_type": "markdown",
   "metadata": {},
   "source": [
    "on terminal run\n",
    "\n",
    "python setup.py sdist bdist_wheel\n",
    "\n",
    "dist folder is created\n",
    "\n",
    "twine upload dist/*\n",
    "\n",
    "search for your package in pypi.org"
   ]
  },
  {
   "cell_type": "code",
   "execution_count": null,
   "metadata": {},
   "outputs": [],
   "source": [
    "## view documentation\n",
    "python -m pydoc module_name\n",
    "quit with q"
   ]
  },
  {
   "cell_type": "code",
   "execution_count": null,
   "metadata": {},
   "outputs": [],
   "source": [
    "## create html with docs\n",
    "python -w pydoc module_name"
   ]
  },
  {
   "cell_type": "code",
   "execution_count": null,
   "metadata": {},
   "outputs": [],
   "source": [
    "## show docs on browser\n",
    "python -p pydoc module_name"
   ]
  }
 ]
}