{
 "cells": [
  {
   "cell_type": "markdown",
   "metadata": {},
   "source": [
    "# args, kwargs and xargs\n",
    "\n",
    "The names `args and kwargs` are arbitrary - the important thing are the `*` and `**` operators. They can mean:\n",
    "\n",
    "1. In a function declaration, `*` means “pack all remaining positional arguments into a tuple named `<name>`”, while `**` is the same for keyword arguments (except it uses a dictionary, not a tuple).\n",
    "\n",
    "2. In a function call, `*` means “unpack tuple or list named `<name>` to positional arguments at this position”, while `**` is the same for keyword arguments.\n",
    "\n"
   ]
  },
  {
   "cell_type": "code",
   "execution_count": null,
   "metadata": {},
   "outputs": [],
   "source": [
    "For example you can make a function that you can use to call any other function, no matter what parameters it has:"
   ]
  },
  {
   "cell_type": "code",
   "execution_count": 2,
   "metadata": {},
   "outputs": [],
   "source": [
    "def forward(item, *args, **kwargs):\n",
    "    return item(*args, **kwargs)"
   ]
  },
  {
   "cell_type": "markdown",
   "metadata": {},
   "source": [
    "### Thinks to Remember(args)\n",
    "\n",
    "1. Functions can accept a variable number of positional arguments by using `*args` in the def statement.\n",
    "2. You can use the items from a sequence as the positional arguments for a function with the `*` operator.\n",
    "3. Using the `*` operator with a generator may cause your program to run out of memory and crash.\n",
    "4. Adding new positional parameters to functions that accept `*args` can introduce hard-to-find bugs.\n",
    "\n",
    "### Thinks to remember(kwargs)\n",
    "\n",
    "1. Function arguments can be specified by position or by keyword.\n",
    "2. Keywords make it clear what the purpose of each argument is when it would be confusing with only positional arguments.\n",
    "3. Keyword arguments with default values make it easy to add new behaviors to a function, especially when the function has existing callers.\n",
    "4. Optional keyword arguments should always be passed by keyword instead of by position."
   ]
  },
  {
   "cell_type": "markdown",
   "metadata": {},
   "source": [
    "Inside forward, args is a tuple (of all positional arguments except the first one, because we specified it - the item), kwargs is a dict. Then we call f and unpack them so they become normal arguments to f.\n",
    "\n",
    "You use `*args` when you have an indefinite amount of positional arguments."
   ]
  },
  {
   "cell_type": "code",
   "execution_count": 3,
   "metadata": {
    "tags": []
   },
   "outputs": [
    {
     "output_type": "stream",
     "name": "stdout",
     "text": "apples\nbananas\ngrapes\n"
    }
   ],
   "source": [
    "def fruits(*args):\n",
    "   for fruit in args:\n",
    "      print(fruit)\n",
    "\n",
    "fruits(\"apples\", \"bananas\", \"grapes\")"
   ]
  },
  {
   "cell_type": "markdown",
   "metadata": {},
   "source": [
    "Similarly, you use `**kwargs` when you have an indefinite number of keyword arguments."
   ]
  },
  {
   "cell_type": "code",
   "execution_count": 4,
   "metadata": {
    "tags": []
   },
   "outputs": [
    {
     "output_type": "stream",
     "name": "stdout",
     "text": "name: apple\ncolor: red\n"
    }
   ],
   "source": [
    "def fruit(**kwargs):\n",
    "   for key, value in kwargs.items():\n",
    "       print(\"{0}: {1}\".format(key, value))\n",
    "\n",
    "fruit(name = \"apple\", color = \"red\")"
   ]
  },
  {
   "cell_type": "code",
   "execution_count": 17,
   "metadata": {
    "tags": []
   },
   "outputs": [
    {
     "output_type": "stream",
     "name": "stdout",
     "text": "1\n2\n(3, 4, 5, 6)\npython\ncheatsheet\n{'a': 7, 'b': 8, 'c': 9}\n"
    }
   ],
   "source": [
    "def show(arg1, arg2, *args, kwarg1=None, kwarg2=None, **kwargs):\n",
    "  print(arg1)\n",
    "  print(arg2)\n",
    "  print(args)\n",
    "  print(kwarg1)\n",
    "  print(kwarg2)\n",
    "  print(kwargs)\n",
    "\n",
    "data1 = [1,2,3]\n",
    "data2 = [4,5,6]\n",
    "data3 = {'a':7,'b':8,'c':9}\n",
    "\n",
    "# Syntax:\n",
    "# in data 1 and 2 each number is treated as an element. \n",
    "# arg1 and arg2 are the first elements\n",
    "# *args are the rest of the elements\n",
    "# same with kwargs\n",
    "# function_name(arg1, arg2, *rest_of_arguments, kwarg1,kwarg2, rest_of_kwargs)\n",
    "show(*data1,*data2, kwarg1=\"python\",kwarg2=\"cheatsheet\", **data3)"
   ]
  },
  {
   "cell_type": "code",
   "execution_count": 19,
   "metadata": {
    "tags": []
   },
   "outputs": [
    {
     "output_type": "stream",
     "name": "stdout",
     "text": "1\n2\n(3, 4, 5, 6)\nNone\nNone\n{'a': 7, 'b': 8, 'c': 9}\n"
    }
   ],
   "source": [
    "show(*data1, *data2, **data3)"
   ]
  },
  {
   "cell_type": "code",
   "execution_count": null,
   "metadata": {},
   "outputs": [],
   "source": [
    "Note: never compare to `None` with the `==` operator. Always use `is`.\n"
   ]
  },
  {
   "cell_type": "code",
   "execution_count": 26,
   "metadata": {
    "tags": []
   },
   "outputs": [],
   "source": [
    "## example 2\n",
    "def increment(number, by):\n",
    "    return number + by"
   ]
  },
  {
   "cell_type": "code",
   "execution_count": 28,
   "metadata": {
    "tags": []
   },
   "outputs": [
    {
     "output_type": "stream",
     "name": "stdout",
     "text": "4\n"
    }
   ],
   "source": [
    "# passing arguments and storing to variable\n",
    "result = increment(3, 1)\n",
    "\n",
    "print(result)"
   ]
  },
  {
   "cell_type": "code",
   "execution_count": 29,
   "metadata": {
    "tags": []
   },
   "outputs": [
    {
     "output_type": "stream",
     "name": "stdout",
     "text": "3\n"
    }
   ],
   "source": [
    "# without storing it\n",
    "print(increment(2, 1))"
   ]
  },
  {
   "cell_type": "code",
   "execution_count": 30,
   "metadata": {
    "tags": []
   },
   "outputs": [
    {
     "output_type": "stream",
     "name": "stdout",
     "text": "3\n"
    }
   ],
   "source": [
    "# this is the same as above but more readable by = 1 is the keyword argument \n",
    "# optional parameters should be supplied after the required parameters\n",
    "print(increment(number = 2, by = 1)) "
   ]
  },
  {
   "cell_type": "code",
   "execution_count": null,
   "metadata": {},
   "outputs": [],
   "source": [
    "print('Hello', end='')\n",
    "print('World')"
   ]
  },
  {
   "cell_type": "code",
   "execution_count": null,
   "metadata": {},
   "outputs": [],
   "source": [
    "print('cats', 'dogs', 'mice')"
   ]
  },
  {
   "cell_type": "code",
   "execution_count": null,
   "metadata": {},
   "outputs": [],
   "source": [
    "print('cats', 'dogs', 'mice', sep=',')"
   ]
  },
  {
   "cell_type": "markdown",
   "metadata": {},
   "source": [
    "### xargs\n",
    "used for variable number of parameters\n",
    "\n",
    "asterix used for xargs"
   ]
  },
  {
   "cell_type": "code",
   "execution_count": 31,
   "metadata": {
    "tags": []
   },
   "outputs": [
    {
     "output_type": "stream",
     "name": "stdout",
     "text": "2\n3\n4\n5\n"
    }
   ],
   "source": [
    "def multiply(*numbers): # use * plus numbers in plural to indicate it's a set of numbers\n",
    "    for number in numbers:\n",
    "        print(number)\n",
    "        \n",
    "# you can supply as many numbers as you like\n",
    "multiply(2, 3, 4, 5)"
   ]
  },
  {
   "cell_type": "code",
   "execution_count": 32,
   "metadata": {
    "tags": []
   },
   "outputs": [
    {
     "output_type": "stream",
     "name": "stdout",
     "text": "2\n3\n4\n5\n"
    }
   ],
   "source": [
    "# using augmented operators\n",
    "def multiply(*numbers):\n",
    "    total = 1\n",
    "    for number in numbers:\n",
    "        print(number)\n",
    "        total *= number\n",
    "\n",
    "multiply(2, 3, 4, 5)"
   ]
  },
  {
   "cell_type": "code",
   "execution_count": 12,
   "metadata": {},
   "outputs": [
    {
     "data": {
      "text/plain": [
       "120"
      ]
     },
     "execution_count": 12,
     "metadata": {},
     "output_type": "execute_result"
    }
   ],
   "source": [
    "# indentation makes the result different\n",
    "# # in here it makes iterations to multiply \n",
    "def multiply(*numbers):\n",
    "    total = 1\n",
    "    for number in numbers:\n",
    "        total *= number\n",
    "    return total\n",
    "\n",
    "multiply(2, 3, 4, 5)"
   ]
  },
  {
   "cell_type": "code",
   "execution_count": 34,
   "metadata": {},
   "outputs": [
    {
     "output_type": "execute_result",
     "data": {
      "text/plain": "2"
     },
     "metadata": {},
     "execution_count": 34
    }
   ],
   "source": [
    "# if this is not  outside the for loop it will return the total before finishing the rest of the iterations\n",
    "def multiply(*numbers):\n",
    "    total = 1\n",
    "    for number in numbers:\n",
    "        total *= number\n",
    "        return total \n",
    "    \n",
    "multiply(2, 3, 4, 5)"
   ]
  },
  {
   "cell_type": "markdown",
   "metadata": {},
   "source": [
    "### xxargs\n",
    "- double asterix\n",
    "- you can pass multiple keyword arguments\n",
    "- multiple arguments will be converted into a dictionary"
   ]
  },
  {
   "cell_type": "code",
   "execution_count": 14,
   "metadata": {},
   "outputs": [
    {
     "name": "stdout",
     "output_type": "stream",
     "text": [
      "{'id': 1, 'name': 'john', 'age': 22}\n"
     ]
    }
   ],
   "source": [
    "def save_user(**user):\n",
    "    print(user)\n",
    "\n",
    "save_user(id=1, name=\"john\", age=22) "
   ]
  },
  {
   "cell_type": "code",
   "execution_count": 15,
   "metadata": {},
   "outputs": [
    {
     "name": "stdout",
     "output_type": "stream",
     "text": [
      "1\n",
      "john\n",
      "22\n"
     ]
    }
   ],
   "source": [
    "def save_user(**user):\n",
    "    print(user[\"id\"]) # you can access arguments individually\n",
    "    print(user[\"name\"])\n",
    "    print(user[\"age\"])\n",
    "\n",
    "save_user(id=1, name=\"john\", age=22) "
   ]
  },
  {
   "cell_type": "markdown",
   "metadata": {},
   "source": [
    "### Default Arguments"
   ]
  },
  {
   "cell_type": "code",
   "execution_count": 37,
   "metadata": {
    "tags": []
   },
   "outputs": [
    {
     "output_type": "stream",
     "name": "stdout",
     "text": "3\n"
    }
   ],
   "source": [
    "# 1 is the default value for by. \n",
    "def increment(number, by=1): \n",
    "    return number + by\n",
    "\n",
    "result = increment(2)\n",
    "\n",
    "print(result)"
   ]
  },
  {
   "cell_type": "code",
   "execution_count": 38,
   "metadata": {
    "tags": []
   },
   "outputs": [
    {
     "output_type": "stream",
     "name": "stdout",
     "text": "4\n"
    }
   ],
   "source": [
    "# we overwrite the default parameter\n",
    "new_result = increment(2, 2) \n",
    "print(new_result)"
   ]
  },
  {
   "cell_type": "code",
   "execution_count": null,
   "metadata": {},
   "outputs": [],
   "source": []
  }
 ],
 "metadata": {
  "kernelspec": {
   "display_name": "Python 3",
   "language": "python",
   "name": "python3"
  },
  "language_info": {
   "codemirror_mode": {
    "name": "ipython",
    "version": 3
   },
   "file_extension": ".py",
   "mimetype": "text/x-python",
   "name": "python",
   "nbconvert_exporter": "python",
   "pygments_lexer": "ipython3",
   "version": "3.8.2"
  }
 },
 "nbformat": 4,
 "nbformat_minor": 2
}