{
 "cells": [
  {
   "cell_type": "markdown",
   "metadata": {},
   "source": [
    "#  Advanced Functions"
   ]
  },
  {
   "cell_type": "markdown",
   "metadata": {},
   "source": [
    "## Zip Function\n",
    "The purpose of zip() is to map the similar index of multiple containers so that they can be used just using as single entity.\n",
    "\n",
    "    Syntax :\n",
    "    zip(*iterators)\n",
    "    Parameters :\n",
    "    Python iterables or containers ( list, string etc )\n",
    "    Return Value :\n",
    "    Returns a single iterator object, having mapped values from all the\n",
    "    containers."
   ]
  },
  {
   "cell_type": "code",
   "execution_count": 19,
   "metadata": {
    "tags": []
   },
   "outputs": [
    {
     "output_type": "stream",
     "name": "stdout",
     "text": "[(1, 10), (2, 20), (3, 30)]\n"
    }
   ],
   "source": [
    "# zip example\n",
    "list1 = [1, 2, 3]\n",
    "list2 = [10, 20, 30]\n",
    "\n",
    "# zip will make a mixed list with touples [(1, 10), (2, 20), (3, 30)]\n",
    "print(list(zip(list1, list2))) "
   ]
  },
  {
   "cell_type": "code",
   "execution_count": 2,
   "metadata": {
    "tags": []
   },
   "outputs": [
    {
     "output_type": "stream",
     "name": "stdout",
     "text": "<zip object at 0x06C89308>\n"
    }
   ],
   "source": [
    "# another zip example\n",
    "# initializing lists \n",
    "name = [ \"Manjeet\", \"Nikhil\", \"Shambhavi\", \"Astha\" ] \n",
    "roll_no = [ 4, 1, 3, 2 ] \n",
    "marks = [ 40, 50, 60, 70 ] \n",
    "  \n",
    "# using zip() to map values \n",
    "mapped = zip(name, roll_no, marks) \n",
    "\n",
    "print(mapped)"
   ]
  },
  {
   "cell_type": "code",
   "execution_count": 3,
   "metadata": {
    "tags": []
   },
   "outputs": [
    {
     "output_type": "stream",
     "name": "stdout",
     "text": "The zipped result is : {('Nikhil', 1, 50), ('Shambhavi', 3, 60), ('Manjeet', 4, 40), ('Astha', 2, 70)}\n"
    }
   ],
   "source": [
    "# converting values to print as set \n",
    "mapped = set(mapped) \n",
    "  \n",
    "# printing resultant values  \n",
    "print (\"The zipped result is : \",end=\"\") \n",
    "print (mapped) "
   ]
  },
  {
   "cell_type": "code",
   "execution_count": null,
   "metadata": {},
   "outputs": [],
   "source": [
    "### How to unzip?\n",
    "Unzipping means converting the zipped values back to the individual self as they were. This is done with the help of “*” operator."
   ]
  },
  {
   "cell_type": "code",
   "execution_count": 4,
   "metadata": {
    "tags": []
   },
   "outputs": [
    {
     "output_type": "stream",
     "name": "stdout",
     "text": "The zipped result is : [('Nikhil', 1, 50), ('Shambhavi', 3, 60), ('Manjeet', 4, 40), ('Astha', 2, 70)]\n"
    }
   ],
   "source": [
    "# converting values to print as list \n",
    "mapped = list(mapped) \n",
    "  \n",
    "# printing resultant values  \n",
    "print (\"The zipped result is : \",end=\"\") \n",
    "print (mapped) "
   ]
  },
  {
   "cell_type": "code",
   "execution_count": 7,
   "metadata": {
    "tags": []
   },
   "outputs": [],
   "source": [
    "# unzipping values \n",
    "namz, roll_noz, marksz = zip(*mapped) "
   ]
  },
  {
   "cell_type": "code",
   "execution_count": 8,
   "metadata": {
    "tags": []
   },
   "outputs": [
    {
     "output_type": "stream",
     "name": "stdout",
     "text": "The name list is : ('Nikhil', 'Shambhavi', 'Manjeet', 'Astha')\nThe roll_no list is : (1, 3, 4, 2)\nThe marks list is : (50, 60, 40, 70)\n"
    }
   ],
   "source": [
    "# printing initial lists \n",
    "print (\"The name list is : \",end=\"\") \n",
    "print (namz) \n",
    "  \n",
    "print (\"The roll_no list is : \",end=\"\") \n",
    "print (roll_noz) \n",
    "  \n",
    "print (\"The marks list is : \",end=\"\") \n",
    "print (marksz) "
   ]
  }
 ],
 "metadata": {
  "kernelspec": {
   "display_name": "Python 3",
   "language": "python",
   "name": "python3"
  },
  "language_info": {
   "codemirror_mode": {
    "name": "ipython",
    "version": 3
   },
   "file_extension": ".py",
   "mimetype": "text/x-python",
   "name": "python",
   "nbconvert_exporter": "python",
   "pygments_lexer": "ipython3",
   "version": "3.8.2"
  }
 },
 "nbformat": 4,
 "nbformat_minor": 2
}