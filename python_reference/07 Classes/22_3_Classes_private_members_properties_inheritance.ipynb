{
 "cells": [
  {
   "cell_type": "markdown",
   "metadata": {},
   "source": [
    "# Classes\n"
   ]
  },
  {
   "cell_type": "code",
   "execution_count": 16,
   "metadata": {
    "tags": []
   },
   "outputs": [
    {
     "name": "stdout",
     "output_type": "stream",
     "text": [
      "3\n"
     ]
    },
    {
     "ename": "KeyError",
     "evalue": "'PYTHON'",
     "output_type": "error",
     "traceback": [
      "\u001b[1;31m---------------------------------------------------------------------------\u001b[0m",
      "\u001b[1;31mKeyError\u001b[0m                                  Traceback (most recent call last)",
      "\u001b[1;32m<ipython-input-16-76c292c590b0>\u001b[0m in \u001b[0;36m<module>\u001b[1;34m\u001b[0m\n\u001b[0;32m     26\u001b[0m \u001b[0mprint\u001b[0m\u001b[1;33m(\u001b[0m\u001b[0mcloud\u001b[0m\u001b[1;33m[\u001b[0m\u001b[1;34m\"PYTHON\"\u001b[0m\u001b[1;33m]\u001b[0m\u001b[1;33m)\u001b[0m \u001b[1;31m# counts 3 because its stored in lowercase\u001b[0m\u001b[1;33m\u001b[0m\u001b[1;33m\u001b[0m\u001b[0m\n\u001b[0;32m     27\u001b[0m \u001b[1;33m\u001b[0m\u001b[0m\n\u001b[1;32m---> 28\u001b[1;33m \u001b[0mprint\u001b[0m\u001b[1;33m(\u001b[0m\u001b[0mcloud\u001b[0m\u001b[1;33m.\u001b[0m\u001b[0mtags\u001b[0m\u001b[1;33m[\u001b[0m\u001b[1;34m\"PYTHON\"\u001b[0m\u001b[1;33m]\u001b[0m\u001b[1;33m)\u001b[0m \u001b[1;31m# gives key error because we haven't defined PYTHON uppercase\u001b[0m\u001b[1;33m\u001b[0m\u001b[1;33m\u001b[0m\u001b[0m\n\u001b[0m",
      "\u001b[1;31mKeyError\u001b[0m: 'PYTHON'"
     ]
    }
   ],
   "source": [
    "## Private members\n",
    "class TagCloud:  \n",
    "    def __init__(self):     \n",
    "        self.tags = {} \n",
    "\n",
    "    def add(self, tag):\n",
    "        self.tags[tag.lower()] = self.tags.get(tag.lower(), 0) + 1 \n",
    "\n",
    "    def __getitem__(self, tag):\n",
    "        return self.tags.get(tag.lower(), 0) \n",
    "\n",
    "    def __setitem__(self, tag, count):\n",
    "        self.tags[tag.lower()] = count\n",
    "\n",
    "    def __len__(self):\n",
    "        return len(self.tags)\n",
    "\n",
    "    def __iter__(self):\n",
    "        return iter(self.tags) \n",
    "        \n",
    "cloud = TagCloud()\n",
    "cloud[\"python\"]\n",
    "cloud.add(\"Python\") \n",
    "cloud.add(\"python\") \n",
    "cloud.add(\"python\") \n",
    "print(cloud[\"PYTHON\"]) # counts 3 because its stored in lowercase\n",
    "\n",
    "print(cloud.tags[\"PYTHON\"]) # gives key error because we haven't defined PYTHON uppercase\n"
   ]
  },
  {
   "cell_type": "code",
   "execution_count": 17,
   "metadata": {
    "tags": []
   },
   "outputs": [
    {
     "name": "stdout",
     "output_type": "stream",
     "text": [
      "3\n"
     ]
    },
    {
     "ename": "KeyError",
     "evalue": "'PYTHON'",
     "output_type": "error",
     "traceback": [
      "\u001b[1;31m---------------------------------------------------------------------------\u001b[0m",
      "\u001b[1;31mKeyError\u001b[0m                                  Traceback (most recent call last)",
      "\u001b[1;32m<ipython-input-17-76c292c590b0>\u001b[0m in \u001b[0;36m<module>\u001b[1;34m\u001b[0m\n\u001b[0;32m     26\u001b[0m \u001b[0mprint\u001b[0m\u001b[1;33m(\u001b[0m\u001b[0mcloud\u001b[0m\u001b[1;33m[\u001b[0m\u001b[1;34m\"PYTHON\"\u001b[0m\u001b[1;33m]\u001b[0m\u001b[1;33m)\u001b[0m \u001b[1;31m# counts 3 because its stored in lowercase\u001b[0m\u001b[1;33m\u001b[0m\u001b[1;33m\u001b[0m\u001b[0m\n\u001b[0;32m     27\u001b[0m \u001b[1;33m\u001b[0m\u001b[0m\n\u001b[1;32m---> 28\u001b[1;33m \u001b[0mprint\u001b[0m\u001b[1;33m(\u001b[0m\u001b[0mcloud\u001b[0m\u001b[1;33m.\u001b[0m\u001b[0mtags\u001b[0m\u001b[1;33m[\u001b[0m\u001b[1;34m\"PYTHON\"\u001b[0m\u001b[1;33m]\u001b[0m\u001b[1;33m)\u001b[0m \u001b[1;31m# gives key error because we haven't defined PYTHON uppercase\u001b[0m\u001b[1;33m\u001b[0m\u001b[1;33m\u001b[0m\u001b[0m\n\u001b[0m",
      "\u001b[1;31mKeyError\u001b[0m: 'PYTHON'"
     ]
    }
   ],
   "source": [
    "## Private members\n",
    "class TagCloud:  \n",
    "    def __init__(self):     \n",
    "        self.tags = {} \n",
    "\n",
    "    def add(self, tag):\n",
    "        self.tags[tag.lower()] = self.tags.get(tag.lower(), 0) + 1 \n",
    "\n",
    "    def __getitem__(self, tag):\n",
    "        return self.tags.get(tag.lower(), 0) \n",
    "\n",
    "    def __setitem__(self, tag, count):\n",
    "        self.tags[tag.lower()] = count\n",
    "\n",
    "    def __len__(self):\n",
    "        return len(self.tags)\n",
    "\n",
    "    def __iter__(self):\n",
    "        return iter(self.tags) \n",
    "        \n",
    "cloud = TagCloud()\n",
    "cloud[\"python\"]\n",
    "cloud.add(\"Python\") \n",
    "cloud.add(\"python\") \n",
    "cloud.add(\"python\") \n",
    "print(cloud[\"PYTHON\"]) # counts 3 because its stored in lowercase\n",
    "\n",
    "print(cloud.tags[\"PYTHON\"]) # gives key error because we haven't defined PYTHON uppercase"
   ]
  },
  {
   "cell_type": "code",
   "execution_count": 1,
   "metadata": {
    "tags": []
   },
   "outputs": [
    {
     "name": "stdout",
     "output_type": "stream",
     "text": [
      "{'_TagCloud__tags': {'python': 3}}\n"
     ]
    },
    {
     "ename": "AttributeError",
     "evalue": "'TagCloud' object has no attribute '__TagCloud__tags'",
     "output_type": "error",
     "traceback": [
      "\u001b[1;31m---------------------------------------------------------------------------\u001b[0m",
      "\u001b[1;31mAttributeError\u001b[0m                            Traceback (most recent call last)",
      "\u001b[1;32m<ipython-input-1-fccc2cded45e>\u001b[0m in \u001b[0;36m<module>\u001b[1;34m\u001b[0m\n\u001b[0;32m     37\u001b[0m \u001b[1;33m\u001b[0m\u001b[0m\n\u001b[0;32m     38\u001b[0m \u001b[1;31m# use the __TagCloud__tags above to access the hidden member\u001b[0m\u001b[1;33m\u001b[0m\u001b[1;33m\u001b[0m\u001b[1;33m\u001b[0m\u001b[0m\n\u001b[1;32m---> 39\u001b[1;33m \u001b[0mprint\u001b[0m\u001b[1;33m(\u001b[0m\u001b[0mcloud\u001b[0m\u001b[1;33m.\u001b[0m\u001b[0m__TagCloud__tags\u001b[0m\u001b[1;33m)\u001b[0m\u001b[1;33m\u001b[0m\u001b[1;33m\u001b[0m\u001b[0m\n\u001b[0m",
      "\u001b[1;31mAttributeError\u001b[0m: 'TagCloud' object has no attribute '__TagCloud__tags'"
     ]
    }
   ],
   "source": [
    "## Private members\n",
    "# hide members from the outside using __ before them\n",
    "# you need rope refactoring library pip install rope\n",
    "# select text and press f2 to rename objects\n",
    "\n",
    "class TagCloud:  \n",
    "    def __init__(self):     \n",
    "        self.__tags = {} \n",
    "\n",
    "    def add(self, tag):\n",
    "        self.__tags[tag.lower()] = self.__tags.get(tag.lower(), 0) + 1 \n",
    "\n",
    "    def __getitem__(self, tag):\n",
    "        return self.__tags.get(tag.lower(), 0) \n",
    "\n",
    "    def __setitem__(self, tag, count):\n",
    "        self.__tags[tag.lower()] = count\n",
    "\n",
    "    def __len__(self):\n",
    "        return len(self.__tags)\n",
    "\n",
    "    def __iter__(self):\n",
    "        return iter(self.__tags) \n",
    "        \n",
    "cloud = TagCloud()\n",
    "cloud[\"python\"]\n",
    "cloud.add(\"Python\") \n",
    "cloud.add(\"python\") \n",
    "cloud.add(\"python\") \n",
    "\n",
    "# print(cloud.__tags) # gives attribute error because cloud can't see the attribute tags\n",
    "\n",
    "\n",
    "# access hidden members\n",
    "# the __dict__ method accesses the dictionary of an object\n",
    "print(cloud.__dict__) # when run shows the new mapping of the tags like __TagCloud__tags\n",
    "\n",
    "# use the __TagCloud__tags above to access the hidden member \n",
    "print(cloud.__TagCloud__tags)"
   ]
  },
  {
   "cell_type": "code",
   "execution_count": 4,
   "metadata": {
    "tags": []
   },
   "outputs": [
    {
     "name": "stdout",
     "output_type": "stream",
     "text": [
      "10\n"
     ]
    },
    {
     "ename": "ValueError",
     "evalue": "price must be positive",
     "output_type": "error",
     "traceback": [
      "\u001b[1;31m---------------------------------------------------------------------------\u001b[0m",
      "\u001b[1;31mValueError\u001b[0m                                Traceback (most recent call last)",
      "\u001b[1;32m<ipython-input-4-1179262f75ba>\u001b[0m in \u001b[0;36m<module>\u001b[1;34m\u001b[0m\n\u001b[0;32m     20\u001b[0m \u001b[0mprint\u001b[0m\u001b[1;33m(\u001b[0m\u001b[0mproduct\u001b[0m\u001b[1;33m.\u001b[0m\u001b[0mprice\u001b[0m\u001b[1;33m)\u001b[0m\u001b[1;33m\u001b[0m\u001b[1;33m\u001b[0m\u001b[0m\n\u001b[0;32m     21\u001b[0m \u001b[1;33m\u001b[0m\u001b[0m\n\u001b[1;32m---> 22\u001b[1;33m \u001b[0mproduct\u001b[0m\u001b[1;33m.\u001b[0m\u001b[0mprice\u001b[0m \u001b[1;33m=\u001b[0m \u001b[1;33m-\u001b[0m\u001b[1;36m1\u001b[0m\u001b[1;33m\u001b[0m\u001b[1;33m\u001b[0m\u001b[0m\n\u001b[0m\u001b[0;32m     23\u001b[0m \u001b[0mprint\u001b[0m\u001b[1;33m(\u001b[0m\u001b[0mproduct\u001b[0m\u001b[1;33m.\u001b[0m\u001b[0mprice\u001b[0m\u001b[1;33m)\u001b[0m\u001b[1;33m\u001b[0m\u001b[1;33m\u001b[0m\u001b[0m\n",
      "\u001b[1;32m<ipython-input-4-1179262f75ba>\u001b[0m in \u001b[0;36mset_price\u001b[1;34m(self, value)\u001b[0m\n\u001b[0;32m     12\u001b[0m     \u001b[1;32mdef\u001b[0m \u001b[0mset_price\u001b[0m\u001b[1;33m(\u001b[0m\u001b[0mself\u001b[0m\u001b[1;33m,\u001b[0m \u001b[0mvalue\u001b[0m\u001b[1;33m)\u001b[0m\u001b[1;33m:\u001b[0m\u001b[1;33m\u001b[0m\u001b[1;33m\u001b[0m\u001b[0m\n\u001b[0;32m     13\u001b[0m         \u001b[1;32mif\u001b[0m \u001b[0mvalue\u001b[0m \u001b[1;33m<\u001b[0m \u001b[1;36m0\u001b[0m\u001b[1;33m:\u001b[0m\u001b[1;33m\u001b[0m\u001b[1;33m\u001b[0m\u001b[0m\n\u001b[1;32m---> 14\u001b[1;33m             \u001b[1;32mraise\u001b[0m \u001b[0mValueError\u001b[0m\u001b[1;33m(\u001b[0m\u001b[1;34m\"price must be positive\"\u001b[0m\u001b[1;33m)\u001b[0m\u001b[1;33m\u001b[0m\u001b[1;33m\u001b[0m\u001b[0m\n\u001b[0m\u001b[0;32m     15\u001b[0m         \u001b[0mself\u001b[0m\u001b[1;33m.\u001b[0m\u001b[0m__price\u001b[0m \u001b[1;33m=\u001b[0m \u001b[0mvalue\u001b[0m\u001b[1;33m\u001b[0m\u001b[1;33m\u001b[0m\u001b[0m\n\u001b[0;32m     16\u001b[0m \u001b[1;33m\u001b[0m\u001b[0m\n",
      "\u001b[1;31mValueError\u001b[0m: price must be positive"
     ]
    }
   ],
   "source": [
    "## Properties\n",
    "# property  have getter and setter methods\n",
    "class Product:\n",
    "    def __init__(self, price):\n",
    "        self.set_price(price)  # initialize the price\n",
    "\n",
    "    # define a priavte price __price\n",
    "    def get_price(self):\n",
    "        return self.__price\n",
    "\n",
    "    # raise error for negative values\n",
    "    def set_price(self, value):\n",
    "        if value < 0:\n",
    "            raise ValueError(\"price must be positive\")\n",
    "        self.__price = value\n",
    "\n",
    "    price = property(get_price, set_price)\n",
    "\n",
    "product = Product(10)\n",
    "print(product.price)\n",
    "\n",
    "product.price = -1\n",
    "print(product.price)\n"
   ]
  },
  {
   "cell_type": "code",
   "execution_count": null,
   "metadata": {},
   "outputs": [],
   "source": [
    "## Properties\n",
    "# remove gettter and setter methods from the dot notation access\n",
    "\n",
    "class Product:\n",
    "    def __init__(self, price):\n",
    "        self.price = price  # initialize the price\n",
    "\n",
    "    # use property decorator\n",
    "    @property\n",
    "    def price(self): # set the parameters to the name without get and set\n",
    "        return self.__price\n",
    "\n",
    "    # use the setter decorator for the method above\n",
    "    # if you don't have this you can't set new values\n",
    "    @price.setter\n",
    "    def price(self, value):\n",
    "        if value < 0:\n",
    "            raise ValueError(\"price must be positive\")\n",
    "        self.__price = value\n",
    "\n",
    "    price = property(get_price, set_price)\n",
    "\n",
    "product = Product(10)\n",
    "print(product.price)\n",
    "\n",
    "product.price = -1\n",
    "print(product.price)"
   ]
  },
  {
   "cell_type": "code",
   "execution_count": 6,
   "metadata": {
    "tags": []
   },
   "outputs": [
    {
     "name": "stdout",
     "output_type": "stream",
     "text": [
      "eat\n",
      "1\n"
     ]
    }
   ],
   "source": [
    "## inheritance\n",
    "\n",
    "# define Parent or Base class\n",
    "class Animal:\n",
    "    def __init__(self):\n",
    "        self.age = 1 # all animals will be created with an initial age of 1\n",
    "\n",
    "    def eat(self): # all animals eat\n",
    "        print(\"eat\")\n",
    "\n",
    "# define Child or Sub-classes\n",
    "class Mammal(Animal): # mammals are animals so they inherit everything from animal\n",
    "    def walk(self): # mammals walk\n",
    "        print(\"walk\")\n",
    "\n",
    "class Fish(Animal): # mammals are animals so they inherit everything from animal\n",
    "    def swim(self): # fish don't walk they swim\n",
    "        print(\"swim\")\n",
    "\n",
    "m = Mammal()\n",
    "\n",
    "# mammal will have eat and walk methods\n",
    "m.eat()\n",
    "print(m.age)"
   ]
  }
 ],
 "metadata": {
  "celltoolbar": "Raw Cell Format",
  "kernelspec": {
   "display_name": "Python 3",
   "language": "python",
   "name": "python3"
  },
  "language_info": {
   "codemirror_mode": {
    "name": "ipython",
    "version": 3
   },
   "file_extension": ".py",
   "mimetype": "text/x-python",
   "name": "python",
   "nbconvert_exporter": "python",
   "pygments_lexer": "ipython3",
   "version": "3.8.4"
  }
 },
 "nbformat": 4,
 "nbformat_minor": 4
}
