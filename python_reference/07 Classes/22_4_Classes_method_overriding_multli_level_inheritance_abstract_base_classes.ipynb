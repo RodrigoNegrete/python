{
 "cells": [
  {
   "cell_type": "markdown",
   "metadata": {},
   "source": [
    "# Classes\n"
   ]
  },
  {
   "cell_type": "code",
   "execution_count": null,
   "metadata": {},
   "outputs": [],
   "source": [
    "## Method Overriding\n",
    "class Animal:\n",
    "    def __init__(self):\n",
    "        self.age = 1 \n",
    "\n",
    "    def eat(self): \n",
    "        print(\"eat\")\n",
    "\n",
    "class Mammal(Animal): \n",
    "\n",
    "    # initialize weight for mammals\n",
    "    def __init__(self):\n",
    "        self.weight = 2\n",
    "\n",
    "    def walk(self): \n",
    "        print(\"walk\")\n",
    "\n",
    "class Fish(Animal): \n",
    "    def swim(self): \n",
    "        print(\"swim\")\n",
    "\n",
    "m = Mammal()\n",
    "\n",
    "print(m.age) # gives error because we overrided the age method on the mammal class\n",
    "print(m.weight) "
   ]
  },
  {
   "cell_type": "code",
   "execution_count": 12,
   "metadata": {
    "tags": []
   },
   "outputs": [
    {
     "name": "stdout",
     "output_type": "stream",
     "text": [
      "Mammal Constructor\n",
      "Animal Constructor\n",
      "1\n",
      "2\n"
     ]
    }
   ],
   "source": [
    "## Method Overriding\n",
    "class Animal:\n",
    "    def __init__(self):\n",
    "        print(\"Animal Constructor\")\n",
    "        self.age = 1 \n",
    "\n",
    "    def eat(self): \n",
    "        print(\"eat\")\n",
    "\n",
    "class Mammal(Animal): \n",
    "    def __init__(self):\n",
    "        print(\"Mammal Constructor\")\n",
    "        super().__init__() # super calls the the init method for the parent or base class\n",
    "        self.weight = 2\n",
    "\n",
    "    def walk(self): \n",
    "        print(\"walk\")\n",
    "\n",
    "class Fish(Animal): \n",
    "    def swim(self): \n",
    "        print(\"swim\")\n",
    "\n",
    "m = Mammal()\n",
    "\n",
    "print(m.age) # gives error because we overrided the age method on the mammal class\n",
    "print(m.weight) "
   ]
  },
  {
   "cell_type": "code",
   "execution_count": 13,
   "metadata": {
    "tags": []
   },
   "outputs": [
    {
     "name": "stdout",
     "output_type": "stream",
     "text": [
      "Mammal Constructor\n",
      "Animal Constructor\n",
      "1\n",
      "2\n"
     ]
    }
   ],
   "source": [
    "## Method Overriding\n",
    "class Animal:\n",
    "    def __init__(self):\n",
    "        print(\"Animal Constructor\")\n",
    "        self.age = 1 \n",
    "\n",
    "    def eat(self): \n",
    "        print(\"eat\")\n",
    "\n",
    "class Mammal(Animal): \n",
    "    def __init__(self):\n",
    "        print(\"Mammal Constructor\")\n",
    "        self.weight = 2\n",
    "        # if you move super after  the mammal method was invoked, it execute animal first and mammal after\n",
    "        super().__init__() \n",
    "\n",
    "    def walk(self): \n",
    "        print(\"walk\")\n",
    "\n",
    "class Fish(Animal): \n",
    "    def swim(self): \n",
    "        print(\"swim\")\n",
    "\n",
    "m = Mammal()\n",
    "\n",
    "print(m.age) # no error\n",
    "print(m.weight) "
   ]
  },
  {
   "cell_type": "code",
   "execution_count": 14,
   "metadata": {
    "tags": []
   },
   "outputs": [
    {
     "name": "stdout",
     "output_type": "stream",
     "text": [
      "Mammal Constructor\n"
     ]
    },
    {
     "ename": "AttributeError",
     "evalue": "'Mammal' object has no attribute 'age'",
     "output_type": "error",
     "traceback": [
      "\u001b[1;31m---------------------------------------------------------------------------\u001b[0m",
      "\u001b[1;31mAttributeError\u001b[0m                            Traceback (most recent call last)",
      "\u001b[1;32m<ipython-input-14-4d35c41d4c75>\u001b[0m in \u001b[0;36m<module>\u001b[1;34m\u001b[0m\n\u001b[0;32m     23\u001b[0m \u001b[0mm\u001b[0m \u001b[1;33m=\u001b[0m \u001b[0mMammal\u001b[0m\u001b[1;33m(\u001b[0m\u001b[1;33m)\u001b[0m\u001b[1;33m\u001b[0m\u001b[1;33m\u001b[0m\u001b[0m\n\u001b[0;32m     24\u001b[0m \u001b[1;33m\u001b[0m\u001b[0m\n\u001b[1;32m---> 25\u001b[1;33m \u001b[0mprint\u001b[0m\u001b[1;33m(\u001b[0m\u001b[0mm\u001b[0m\u001b[1;33m.\u001b[0m\u001b[0mage\u001b[0m\u001b[1;33m)\u001b[0m \u001b[1;31m# gives error because we overrided the age method on the mammal class\u001b[0m\u001b[1;33m\u001b[0m\u001b[1;33m\u001b[0m\u001b[0m\n\u001b[0m\u001b[0;32m     26\u001b[0m \u001b[0mprint\u001b[0m\u001b[1;33m(\u001b[0m\u001b[0mm\u001b[0m\u001b[1;33m.\u001b[0m\u001b[0mweight\u001b[0m\u001b[1;33m)\u001b[0m\u001b[1;33m\u001b[0m\u001b[1;33m\u001b[0m\u001b[0m\n",
      "\u001b[1;31mAttributeError\u001b[0m: 'Mammal' object has no attribute 'age'"
     ]
    }
   ],
   "source": [
    "## Method Overriding\n",
    "class Animal:\n",
    "    def __init__(self):\n",
    "        print(\"Animal Constructor\")\n",
    "        self.age = 1 \n",
    "\n",
    "    def eat(self): \n",
    "        print(\"eat\")\n",
    "\n",
    "class Mammal(Animal): \n",
    "    def __init__(self):\n",
    "        print(\"Mammal Constructor\")\n",
    "        self.weight = 2\n",
    "        # if ydon't use super this method will completely override the one in the animal class\n",
    "\n",
    "    def walk(self): \n",
    "        print(\"walk\")\n",
    "\n",
    "class Fish(Animal): \n",
    "    def swim(self): \n",
    "        print(\"swim\")\n",
    "\n",
    "m = Mammal()\n",
    "\n",
    "print(m.age) # gives error because we overrided the age method on the mammal class\n",
    "print(m.weight) "
   ]
  },
  {
   "cell_type": "code",
   "execution_count": null,
   "metadata": {},
   "outputs": [],
   "source": [
    "## Multilevel inheritance\n",
    "# avoid it\n",
    "# limit to one or two levels of inheritance\n",
    "class Animal:\n",
    "    def eat(self): \n",
    "        print(\"eat\")\n",
    "\n",
    "class Bird(Animal): \n",
    "    def fly(self):\n",
    "        print(\"fly\")\n",
    "\n",
    "class Chicken(Bird): # chickens don't fly, this is abusing the class inheritance\n",
    "    pass # the pass argumentmakes python happy about having nothing inside a method. It replaces the method\n",
    "\n",
    "m = Mammal()\n",
    "\n",
    "print(m.age) # gives error because we overrided the age method on the mammal class\n",
    "print(m.weight) "
   ]
  },
  {
   "cell_type": "code",
   "execution_count": 20,
   "metadata": {
    "tags": []
   },
   "outputs": [
    {
     "name": "stdout",
     "output_type": "stream",
     "text": [
      "greet employee\n"
     ]
    }
   ],
   "source": [
    "## Multiple inheritance\n",
    "# avoid\n",
    "# methods shouldn't have common methods between them like greet\n",
    "class Employee:\n",
    "    def greet(self):\n",
    "        print(\"greet employee\")\n",
    "\n",
    "class Person:\n",
    "    def greet(self):\n",
    "        print(\"greet person\")\n",
    "\n",
    "# this inherits both\n",
    "class Manager(Employee, Person):\n",
    "    pass\n",
    "\n",
    "manager = Manager()\n",
    "\n",
    "# python uses the first inheritance in this case employee\n",
    "manager.greet()\n",
    "# if there weren't a greet method on Employee it would look for one in Person\n"
   ]
  },
  {
   "cell_type": "code",
   "execution_count": 24,
   "metadata": {},
   "outputs": [],
   "source": [
    "# good eample of inheritance\n",
    "class InvalidOperationError(Exception): #create the InvalidOperationError class inheriting from Exception\n",
    "    pass\n",
    "\n",
    "class Stream:\n",
    "    def __init__(self):\n",
    "        self.opened = False # initialize opened and create a stream in closed state\n",
    "\n",
    "    def open(self):\n",
    "        if self.opened: # raise exception if it's already opened\n",
    "            raise InvalidOperationError(\"Stream is created already\")\n",
    "        self.opened = True # set to opened\n",
    "\n",
    "    def close(self):\n",
    "        if not self.opened: # raise exception if it's already closed\n",
    "            raise InvalidOperationError(\"Stream is already closed\")     \n",
    "        self.opened = Flase # set to opened\n",
    "\n",
    "class FileStream(Stream):\n",
    "    def read(self):\n",
    "        print(\"reading from file\")\n",
    "\n",
    "class NetworkStream(Stream):\n",
    "    def read(self):\n",
    "        print(\"reading from network\")\n"
   ]
  },
  {
   "cell_type": "code",
   "execution_count": 27,
   "metadata": {},
   "outputs": [
    {
     "ename": "NameError",
     "evalue": "name 'self' is not defined",
     "output_type": "error",
     "traceback": [
      "\u001b[1;31m---------------------------------------------------------------------------\u001b[0m",
      "\u001b[1;31mNameError\u001b[0m                                 Traceback (most recent call last)",
      "\u001b[1;32m<ipython-input-27-1366c3a6bacf>\u001b[0m in \u001b[0;36m<module>\u001b[1;34m\u001b[0m\n\u001b[0;32m     42\u001b[0m         \u001b[0mprint\u001b[0m\u001b[1;33m(\u001b[0m\u001b[1;34m\"reading from memory\"\u001b[0m\u001b[1;33m)\u001b[0m\u001b[1;33m\u001b[0m\u001b[1;33m\u001b[0m\u001b[0m\n\u001b[0;32m     43\u001b[0m \u001b[1;33m\u001b[0m\u001b[0m\n\u001b[1;32m---> 44\u001b[1;33m \u001b[0mstream\u001b[0m \u001b[1;33m=\u001b[0m \u001b[0mMemoryStream\u001b[0m\u001b[1;33m(\u001b[0m\u001b[1;33m)\u001b[0m\u001b[1;33m\u001b[0m\u001b[1;33m\u001b[0m\u001b[0m\n\u001b[0m\u001b[0;32m     45\u001b[0m \u001b[0mstream\u001b[0m\u001b[1;33m.\u001b[0m\u001b[0mopen\u001b[0m\u001b[1;33m(\u001b[0m\u001b[1;33m)\u001b[0m\u001b[1;33m\u001b[0m\u001b[1;33m\u001b[0m\u001b[0m\n",
      "\u001b[1;32m<ipython-input-27-1366c3a6bacf>\u001b[0m in \u001b[0;36m__init__\u001b[1;34m(ABC)\u001b[0m\n\u001b[0;32m     10\u001b[0m \u001b[1;32mclass\u001b[0m \u001b[0mStream\u001b[0m\u001b[1;33m:\u001b[0m\u001b[1;33m\u001b[0m\u001b[1;33m\u001b[0m\u001b[0m\n\u001b[0;32m     11\u001b[0m     \u001b[1;32mdef\u001b[0m \u001b[0m__init__\u001b[0m\u001b[1;33m(\u001b[0m\u001b[0mABC\u001b[0m\u001b[1;33m)\u001b[0m\u001b[1;33m:\u001b[0m \u001b[1;31m#derive it from the ABC class to make abstract\u001b[0m\u001b[1;33m\u001b[0m\u001b[1;33m\u001b[0m\u001b[0m\n\u001b[1;32m---> 12\u001b[1;33m         \u001b[0mself\u001b[0m\u001b[1;33m.\u001b[0m\u001b[0mopened\u001b[0m \u001b[1;33m=\u001b[0m \u001b[1;32mFalse\u001b[0m\u001b[1;33m\u001b[0m\u001b[1;33m\u001b[0m\u001b[0m\n\u001b[0m\u001b[0;32m     13\u001b[0m \u001b[1;33m\u001b[0m\u001b[0m\n\u001b[0;32m     14\u001b[0m     \u001b[1;32mdef\u001b[0m \u001b[0mopen\u001b[0m\u001b[1;33m(\u001b[0m\u001b[0mself\u001b[0m\u001b[1;33m)\u001b[0m\u001b[1;33m:\u001b[0m\u001b[1;33m\u001b[0m\u001b[1;33m\u001b[0m\u001b[0m\n",
      "\u001b[1;31mNameError\u001b[0m: name 'self' is not defined"
     ]
    }
   ],
   "source": [
    "## Abstract Base Classes\n",
    "# from abc - abstract base class module - lowercase\n",
    "# import ABC class - PascalCase\n",
    "# import abstractmethod function\n",
    "from abc import ABC, abstractmethod\n",
    "\n",
    "class InvalidOperationError(Exception): #create the InvalidOperationError class inheriting from Exception\n",
    "    pass\n",
    "\n",
    "class Stream:\n",
    "    def __init__(ABC): #derive it from the ABC class to make abstract\n",
    "        self.opened = False \n",
    "\n",
    "    def open(self):\n",
    "        if self.opened: \n",
    "            raise InvalidOperationError(\"Stream is created already\")\n",
    "        self.opened = True \n",
    "\n",
    "    def close(self):\n",
    "        if not self.opened: \n",
    "            raise InvalidOperationError(\"Stream is already closed\")     \n",
    "        self.opened = Flase \n",
    "\n",
    "    # use decorator\n",
    "    # when a class has an abstract method it can't be instantiated\n",
    "    @abstractmethod\n",
    "    def read(self):\n",
    "        pass\n",
    "\n",
    "# if you will create a read method, it should be exacly read in all of its definitions\n",
    "# all definitions should have the method for consistency\n",
    "class FileStream(Stream):\n",
    "    def read(self):\n",
    "        print(\"reading from file\")\n",
    "\n",
    "class NetworkStream(Stream):\n",
    "    def read(self):\n",
    "        print(\"reading from network\")\n",
    "\n",
    "class MemoryStream(Stream):\n",
    "    def read(self):\n",
    "        print(\"reading from memory\")\n",
    "\n",
    "stream = MemoryStream()\n",
    "stream.open()"
   ]
  }
 ],
 "metadata": {
  "celltoolbar": "Raw Cell Format",
  "kernelspec": {
   "display_name": "Python 3",
   "language": "python",
   "name": "python3"
  },
  "language_info": {
   "codemirror_mode": {
    "name": "ipython",
    "version": 3
   },
   "file_extension": ".py",
   "mimetype": "text/x-python",
   "name": "python",
   "nbconvert_exporter": "python",
   "pygments_lexer": "ipython3",
   "version": "3.8.4"
  }
 },
 "nbformat": 4,
 "nbformat_minor": 4
}
