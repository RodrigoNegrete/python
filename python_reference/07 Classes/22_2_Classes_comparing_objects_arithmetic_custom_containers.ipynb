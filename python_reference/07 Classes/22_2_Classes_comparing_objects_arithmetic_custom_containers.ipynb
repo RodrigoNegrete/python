{
 "cells": [
  {
   "cell_type": "markdown",
   "metadata": {},
   "source": [
    "# Classes\n"
   ]
  },
  {
   "cell_type": "code",
   "execution_count": 23,
   "metadata": {
    "tags": []
   },
   "outputs": [
    {
     "name": "stdout",
     "output_type": "stream",
     "text": [
      "False\n"
     ]
    }
   ],
   "source": [
    "## Comparing objects\n",
    "class Point:   \n",
    "    def __init__(self, x, y): \n",
    "        self.x = x \n",
    "        self.y = y \n",
    "\n",
    "point = Point(1, 2)\n",
    "another = Point(1, 2)\n",
    "\n",
    "print(point == another) # False because python compares the reference to the object in the memory\n"
   ]
  },
  {
   "cell_type": "code",
   "execution_count": 27,
   "metadata": {
    "tags": []
   },
   "outputs": [
    {
     "name": "stdout",
     "output_type": "stream",
     "text": [
      "True\n"
     ]
    },
    {
     "ename": "TypeError",
     "evalue": "'>' not supported between instances of 'Point' and 'Point'",
     "output_type": "error",
     "traceback": [
      "\u001b[1;31m---------------------------------------------------------------------------\u001b[0m",
      "\u001b[1;31mTypeError\u001b[0m                                 Traceback (most recent call last)",
      "\u001b[1;32m<ipython-input-27-dc74c1dcb8a9>\u001b[0m in \u001b[0;36m<module>\u001b[1;34m\u001b[0m\n\u001b[0;32m     15\u001b[0m \u001b[1;33m\u001b[0m\u001b[0m\n\u001b[0;32m     16\u001b[0m \u001b[0mprint\u001b[0m\u001b[1;33m(\u001b[0m\u001b[0mpoint\u001b[0m \u001b[1;33m==\u001b[0m \u001b[0manother\u001b[0m\u001b[1;33m)\u001b[0m \u001b[1;31m# True because we used the __eq__ method\u001b[0m\u001b[1;33m\u001b[0m\u001b[1;33m\u001b[0m\u001b[0m\n\u001b[1;32m---> 17\u001b[1;33m \u001b[0mprint\u001b[0m\u001b[1;33m(\u001b[0m\u001b[0mpoint\u001b[0m \u001b[1;33m>\u001b[0m \u001b[0manother\u001b[0m\u001b[1;33m)\u001b[0m \u001b[1;31m# type error\u001b[0m\u001b[1;33m\u001b[0m\u001b[1;33m\u001b[0m\u001b[0m\n\u001b[0m",
      "\u001b[1;31mTypeError\u001b[0m: '>' not supported between instances of 'Point' and 'Point'"
     ]
    }
   ],
   "source": [
    "## Comparing objects\n",
    "# Equalities\n",
    "# review google page for comprison magic methods\n",
    "class Point:   \n",
    "    def __init__(self, x, y): \n",
    "        self.x = x \n",
    "        self.y = y \n",
    "\n",
    "    # you need a magic method for equalities\n",
    "    # magic method for the equality operator\n",
    "    def __eq__(self, other): # requieres self and other according to docs\n",
    "        return self.x == other.x and self.y == other.y  \n",
    "        \n",
    "point = Point(1, 2)\n",
    "another = Point(1, 2)\n",
    "\n",
    "print(point == another) # True because we used the __eq__ method\n",
    "print(point > another) # type error"
   ]
  },
  {
   "cell_type": "code",
   "execution_count": 2,
   "metadata": {
    "tags": []
   },
   "outputs": [
    {
     "name": "stdout",
     "output_type": "stream",
     "text": [
      "True\n",
      "True\n",
      "False\n",
      "False\n"
     ]
    }
   ],
   "source": [
    "## Comparing objects\n",
    "# Inequalities\n",
    "class Point:   \n",
    "    def __init__(self, x, y): \n",
    "        self.x = x \n",
    "        self.y = y \n",
    "\n",
    "    # you need a magic method for inequalities\n",
    "    # works for > and <\n",
    "    # magic method for the greater than operator\n",
    "    def __gt__(self, other): # requieres self and other according to docs\n",
    "        return self.x == other.x and self.y == other.y  \n",
    "        \n",
    "point = Point(1, 2)\n",
    "another = Point(1, 2)\n",
    "\n",
    "print(point > another)  # evaluates greater than or equal to\n",
    "print(point < another) \n",
    "\n",
    "big_point = Point(10, 20)\n",
    "\n",
    "print(big_point > another) \n",
    "print(big_point < another) # why why why???\n"
   ]
  },
  {
   "cell_type": "code",
   "execution_count": null,
   "metadata": {},
   "outputs": [],
   "source": [
    "## Performing arithmetic operations\n",
    "# google page normal arithmentic operators\n"
   ]
  },
  {
   "cell_type": "code",
   "execution_count": 4,
   "metadata": {},
   "outputs": [
    {
     "ename": "TypeError",
     "evalue": "unsupported operand type(s) for +: 'Point' and 'Point'",
     "output_type": "error",
     "traceback": [
      "\u001b[1;31m---------------------------------------------------------------------------\u001b[0m",
      "\u001b[1;31mTypeError\u001b[0m                                 Traceback (most recent call last)",
      "\u001b[1;32m<ipython-input-4-e9963d22abac>\u001b[0m in \u001b[0;36m<module>\u001b[1;34m\u001b[0m\n\u001b[0;32m     13\u001b[0m \u001b[0manother\u001b[0m \u001b[1;33m=\u001b[0m \u001b[0mPoint\u001b[0m\u001b[1;33m(\u001b[0m\u001b[1;36m1\u001b[0m\u001b[1;33m,\u001b[0m \u001b[1;36m2\u001b[0m\u001b[1;33m)\u001b[0m\u001b[1;33m\u001b[0m\u001b[1;33m\u001b[0m\u001b[0m\n\u001b[0;32m     14\u001b[0m \u001b[1;33m\u001b[0m\u001b[0m\n\u001b[1;32m---> 15\u001b[1;33m \u001b[0mprint\u001b[0m\u001b[1;33m(\u001b[0m\u001b[0mpoint\u001b[0m \u001b[1;33m+\u001b[0m \u001b[0manother\u001b[0m\u001b[1;33m)\u001b[0m  \u001b[1;31m# should return __main__.Point object at memory location\u001b[0m\u001b[1;33m\u001b[0m\u001b[1;33m\u001b[0m\u001b[0m\n\u001b[0m",
      "\u001b[1;31mTypeError\u001b[0m: unsupported operand type(s) for +: 'Point' and 'Point'"
     ]
    }
   ],
   "source": [
    "class Point:   \n",
    "    def __init__(self, x, y): \n",
    "        self.x = x \n",
    "        self.y = y \n",
    "\n",
    "    # you need a magic method for adding\n",
    "    # magic method for the add operator\n",
    "    def __gt__(self, other): # requieres self and other according to docs\n",
    "        return Point(self.x + other.x and self.y + other.y)  # we specify the addition mapping of attributes\n",
    "        \n",
    "\n",
    "point = Point(10, 20)\n",
    "another = Point(1, 2)\n",
    "\n",
    "print(point + another)  # should return __main__.Point object at memory location\n"
   ]
  },
  {
   "cell_type": "code",
   "execution_count": 5,
   "metadata": {},
   "outputs": [
    {
     "ename": "TypeError",
     "evalue": "unsupported operand type(s) for +: 'Point' and 'Point'",
     "output_type": "error",
     "traceback": [
      "\u001b[1;31m---------------------------------------------------------------------------\u001b[0m",
      "\u001b[1;31mTypeError\u001b[0m                                 Traceback (most recent call last)",
      "\u001b[1;32m<ipython-input-5-ebfffe610999>\u001b[0m in \u001b[0;36m<module>\u001b[1;34m\u001b[0m\n\u001b[0;32m     13\u001b[0m \u001b[0manother\u001b[0m \u001b[1;33m=\u001b[0m \u001b[0mPoint\u001b[0m\u001b[1;33m(\u001b[0m\u001b[1;36m1\u001b[0m\u001b[1;33m,\u001b[0m \u001b[1;36m2\u001b[0m\u001b[1;33m)\u001b[0m\u001b[1;33m\u001b[0m\u001b[1;33m\u001b[0m\u001b[0m\n\u001b[0;32m     14\u001b[0m \u001b[1;33m\u001b[0m\u001b[0m\n\u001b[1;32m---> 15\u001b[1;33m \u001b[0mcombined\u001b[0m \u001b[1;33m=\u001b[0m \u001b[0mpoint\u001b[0m \u001b[1;33m+\u001b[0m \u001b[0manother\u001b[0m  \u001b[1;31m# do this to avoid memory reference comparison\u001b[0m\u001b[1;33m\u001b[0m\u001b[1;33m\u001b[0m\u001b[0m\n\u001b[0m\u001b[0;32m     16\u001b[0m \u001b[0mprint\u001b[0m\u001b[1;33m(\u001b[0m\u001b[0mcombined\u001b[0m\u001b[1;33m.\u001b[0m\u001b[0mx\u001b[0m\u001b[1;33m)\u001b[0m\u001b[1;33m\u001b[0m\u001b[1;33m\u001b[0m\u001b[0m\n",
      "\u001b[1;31mTypeError\u001b[0m: unsupported operand type(s) for +: 'Point' and 'Point'"
     ]
    }
   ],
   "source": [
    "class Point:   \n",
    "    def __init__(self, x, y): \n",
    "        self.x = x \n",
    "        self.y = y \n",
    "\n",
    "    # you need a magic method for adding\n",
    "    # magic method for the add operator\n",
    "    def __gt__(self, other): # requieres self and other according to docs\n",
    "        return Point(self.x + other.x and self.y + other.y)  # we specify the addition mapping of attributes\n",
    "        \n",
    "\n",
    "point = Point(10, 20)\n",
    "another = Point(1, 2)\n",
    "\n",
    "combined = point + another  # do this to avoid memory reference comparison\n",
    "print(combined.x)"
   ]
  },
  {
   "cell_type": "code",
   "execution_count": null,
   "metadata": {},
   "outputs": [],
   "source": [
    "## Making custom containers\n",
    "\n"
   ]
  },
  {
   "cell_type": "code",
   "execution_count": 9,
   "metadata": {
    "tags": []
   },
   "outputs": [
    {
     "name": "stdout",
     "output_type": "stream",
     "text": [
      "{'Python': 1, 'python': 2}\n"
     ]
    }
   ],
   "source": [
    "# counting elements\n",
    "class TagCloud:  \n",
    "    def __init__(self):     # define constructor\n",
    "        # dictionaries are useful for counting\n",
    "        self.tags = {} # initialize tag attribute to an empty dictionary\n",
    "\n",
    "    # define method to add tag   \n",
    "    def add(self, tag):\n",
    "        self.tags[tag] = self.tags.get(tag, 0) + 1 # you set a default value in case you don't have it and then add 1 \n",
    "\n",
    "cloud = TagCloud()\n",
    "cloud.add(\"Python\") #add python tags, case sensitive\n",
    "cloud.add(\"python\") \n",
    "cloud.add(\"python\") \n",
    "print(cloud.tags)"
   ]
  },
  {
   "cell_type": "code",
   "execution_count": 11,
   "metadata": {
    "tags": []
   },
   "outputs": [
    {
     "name": "stdout",
     "output_type": "stream",
     "text": [
      "{'python': 3}\n"
     ]
    }
   ],
   "source": [
    "# counting elements not case sensitive\n",
    "class TagCloud:  \n",
    "    def __init__(self):     \n",
    "        self.tags = {} \n",
    "\n",
    "    # update method to add tag   \n",
    "    def add(self, tag):\n",
    "        # call the lowercase method for setting and reading tags\n",
    "        self.tags[tag.lower()] = self.tags.get(tag.lower(), 0) + 1 \n",
    "\n",
    "cloud = TagCloud()\n",
    "cloud.add(\"Python\") #add python tags\n",
    "cloud.add(\"python\") \n",
    "cloud.add(\"python\") \n",
    "print(cloud.tags)"
   ]
  },
  {
   "cell_type": "code",
   "execution_count": 13,
   "metadata": {
    "tags": []
   },
   "outputs": [
    {
     "name": "stdout",
     "output_type": "stream",
     "text": [
      "{'python': 3}\n"
     ]
    },
    {
     "data": {
      "text/plain": [
       "1"
      ]
     },
     "execution_count": 13,
     "metadata": {},
     "output_type": "execute_result"
    }
   ],
   "source": [
    "# counting elements not case sensitive\n",
    "class TagCloud:  \n",
    "    def __init__(self):     \n",
    "        self.tags = {} \n",
    "\n",
    "    # update method to add tag   \n",
    "    def add(self, tag):\n",
    "        self.tags[tag.lower()] = self.tags.get(tag.lower(), 0) + 1 \n",
    "\n",
    "    def __getitem__(self, tag): # tag is the key\n",
    "        # this reads the number of tags but you can't set a new number\n",
    "        return self.tags.get(tag.lower(), 0) # set default to 0 if you don't have it yet\n",
    "\n",
    "    # this allows to set a number of tags\n",
    "    # def __setitem__(self, key, value)\n",
    "    def __setitem__(self, tag, count):\n",
    "        self.tags[tag.lower()] = count\n",
    "\n",
    "    # this gets the number of items\n",
    "    # def __len__(self)\n",
    "    def __len__(self):\n",
    "        return len(self.tags)\n",
    "\n",
    "    # this makes the method iterable\n",
    "    # def __iter__(self)\n",
    "    def __iter__(self):\n",
    "        return iter(self.tags) # gives one iterable item at the time\n",
    "\n",
    "cloud = TagCloud()\n",
    "cloud[\"python\"]\n",
    "cloud.add(\"Python\") #add python tags\n",
    "cloud.add(\"python\") \n",
    "cloud.add(\"python\") \n",
    "print(cloud.tags)\n",
    "\n",
    "# set number of tags\n",
    "cloud[\"python\"] = 10\n",
    "len(cloud) # returns one because we only have python attribute repeated 10 times"
   ]
  }
 ],
 "metadata": {
  "celltoolbar": "Raw Cell Format",
  "kernelspec": {
   "display_name": "Python 3",
   "language": "python",
   "name": "python3"
  },
  "language_info": {
   "codemirror_mode": {
    "name": "ipython",
    "version": 3
   },
   "file_extension": ".py",
   "mimetype": "text/x-python",
   "name": "python",
   "nbconvert_exporter": "python",
   "pygments_lexer": "ipython3",
   "version": "3.8.4"
  }
 },
 "nbformat": 4,
 "nbformat_minor": 4
}
