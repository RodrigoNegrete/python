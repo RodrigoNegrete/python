{
 "cells": [
  {
   "cell_type": "markdown",
   "metadata": {},
   "source": [
    "# Classes\n",
    "\n",
    "PascalNamingConvention\n",
    "\n",
    "Class is the blueprint for creating new objects\n",
    "\n",
    "All objects are created using classes\n",
    "\n",
    "Object is an instance of a class\n",
    "\n",
    "Example class: Human, Object: John\n"
   ]
  },
  {
   "cell_type": "markdown",
   "metadata": {},
   "source": [
    "## Creating Classes\n",
    "\n",
    "All classes must have at least the self parameter\n",
    "\n",
    "Inside classes you have functions\n",
    "\n"
   ]
  },
  {
   "cell_type": "code",
   "execution_count": 6,
   "metadata": {
    "tags": []
   },
   "outputs": [
    {
     "name": "stdout",
     "output_type": "stream",
     "text": [
      "<class '__main__.Point'>\n",
      "True\n",
      "False\n"
     ]
    }
   ],
   "source": [
    "class Point:\n",
    "    def draw(self): # we define draw as a method\n",
    "        print(\"draw\")\n",
    "\n",
    "\n",
    "point = Point() # the Point method is used to create point object\n",
    "print(type(point)) # prints the type of point which is its class\n",
    "print(isinstance(point, Point)) # isinstance lets you know if an object is an instance of a class\n",
    "print(isinstance(point, int)) # False because integer is not an instance of point"
   ]
  },
  {
   "cell_type": "markdown",
   "metadata": {},
   "source": [
    "## Constructors\n",
    "\n",
    "Functions can have methods and attributes\n",
    "\n",
    "def is used to create methods\n",
    "\n",
    "__init__ is a magic method and a constructor\n",
    "\n",
    "x and y are instance attributes\n",
    "\n",
    "Example: function walk, attribute: blue eyes\n",
    "\n",
    "methods must have the parameter self at least\n",
    "\n"
   ]
  },
  {
   "cell_type": "code",
   "execution_count": 7,
   "metadata": {
    "tags": []
   },
   "outputs": [
    {
     "name": "stdout",
     "output_type": "stream",
     "text": [
      "1\n"
     ]
    }
   ],
   "source": [
    "class Point:\n",
    "    def __init__(self, x, y): # we define or initialize x and y for self\n",
    "        self.x = x # sets self of x to x\n",
    "        self.y = y # sets self of y to y\n",
    "\n",
    "    def draw(self): \n",
    "        print(\"draw\")\n",
    "        # print(f\"Point ({self.x}, {self.y})\")\n",
    "\n",
    "# at this moment we can call the attributes and methods of point\n",
    "point = Point(1, 2) # the Point method is used to create point object\n",
    "print(point.x) "
   ]
  },
  {
   "cell_type": "markdown",
   "metadata": {},
   "source": [
    "## class vs instance attributes\n",
    "\n",
    "Class attributes are shared in all instances of the class\n",
    "\n",
    "Instance attributes are dynamic - You can define them outside def at any moment you need them\n",
    "\n",
    "x and y are instance attributes and they can be changed inside the class\n"
   ]
  },
  {
   "cell_type": "code",
   "execution_count": 15,
   "metadata": {
    "tags": []
   },
   "outputs": [
    {
     "name": "stdout",
     "output_type": "stream",
     "text": [
      "yellow\n",
      "yellow\n"
     ]
    }
   ],
   "source": [
    "## Class attributes\n",
    "class Point:\n",
    "    default_color = \"red\"    # this is a class attribute\n",
    "\n",
    "    def __init__(self, x, y): \n",
    "        self.x = x \n",
    "        self.y = y \n",
    "\n",
    "    def draw(self): \n",
    "        print(f\"Point ({self.x}, {self.y})\")\n",
    "\n",
    "# we change the default_color for the class attribute\n",
    "Point.default_color = \"yellow\" # this is the Point class with PascalName\n",
    "\n",
    "point = Point(1, 2) \n",
    "\n",
    "print(point.default_color) # prints yellow because we changed Point at the class level\n",
    "\n",
    "another = Point(3, 4) \n",
    "print(another.default_color) # prints yellow because we changed Point at the class level"
   ]
  },
  {
   "cell_type": "code",
   "execution_count": 11,
   "metadata": {
    "tags": []
   },
   "outputs": [
    {
     "name": "stdout",
     "output_type": "stream",
     "text": [
      "Point (1, 2)\n",
      "Point (3, 4)\n"
     ]
    }
   ],
   "source": [
    "## Instance attributes\n",
    "class Point:\n",
    "    default_color = \"red\"   \n",
    "    \n",
    "    def __init__(self, x, y): \n",
    "        self.x = x \n",
    "        self.y = y \n",
    "\n",
    "    def draw(self): \n",
    "        print(f\"Point ({self.x}, {self.y})\")\n",
    "\n",
    "point = Point(1, 2) \n",
    "another = Point(3, 4) \n",
    "\n",
    "point.draw() # we call the draw method on point\n",
    "another.draw() # we call the draw method on another"
   ]
  },
  {
   "cell_type": "code",
   "execution_count": null,
   "metadata": {},
   "outputs": [],
   "source": [
    "## Class vs Instance methods\n",
    "Instance objects are used when you need to assign specific attributes, like when you need an actual point\n",
    "\n",
    "factory methods are used to create objects with some values\n",
    "\n",
    "\n"
   ]
  },
  {
   "cell_type": "code",
   "execution_count": 18,
   "metadata": {
    "tags": []
   },
   "outputs": [
    {
     "name": "stdout",
     "output_type": "stream",
     "text": [
      "Point (0, 0)\n"
     ]
    }
   ],
   "source": [
    "## Instance attributes\n",
    "class Point:\n",
    "    \n",
    "    #these are instance methods\n",
    "    def __init__(self, x, y): \n",
    "        self.x = x \n",
    "        self.y = y \n",
    "\n",
    "    @classmethod # you need this decorator for creating class methods\n",
    "    def zero(cls): # the first parameter of a class method should be named cls\n",
    "        return cls(0, 0) # return the specified values\n",
    "\n",
    "    def draw(self): \n",
    "        print(f\"Point ({self.x}, {self.y})\")\n",
    "\n",
    "point = Point(0, 0) \n",
    "point = Point.zero() # zero is a factory method that creates a point 0, 0 like the above\n",
    "point.draw() "
   ]
  },
  {
   "cell_type": "code",
   "execution_count": 20,
   "metadata": {
    "tags": []
   },
   "outputs": [
    {
     "name": "stdout",
     "output_type": "stream",
     "text": [
      "(1, 2)\n",
      "(1, 2)\n"
     ]
    }
   ],
   "source": [
    "## Instance attributes\n",
    "class Point:\n",
    "    \n",
    "    def __init__(self, x, y): \n",
    "        self.x = x \n",
    "        self.y = y \n",
    "\n",
    "    # the str magic method is used to format object as string\n",
    "    def __str__(self): #the first parameter for magic methods must be self\n",
    "        return f\"({self.x}, {self.y})\"\n",
    "\n",
    "    def draw(self): \n",
    "        print(f\"Point ({self.x}, {self.y})\")\n",
    "\n",
    "point = Point(1, 2) \n",
    "print(point)\n",
    "\n",
    "print(str(point)) # the str function does the same as the magic method"
   ]
  },
  {
   "cell_type": "code",
   "execution_count": null,
   "metadata": {},
   "outputs": [],
   "source": [
    "## magic methods\n",
    "they start with __\n",
    "\n",
    "google python3 magic methods by raffe kettler\n"
   ]
  }
 ],
 "metadata": {
  "celltoolbar": "Raw Cell Format",
  "kernelspec": {
   "display_name": "Python 3",
   "language": "python",
   "name": "python3"
  },
  "language_info": {
   "codemirror_mode": {
    "name": "ipython",
    "version": 3
   },
   "file_extension": ".py",
   "mimetype": "text/x-python",
   "name": "python",
   "nbconvert_exporter": "python",
   "pygments_lexer": "ipython3",
   "version": "3.8.4"
  }
 },
 "nbformat": 4,
 "nbformat_minor": 4
}
