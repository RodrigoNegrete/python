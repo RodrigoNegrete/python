{
 "cells": [
  {
   "cell_type": "markdown",
   "metadata": {},
   "source": [
    "# Classes\n"
   ]
  },
  {
   "cell_type": "code",
   "execution_count": 29,
   "metadata": {
    "tags": []
   },
   "outputs": [
    {
     "name": "stdout",
     "output_type": "stream",
     "text": [
      "True\n",
      "dropdown list\n",
      "True\n",
      "textbox\n"
     ]
    }
   ],
   "source": [
    "## Polymorphism\n",
    "from abc import ABC, abstractmethod\n",
    "\n",
    "class UIControl(ABC): #derive it from the ABC class to make abstract\n",
    "    @abstractmethod\n",
    "    def draw(self): # the derived classes should hav the draw method\n",
    "        pass\n",
    "\n",
    "class TextBox(UIControl):\n",
    "    def draw(self):\n",
    "        print(\"textbox\")\n",
    "\n",
    "class DropDownList(UIControl):\n",
    "    def draw(self):\n",
    "        print(\"dropdown list\")\n",
    "\n",
    "def draw(control):\n",
    "    control.draw()\n",
    "\n",
    "# review dropdown\n",
    "ddl = DropDownList()\n",
    "print(isinstance(ddl, UIControl))\n",
    "draw(ddl)\n",
    "\n",
    "#review textbox\n",
    "textbox = TextBox()\n",
    "print(isinstance(textbox, UIControl))\n",
    "draw(textbox)"
   ]
  },
  {
   "cell_type": "code",
   "execution_count": 30,
   "metadata": {
    "tags": []
   },
   "outputs": [
    {
     "name": "stdout",
     "output_type": "stream",
     "text": [
      "dropdown list\n",
      "textbox\n"
     ]
    }
   ],
   "source": [
    "## Polymorphism\n",
    "# define base class\n",
    "# define common behavior for childern\n",
    "from abc import ABC, abstractmethod\n",
    "\n",
    "class UIControl(ABC): # derive it from the ABC class to make abstract\n",
    "    @abstractmethod\n",
    "    def draw(self): \n",
    "        pass\n",
    "\n",
    "class TextBox(UIControl):\n",
    "    def draw(self):\n",
    "        print(\"textbox\")\n",
    "\n",
    "class DropDownList(UIControl):\n",
    "    def draw(self):\n",
    "        print(\"dropdown list\")\n",
    "\n",
    "def draw(controls): # implement loop\n",
    "    for control in controls:\n",
    "            control.draw() # the draw method takes many different forms - polymorphism\n",
    "\n",
    "ddl = DropDownList()\n",
    "textbox = TextBox()\n",
    "\n",
    "\n",
    "draw([ddl, textbox]) # pass a list"
   ]
  },
  {
   "cell_type": "code",
   "execution_count": 31,
   "metadata": {
    "tags": []
   },
   "outputs": [
    {
     "name": "stdout",
     "output_type": "stream",
     "text": [
      "dropdown list\n",
      "textbox\n"
     ]
    }
   ],
   "source": [
    "## Duck Typing\n",
    "# Polymorphism\n",
    "from abc import ABC, abstractmethod\n",
    "\n",
    "# remove UIControl class\n",
    "\n",
    "class TextBox: # remove inheritance\n",
    "    def draw(self):\n",
    "        print(\"textbox\")\n",
    "\n",
    "class DropDownList: # remove inheritance\n",
    "    def draw(self):\n",
    "        print(\"dropdown list\")\n",
    "\n",
    "\n",
    "# the object has to be iterable for the solution to work\n",
    "def draw(controls): \n",
    "    for control in controls:\n",
    "            control.draw() \n",
    "\n",
    "ddl = DropDownList()\n",
    "textbox = TextBox()\n",
    "\n",
    "# you get the same result asthe prior example\n",
    "draw([ddl, textbox]) "
   ]
  },
  {
   "cell_type": "code",
   "execution_count": 34,
   "metadata": {
    "tags": []
   },
   "outputs": [
    {
     "name": "stdout",
     "output_type": "stream",
     "text": [
      "python\n",
      "PythonPython\n",
      "append called\n"
     ]
    }
   ],
   "source": [
    "## Extending Built-in Types\n",
    "class Text(str): # this inherits from the str class\n",
    "    def duplicate(self):\n",
    "        return self + self\n",
    "\n",
    "# override append method\n",
    "class TraceableList(list): \n",
    "    def append(self, object):\n",
    "        print(\"append called\")\n",
    "        super().append(object)\n",
    "\n",
    "# check with text\n",
    "text = Text(\"Python\") # create a Python atribute\n",
    "print(text.lower()) # all str methods become available to the attribute\n",
    "print(text.duplicate()) \n",
    "\n",
    "#check with list\n",
    "list = TraceableList()\n",
    "list.append(\"1\")"
   ]
  }
 ],
 "metadata": {
  "celltoolbar": "Raw Cell Format",
  "kernelspec": {
   "display_name": "Python 3",
   "language": "python",
   "name": "python3"
  },
  "language_info": {
   "codemirror_mode": {
    "name": "ipython",
    "version": 3
   },
   "file_extension": ".py",
   "mimetype": "text/x-python",
   "name": "python",
   "nbconvert_exporter": "python",
   "pygments_lexer": "ipython3",
   "version": "3.8.4"
  }
 },
 "nbformat": 4,
 "nbformat_minor": 4
}
