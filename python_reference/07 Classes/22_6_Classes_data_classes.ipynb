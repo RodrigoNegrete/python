{
 "cells": [
  {
   "cell_type": "markdown",
   "metadata": {},
   "source": [
    "#  Dataclasses\n",
    "\n",
    "`Dataclasses` are python classes but are suited for storing data objects.\n",
    "This module provides a decorator and functions for automatically adding generated special methods such as `__init__()` and `__repr__()` to user-defined classes.\n",
    "\n",
    "### Features\n",
    "\n",
    "1. They store data and represent a certain data type. Ex: A number. For people familiar with ORMs, a model instance is a data object. It represents a specific kind of entity. It holds attributes that define or represent the entity.\n",
    "\n",
    "2. They can be compared to other objects of the same type. Ex: A number can be greater than, less than, or equal to another number.\n",
    "\n",
    "Python 3.7 provides a decorator dataclass that is used to convert a class into a dataclass.\n",
    "\n",
    "python 2.7"
   ]
  },
  {
   "cell_type": "code",
   "execution_count": null,
   "metadata": {},
   "outputs": [],
   "source": [
    "class Number:\n",
    "    def __init__(self, val):\n",
    "        self.val = val\n",
    "\n",
    "obj = Number(2)\n",
    "obj.val"
   ]
  },
  {
   "cell_type": "markdown",
   "metadata": {},
   "source": [
    "with dataclass"
   ]
  },
  {
   "cell_type": "code",
   "execution_count": null,
   "metadata": {},
   "outputs": [],
   "source": [
    "from dataclasses import dataclass\n",
    "\n",
    "@dataclass\n",
    "class Number:\n",
    "    val: int\n",
    "\n",
    "obj = Number(2)\n",
    "obj.val"
   ]
  },
  {
   "cell_type": "markdown",
   "metadata": {},
   "source": [
    "### Default values\n",
    "\n",
    "It is easy to add default values to the fields of your data class."
   ]
  },
  {
   "cell_type": "code",
   "execution_count": null,
   "metadata": {},
   "outputs": [],
   "source": [
    "from dataclasses import dataclass\n",
    "\n",
    "@dataclass\n",
    "class Product:\n",
    "    name: str\n",
    "    count: int = 0\n",
    "    price: float = 0.0\n",
    "\n",
    "obj = Product(\"Python\")\n",
    "obj.name"
   ]
  },
  {
   "cell_type": "code",
   "execution_count": null,
   "metadata": {},
   "outputs": [],
   "source": [
    "obj.count"
   ]
  },
  {
   "cell_type": "code",
   "execution_count": null,
   "metadata": {},
   "outputs": [],
   "source": [
    "obj.price"
   ]
  },
  {
   "cell_type": "markdown",
   "metadata": {},
   "source": [
    "### Type hints\n",
    "\n",
    "It is mandatory to define the data type in dataclass. However, If you don't want specify the datatype then, use `typing.Any`."
   ]
  },
  {
   "cell_type": "code",
   "execution_count": null,
   "metadata": {},
   "outputs": [],
   "source": [
    "from dataclasses import dataclass\n",
    "from typing import Any\n",
    "\n",
    "@dataclass\n",
    "class WithoutExplicitTypes:\n",
    "   name: Any\n",
    "   value: Any = 42"
   ]
  },
  {
   "cell_type": "code",
   "execution_count": null,
   "metadata": {},
   "outputs": [],
   "source": []
  },
  {
   "cell_type": "code",
   "execution_count": null,
   "metadata": {},
   "outputs": [],
   "source": [
    "# Data classes\n",
    "class Point:   \n",
    "    def __init__(self, x, y): \n",
    "        self.x = x \n",
    "        self.y = y \n",
    "        \n",
    "p1 = Point(1, 2)\n",
    "p2 = Point(1, 2)\n",
    "\n",
    "print(id(p1)) # id calls the memory location reference\n",
    "print(id(p2)) "
   ]
  },
  {
   "cell_type": "code",
   "execution_count": null,
   "metadata": {},
   "outputs": [],
   "source": [
    "# Data classes\n",
    "# named tuples are usefull if you have only data and no methods in a class\n",
    "from collections import namedtuple\n",
    "\n",
    "# Point with uppercase because it represents a class\n",
    "Point = namedtuple(\"Point\", [\"x\", \"y\"]) # we define attributes x and y for Point\n",
    "\n",
    "p1 = Point(x=1, y=2) # you supply kework arguments with this implementation\n",
    "p2 = Point(x=1, y=2)\n",
    "\n",
    "# compares correcly without defining a specific method\n",
    "print(p1 == p2) \n",
    "\n",
    "# you also get the attributes\n",
    "print(p1.x)"
   ]
  },
  {
   "cell_type": "code",
   "execution_count": null,
   "metadata": {},
   "outputs": [],
   "source": []
  }
 ],
 "metadata": {
  "kernelspec": {
   "display_name": "Python 3",
   "language": "python",
   "name": "python3"
  },
  "language_info": {
   "codemirror_mode": {
    "name": "ipython",
    "version": 3
   },
   "file_extension": ".py",
   "mimetype": "text/x-python",
   "name": "python",
   "nbconvert_exporter": "python",
   "pygments_lexer": "ipython3",
   "version": "3.8.4"
  }
 },
 "nbformat": 4,
 "nbformat_minor": 2
}
