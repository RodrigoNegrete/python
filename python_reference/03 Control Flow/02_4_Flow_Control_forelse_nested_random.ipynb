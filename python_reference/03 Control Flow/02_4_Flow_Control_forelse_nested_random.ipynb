{
 "cells": [
  {
   "cell_type": "markdown",
   "metadata": {},
   "source": [
    "## For else statement\n",
    "\n",
    "This allows to specify a statement to execute in case of the full loop has been executed. Only\n",
    "useful when a `break` condition can occur in the loop:\n",
    "\n",
    "break is to break you out of a loop\n",
    "\n",
    "else after a for condition is executes if the loop never breaks"
   ]
  },
  {
   "cell_type": "code",
   "execution_count": 1,
   "metadata": {
    "tags": []
   },
   "outputs": [
    {
     "output_type": "stream",
     "name": "stdout",
     "text": "Attempt\nAttempt\nAttempt\n"
    }
   ],
   "source": [
    "successful = False\n",
    "\n",
    "for number in range(3):\n",
    "    print(\"Attempt\")\n",
    "    if successful:\n",
    "        print(\"successful\")\n",
    "        break "
   ]
  },
  {
   "cell_type": "code",
   "execution_count": 2,
   "metadata": {
    "tags": []
   },
   "outputs": [
    {
     "output_type": "stream",
     "name": "stdout",
     "text": "Attempt\nsuccessful\n"
    }
   ],
   "source": [
    "successful = True\n",
    "\n",
    "for number in range(3):\n",
    "    print(\"Attempt\")\n",
    "    if successful:\n",
    "        print(\"successful\")\n",
    "        break "
   ]
  },
  {
   "cell_type": "code",
   "execution_count": 3,
   "metadata": {
    "tags": []
   },
   "outputs": [
    {
     "output_type": "stream",
     "name": "stdout",
     "text": "Attempt\nAttempt\nAttempt\nAttempted 3 times and failed\n"
    }
   ],
   "source": [
    "successful = False\n",
    "\n",
    "for number in range(3):\n",
    "    print(\"Attempt\")\n",
    "    if successful:\n",
    "        print(\"successful\")\n",
    "        break\n",
    "else: # this will execute after you never broke the loop but it will not print if you break out of it\n",
    "    print(\"Attempted 3 times and failed\")"
   ]
  },
  {
   "cell_type": "code",
   "execution_count": 4,
   "metadata": {
    "tags": []
   },
   "outputs": [
    {
     "output_type": "stream",
     "name": "stdout",
     "text": "executed all times\nexecuted all times\nexecuted all times\n"
    }
   ],
   "source": [
    "for item in [1, 2, 3, 4, 5]:\n",
    "   print(\"executed all times\")\n",
    "   if item == 3:\n",
    "       break\n",
    "else:\n",
    "   print(\"only executed when no item of the list is equal to 3\")"
   ]
  },
  {
   "cell_type": "code",
   "execution_count": 5,
   "metadata": {
    "tags": []
   },
   "outputs": [
    {
     "output_type": "stream",
     "name": "stdout",
     "text": "executed all times\nexecuted all times\nexecuted all times\nexecuted all times\nexecuted all times\nonly executed when no item of the list is equal to 3\n"
    }
   ],
   "source": [
    "for item in [1, 2, 4, 5, 6]:\n",
    "   print(\"executed all times\")\n",
    "   if item == 3:\n",
    "       break\n",
    "else:\n",
    "   print(\"only executed when no item of the list is equal to 3\")"
   ]
  },
  {
   "cell_type": "markdown",
   "metadata": {},
   "source": [
    "## Nested Loops\n",
    "\n",
    "The inner loop executes until it comes out to the outer where it ierates in its own loop"
   ]
  },
  {
   "cell_type": "code",
   "execution_count": 6,
   "metadata": {
    "tags": []
   },
   "outputs": [
    {
     "output_type": "stream",
     "name": "stdout",
     "text": "(0, 0)\n(0, 1)\n(0, 2)\n(1, 0)\n(1, 1)\n(1, 2)\n(2, 0)\n(2, 1)\n(2, 2)\n(3, 0)\n(3, 1)\n(3, 2)\n(4, 0)\n(4, 1)\n(4, 2)\n"
    }
   ],
   "source": [
    "for x in range(5): # outer loop\n",
    "    for y in range(3): # inner loop a child of the above\n",
    "        print(f\"({x}, {y})\")"
   ]
  },
  {
   "cell_type": "markdown",
   "metadata": {},
   "source": [
    "## Random Funtion"
   ]
  },
  {
   "cell_type": "code",
   "execution_count": 7,
   "metadata": {
    "tags": []
   },
   "outputs": [
    {
     "output_type": "stream",
     "name": "stdout",
     "text": "10\n9\n3\n2\n4\n"
    }
   ],
   "source": [
    "import random\n",
    "\n",
    "for i in range(5):\n",
    "    print(random.randint(1, 10))"
   ]
  },
  {
   "cell_type": "code",
   "execution_count": null,
   "metadata": {},
   "outputs": [],
   "source": []
  },
  {
   "cell_type": "markdown",
   "metadata": {},
   "source": [
    "## Ending a Program with sys.exit"
   ]
  },
  {
   "cell_type": "code",
   "execution_count": 8,
   "metadata": {
    "tags": []
   },
   "outputs": [
    {
     "output_type": "stream",
     "name": "stdout",
     "text": "Type exit to exit.\nYou typed .\nType exit to exit.\nYou typed .\nType exit to exit.\nYou typed .\nType exit to exit.\nYou typed .\nType exit to exit.\nYou typed .\nType exit to exit.\nYou typed .\nType exit to exit.\nYou typed .\nType exit to exit.\nYou typed .\nType exit to exit.\nYou typed .\nType exit to exit.\nYou typed .\nType exit to exit.\nYou typed .\nType exit to exit.\nYou typed .\nType exit to exit.\nYou typed .\nType exit to exit.\nYou typed .\nType exit to exit.\nYou typed .\nType exit to exit.\nYou typed a.\nType exit to exit.\nYou typed a.\nType exit to exit.\nYou typed s.\nType exit to exit.\nYou typed fd.\nType exit to exit.\n"
    },
    {
     "output_type": "error",
     "ename": "SystemExit",
     "evalue": "",
     "traceback": [
      "An exception has occurred, use %tb to see the full traceback.\n",
      "\u001b[1;31mSystemExit\u001b[0m\n"
     ]
    }
   ],
   "source": [
    "import sys\n",
    "\n",
    "while True:\n",
    "    print('Type exit to exit.')\n",
    "    response = input()\n",
    "    if response == 'exit':\n",
    "        sys.exit()\n",
    "    print('You typed {}.'.format(response))"
   ]
  }
 ],
 "metadata": {
  "kernelspec": {
   "display_name": "Python 3",
   "language": "python",
   "name": "python3"
  },
  "language_info": {
   "codemirror_mode": {
    "name": "ipython",
    "version": 3
   },
   "file_extension": ".py",
   "mimetype": "text/x-python",
   "name": "python",
   "nbconvert_exporter": "python",
   "pygments_lexer": "ipython3",
   "version": "3.8.2"
  }
 },
 "nbformat": 4,
 "nbformat_minor": 2
}