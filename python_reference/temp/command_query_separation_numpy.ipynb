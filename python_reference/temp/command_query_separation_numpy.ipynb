{
 "cells": [
  {
   "cell_type": "markdown",
   "metadata": {},
   "source": [
    "# Standard Library\n"
   ]
  },
  {
   "cell_type": "code",
   "execution_count": 7,
   "metadata": {
    "tags": []
   },
   "outputs": [
    {
     "name": "stdout",
     "output_type": "stream",
     "text": [
      "transaction_id\n",
      "1001\n",
      "1002\n",
      "1003\n",
      "None\n",
      "None\n",
      "None\n",
      "None\n",
      "None\n"
     ]
    }
   ],
   "source": [
    "## command query separation principle\n",
    "# asking a question should not change the answer\n",
    "\n",
    "# command methods perform a task\n",
    "# example wb.create_sheet()\n",
    "\n",
    "# a query should not execute any actions\n",
    "import openpyxl\n",
    "\n",
    "wb = openpyxl.load_workbook(\"transactions.xlsx\")\n",
    "sheet = wb[\"Sheet1\"]\n",
    "\n",
    "for row in range(1, 10):\n",
    "    # te following line will query and write\n",
    "    # this will result in empty lines\n",
    "    cell = sheet.cell(row, 1)\n",
    "    print(cell.value)\n",
    "sheet.append([1, 2, 3])\n",
    "wb.save(\"transcations2.xlsx\")\n"
   ]
  },
  {
   "cell_type": "code",
   "execution_count": 9,
   "metadata": {
    "tags": []
   },
   "outputs": [
    {
     "name": "stdout",
     "output_type": "stream",
     "text": [
      "[1 2 3]\n",
      "<class 'numpy.ndarray'>\n"
     ]
    }
   ],
   "source": [
    "## numpy\n",
    "import numpy as np \n",
    "\n",
    "# create numpy array\n",
    "array = np.array([1, 2, 3])\n",
    "\n",
    "print(array)\n",
    "print(type(array))"
   ]
  },
  {
   "cell_type": "code",
   "execution_count": 12,
   "metadata": {
    "tags": []
   },
   "outputs": [
    {
     "name": "stdout",
     "output_type": "stream",
     "text": [
      "[[1 2 3]\n",
      " [4 5 6]]\n",
      "<class 'numpy.ndarray'>\n",
      "(2, 3)\n"
     ]
    }
   ],
   "source": [
    "# create numpy matrix\n",
    "array = np.array([[1, 2, 3], [4, 5, 6]])\n",
    "\n",
    "print(array)\n",
    "print(type(array))"
   ]
  },
  {
   "cell_type": "code",
   "execution_count": null,
   "metadata": {},
   "outputs": [],
   "source": [
    "# shape attribute\n",
    "print(array.shape)"
   ]
  },
  {
   "cell_type": "code",
   "execution_count": 13,
   "metadata": {
    "tags": []
   },
   "outputs": [
    {
     "name": "stdout",
     "output_type": "stream",
     "text": [
      "[[0. 0. 0. 0.]\n",
      " [0. 0. 0. 0.]\n",
      " [0. 0. 0. 0.]]\n"
     ]
    }
   ],
   "source": [
    "## np.zeros\n",
    "\n",
    "# create matrix with shpae\n",
    "# default is floating point\n",
    "array = np.zeros((3, 4))\n",
    "print(array)"
   ]
  },
  {
   "cell_type": "code",
   "execution_count": 15,
   "metadata": {
    "tags": []
   },
   "outputs": [
    {
     "name": "stdout",
     "output_type": "stream",
     "text": [
      "[[0 0 0 0]\n",
      " [0 0 0 0]\n",
      " [0 0 0 0]]\n"
     ]
    }
   ],
   "source": [
    "## create matrix with integers\n",
    "array = np.zeros((3, 4), dtype=int)\n",
    "print(array)"
   ]
  },
  {
   "cell_type": "code",
   "execution_count": 16,
   "metadata": {
    "tags": []
   },
   "outputs": [
    {
     "name": "stdout",
     "output_type": "stream",
     "text": [
      "[[1 1 1 1]\n",
      " [1 1 1 1]\n",
      " [1 1 1 1]]\n"
     ]
    }
   ],
   "source": [
    "## np.ones\n",
    "# fills with ones\n",
    "array = np.ones((3, 4), dtype=int)\n",
    "print(array)"
   ]
  },
  {
   "cell_type": "code",
   "execution_count": 18,
   "metadata": {
    "tags": []
   },
   "outputs": [
    {
     "name": "stdout",
     "output_type": "stream",
     "text": [
      "[[5 5 5 5]\n",
      " [5 5 5 5]\n",
      " [5 5 5 5]]\n"
     ]
    }
   ],
   "source": [
    "# fill with specific number\n",
    "array = np.full((3, 4), 5, dtype=int)\n",
    "print(array)"
   ]
  },
  {
   "cell_type": "code",
   "execution_count": 20,
   "metadata": {
    "tags": []
   },
   "outputs": [
    {
     "name": "stdout",
     "output_type": "stream",
     "text": [
      "[[0.25665642 0.98635676 0.18266354 0.52958051]\n",
      " [0.86544724 0.90249787 0.63530768 0.54442955]\n",
      " [0.27570383 0.21080856 0.55920658 0.81299301]]\n"
     ]
    }
   ],
   "source": [
    "# fill with random number\n",
    "# fill with any number\n",
    "array = np.random.random((3, 4))\n",
    "print(array)"
   ]
  },
  {
   "cell_type": "code",
   "execution_count": 21,
   "metadata": {
    "tags": []
   },
   "outputs": [
    {
     "name": "stdout",
     "output_type": "stream",
     "text": [
      "[[0.14288493 0.72033077 0.87595886 0.3111547 ]\n",
      " [0.44688301 0.5767144  0.75305883 0.90619566]\n",
      " [0.84631106 0.98300115 0.7195851  0.0829497 ]]\n",
      "0.14288493263957813\n"
     ]
    }
   ],
   "source": [
    "# get first row and first column\n",
    "array = np.random.random((3, 4))\n",
    "print(array)\n",
    "print(array[0, 0])"
   ]
  },
  {
   "cell_type": "code",
   "execution_count": 22,
   "metadata": {
    "tags": []
   },
   "outputs": [
    {
     "name": "stdout",
     "output_type": "stream",
     "text": [
      "[[False  True  True  True]\n",
      " [ True  True  True  True]\n",
      " [ True  True  True False]]\n"
     ]
    }
   ],
   "source": [
    "# evaluate every element against condition\n",
    "print(array > 0.2)"
   ]
  },
  {
   "cell_type": "code",
   "execution_count": 23,
   "metadata": {
    "tags": []
   },
   "outputs": [
    {
     "name": "stdout",
     "output_type": "stream",
     "text": [
      "[0.72033077 0.87595886 0.3111547  0.44688301 0.5767144  0.75305883\n",
      " 0.90619566 0.84631106 0.98300115 0.7195851 ]\n"
     ]
    }
   ],
   "source": [
    "# evaluate boolean expression\n",
    "# creates an array with only the elements that match the condition\n",
    "print(array[array > 0.2])"
   ]
  },
  {
   "cell_type": "code",
   "execution_count": 24,
   "metadata": {
    "tags": []
   },
   "outputs": [
    {
     "name": "stdout",
     "output_type": "stream",
     "text": [
      "7.365028181633946\n"
     ]
    }
   ],
   "source": [
    "# array sum\n",
    "print(np.sum(array))"
   ]
  },
  {
   "cell_type": "code",
   "execution_count": 26,
   "metadata": {
    "tags": []
   },
   "outputs": [
    {
     "name": "stdout",
     "output_type": "stream",
     "text": [
      "[[0. 0. 0. 0.]\n",
      " [0. 0. 0. 0.]\n",
      " [0. 0. 0. 0.]]\n",
      "[[1. 1. 1. 1.]\n",
      " [1. 1. 1. 1.]\n",
      " [1. 1. 1. 1.]]\n"
     ]
    }
   ],
   "source": [
    "# array floor and ceiling\n",
    "# gets the floor of each element\n",
    "print(np.floor(array))\n",
    "print(np.ceil(array))"
   ]
  },
  {
   "cell_type": "code",
   "execution_count": 27,
   "metadata": {
    "tags": []
   },
   "outputs": [
    {
     "name": "stdout",
     "output_type": "stream",
     "text": [
      "[[0. 1. 1. 0.]\n",
      " [0. 1. 1. 1.]\n",
      " [1. 1. 1. 0.]]\n"
     ]
    }
   ],
   "source": [
    "# round\n",
    "print(np.round(array))"
   ]
  },
  {
   "cell_type": "code",
   "execution_count": 29,
   "metadata": {
    "tags": []
   },
   "outputs": [
    {
     "name": "stdout",
     "output_type": "stream",
     "text": [
      "[2 4 6]\n",
      "[3 4 5]\n"
     ]
    }
   ],
   "source": [
    "# arithmetic operations\n",
    "first = np.array([1, 2, 3])\n",
    "second = np.array([1, 2, 3])\n",
    "print(first + second)\n",
    "print(first + 2)"
   ]
  },
  {
   "cell_type": "code",
   "execution_count": 30,
   "metadata": {
    "tags": []
   },
   "outputs": [
    {
     "name": "stdout",
     "output_type": "stream",
     "text": [
      "[1 4 9]\n"
     ]
    }
   ],
   "source": [
    "# multiplication\n",
    "print(first * second)"
   ]
  },
  {
   "cell_type": "code",
   "execution_count": 32,
   "metadata": {
    "tags": []
   },
   "outputs": [
    {
     "name": "stdout",
     "output_type": "stream",
     "text": [
      "[2.54 5.08 7.62]\n"
     ]
    }
   ],
   "source": [
    "dimensions_inch = np.array([1, 2, 3])\n",
    "dimensions_cm = dimensions_inch * 2.54\n",
    "print(dimensions_cm)"
   ]
  },
  {
   "cell_type": "code",
   "execution_count": null,
   "metadata": {},
   "outputs": [],
   "source": []
  }
 ],
 "metadata": {
  "celltoolbar": "Raw Cell Format",
  "kernelspec": {
   "display_name": "Python 3",
   "language": "python",
   "name": "python3"
  },
  "language_info": {
   "codemirror_mode": {
    "name": "ipython",
    "version": 3
   },
   "file_extension": ".py",
   "mimetype": "text/x-python",
   "name": "python",
   "nbconvert_exporter": "python",
   "pygments_lexer": "ipython3",
   "version": "3.8.4"
  }
 },
 "nbformat": 4,
 "nbformat_minor": 4
}