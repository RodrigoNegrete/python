{
 "metadata": {
  "language_info": {
   "codemirror_mode": {
    "name": "ipython",
    "version": 3
   },
   "file_extension": ".py",
   "mimetype": "text/x-python",
   "name": "python",
   "nbconvert_exporter": "python",
   "pygments_lexer": "ipython3",
   "version": "3.7.0"
  },
  "orig_nbformat": 2,
  "kernelspec": {
   "name": "python370jvsc74a57bd08300d1ec1c798c501601eaeb95579a2be37c00741f602453e28ec99e1788a0d8",
   "display_name": "Python 3.7.0 64-bit ('tf': venv)"
  }
 },
 "nbformat": 4,
 "nbformat_minor": 2,
 "cells": [
  {
   "cell_type": "code",
   "execution_count": 3,
   "metadata": {},
   "outputs": [
    {
     "output_type": "error",
     "ename": "ModuleNotFoundError",
     "evalue": "No module named 'pandas'",
     "traceback": [
      "\u001b[1;31m---------------------------------------------------------------------------\u001b[0m",
      "\u001b[1;31mModuleNotFoundError\u001b[0m                       Traceback (most recent call last)",
      "\u001b[1;32m<ipython-input-3-4a87bed4d554>\u001b[0m in \u001b[0;36m<module>\u001b[1;34m\u001b[0m\n\u001b[0;32m      1\u001b[0m \u001b[1;31m# -*- coding: utf-8 -*-\u001b[0m\u001b[1;33m\u001b[0m\u001b[1;33m\u001b[0m\u001b[0m\n\u001b[0;32m      2\u001b[0m \u001b[1;32mimport\u001b[0m \u001b[0mtensorflow\u001b[0m \u001b[1;32mas\u001b[0m \u001b[0mtf\u001b[0m\u001b[1;33m\u001b[0m\u001b[0m\n\u001b[1;32m----> 3\u001b[1;33m \u001b[1;32mimport\u001b[0m \u001b[0mpandas\u001b[0m \u001b[1;32mas\u001b[0m \u001b[0mpd\u001b[0m\u001b[1;33m\u001b[0m\u001b[0m\n\u001b[0m\u001b[0;32m      4\u001b[0m \u001b[1;32mimport\u001b[0m \u001b[0mrequests\u001b[0m\u001b[1;33m\u001b[0m\u001b[0m\n\u001b[0;32m      5\u001b[0m \u001b[1;32mfrom\u001b[0m \u001b[0mxmlrpc\u001b[0m \u001b[1;32mimport\u001b[0m \u001b[0mclient\u001b[0m\u001b[1;33m\u001b[0m\u001b[0m\n",
      "\u001b[1;31mModuleNotFoundError\u001b[0m: No module named 'pandas'"
     ]
    }
   ],
   "source": [
    "# -*- coding: utf-8 -*-\n",
    "import pandas as pd\n",
    "import requests\n",
    "from xmlrpc import client"
   ]
  },
  {
   "cell_type": "code",
   "execution_count": 2,
   "metadata": {},
   "outputs": [
    {
     "output_type": "execute_result",
     "data": {
      "text/plain": "200"
     },
     "metadata": {},
     "execution_count": 2
    }
   ],
   "source": [
    "url = 'http://sitl.diputados.gob.mx/LXIV_leg/votaciones_por_pernplxiv.php?iddipt=1&pert=13'\n",
    "\n",
    "response = requests.get(url, headers={'User-Agent': 'Mozilla/5.0'})\n",
    "response.status_code"
   ]
  },
  {
   "cell_type": "code",
   "execution_count": 3,
   "metadata": {
    "tags": []
   },
   "outputs": [
    {
     "output_type": "stream",
     "name": "stdout",
     "text": "3\n<class 'list'>\n"
    }
   ],
   "source": [
    "dfs = pd.read_html(response.content)\n",
    "print(len(dfs))\n",
    "print(type(dfs))"
   ]
  },
  {
   "cell_type": "code",
   "execution_count": 4,
   "metadata": {},
   "outputs": [
    {
     "output_type": "execute_result",
     "data": {
      "text/plain": "                                                    0  \\\n0   Votaciones Dip. | Francisco Javier Luévano Núñ...   \n1                                                 NaN   \n2                                                 NaN   \n3                                       30 Junio 2020   \n4                                                 NaN   \n5                                                   1   \n6                                                 NaN   \n7                                                   2   \n8                                                 NaN   \n9                                                   3   \n10                                                NaN   \n11                                                  4   \n\n                                                    1  \\\n0   Votaciones Dip. | Francisco Javier Luévano Núñ...   \n1                                                 NaN   \n2                               Titulo de la Votación   \n3                                       30 Junio 2020   \n4                                                 NaN   \n5   MINUTA CON PROYECTO DE DECRETO POR EL QUE SE E...   \n6                                                 NaN   \n7   MINUTA CON PROYECTO DE DECRETO POR EL QUE SE E...   \n8                                                 NaN   \n9   MINUTA CON PROYECTO DE DECRETO POR EL QUE SE R...   \n10                                                NaN   \n11  MINUTA CON PROYECTO DE DECRETO POR EL QUE SE R...   \n\n                                                    2                 3  \\\n0   Votaciones Dip. | Francisco Javier Luévano Núñ...               NaN   \n1                                                 NaN               NaN   \n2                                                 NaN  Sentido del voto   \n3                                       30 Junio 2020     30 Junio 2020   \n4                                                 NaN               NaN   \n5                                                 NaN           A favor   \n6                                                 NaN               NaN   \n7                                                 NaN           A favor   \n8                                                 NaN               NaN   \n9                                                 NaN           A favor   \n10                                                NaN               NaN   \n11                                                NaN           A favor   \n\n                4  \n0             NaN  \n1             NaN  \n2             NaN  \n3   30 Junio 2020  \n4             NaN  \n5             NaN  \n6             NaN  \n7             NaN  \n8             NaN  \n9             NaN  \n10            NaN  \n11            NaN  ",
      "text/html": "<div>\n<style scoped>\n    .dataframe tbody tr th:only-of-type {\n        vertical-align: middle;\n    }\n\n    .dataframe tbody tr th {\n        vertical-align: top;\n    }\n\n    .dataframe thead th {\n        text-align: right;\n    }\n</style>\n<table border=\"1\" class=\"dataframe\">\n  <thead>\n    <tr style=\"text-align: right;\">\n      <th></th>\n      <th>0</th>\n      <th>1</th>\n      <th>2</th>\n      <th>3</th>\n      <th>4</th>\n    </tr>\n  </thead>\n  <tbody>\n    <tr>\n      <th>0</th>\n      <td>Votaciones Dip. | Francisco Javier Luévano Núñ...</td>\n      <td>Votaciones Dip. | Francisco Javier Luévano Núñ...</td>\n      <td>Votaciones Dip. | Francisco Javier Luévano Núñ...</td>\n      <td>NaN</td>\n      <td>NaN</td>\n    </tr>\n    <tr>\n      <th>1</th>\n      <td>NaN</td>\n      <td>NaN</td>\n      <td>NaN</td>\n      <td>NaN</td>\n      <td>NaN</td>\n    </tr>\n    <tr>\n      <th>2</th>\n      <td>NaN</td>\n      <td>Titulo de la Votación</td>\n      <td>NaN</td>\n      <td>Sentido del voto</td>\n      <td>NaN</td>\n    </tr>\n    <tr>\n      <th>3</th>\n      <td>30 Junio 2020</td>\n      <td>30 Junio 2020</td>\n      <td>30 Junio 2020</td>\n      <td>30 Junio 2020</td>\n      <td>30 Junio 2020</td>\n    </tr>\n    <tr>\n      <th>4</th>\n      <td>NaN</td>\n      <td>NaN</td>\n      <td>NaN</td>\n      <td>NaN</td>\n      <td>NaN</td>\n    </tr>\n    <tr>\n      <th>5</th>\n      <td>1</td>\n      <td>MINUTA CON PROYECTO DE DECRETO POR EL QUE SE E...</td>\n      <td>NaN</td>\n      <td>A favor</td>\n      <td>NaN</td>\n    </tr>\n    <tr>\n      <th>6</th>\n      <td>NaN</td>\n      <td>NaN</td>\n      <td>NaN</td>\n      <td>NaN</td>\n      <td>NaN</td>\n    </tr>\n    <tr>\n      <th>7</th>\n      <td>2</td>\n      <td>MINUTA CON PROYECTO DE DECRETO POR EL QUE SE E...</td>\n      <td>NaN</td>\n      <td>A favor</td>\n      <td>NaN</td>\n    </tr>\n    <tr>\n      <th>8</th>\n      <td>NaN</td>\n      <td>NaN</td>\n      <td>NaN</td>\n      <td>NaN</td>\n      <td>NaN</td>\n    </tr>\n    <tr>\n      <th>9</th>\n      <td>3</td>\n      <td>MINUTA CON PROYECTO DE DECRETO POR EL QUE SE R...</td>\n      <td>NaN</td>\n      <td>A favor</td>\n      <td>NaN</td>\n    </tr>\n    <tr>\n      <th>10</th>\n      <td>NaN</td>\n      <td>NaN</td>\n      <td>NaN</td>\n      <td>NaN</td>\n      <td>NaN</td>\n    </tr>\n    <tr>\n      <th>11</th>\n      <td>4</td>\n      <td>MINUTA CON PROYECTO DE DECRETO POR EL QUE SE R...</td>\n      <td>NaN</td>\n      <td>A favor</td>\n      <td>NaN</td>\n    </tr>\n  </tbody>\n</table>\n</div>"
     },
     "metadata": {},
     "execution_count": 4
    }
   ],
   "source": [
    "dfs[2]"
   ]
  },
  {
   "cell_type": "code",
   "execution_count": 23,
   "metadata": {
    "tags": []
   },
   "outputs": [
    {
     "output_type": "execute_result",
     "data": {
      "text/plain": "                                                    0  \\\n0   Votaciones Dip. | Francisco Javier Luévano Núñ...   \n2                                                 NaN   \n3                                       30 Junio 2020   \n5                                                   1   \n7                                                   2   \n9                                                   3   \n11                                                  4   \n\n                                                    1  \\\n0   Votaciones Dip. | Francisco Javier Luévano Núñ...   \n2                               Titulo de la Votación   \n3                                       30 Junio 2020   \n5   MINUTA CON PROYECTO DE DECRETO POR EL QUE SE E...   \n7   MINUTA CON PROYECTO DE DECRETO POR EL QUE SE E...   \n9   MINUTA CON PROYECTO DE DECRETO POR EL QUE SE R...   \n11  MINUTA CON PROYECTO DE DECRETO POR EL QUE SE R...   \n\n                                                    2                 3  \\\n0   Votaciones Dip. | Francisco Javier Luévano Núñ...               NaN   \n2                                                 NaN  Sentido del voto   \n3                                       30 Junio 2020     30 Junio 2020   \n5                                                 NaN           A favor   \n7                                                 NaN           A favor   \n9                                                 NaN           A favor   \n11                                                NaN           A favor   \n\n                4  \n0             NaN  \n2             NaN  \n3   30 Junio 2020  \n5             NaN  \n7             NaN  \n9             NaN  \n11            NaN  ",
      "text/html": "<div>\n<style scoped>\n    .dataframe tbody tr th:only-of-type {\n        vertical-align: middle;\n    }\n\n    .dataframe tbody tr th {\n        vertical-align: top;\n    }\n\n    .dataframe thead th {\n        text-align: right;\n    }\n</style>\n<table border=\"1\" class=\"dataframe\">\n  <thead>\n    <tr style=\"text-align: right;\">\n      <th></th>\n      <th>0</th>\n      <th>1</th>\n      <th>2</th>\n      <th>3</th>\n      <th>4</th>\n    </tr>\n  </thead>\n  <tbody>\n    <tr>\n      <th>0</th>\n      <td>Votaciones Dip. | Francisco Javier Luévano Núñ...</td>\n      <td>Votaciones Dip. | Francisco Javier Luévano Núñ...</td>\n      <td>Votaciones Dip. | Francisco Javier Luévano Núñ...</td>\n      <td>NaN</td>\n      <td>NaN</td>\n    </tr>\n    <tr>\n      <th>2</th>\n      <td>NaN</td>\n      <td>Titulo de la Votación</td>\n      <td>NaN</td>\n      <td>Sentido del voto</td>\n      <td>NaN</td>\n    </tr>\n    <tr>\n      <th>3</th>\n      <td>30 Junio 2020</td>\n      <td>30 Junio 2020</td>\n      <td>30 Junio 2020</td>\n      <td>30 Junio 2020</td>\n      <td>30 Junio 2020</td>\n    </tr>\n    <tr>\n      <th>5</th>\n      <td>1</td>\n      <td>MINUTA CON PROYECTO DE DECRETO POR EL QUE SE E...</td>\n      <td>NaN</td>\n      <td>A favor</td>\n      <td>NaN</td>\n    </tr>\n    <tr>\n      <th>7</th>\n      <td>2</td>\n      <td>MINUTA CON PROYECTO DE DECRETO POR EL QUE SE E...</td>\n      <td>NaN</td>\n      <td>A favor</td>\n      <td>NaN</td>\n    </tr>\n    <tr>\n      <th>9</th>\n      <td>3</td>\n      <td>MINUTA CON PROYECTO DE DECRETO POR EL QUE SE R...</td>\n      <td>NaN</td>\n      <td>A favor</td>\n      <td>NaN</td>\n    </tr>\n    <tr>\n      <th>11</th>\n      <td>4</td>\n      <td>MINUTA CON PROYECTO DE DECRETO POR EL QUE SE R...</td>\n      <td>NaN</td>\n      <td>A favor</td>\n      <td>NaN</td>\n    </tr>\n  </tbody>\n</table>\n</div>"
     },
     "metadata": {},
     "execution_count": 23
    }
   ],
   "source": [
    "# dropna removes NaN or None values with the give threshold\n",
    "\n",
    "dfs[2].dropna(thresh=2)"
   ]
  },
  {
   "cell_type": "code",
   "execution_count": 24,
   "metadata": {},
   "outputs": [
    {
     "output_type": "execute_result",
     "data": {
      "text/plain": "    0                                                  1    2        3    4\n5   1  MINUTA CON PROYECTO DE DECRETO POR EL QUE SE E...  NaN  A favor  NaN\n7   2  MINUTA CON PROYECTO DE DECRETO POR EL QUE SE E...  NaN  A favor  NaN\n9   3  MINUTA CON PROYECTO DE DECRETO POR EL QUE SE R...  NaN  A favor  NaN\n11  4  MINUTA CON PROYECTO DE DECRETO POR EL QUE SE R...  NaN  A favor  NaN",
      "text/html": "<div>\n<style scoped>\n    .dataframe tbody tr th:only-of-type {\n        vertical-align: middle;\n    }\n\n    .dataframe tbody tr th {\n        vertical-align: top;\n    }\n\n    .dataframe thead th {\n        text-align: right;\n    }\n</style>\n<table border=\"1\" class=\"dataframe\">\n  <thead>\n    <tr style=\"text-align: right;\">\n      <th></th>\n      <th>0</th>\n      <th>1</th>\n      <th>2</th>\n      <th>3</th>\n      <th>4</th>\n    </tr>\n  </thead>\n  <tbody>\n    <tr>\n      <th>5</th>\n      <td>1</td>\n      <td>MINUTA CON PROYECTO DE DECRETO POR EL QUE SE E...</td>\n      <td>NaN</td>\n      <td>A favor</td>\n      <td>NaN</td>\n    </tr>\n    <tr>\n      <th>7</th>\n      <td>2</td>\n      <td>MINUTA CON PROYECTO DE DECRETO POR EL QUE SE E...</td>\n      <td>NaN</td>\n      <td>A favor</td>\n      <td>NaN</td>\n    </tr>\n    <tr>\n      <th>9</th>\n      <td>3</td>\n      <td>MINUTA CON PROYECTO DE DECRETO POR EL QUE SE R...</td>\n      <td>NaN</td>\n      <td>A favor</td>\n      <td>NaN</td>\n    </tr>\n    <tr>\n      <th>11</th>\n      <td>4</td>\n      <td>MINUTA CON PROYECTO DE DECRETO POR EL QUE SE R...</td>\n      <td>NaN</td>\n      <td>A favor</td>\n      <td>NaN</td>\n    </tr>\n  </tbody>\n</table>\n</div>"
     },
     "metadata": {},
     "execution_count": 24
    }
   ],
   "source": [
    "# iloc slices to remove the first rows\n",
    "dfs[2].dropna(thresh=2).iloc[3:]"
   ]
  },
  {
   "cell_type": "code",
   "execution_count": 26,
   "metadata": {
    "tags": []
   },
   "outputs": [
    {
     "output_type": "execute_result",
     "data": {
      "text/plain": "    0                                                  1        3\n5   1  MINUTA CON PROYECTO DE DECRETO POR EL QUE SE E...  A favor\n7   2  MINUTA CON PROYECTO DE DECRETO POR EL QUE SE E...  A favor\n9   3  MINUTA CON PROYECTO DE DECRETO POR EL QUE SE R...  A favor\n11  4  MINUTA CON PROYECTO DE DECRETO POR EL QUE SE R...  A favor",
      "text/html": "<div>\n<style scoped>\n    .dataframe tbody tr th:only-of-type {\n        vertical-align: middle;\n    }\n\n    .dataframe tbody tr th {\n        vertical-align: top;\n    }\n\n    .dataframe thead th {\n        text-align: right;\n    }\n</style>\n<table border=\"1\" class=\"dataframe\">\n  <thead>\n    <tr style=\"text-align: right;\">\n      <th></th>\n      <th>0</th>\n      <th>1</th>\n      <th>3</th>\n    </tr>\n  </thead>\n  <tbody>\n    <tr>\n      <th>5</th>\n      <td>1</td>\n      <td>MINUTA CON PROYECTO DE DECRETO POR EL QUE SE E...</td>\n      <td>A favor</td>\n    </tr>\n    <tr>\n      <th>7</th>\n      <td>2</td>\n      <td>MINUTA CON PROYECTO DE DECRETO POR EL QUE SE E...</td>\n      <td>A favor</td>\n    </tr>\n    <tr>\n      <th>9</th>\n      <td>3</td>\n      <td>MINUTA CON PROYECTO DE DECRETO POR EL QUE SE R...</td>\n      <td>A favor</td>\n    </tr>\n    <tr>\n      <th>11</th>\n      <td>4</td>\n      <td>MINUTA CON PROYECTO DE DECRETO POR EL QUE SE R...</td>\n      <td>A favor</td>\n    </tr>\n  </tbody>\n</table>\n</div>"
     },
     "metadata": {},
     "execution_count": 26
    }
   ],
   "source": [
    "# remove empty column \n",
    "# dropna(axis='columns')\n",
    "dfs[2].dropna(thresh=2).iloc[3:].dropna(axis='columns')"
   ]
  },
  {
   "cell_type": "code",
   "execution_count": null,
   "metadata": {},
   "outputs": [],
   "source": [
    "df.dropna(axis='columns')"
   ]
  }
 ]
}