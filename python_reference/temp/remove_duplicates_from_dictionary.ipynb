{
 "metadata": {
  "language_info": {
   "codemirror_mode": {
    "name": "ipython",
    "version": 3
   },
   "file_extension": ".py",
   "mimetype": "text/x-python",
   "name": "python",
   "nbconvert_exporter": "python",
   "pygments_lexer": "ipython3",
   "version": 3
  },
  "orig_nbformat": 2,
  "kernelspec": {
   "name": "python_defaultSpec_1595019865605",
   "display_name": "Python 3.8.4 32-bit"
  }
 },
 "nbformat": 4,
 "nbformat_minor": 2,
 "cells": [
  {
   "cell_type": "code",
   "execution_count": 5,
   "metadata": {
    "tags": []
   },
   "outputs": [
    {
     "output_type": "stream",
     "name": "stdout",
     "text": "{'id1': {'name': 'Sara', 'class': 'V', 'subject_integration': 'english, math, science'}, 'id2': {'name': 'David', 'class': 'V', 'subject_integration': 'english, math, science'}, 'id3': {'name': 'Sara', 'class': 'V', 'subject_integration': 'english, art, science'}, 'id4': {'name': 'Surya', 'class': 'V', 'subject_integration': 'english, math, science'}}\n"
    }
   ],
   "source": [
    "# sara has the similar but not the same entry for all values\n",
    "# entry so it will be included\n",
    "student_data = {\n",
    "    'id1': {\n",
    "        'name': 'Sara', \n",
    "        'class': 'V', \n",
    "        'subject_integration': 'english, math, science'\n",
    "    },\n",
    "    'id2': {\n",
    "        'name': 'David', \n",
    "        'class': 'V', \n",
    "        'subject_integration': 'english, math, science'\n",
    "    },\n",
    "    'id3': {\n",
    "        'name': 'Sara', \n",
    "        'class': 'V', \n",
    "        'subject_integration': 'english, art, science'\n",
    "    },\n",
    "    'id4': {\n",
    "        'name': 'Surya', \n",
    "        'class': 'V', \n",
    "        'subject_integration': 'english, math, science'\n",
    "    },\n",
    "}\n",
    "\n",
    "result = {}\n",
    "\n",
    "for key,value in student_data.items():\n",
    "    if value not in result.values():\n",
    "        result[key] = value\n",
    "\n",
    "print(result)"
   ]
  },
  {
   "cell_type": "code",
   "execution_count": null,
   "metadata": {},
   "outputs": [],
   "source": [
    "# sara has the same entry so it will be deleted\n",
    "student_data = {\n",
    "    'id1': {\n",
    "        'name': 'Sara', \n",
    "        'class': 'V', \n",
    "        'subject_integration': 'english, math, science'\n",
    "    },\n",
    "    'id2': {\n",
    "        'name': 'David', \n",
    "        'class': 'V', \n",
    "        'subject_integration': 'english, math, science'\n",
    "    },\n",
    "    'id3': {\n",
    "        'name': 'Sara', \n",
    "        'class': 'V', \n",
    "        'subject_integration': 'english, math, science'\n",
    "    },\n",
    "    'id4': {\n",
    "        'name': 'Surya', \n",
    "        'class': 'V', \n",
    "        'subject_integration': 'english, math, science'\n",
    "    },\n",
    "}\n",
    "\n",
    "result = {}\n",
    "\n",
    "for key,value in student_data.items():\n",
    "    if value not in result.values():\n",
    "        result[key] = value\n",
    "\n",
    "print(result)"
   ]
  }
 ]
}