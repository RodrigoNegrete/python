{
 "cells": [
  {
   "cell_type": "markdown",
   "metadata": {},
   "source": [
    "# VS Code Shortcuts\n",
    "\n",
    "## General Shortcuts\n",
    "- home or end - beginning or end of line\n",
    "- shift + home or shift + end - beginning or end of file\n",
    "- select + alt + up or down - moves  code up or down\n",
    "- select shift + alt + down - duplicated code\n",
    "- ctrl + / allegedly comments\n",
    "- select + ctrl + c - comments and uncomments\n",
    "- select + ctrl + k - uncomments\n",
    "- select + shift + ctrl + l - selects all ocuurences of selected text\n",
    "\n",
    "## Debugging\n",
    "- setup debugger settings\n",
    "- insert code break with f9\n",
    "- f5 runs the code\n",
    "- shift + f5 stops debugger\n",
    "- f10 executes one statement at the time\n",
    "- f11 gets you into the function\n",
    "- shift + f11 step out of function## VS Code Shortcuts\n",
    "\n"
   ]
  }
 ],
 "metadata": {
  "language_info": {
   "codemirror_mode": {
    "name": "ipython",
    "version": 3
   },
   "file_extension": ".py",
   "mimetype": "text/x-python",
   "name": "python",
   "nbconvert_exporter": "python",
   "pygments_lexer": "ipython3",
   "version": 3
  },
  "orig_nbformat": 2
 },
 "nbformat": 4,
 "nbformat_minor": 2
}