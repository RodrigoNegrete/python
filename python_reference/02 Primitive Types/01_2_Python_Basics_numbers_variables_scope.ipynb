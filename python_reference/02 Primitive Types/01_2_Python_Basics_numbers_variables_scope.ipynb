{
 "cells": [
  {
   "cell_type": "markdown",
   "metadata": {},
   "source": [
    "# Python Basic Numbers\n"
   ]
  },
  {
   "cell_type": "markdown",
   "metadata": {},
   "source": [
    "## Primitive Data Types\n",
    "\n",
    "| Data Type              | Examples                                  |\n",
    "| ---------------------- | ----------------------------------------- |\n",
    "| Integers               | `-2, -1, 0, 1, 2, 3, 4, 5`                |\n",
    "| Floating-point numbers | `-1.25, -1.0, --0.5, 0.0, 0.5, 1.0, 1.25` |\n",
    "| Strings                | `'a', 'aa', 'aaa', 'Hello!', '11 cats'`   |"
   ]
  },
  {
   "cell_type": "markdown",
   "metadata": {},
   "source": [
    "## Math Operators\n",
    "\n",
    "From **Highest** to **Lowest** precedence:\n",
    "\n",
    "| Operators | Operation        | Example         |\n",
    "| --------- | ---------------- | --------------- |\n",
    "| **        | Exponent         | `2 ** 3 = 8`    |\n",
    "| %         | Modulus/Remaider | `22 % 8 = 6`    |\n",
    "| //        | Integer division | `22 // 8 = 2`   |\n",
    "| /         | Division         | `22 / 8 = 2.75` |\n",
    "| *         | Multiplication   | `3 * 3 = 9`     |\n",
    "| -         | Subtraction      | `5 - 2 = 3`     |\n",
    "| +         | Addition         | `2 + 2 = 4`     |\n",
    "\n",
    "Examples of expressions in the interactive shell:"
   ]
  },
  {
   "cell_type": "markdown",
   "metadata": {},
   "source": [
    "## Working with Numbers"
   ]
  },
  {
   "cell_type": "code",
   "execution_count": 1,
   "metadata": {},
   "outputs": [
    {
     "data": {
      "text/plain": [
       "20"
      ]
     },
     "execution_count": 1,
     "metadata": {},
     "output_type": "execute_result"
    }
   ],
   "source": [
    "2 + 3 * 6"
   ]
  },
  {
   "cell_type": "code",
   "execution_count": 2,
   "metadata": {},
   "outputs": [
    {
     "data": {
      "text/plain": [
       "28"
      ]
     },
     "execution_count": 2,
     "metadata": {},
     "output_type": "execute_result"
    }
   ],
   "source": [
    "(2 + 3) * 6 -2"
   ]
  },
  {
   "cell_type": "code",
   "execution_count": 5,
   "metadata": {},
   "outputs": [
    {
     "data": {
      "text/plain": [
       "256"
      ]
     },
     "execution_count": 5,
     "metadata": {},
     "output_type": "execute_result"
    }
   ],
   "source": [
    "2 ** 8"
   ]
  },
  {
   "cell_type": "code",
   "execution_count": null,
   "metadata": {},
   "outputs": [],
   "source": [
    "23 // 7"
   ]
  },
  {
   "cell_type": "code",
   "execution_count": null,
   "metadata": {},
   "outputs": [],
   "source": [
    "23 % 7"
   ]
  },
  {
   "cell_type": "code",
   "execution_count": 3,
   "metadata": {},
   "outputs": [
    {
     "data": {
      "text/plain": [
       "16.0"
      ]
     },
     "execution_count": 3,
     "metadata": {},
     "output_type": "execute_result"
    }
   ],
   "source": [
    "(5 - 1) * ((7 + 1) / (3 - 1))"
   ]
  },
  {
   "cell_type": "code",
   "execution_count": null,
   "metadata": {},
   "outputs": [],
   "source": [
    "## Numbers"
   ]
  },
  {
   "cell_type": "code",
   "execution_count": 1,
   "metadata": {
    "tags": []
   },
   "outputs": [
    {
     "name": "stdout",
     "output_type": "stream",
     "text": [
      "13\n",
      "7\n",
      "30\n",
      "3.3333333333333335\n",
      "3\n",
      "1\n",
      "1000\n"
     ]
    }
   ],
   "source": [
    "integer_number = 1 \n",
    "float_number = 1.1 \n",
    "complex_number = 1 + 2j\n",
    "print(10 + 3) # addition\n",
    "print(10 - 3) # subtraction\n",
    "print(10 * 3) # multiplication\n",
    "print(10 / 3) # division\n",
    "print(10 // 3) # division return integer\n",
    "print(10 % 3) # modulus\n",
    "print(10 ** 3) # power"
   ]
  },
  {
   "cell_type": "markdown",
   "metadata": {},
   "source": [
    "### Augmented Assignment Operators\n",
    "\n",
    "| Operator    | Equivalent        |\n",
    "| ----------- | ----------------- |\n",
    "| `spam += 1` | `spam = spam + 1` |\n",
    "| `spam -= 1` | `spam = spam - 1` |\n",
    "| `spam *= 1` | `spam = spam * 1` |\n",
    "| `spam /= 1` | `spam = spam / 1` |\n",
    "| `spam %= 1` | `spam = spam % 1` |\n",
    "\n",
    "Examples:"
   ]
  },
  {
   "cell_type": "code",
   "execution_count": null,
   "metadata": {},
   "outputs": [],
   "source": [
    "spam = 'Hello'\n",
    "spam += ' world!'\n",
    "spam"
   ]
  },
  {
   "cell_type": "code",
   "execution_count": null,
   "metadata": {},
   "outputs": [],
   "source": [
    "bacon = ['Zophie']\n",
    "bacon *= 3\n",
    "bacon"
   ]
  },
  {
   "cell_type": "code",
   "execution_count": 2,
   "metadata": {
    "tags": []
   },
   "outputs": [
    {
     "name": "stdout",
     "output_type": "stream",
     "text": [
      "15\n",
      "15\n"
     ]
    }
   ],
   "source": [
    "x = 10\n",
    "x = x + 5\n",
    "print(x)\n",
    "x = 10 # reset x to 10\n",
    "x += 5 # this is the same as above\n",
    "print(x)"
   ]
  },
  {
   "cell_type": "markdown",
   "metadata": {},
   "source": [
    "## Notes for Boolean Falsy Values"
   ]
  },
  {
   "cell_type": "code",
   "execution_count": null,
   "metadata": {},
   "outputs": [],
   "source": [
    "# \"\"  is Falsy\n",
    "x = \"\"\n",
    "print(bool(x))\n",
    "\n",
    "# 0  is Falsy\n",
    "x = 0\n",
    "print(bool(x))\n",
    "\n",
    "# None is Falsy\n",
    "x = None\n",
    "print(bool(x))\n",
    "\n",
    "# bool(0)  is False\n",
    "x = bool(0)\n",
    "print(bool(x))\n",
    "\n",
    "# False is False\n",
    "x = False\n",
    "print(bool(x))"
   ]
  },
  {
   "cell_type": "code",
   "execution_count": null,
   "metadata": {},
   "outputs": [],
   "source": [
    "## Math Functions\n",
    "\n",
    "google python3 math module to see al functions"
   ]
  },
  {
   "cell_type": "code",
   "execution_count": 3,
   "metadata": {
    "tags": []
   },
   "outputs": [
    {
     "name": "stdout",
     "output_type": "stream",
     "text": [
      "3\n",
      "2\n",
      "3\n",
      "2.9\n",
      "3\n",
      "2.9\n"
     ]
    }
   ],
   "source": [
    "import math\n",
    "\n",
    "x = 2.9\n",
    "print(math.ceil(2.9)) # ceiling\n",
    "print(math.floor(2.9)) # floor\n",
    "print(round(x)) # round\n",
    "print(abs(-x)) # absolute numberx = 2.9\n",
    "print(round(x)) # round\n",
    "print(abs(-x)) # absolute number"
   ]
  },
  {
   "cell_type": "markdown",
   "metadata": {},
   "source": [
    "## Variables\n",
    "\n",
    "You can name a variable anything as long as it obeys the following three rules:\n",
    "\n",
    "1. It can be only one word.\n",
    "2. It can use only letters, numbers, and the underscore (`_`) character.\n",
    "3. It can’t begin with a number.\n",
    "4. Variable name starting with an underscore (`_`) are considered as \"unuseful`.\n",
    "\n",
    "Example:"
   ]
  },
  {
   "cell_type": "code",
   "execution_count": null,
   "metadata": {},
   "outputs": [],
   "source": [
    "spam = 'Hello'"
   ]
  },
  {
   "cell_type": "code",
   "execution_count": null,
   "metadata": {},
   "outputs": [],
   "source": [
    "_spam = 'Hello'"
   ]
  },
  {
   "cell_type": "markdown",
   "metadata": {},
   "source": [
    "`_spam` should not be used again in the code."
   ]
  },
  {
   "cell_type": "markdown",
   "metadata": {},
   "source": [
    "### Swapping Variables"
   ]
  },
  {
   "cell_type": "code",
   "execution_count": 1,
   "metadata": {},
   "outputs": [
    {
     "name": "stdout",
     "output_type": "stream",
     "text": [
      "11\n",
      "10\n"
     ]
    }
   ],
   "source": [
    "x = 10\n",
    "y = 11\n",
    "\n",
    "# swaps the values of x and y\n",
    "x, y = y, x \n",
    "print(x)\n",
    "print(y)"
   ]
  },
  {
   "cell_type": "code",
   "execution_count": 2,
   "metadata": {},
   "outputs": [
    {
     "name": "stdout",
     "output_type": "stream",
     "text": [
      "1\n",
      "2\n"
     ]
    }
   ],
   "source": [
    "# defines a touple and unpacks it on the variables\n",
    "a, b = 1, 2 \n",
    "print(a)\n",
    "print(b)"
   ]
  },
  {
   "cell_type": "markdown",
   "metadata": {},
   "source": [
    "### Local and Global Scope\n",
    "\n",
    "- Code in the global scope cannot use any local variables.\n",
    "\n",
    "- However, a local scope can access global variables.\n",
    "\n",
    "- Code in a function’s local scope cannot use variables in any other local scope.\n",
    "\n",
    "- You can use the same name for different variables if they are in different scopes. That is, there can be a local variable named spam and a global variable also named spam.\n",
    "\n",
    "- local variables are preferred over glabal variables"
   ]
  },
  {
   "cell_type": "markdown",
   "metadata": {},
   "source": [
    "There are four rules to tell whether a variable is in a local scope or global scope:\n",
    "\n",
    "1. If a variable is being used in the global scope (that is, outside of all functions), then it is always a global variable.\n",
    "\n",
    "1. If there is a global statement for that variable in a function, it is a global variable.\n",
    "\n",
    "1. Otherwise, if the variable is used in an assignment statement in the function, it is a local variable.\n",
    "\n",
    "1. But if the variable is not used in an assignment statement, it is a global variable."
   ]
  },
  {
   "cell_type": "markdown",
   "metadata": {},
   "source": [
    "### The global Statement\n",
    "\n",
    "If you need to modify a global variable from within a function, use the global statement:"
   ]
  },
  {
   "cell_type": "code",
   "execution_count": 3,
   "metadata": {},
   "outputs": [
    {
     "name": "stdout",
     "output_type": "stream",
     "text": [
      "a\n"
     ]
    }
   ],
   "source": [
    "message = \"a\"\n",
    "\n",
    "def greet(name):\n",
    "    message = \"b\"\n",
    "\n",
    "print(message)"
   ]
  },
  {
   "cell_type": "code",
   "execution_count": 4,
   "metadata": {},
   "outputs": [
    {
     "name": "stdout",
     "output_type": "stream",
     "text": [
      "spam\n"
     ]
    }
   ],
   "source": [
    "def spam():\n",
    "    global eggs\n",
    "    eggs = 'spam'\n",
    "\n",
    "eggs = 'global'\n",
    "spam()\n",
    "print(eggs)"
   ]
  },
  {
   "cell_type": "markdown",
   "metadata": {},
   "source": [
    "### Local variables"
   ]
  },
  {
   "cell_type": "code",
   "execution_count": 6,
   "metadata": {},
   "outputs": [
    {
     "name": "stdout",
     "output_type": "stream",
     "text": [
      "a\n"
     ]
    }
   ],
   "source": [
    "def greet(name):\n",
    "    message = \"a\"\n",
    "\n",
    "print(message)"
   ]
  }
 ],
 "metadata": {
  "kernelspec": {
   "display_name": "Python 3",
   "language": "python",
   "name": "python3"
  },
  "language_info": {
   "codemirror_mode": {
    "name": "ipython",
    "version": 3
   },
   "file_extension": ".py",
   "mimetype": "text/x-python",
   "name": "python",
   "nbconvert_exporter": "python",
   "pygments_lexer": "ipython3",
   "version": "3.10.2"
  }
 },
 "nbformat": 4,
 "nbformat_minor": 2
}
