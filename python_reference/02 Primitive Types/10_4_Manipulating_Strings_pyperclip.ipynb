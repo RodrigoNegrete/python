{
 "cells": [
  {
   "cell_type": "markdown",
   "metadata": {},
   "source": [
    "#  Manipulating Strings"
   ]
  },
  {
   "cell_type": "markdown",
   "metadata": {},
   "source": [
    "### Copying and Pasting Strings with the pyperclip Module\n",
    "\n",
    "First, install `pypeerclip` with pip:"
   ]
  },
  {
   "cell_type": "code",
   "execution_count": 54,
   "metadata": {
    "attributes": {
     "classes": [
      "shell"
     ],
     "id": ""
    },
    "tags": []
   },
   "outputs": [
    {
     "output_type": "stream",
     "name": "stdout",
     "text": "Collecting pyperclip\n  Downloading pyperclip-1.8.0.tar.gz (16 kB)\nBuilding wheels for collected packages: pyperclip\n  Building wheel for pyperclip (setup.py): started\n  Building wheel for pyperclip (setup.py): finished with status 'done'\n  Created wheel for pyperclip: filename=pyperclip-1.8.0-py3-none-any.whl size=8696 sha256=85ea55e7ab83475fb95a477bf12f061c6ba7e93099aba26866a08ff4b4a7fa30\n  Stored in directory: c:\\users\\r_neg\\appdata\\local\\pip\\cache\\wheels\\03\\79\\58\\ab51f0f590281b0f4f6046d9271eb98cc50565afb9200f155a\nSuccessfully built pyperclip\nInstalling collected packages: pyperclip\nSuccessfully installed pyperclip-1.8.0\nNote: you may need to restart the kernel to use updated packages.\n"
    }
   ],
   "source": [
    "pip install pyperclip"
   ]
  },
  {
   "cell_type": "code",
   "execution_count": 1,
   "metadata": {},
   "outputs": [
    {
     "output_type": "execute_result",
     "data": {
      "text/plain": "'Hello world!'"
     },
     "metadata": {},
     "execution_count": 1
    }
   ],
   "source": [
    "import pyperclip\n",
    "\n",
    "pyperclip.copy('Hello world!')\n",
    "pyperclip.paste()"
   ]
  },
  {
   "cell_type": "markdown",
   "metadata": {},
   "source": [
    "## String Interpolation"
   ]
  },
  {
   "cell_type": "code",
   "execution_count": 56,
   "metadata": {
    "tags": []
   },
   "outputs": [
    {
     "output_type": "stream",
     "name": "stdout",
     "text": "I am 28 years old and my name is Corey\n"
    }
   ],
   "source": [
    "name = 'Corey'\n",
    "age = 28\n",
    "\n",
    "greeting = 'I am {age} years old and my name is {name}'.format(name=name, age=age)\n",
    "\n",
    "print(greeting)"
   ]
  },
  {
   "cell_type": "code",
   "execution_count": 57,
   "metadata": {
    "tags": []
   },
   "outputs": [
    {
     "output_type": "stream",
     "name": "stdout",
     "text": "My name is Corey and I am 28 years old\n"
    }
   ],
   "source": [
    "# using interpolation\n",
    "greeting = 'My name is ' + name + ' and I am ' + str(age) + ' years old'\n",
    "\n",
    "print(greeting)"
   ]
  }
 ],
 "metadata": {
  "kernelspec": {
   "display_name": "Python 3",
   "language": "python",
   "name": "python3"
  },
  "language_info": {
   "codemirror_mode": {
    "name": "ipython",
    "version": 3
   },
   "file_extension": ".py",
   "mimetype": "text/x-python",
   "name": "python",
   "nbconvert_exporter": "python",
   "pygments_lexer": "ipython3",
   "version": "3.8.4"
  }
 },
 "nbformat": 4,
 "nbformat_minor": 2
}