{
 "cells": [
  {
   "cell_type": "markdown",
   "metadata": {},
   "source": [
    "#  String Formatting"
   ]
  },
  {
   "cell_type": "code",
   "execution_count": null,
   "metadata": {},
   "outputs": [],
   "source": [
    "\n",
    "Python String Interpolation\n",
    "\n",
    "String Interpolation is the process of substituting values of variables into placeholders in a string, sounds like string concatenation right! But without using + or concatenation methods.\n",
    "\n",
    "Let’s see how many ways string interpolation works in Python.\n",
    "\n",
    "    %-formatting\n",
    "    Str.format()\n",
    "    f-strings\n",
    "    Template Strings\n",
    "\n",
    "%-formatting\n",
    "\n",
    "It’s a feature provided by Python which can be accessed with a % operator. This is similar to printf style function in C."
   ]
  },
  {
   "cell_type": "code",
   "execution_count": 1,
   "metadata": {
    "tags": []
   },
   "outputs": [
    {
     "name": "stdout",
     "output_type": "stream",
     "text": [
      "Welcome to GeeksforGeeks\n"
     ]
    }
   ],
   "source": [
    "# string interpolation   \n",
    "n1 = 'Hello'\n",
    "n2 ='GeeksforGeeks'\n",
    "  \n",
    "# for single substitution \n",
    "print(\"Welcome to % s\"% n2) "
   ]
  },
  {
   "cell_type": "code",
   "execution_count": 2,
   "metadata": {
    "tags": []
   },
   "outputs": [
    {
     "name": "stdout",
     "output_type": "stream",
     "text": [
      "Hello ! This is GeeksforGeeks.\n"
     ]
    }
   ],
   "source": [
    "# for single and multiple substitutions () mandatory \n",
    "print(\"% s ! This is % s.\"%(n1, n2)) "
   ]
  },
  {
   "cell_type": "code",
   "execution_count": null,
   "metadata": {},
   "outputs": [],
   "source": [
    "Let’s say its just a complicated version, but we can use it if we have a lot of variables to get substituted in the string as we don’t always want to use (“string”+variable+“string”+variable+variable+“string”) this representation. So for this purpose, we can go with %-formatting.\n",
    "\n",
    "str.format() is one of the string formatting methods in Python3, which allows multiple substitutions and value formatting. This method lets us concatenate elements within a string through positional formatting."
   ]
  },
  {
   "cell_type": "code",
   "execution_count": 3,
   "metadata": {
    "tags": []
   },
   "outputs": [
    {
     "name": "stdout",
     "output_type": "stream",
     "text": [
      "Hello, Hello\n"
     ]
    }
   ],
   "source": [
    "# string interpolation \n",
    "n1 = 'Hello'\n",
    "n2 ='GeeksforGeeks'\n",
    "  \n",
    "# for single substitution \n",
    "print('Hello, {}'.format(n1)) "
   ]
  },
  {
   "cell_type": "code",
   "execution_count": 4,
   "metadata": {
    "tags": []
   },
   "outputs": [
    {
     "name": "stdout",
     "output_type": "stream",
     "text": [
      "Hello! This is GeeksforGeeks.\n"
     ]
    }
   ],
   "source": [
    "# using kwargs\n",
    "print(\"{b1}! This is {b2}.\".format(b1 = n1, b2 = n2)) "
   ]
  },
  {
   "cell_type": "code",
   "execution_count": 5,
   "metadata": {
    "tags": []
   },
   "outputs": [
    {
     "name": "stdout",
     "output_type": "stream",
     "text": [
      "Hello! This is GeeksforGeeks.\n"
     ]
    }
   ],
   "source": [
    "# else both can be same too \n",
    "print(\"{n1}! This is {n2}.\".format(n2 = n2, n1 = n1)) "
   ]
  },
  {
   "cell_type": "markdown",
   "metadata": {},
   "source": [
    "f-strings\n",
    "\n",
    "PEP 498 introduced a new string formatting mechanism known as Literal String Interpolation or more commonly as F-strings (because of the leading f character preceding the string literal). The idea behind f-strings is to make string interpolation simpler.\n",
    "\n",
    "To create an f-string, prefix the string with the letter “ f ”. The string itself can be formatted in much the same way that you would with str.format(). F-strings provide a concise and convenient way to embed python expressions inside string literals for formatting."
   ]
  },
  {
   "cell_type": "code",
   "execution_count": 7,
   "metadata": {
    "tags": []
   },
   "outputs": [
    {
     "name": "stdout",
     "output_type": "stream",
     "text": [
      "Hello! This is GeeksforGeeks\n"
     ]
    }
   ],
   "source": [
    "# formatted strings example\n",
    "n1 = 'Hello'\n",
    "n2 ='GeeksforGeeks'\n",
    "  \n",
    "# f tells Python to restore the value of two variables \n",
    "# string variable name and program inside braces {} \n",
    "print(f\"{n1}! This is {n2}\") "
   ]
  },
  {
   "cell_type": "code",
   "execution_count": 1,
   "metadata": {},
   "outputs": [
    {
     "name": "stdout",
     "output_type": "stream",
     "text": [
      "(2 * 3)-10 = -4\n"
     ]
    }
   ],
   "source": [
    "# inline arithmetic \n",
    "print(f\"(2 * 3)-10 = {(2 * 3)-10}\") "
   ]
  },
  {
   "cell_type": "code",
   "execution_count": 9,
   "metadata": {},
   "outputs": [
    {
     "data": {
      "text/plain": [
       "'Hello Elizabeth!'"
      ]
     },
     "execution_count": 9,
     "metadata": {},
     "output_type": "execute_result"
    }
   ],
   "source": [
    "# only text\n",
    "name = 'Elizabeth'\n",
    "\n",
    "f'Hello {name}!'"
   ]
  },
  {
   "cell_type": "markdown",
   "metadata": {},
   "source": [
    "## String Template Class\n",
    "\n",
    "- In String module, Template Class allows us to create simplified syntax for output specification. \n",
    "\n",
    "- The format uses placeholder names formed by $ with valid Python identifiers (alphanumeric characters and underscores). \n",
    "\n",
    "- Surrounding the placeholder with braces allows it to be followed by more alphanumeric letters with no intervening spaces. \n",
    "\n",
    "- Writing $$ creates a single escaped $:\n",
    "\n",
    "- A simpler and less powerful mechanism, but it is recommended when handling format strings generated by users. Due to their reduced complexity template strings are a safer choice."
   ]
  },
  {
   "cell_type": "code",
   "execution_count": 9,
   "metadata": {
    "tags": []
   },
   "outputs": [
    {
     "name": "stdout",
     "output_type": "stream",
     "text": [
      "Hello ! This is GeeksforGeeks.\n"
     ]
    }
   ],
   "source": [
    "# string interpolation using Template module  \n",
    "from string import Template \n",
    "  \n",
    "n1 = 'Hello'\n",
    "n2 ='GeeksforGeeks'\n",
    "  \n",
    "# made a template which we used to  \n",
    "# pass two variable so n3 and n4  \n",
    "# formal and n1 and n2 actual \n",
    "n = Template('$n3 ! This is $n4.') \n",
    "  \n",
    "# and pass the parameters into the template string. \n",
    "print(n.substitute(n3 = n1, n4 = n2)) "
   ]
  },
  {
   "cell_type": "code",
   "execution_count": 20,
   "metadata": {},
   "outputs": [
    {
     "data": {
      "text/plain": [
       "'Hey Elizabeth!'"
      ]
     },
     "execution_count": 20,
     "metadata": {},
     "output_type": "execute_result"
    }
   ],
   "source": [
    "name = 'Elizabeth'\n",
    "\n",
    "t = Template('Hey $name!')\n",
    "\n",
    "t.substitute(name=name)"
   ]
  },
  {
   "cell_type": "code",
   "execution_count": 21,
   "metadata": {},
   "outputs": [
    {
     "data": {
      "text/plain": [
       "'Hey John!'"
      ]
     },
     "execution_count": 21,
     "metadata": {},
     "output_type": "execute_result"
    }
   ],
   "source": [
    "t.substitute(name='John')"
   ]
  },
  {
   "cell_type": "markdown",
   "metadata": {},
   "source": [
    "### Lazy string formatting\n",
    "#### % operator\n",
    "Note: For new code, using str.format or f-strings is strongly recommended over the `%` operator.\n",
    "\n",
    "You would only use `%s` string formatting on functions that can do lazy parameters evaluation,\n",
    "the most common being logging:"
   ]
  },
  {
   "cell_type": "code",
   "execution_count": 10,
   "metadata": {},
   "outputs": [
    {
     "data": {
      "text/plain": [
       "'Hello Pete'"
      ]
     },
     "execution_count": 10,
     "metadata": {},
     "output_type": "execute_result"
    }
   ],
   "source": [
    "name = 'Pete'\n",
    "\n",
    "'Hello %s' % name"
   ]
  },
  {
   "cell_type": "markdown",
   "metadata": {},
   "source": [
    "We can use the `%x` format specifier to convert an int value to a string:"
   ]
  },
  {
   "cell_type": "code",
   "execution_count": 12,
   "metadata": {},
   "outputs": [
    {
     "data": {
      "text/plain": [
       "'I have 5 apples'"
      ]
     },
     "execution_count": 12,
     "metadata": {},
     "output_type": "execute_result"
    }
   ],
   "source": [
    "num = 5\n",
    "\n",
    "'I have %x apples' % num"
   ]
  },
  {
   "cell_type": "code",
   "execution_count": null,
   "metadata": {},
   "outputs": [],
   "source": [
    "Prefer:"
   ]
  },
  {
   "cell_type": "code",
   "execution_count": 15,
   "metadata": {},
   "outputs": [],
   "source": [
    "import logging\n",
    "\n",
    "name = \"alice\"\n",
    "\n",
    "logging.debug(\"User name: {}\".format(name))"
   ]
  },
  {
   "cell_type": "markdown",
   "metadata": {},
   "source": [
    "Over:"
   ]
  },
  {
   "cell_type": "code",
   "execution_count": 16,
   "metadata": {},
   "outputs": [],
   "source": [
    "logging.debug(\"User name: %s\", name)"
   ]
  },
  {
   "cell_type": "markdown",
   "metadata": {},
   "source": [
    "Or:"
   ]
  },
  {
   "cell_type": "code",
   "execution_count": 17,
   "metadata": {},
   "outputs": [],
   "source": [
    "logging.debug(\"User name: \" + name)"
   ]
  },
  {
   "cell_type": "markdown",
   "metadata": {},
   "source": [
    "### str.format\n",
    "recommended `str.format` over the `%` operator:\n",
    "\n",
    "The formatting operations described here exhibit a variety of quirks that lead to a number of common errors (such as failing to display tuples and dictionaries correctly). \n",
    "\n",
    "Using the newer formatted string literals or the str.format() interface helps avoid these errors. \n",
    "\n",
    "These alternatives also provide more powerful, flexible and extensible approaches to formatting text."
   ]
  },
  {
   "cell_type": "code",
   "execution_count": 4,
   "metadata": {},
   "outputs": [
    {
     "data": {
      "text/plain": [
       "\"Hello I'm John, my age is 20\""
      ]
     },
     "execution_count": 4,
     "metadata": {},
     "output_type": "execute_result"
    }
   ],
   "source": [
    "name = 'John'\n",
    "age = 20\n",
    "\n",
    "\"Hello I'm {}, my age is {}\".format(name, age)"
   ]
  },
  {
   "cell_type": "code",
   "execution_count": 18,
   "metadata": {},
   "outputs": [
    {
     "data": {
      "text/plain": [
       "'Five plus ten is 15 and not 30.'"
      ]
     },
     "execution_count": 18,
     "metadata": {},
     "output_type": "execute_result"
    }
   ],
   "source": [
    "# arithmetic with str format\n",
    "a = 5\n",
    "b = 10\n",
    "\n",
    "f'Five plus ten is {a + b} and not {2 * (a + b)}.'"
   ]
  }
 ],
 "metadata": {
  "interpreter": {
   "hash": "a67fe6c412f916882b910c131fcaa4251190ab13d1ca41434ed355df77b9abd3"
  },
  "kernelspec": {
   "display_name": "Python 3.9.5 32-bit ('venv': venv)",
   "name": "python3"
  },
  "language_info": {
   "codemirror_mode": {
    "name": "ipython",
    "version": 3
   },
   "file_extension": ".py",
   "mimetype": "text/x-python",
   "name": "python",
   "nbconvert_exporter": "python",
   "pygments_lexer": "ipython3",
   "version": "3.10.0"
  }
 },
 "nbformat": 4,
 "nbformat_minor": 2
}
