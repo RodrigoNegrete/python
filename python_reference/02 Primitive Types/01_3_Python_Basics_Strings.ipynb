{
 "cells": [
  {
   "cell_type": "markdown",
   "metadata": {},
   "source": [
    "## Python Basic Strings\n",
    "\n",
    "python is 0 indexed\n",
    "\n",
    "triple quotes are used for long stringspython is 0 indexed\n",
    "\n",
    "triple quotes are used for long strings"
   ]
  },
  {
   "cell_type": "code",
   "execution_count": 3,
   "metadata": {
    "tags": []
   },
   "outputs": [
    {
     "name": "stdout",
     "output_type": "stream",
     "text": [
      "Hel\n",
      "Hello World\n",
      "ello World\n",
      "el\n",
      "Hello World\n"
     ]
    }
   ],
   "source": [
    "text = \"Hello World\"\n",
    "print(text[0:3])\n",
    "print(text[0:])\n",
    "print(text[1:])\n",
    "print(text[1:3])\n",
    "print(text[:])"
   ]
  },
  {
   "cell_type": "markdown",
   "metadata": {},
   "source": [
    "### Escape Sequences\n",
    "\n",
    "\\ is the escape character"
   ]
  },
  {
   "cell_type": "code",
   "execution_count": 4,
   "metadata": {
    "tags": []
   },
   "outputs": [
    {
     "name": "stdout",
     "output_type": "stream",
     "text": [
      "some text \" other text\n",
      "some text ' other text\n",
      "creates new line \n",
      " other text\n",
      "\\\n"
     ]
    }
   ],
   "source": [
    "print(\"some text \\\" other text\")\n",
    "print( 'some text \\' other text')\n",
    "\n",
    "#new line\n",
    "print(\"creates new line \\n other text\")\n",
    "\n",
    "# print backslash\n",
    "print(\"\\\\\")"
   ]
  },
  {
   "cell_type": "markdown",
   "metadata": {},
   "source": [
    "### String Concatenation\n",
    "\n",
    "Note: Avoid `+` operator for string concatenation. Prefer string formatting.Note: Avoid `+` operator for string concatenation. Prefer string formatting."
   ]
  },
  {
   "cell_type": "code",
   "execution_count": null,
   "metadata": {},
   "outputs": [],
   "source": [
    "'Alice' 'Bob'"
   ]
  },
  {
   "cell_type": "markdown",
   "metadata": {},
   "source": [
    "### String Replication:"
   ]
  },
  {
   "cell_type": "code",
   "execution_count": 2,
   "metadata": {},
   "outputs": [
    {
     "data": {
      "text/plain": [
       "'AliceAliceAliceAliceAlice'"
      ]
     },
     "execution_count": 2,
     "metadata": {},
     "output_type": "execute_result"
    }
   ],
   "source": [
    "'Alice' * 5"
   ]
  },
  {
   "cell_type": "markdown",
   "metadata": {},
   "source": [
    "### Formatted Strings\n",
    "\n",
    "f\" formats string as a function #  f\" formats string as a function "
   ]
  },
  {
   "cell_type": "code",
   "execution_count": 2,
   "metadata": {
    "tags": []
   },
   "outputs": [
    {
     "name": "stdout",
     "output_type": "stream",
     "text": [
      "Rodrigo Negrete\n",
      "7 4\n"
     ]
    }
   ],
   "source": [
    "first_name = \"Rodrigo\"\n",
    "last_name = \"Negrete\"\n",
    "# string concatenation\n",
    "full_name = f\"{first_name} {last_name}\"\n",
    "print(full_name)\n",
    "# you can use expressions with f\"\n",
    "numbers = f\"{len(first_name)} {2 + 2}\" \n",
    "print(numbers)"
   ]
  },
  {
   "cell_type": "code",
   "execution_count": null,
   "metadata": {},
   "outputs": [],
   "source": [
    "## String Methods\n"
   ]
  },
  {
   "cell_type": "code",
   "execution_count": 3,
   "metadata": {
    "tags": []
   },
   "outputs": [
    {
     "name": "stdout",
     "output_type": "stream",
     "text": [
      "PYTHON PROGRAMMING   \n",
      " python programming   \n",
      " Python Programming   \n",
      "python programming\n",
      " python programming\n",
      "python programming   \n",
      "-1\n",
      "8\n",
      " jython jrogramming   \n",
      "True\n",
      "True\n"
     ]
    }
   ],
   "source": [
    "course = \" python programming   \"\n",
    "print(course.upper())  # uppercase\n",
    "print(course.lower())  # lowercase\n",
    "print(course.title())  # titlecase\n",
    "print(course.strip())  # strip spaces at the begining and end\n",
    "print(course.rstrip())  # strip spaces to the right\n",
    "print(course.lstrip())  # strip spaces to the left\n",
    "print(course.find(\"Pro\"))  # finds - case sensitive returns index if found and -1 if not found\n",
    "print(course.find(\"pro\"))  # finds - case sensitive returns index if found and -1 if not found\n",
    "print(course.replace(\"p\", \"j\"))  # replaces p with j\n",
    "print(\"pro\" in course) # evaluates to True - returns boolean\n",
    "print(\"swift\" not in course)  # evaluates to True - returns boolean"
   ]
  },
  {
   "cell_type": "markdown",
   "metadata": {},
   "source": [
    "### Function docstring:"
   ]
  },
  {
   "cell_type": "code",
   "execution_count": null,
   "metadata": {},
   "outputs": [],
   "source": [
    "def foo():\n",
    "    \"\"\"\n",
    "    This is a function docstring\n",
    "    You can also use:\n",
    "    ''' Function Docstring '''\n",
    "    \"\"\""
   ]
  },
  {
   "cell_type": "markdown",
   "metadata": {},
   "source": [
    "### The len Function\n",
    "\n",
    "Evaluates to the integer value of the number of characters in a string:\n",
    "\n",
    "Note: test of emptiness of strings, lists, dictionary, etc, should **not** use len, but prefer direct\n",
    "boolean evaluation.Note: test of emptiness of strings, lists, dictionary, etc, should **not** use len, but prefer direct\n",
    "boolean evaluation."
   ]
  },
  {
   "cell_type": "code",
   "execution_count": null,
   "metadata": {},
   "outputs": [],
   "source": [
    "len('hello')"
   ]
  }
 ],
 "metadata": {
  "kernelspec": {
   "display_name": "Python 3",
   "language": "python",
   "name": "python3"
  },
  "language_info": {
   "codemirror_mode": {
    "name": "ipython",
    "version": 3
   },
   "file_extension": ".py",
   "mimetype": "text/x-python",
   "name": "python",
   "nbconvert_exporter": "python",
   "pygments_lexer": "ipython3",
   "version": "3.8.4"
  }
 },
 "nbformat": 4,
 "nbformat_minor": 2
}
