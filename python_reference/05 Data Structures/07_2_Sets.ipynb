{
 "cells": [
  {
   "cell_type": "markdown",
   "metadata": {},
   "source": [
    "#  sets\n",
    "\n",
    "From the Python 3 [documentation](https://docs.python.org/3/tutorial/datastructures.html)\n",
    "\n",
    "- A set is an unordered collection with no duplicate elements. \n",
    "- Basic uses include membership testing and eliminating duplicate entries. \n",
    "- Set objects also support mathematical operations like union, intersection, difference, and symmetric difference.\n",
    "\n",
    "### Initializing a set\n",
    "\n",
    "There are two ways to create sets: using curly braces `{}` and the bult-in function `set()`"
   ]
  },
  {
   "cell_type": "code",
   "execution_count": 4,
   "metadata": {
    "tags": []
   },
   "outputs": [
    {
     "output_type": "stream",
     "name": "stdout",
     "text": "{1, 2, 3}\n<class 'set'>\n"
    }
   ],
   "source": [
    "set_name = {1, 2, 3}\n",
    "\n",
    "print(set_name)\n",
    "print(type(set_name))"
   ]
  },
  {
   "cell_type": "code",
   "execution_count": 5,
   "metadata": {
    "tags": []
   },
   "outputs": [
    {
     "output_type": "stream",
     "name": "stdout",
     "text": "{1, 2, 3}\n<class 'set'>\n"
    }
   ],
   "source": [
    "set_name = set([1, 2, 3])\n",
    "\n",
    "print(set_name)\n",
    "print(type(set_name))"
   ]
  },
  {
   "cell_type": "markdown",
   "metadata": {},
   "source": [
    "***When creating an empty set, be sure to not use the curly braces `{}` or you will get an empty dictionary instead.***"
   ]
  },
  {
   "cell_type": "code",
   "execution_count": 6,
   "metadata": {},
   "outputs": [
    {
     "output_type": "execute_result",
     "data": {
      "text/plain": "dict"
     },
     "metadata": {},
     "execution_count": 6
    }
   ],
   "source": [
    "set_name = {}\n",
    "type(set_name)"
   ]
  },
  {
   "cell_type": "code",
   "execution_count": 8,
   "metadata": {
    "tags": []
   },
   "outputs": [
    {
     "output_type": "stream",
     "name": "stdout",
     "text": "[1, 1, 2, 3, 4]\n<class 'list'>\n"
    }
   ],
   "source": [
    "numbers = [1, 1, 2, 3, 4]\n",
    "\n",
    "print(numbers)\n",
    "\n",
    "print(type(numbers))"
   ]
  },
  {
   "cell_type": "code",
   "execution_count": 9,
   "metadata": {
    "tags": []
   },
   "outputs": [
    {
     "output_type": "stream",
     "name": "stdout",
     "text": "{1, 2, 3, 4}\n"
    }
   ],
   "source": [
    "# set transforms a list and gives unique numbers\n",
    "uniques = set(numbers)\n",
    "print(uniques)"
   ]
  },
  {
   "cell_type": "code",
   "execution_count": 11,
   "metadata": {
    "tags": []
   },
   "outputs": [
    {
     "output_type": "stream",
     "name": "stdout",
     "text": "{1, 4, 5}\n"
    }
   ],
   "source": [
    "# add element\n",
    "second = {1, 4}\n",
    "second.add(5)\n",
    "print(second)"
   ]
  },
  {
   "cell_type": "code",
   "execution_count": 12,
   "metadata": {
    "tags": []
   },
   "outputs": [
    {
     "output_type": "stream",
     "name": "stdout",
     "text": "{1, 4}\n"
    }
   ],
   "source": [
    "# .remove(value) to remove the element with that value\n",
    "second.remove(5)\n",
    "print(second)"
   ]
  },
  {
   "cell_type": "code",
   "execution_count": 13,
   "metadata": {
    "tags": []
   },
   "outputs": [
    {
     "output_type": "stream",
     "name": "stdout",
     "text": "2\n"
    }
   ],
   "source": [
    "# count elements\n",
    "print(len(second))"
   ]
  },
  {
   "cell_type": "code",
   "execution_count": 15,
   "metadata": {
    "tags": []
   },
   "outputs": [
    {
     "output_type": "stream",
     "name": "stdout",
     "text": "yes\n"
    }
   ],
   "source": [
    "# sets do not support indexes, you need to define a function\n",
    "if 1 in second: \n",
    "    print(\"yes\")"
   ]
  },
  {
   "cell_type": "markdown",
   "metadata": {},
   "source": [
    "And as an unordered data type, they can't be indexed."
   ]
  },
  {
   "cell_type": "code",
   "execution_count": 16,
   "metadata": {},
   "outputs": [
    {
     "output_type": "error",
     "ename": "TypeError",
     "evalue": "'set' object is not callable",
     "traceback": [
      "\u001b[1;31m---------------------------------------------------------------------------\u001b[0m",
      "\u001b[1;31mTypeError\u001b[0m                                 Traceback (most recent call last)",
      "\u001b[1;32m<ipython-input-16-ec9beeb1d87d>\u001b[0m in \u001b[0;36m<module>\u001b[1;34m\u001b[0m\n\u001b[0;32m      1\u001b[0m \u001b[0mset_name\u001b[0m \u001b[1;33m=\u001b[0m \u001b[1;33m{\u001b[0m\u001b[1;36m1\u001b[0m\u001b[1;33m,\u001b[0m \u001b[1;36m2\u001b[0m\u001b[1;33m,\u001b[0m \u001b[1;36m3\u001b[0m\u001b[1;33m}\u001b[0m\u001b[1;33m\u001b[0m\u001b[1;33m\u001b[0m\u001b[0m\n\u001b[1;32m----> 2\u001b[1;33m \u001b[0mset_name\u001b[0m\u001b[1;33m(\u001b[0m\u001b[1;36m0\u001b[0m\u001b[1;33m)\u001b[0m\u001b[1;33m\u001b[0m\u001b[1;33m\u001b[0m\u001b[0m\n\u001b[0m",
      "\u001b[1;31mTypeError\u001b[0m: 'set' object is not callable"
     ]
    }
   ],
   "source": [
    "set_name = {1, 2, 3}\n",
    "set_name(0)"
   ]
  },
  {
   "cell_type": "markdown",
   "metadata": {},
   "source": [
    "### set add and update\n",
    "\n",
    "Using the `add()` method we can add a single element to the set."
   ]
  },
  {
   "cell_type": "code",
   "execution_count": 17,
   "metadata": {},
   "outputs": [
    {
     "output_type": "execute_result",
     "data": {
      "text/plain": "{1, 2, 3, 4}"
     },
     "metadata": {},
     "execution_count": 17
    }
   ],
   "source": [
    "set_name = {1, 2, 3}\n",
    "set_name.add(4)\n",
    "set_name"
   ]
  },
  {
   "cell_type": "markdown",
   "metadata": {},
   "source": [
    "And with `update()`, multiple ones ."
   ]
  },
  {
   "cell_type": "code",
   "execution_count": 18,
   "metadata": {},
   "outputs": [
    {
     "output_type": "execute_result",
     "data": {
      "text/plain": "{1, 2, 3, 4, 5, 6}"
     },
     "metadata": {},
     "execution_count": 18
    }
   ],
   "source": [
    "set_name = {1, 2, 3}\n",
    "set_name.update([2, 3, 4, 5, 6])\n",
    "set_name  # remember, sets automatically remove duplicates"
   ]
  },
  {
   "cell_type": "markdown",
   "metadata": {},
   "source": [
    "### set remove and discard\n",
    "\n",
    "Both methods will remove an element from the set, but `remove()` will raise a `key error` if the value doesn't exist."
   ]
  },
  {
   "cell_type": "code",
   "execution_count": 19,
   "metadata": {},
   "outputs": [
    {
     "output_type": "execute_result",
     "data": {
      "text/plain": "{1, 2}"
     },
     "metadata": {},
     "execution_count": 19
    }
   ],
   "source": [
    "set_name = {1, 2, 3}\n",
    "set_name.remove(3)\n",
    "set_name"
   ]
  },
  {
   "cell_type": "code",
   "execution_count": 20,
   "metadata": {},
   "outputs": [
    {
     "output_type": "error",
     "ename": "KeyError",
     "evalue": "3",
     "traceback": [
      "\u001b[1;31m---------------------------------------------------------------------------\u001b[0m",
      "\u001b[1;31mKeyError\u001b[0m                                  Traceback (most recent call last)",
      "\u001b[1;32m<ipython-input-20-03ca400a8c8d>\u001b[0m in \u001b[0;36m<module>\u001b[1;34m\u001b[0m\n\u001b[1;32m----> 1\u001b[1;33m \u001b[0mset_name\u001b[0m\u001b[1;33m.\u001b[0m\u001b[0mremove\u001b[0m\u001b[1;33m(\u001b[0m\u001b[1;36m3\u001b[0m\u001b[1;33m)\u001b[0m\u001b[1;33m\u001b[0m\u001b[1;33m\u001b[0m\u001b[0m\n\u001b[0m",
      "\u001b[1;31mKeyError\u001b[0m: 3"
     ]
    }
   ],
   "source": [
    "set_name.remove(3)"
   ]
  },
  {
   "cell_type": "markdown",
   "metadata": {},
   "source": [
    "`discard()` won't raise any errors."
   ]
  },
  {
   "cell_type": "code",
   "execution_count": 21,
   "metadata": {},
   "outputs": [
    {
     "output_type": "execute_result",
     "data": {
      "text/plain": "{1, 2}"
     },
     "metadata": {},
     "execution_count": 21
    }
   ],
   "source": [
    "set_name = {1, 2, 3}\n",
    "set_name.discard(3)\n",
    "set_name"
   ]
  },
  {
   "cell_type": "code",
   "execution_count": 22,
   "metadata": {},
   "outputs": [],
   "source": [
    "set_name.discard(3)"
   ]
  },
  {
   "cell_type": "markdown",
   "metadata": {},
   "source": [
    "### set union\n",
    "\n",
    "`union()` or `|` will create a new set that contains all the elements from the sets provided."
   ]
  },
  {
   "cell_type": "code",
   "execution_count": 23,
   "metadata": {
    "tags": []
   },
   "outputs": [
    {
     "output_type": "stream",
     "name": "stdout",
     "text": "{9, 4, 1}\n"
    }
   ],
   "source": [
    "# | is the union of sets\n",
    "first = {9, 1}\n",
    "second = {1, 4}\n",
    "print(first | second) "
   ]
  },
  {
   "cell_type": "code",
   "execution_count": 24,
   "metadata": {},
   "outputs": [
    {
     "output_type": "execute_result",
     "data": {
      "text/plain": "{1, 2, 3, 4, 5}"
     },
     "metadata": {},
     "execution_count": 24
    }
   ],
   "source": [
    "set1 = {1, 2, 3}\n",
    "set2 = {3, 4, 5}\n",
    "set1.union(set2)  # or 's1 | s2'"
   ]
  },
  {
   "cell_type": "markdown",
   "metadata": {},
   "source": [
    "### set intersection\n",
    "\n",
    "`intersection` or `&` will return a set containing only the elements that are common to all of them."
   ]
  },
  {
   "cell_type": "code",
   "execution_count": 26,
   "metadata": {
    "tags": []
   },
   "outputs": [
    {
     "output_type": "stream",
     "name": "stdout",
     "text": "{1}\n"
    }
   ],
   "source": [
    "print(first & second) "
   ]
  },
  {
   "cell_type": "code",
   "execution_count": 25,
   "metadata": {},
   "outputs": [
    {
     "output_type": "execute_result",
     "data": {
      "text/plain": "{3}"
     },
     "metadata": {},
     "execution_count": 25
    }
   ],
   "source": [
    "set1 = {1, 2, 3}\n",
    "set2 = {2, 3, 4}\n",
    "set3 = {3, 4, 5}\n",
    "set1.intersection(set2, set3)  # or 's1 & s2 & s3'"
   ]
  },
  {
   "cell_type": "markdown",
   "metadata": {},
   "source": [
    "### set difference\n",
    "\n",
    "`difference` or `-` will return only the elements that are in one of the sets."
   ]
  },
  {
   "cell_type": "code",
   "execution_count": 27,
   "metadata": {
    "tags": []
   },
   "outputs": [
    {
     "output_type": "stream",
     "name": "stdout",
     "text": "{9}\n"
    }
   ],
   "source": [
    "# - is the difference of sets. \n",
    "# Prints whats in first but not in second\n",
    "print(first - second) "
   ]
  },
  {
   "cell_type": "code",
   "execution_count": 28,
   "metadata": {},
   "outputs": [
    {
     "output_type": "execute_result",
     "data": {
      "text/plain": "{1}"
     },
     "metadata": {},
     "execution_count": 28
    }
   ],
   "source": [
    "set1 = {1, 2, 3}\n",
    "set2 = {2, 3, 4}\n",
    "set1.difference(set2)  # or 's1 - s2'"
   ]
  },
  {
   "cell_type": "markdown",
   "metadata": {},
   "source": [
    "### set complement or symetric_difference\n",
    "\n",
    "`symetric_difference` or `^` will return all the elements that are not common between them."
   ]
  },
  {
   "cell_type": "code",
   "execution_count": 30,
   "metadata": {},
   "outputs": [
    {
     "output_type": "execute_result",
     "data": {
      "text/plain": "{1, 4}"
     },
     "metadata": {},
     "execution_count": 30
    }
   ],
   "source": [
    "set1 = {1, 2, 3}\n",
    "set2 = {2, 3, 4}\n",
    "set1.symmetric_difference(set2)  # or 's1 ^ s2'"
   ]
  },
  {
   "cell_type": "code",
   "execution_count": 31,
   "metadata": {
    "tags": []
   },
   "outputs": [
    {
     "output_type": "stream",
     "name": "stdout",
     "text": "{1, 4}\n"
    }
   ],
   "source": [
    "# ^ is the complement of the intersection of sets. This are the elements that are only in one of the sets\n",
    "print(set1 ^ set2) "
   ]
  }
 ],
 "metadata": {
  "kernelspec": {
   "display_name": "Python 3",
   "language": "python",
   "name": "python3"
  },
  "language_info": {
   "codemirror_mode": {
    "name": "ipython",
    "version": 3
   },
   "file_extension": ".py",
   "mimetype": "text/x-python",
   "name": "python",
   "nbconvert_exporter": "python",
   "pygments_lexer": "ipython3",
   "version": "3.8.2"
  }
 },
 "nbformat": 4,
 "nbformat_minor": 2
}