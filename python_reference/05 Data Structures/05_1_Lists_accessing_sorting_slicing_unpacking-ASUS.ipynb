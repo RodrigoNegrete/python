{
 "cells": [
  {
   "cell_type": "markdown",
   "metadata": {},
   "source": [
    "# Lists"
   ]
  },
  {
   "cell_type": "markdown",
   "metadata": {},
   "source": [
    "## Data Structures\n",
    "### Lists\n",
    "- [] are for lists which can be modified\n",
    "- () are for tuples which can't be modified\n",
    "- Lists can be of any data type\n",
    "- A matrix is a list of lists"
   ]
  },
  {
   "cell_type": "code",
   "execution_count": 1,
   "metadata": {
    "tags": []
   },
   "outputs": [
    {
     "output_type": "stream",
     "name": "stdout",
     "text": "[0, 0, 0, 0, 0, 0, 0, 0, 0, 0]\n[0, 0, 0, 0, 0, 0, 0, 0, 0, 0, 'a', 'b', 'c']\n[0, 1, 2, 3, 4, 5, 6, 7, 8, 9, 10, 11, 12, 13, 14, 15, 16, 17, 18, 19]\n['H', 'e', 'l', 'l', 'o', ' ', 'W', 'o', 'r', 'l', 'd']\n"
    }
   ],
   "source": [
    "letters = [\"a\", \"b\", \"c\"]\n",
    "matrix = [[0, 1], [2, 3]]\n",
    "zeros = [0] * 10 # multiplication returns 1 list with 100 zeros\n",
    "print(zeros)\n",
    "combined = zeros + letters # concatenation returns 1 list with the zeros and then the letters\n",
    "print(combined)\n",
    "numbers = list(range(20)) # the list function returns 1 list with the range(20) which os a list from 0 to 19\n",
    "print(numbers)\n",
    "chars = list(\"Hello World\") # the list function returns 1 list with the individual characters of the string\n",
    "print(chars)"
   ]
  },
  {
   "cell_type": "markdown",
   "metadata": {},
   "source": [
    "#### Finding Items - Index Function"
   ]
  },
  {
   "cell_type": "code",
   "execution_count": 2,
   "metadata": {
    "tags": []
   },
   "outputs": [
    {
     "output_type": "stream",
     "name": "stdout",
     "text": "2\n3\n"
    },
    {
     "output_type": "execute_result",
     "data": {
      "text/plain": "1"
     },
     "metadata": {},
     "execution_count": 2
    }
   ],
   "source": [
    "letters = [\"a\", \"b\", \"c\", \"d\"]\n",
    "if \"d\" in letters:\n",
    "    print(letters.index(\"c\")) # returns the index number of c\n",
    "    print(letters.index(\"d\")) # returns the index number of d\n",
    "\n",
    "letters.count(\"d\")"
   ]
  },
  {
   "cell_type": "markdown",
   "metadata": {},
   "source": [
    "#### Sorting Lists"
   ]
  },
  {
   "cell_type": "code",
   "execution_count": 3,
   "metadata": {
    "tags": []
   },
   "outputs": [
    {
     "output_type": "stream",
     "name": "stdout",
     "text": "None\n[2, 3, 6, 8, 51]\n[51, 8, 6, 3, 2]\n"
    }
   ],
   "source": [
    "numbers = [3, 51, 2,8, 6]\n",
    "numbers.sort() # sorts numbers ascending - not working\n",
    "print(numbers.sort()) \n",
    "\n",
    "# sorted is a built in function\n",
    "sorted(numbers)\n",
    "print(sorted(numbers))\n",
    "\n",
    "# reverse=True will sort descending\n",
    "print(sorted(numbers, reverse=True))"
   ]
  },
  {
   "cell_type": "markdown",
   "metadata": {},
   "source": [
    "#### Accessing Items"
   ]
  },
  {
   "cell_type": "code",
   "execution_count": 2,
   "metadata": {
    "tags": []
   },
   "outputs": [
    {
     "output_type": "stream",
     "name": "stdout",
     "text": "['A', 'b', 'c']\n['A', 'c']\n['d', 'c', 'b', 'A']\n"
    }
   ],
   "source": [
    "letters = [\"a\", \"b\", \"c\", \"d\"]\n",
    "letters[0] = \"A\" # goes to a since its the 0th element of the list and changes it to A\n",
    "print(letters[0:3]) # prints a list with A b and c. they behave as strings\n",
    "print(letters[::2]) # steps (::) prints a list with the element corresponding to 2 step iterations A nd c in here\n",
    "print(letters[::-1]) # steps (::) with a negative prints a list with the element corresponding to 1 negative iteration which is the same as backwards"
   ]
  },
  {
   "cell_type": "code",
   "execution_count": 5,
   "metadata": {},
   "outputs": [
    {
     "output_type": "execute_result",
     "data": {
      "text/plain": "['cat', 'bat', 'rat', 'elephant']"
     },
     "metadata": {},
     "execution_count": 5
    }
   ],
   "source": [
    "['cat', 'bat', 'rat', 'elephant']"
   ]
  },
  {
   "cell_type": "markdown",
   "metadata": {},
   "source": [
    "## Unpacking Lists\n"
   ]
  },
  {
   "cell_type": "markdown",
   "metadata": {},
   "source": [
    "### Slicing - Getting Individual Values in a List with Indexes"
   ]
  },
  {
   "cell_type": "code",
   "execution_count": 6,
   "metadata": {},
   "outputs": [
    {
     "output_type": "execute_result",
     "data": {
      "text/plain": "'cat'"
     },
     "metadata": {},
     "execution_count": 6
    }
   ],
   "source": [
    "spam = ['cat', 'bat', 'rat', 'elephant']\n",
    "spam[0]"
   ]
  },
  {
   "cell_type": "code",
   "execution_count": 7,
   "metadata": {},
   "outputs": [
    {
     "output_type": "execute_result",
     "data": {
      "text/plain": "'bat'"
     },
     "metadata": {},
     "execution_count": 7
    }
   ],
   "source": [
    "spam[1]"
   ]
  },
  {
   "cell_type": "code",
   "execution_count": 8,
   "metadata": {},
   "outputs": [
    {
     "output_type": "execute_result",
     "data": {
      "text/plain": "'rat'"
     },
     "metadata": {},
     "execution_count": 8
    }
   ],
   "source": [
    "spam[2]"
   ]
  },
  {
   "cell_type": "code",
   "execution_count": 9,
   "metadata": {},
   "outputs": [
    {
     "output_type": "execute_result",
     "data": {
      "text/plain": "'elephant'"
     },
     "metadata": {},
     "execution_count": 9
    }
   ],
   "source": [
    "spam[3]"
   ]
  },
  {
   "cell_type": "code",
   "execution_count": 10,
   "metadata": {},
   "outputs": [
    {
     "output_type": "execute_result",
     "data": {
      "text/plain": "['bat', 'rat', 'elephant']"
     },
     "metadata": {},
     "execution_count": 10
    }
   ],
   "source": [
    "spam[1:]"
   ]
  },
  {
   "cell_type": "code",
   "execution_count": 11,
   "metadata": {},
   "outputs": [
    {
     "output_type": "execute_result",
     "data": {
      "text/plain": "['cat', 'bat', 'rat', 'elephant']"
     },
     "metadata": {},
     "execution_count": 11
    }
   ],
   "source": [
    "spam[:]"
   ]
  },
  {
   "cell_type": "code",
   "execution_count": 12,
   "metadata": {},
   "outputs": [
    {
     "output_type": "execute_result",
     "data": {
      "text/plain": "3"
     },
     "metadata": {},
     "execution_count": 12
    }
   ],
   "source": [
    "spam = ['cat', 'dog', 'moose']\n",
    "len(spam)"
   ]
  },
  {
   "cell_type": "code",
   "execution_count": 13,
   "metadata": {
    "scrolled": true,
    "tags": []
   },
   "outputs": [
    {
     "output_type": "stream",
     "name": "stdout",
     "text": "[9, 8, 7, 6, 5, 4, 3, 2, 1, 0]\n"
    }
   ],
   "source": [
    "my_list = [0, 1, 2, 3, 4, 5, 6, 7, 8, 9]\n",
    "#          0, 1, 2, 3, 4, 5, 6, 7, 8, 9\n",
    "#        -10,-9,-8,-7,-6,-5,-4,-3,-2,-1\n",
    "\n",
    "# list[start:end:step]\n",
    "print(my_list[::-1])"
   ]
  },
  {
   "cell_type": "code",
   "execution_count": 14,
   "metadata": {
    "tags": []
   },
   "outputs": [
    {
     "output_type": "stream",
     "name": "stdout",
     "text": "http://coreyms.com\n"
    }
   ],
   "source": [
    "sample_url = 'http://coreyms.com'\n",
    "print(sample_url)"
   ]
  },
  {
   "cell_type": "code",
   "execution_count": 15,
   "metadata": {
    "tags": []
   },
   "outputs": [
    {
     "output_type": "stream",
     "name": "stdout",
     "text": "moc.smyeroc//:ptth\n"
    }
   ],
   "source": [
    "# Reverse the url\n",
    "print(sample_url[::-1])"
   ]
  },
  {
   "cell_type": "code",
   "execution_count": 16,
   "metadata": {
    "scrolled": true,
    "tags": []
   },
   "outputs": [
    {
     "output_type": "stream",
     "name": "stdout",
     "text": ".com\n"
    }
   ],
   "source": [
    "# Get the top level domain\n",
    "print(sample_url[-4:])"
   ]
  },
  {
   "cell_type": "code",
   "execution_count": 17,
   "metadata": {
    "tags": []
   },
   "outputs": [
    {
     "output_type": "stream",
     "name": "stdout",
     "text": "coreyms.com\n"
    }
   ],
   "source": [
    "# Print the url without the http://\n",
    "print(sample_url[7:])"
   ]
  },
  {
   "cell_type": "code",
   "execution_count": 18,
   "metadata": {
    "tags": []
   },
   "outputs": [
    {
     "output_type": "stream",
     "name": "stdout",
     "text": "coreyms\n"
    }
   ],
   "source": [
    "# Print the url without the http:// or the top level domain\n",
    "print(sample_url[7:-4])"
   ]
  },
  {
   "cell_type": "code",
   "execution_count": 19,
   "metadata": {
    "tags": []
   },
   "outputs": [
    {
     "output_type": "stream",
     "name": "stdout",
     "text": "1\n2\n3\n"
    }
   ],
   "source": [
    "numbers = [1, 2, 3, 4, 5]\n",
    "first = numbers[0]\n",
    "second = numbers[1]\n",
    "third = numbers[2]\n",
    "print(first)\n",
    "print(second)\n",
    "print(third)"
   ]
  },
  {
   "cell_type": "code",
   "execution_count": 20,
   "metadata": {
    "tags": []
   },
   "outputs": [
    {
     "output_type": "stream",
     "name": "stdout",
     "text": "6\n7\n8\n"
    }
   ],
   "source": [
    "# this is the same as the lines above, you need to have the same number of elements on both sides of the = sign\n",
    "newer_numbers = [6, 7, 8]\n",
    "newer_first, newer_second, newer_third = newer_numbers\n",
    "print(newer_first)\n",
    "print(newer_second)\n",
    "print(newer_third)"
   ]
  },
  {
   "cell_type": "code",
   "execution_count": 21,
   "metadata": {},
   "outputs": [],
   "source": [
    "### Getting Sublists with Slices"
   ]
  },
  {
   "cell_type": "code",
   "execution_count": 22,
   "metadata": {},
   "outputs": [
    {
     "output_type": "execute_result",
     "data": {
      "text/plain": "['cat', 'bat', 'rat', 'elephant']"
     },
     "metadata": {},
     "execution_count": 22
    }
   ],
   "source": [
    "spam = ['cat', 'bat', 'rat', 'elephant']\n",
    "spam[0:4]"
   ]
  },
  {
   "cell_type": "code",
   "execution_count": 23,
   "metadata": {},
   "outputs": [
    {
     "output_type": "execute_result",
     "data": {
      "text/plain": "['bat', 'rat']"
     },
     "metadata": {},
     "execution_count": 23
    }
   ],
   "source": [
    "spam[1:3]"
   ]
  },
  {
   "cell_type": "code",
   "execution_count": 24,
   "metadata": {},
   "outputs": [
    {
     "output_type": "execute_result",
     "data": {
      "text/plain": "['cat', 'bat', 'rat']"
     },
     "metadata": {},
     "execution_count": 24
    }
   ],
   "source": [
    "spam[0:-1]"
   ]
  }
 ],
 "metadata": {
  "kernelspec": {
   "name": "Python 3.8.5 32-bit",
   "display_name": "Python 3.8.5 32-bit",
   "metadata": {
    "interpreter": {
     "hash": "8090f737a24c000d63d2b3fd43c3cc8c02e97407065c9cf8c0157ebfa5afde6c"
    }
   }
  },
  "language_info": {
   "codemirror_mode": {
    "name": "ipython",
    "version": 3
   },
   "file_extension": ".py",
   "mimetype": "text/x-python",
   "name": "python",
   "nbconvert_exporter": "python",
   "pygments_lexer": "ipython3",
   "version": "3.8.5-final"
  }
 },
 "nbformat": 4,
 "nbformat_minor": 2
}