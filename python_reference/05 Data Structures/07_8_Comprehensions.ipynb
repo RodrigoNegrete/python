{
 "cells": [
  {
   "cell_type": "markdown",
   "metadata": {},
   "source": [
    "#  Comprehensions\n",
    "\n",
    "## List comprehension\n",
    "- List comprehension is preferred to map or filter functions\n",
    "- syntax expression -> for item in items"
   ]
  },
  {
   "cell_type": "code",
   "execution_count": 3,
   "metadata": {
    "tags": []
   },
   "outputs": [
    {
     "output_type": "stream",
     "name": "stdout",
     "text": "[10, 9, 12]\n"
    }
   ],
   "source": [
    "# returns list of unfiltered prices\n",
    "items = [ \n",
    "    (\"Product1\", 10),\n",
    "    (\"Product2\", 9),\n",
    "    (\"Product3\", 12),\n",
    "]\n",
    "\n",
    "# item[index] selects an element with specific index\n",
    "prices = [item[1] for item in items] \n",
    "print(prices)"
   ]
  },
  {
   "cell_type": "code",
   "execution_count": 5,
   "metadata": {
    "tags": []
   },
   "outputs": [
    {
     "output_type": "stream",
     "name": "stdout",
     "text": "[('Product1', 10), ('Product3', 12)]\n"
    }
   ],
   "source": [
    "# returns list of filtered prices\n",
    "items = [ \n",
    "    (\"Product1\", 10),\n",
    "    (\"Product2\", 9),\n",
    "    (\"Product3\", 12),\n",
    "]\n",
    "\n",
    "filtered = [item for item in items if item[1] >= 10] \n",
    "print(filtered)"
   ]
  },
  {
   "cell_type": "code",
   "execution_count": 1,
   "metadata": {},
   "outputs": [
    {
     "output_type": "execute_result",
     "data": {
      "text/plain": "[0, 2, 4, 6, 8, 10]"
     },
     "metadata": {},
     "execution_count": 1
    }
   ],
   "source": [
    "a = [1, 3, 5, 7, 9, 11]\n",
    "[item - 1 for item in a]"
   ]
  },
  {
   "cell_type": "markdown",
   "metadata": {},
   "source": [
    "A List comprehension can be generated from a dictionary:"
   ]
  },
  {
   "cell_type": "code",
   "execution_count": 33,
   "metadata": {},
   "outputs": [
    {
     "output_type": "execute_result",
     "data": {
      "text/plain": "['NAME:POOKA', 'FIRST_NAME:OOOKA']"
     },
     "metadata": {},
     "execution_count": 33
    }
   ],
   "source": [
    "dictionary = {'name': 'Pooka', 'first_name': 'Oooka'}\n",
    "\n",
    "[\"{}:{}\".format(key.upper(), value.upper()) for key, value in dictionary.items()]"
   ]
  },
  {
   "cell_type": "code",
   "execution_count": 17,
   "metadata": {},
   "outputs": [],
   "source": [
    "nums = [1,2,3,4,5,6,7,8,9,10]"
   ]
  },
  {
   "cell_type": "code",
   "execution_count": 15,
   "metadata": {
    "tags": []
   },
   "outputs": [
    {
     "output_type": "stream",
     "name": "stdout",
     "text": "[]\n[]\n"
    }
   ],
   "source": [
    "# I want 'number' for each 'number' in numbers\n",
    "numbers = [1,2,3,4,5,6,7,8,9,10]\n",
    "\n",
    "for number in numbers:\n",
    "  my_list.append(number)\n",
    "print(my_list)\n",
    "\n",
    "print([n for number in numbers])"
   ]
  },
  {
   "cell_type": "code",
   "execution_count": 16,
   "metadata": {
    "tags": []
   },
   "outputs": [
    {
     "output_type": "stream",
     "name": "stdout",
     "text": "[]\n"
    }
   ],
   "source": [
    "print([number for number in numbers])"
   ]
  },
  {
   "cell_type": "code",
   "execution_count": 21,
   "metadata": {
    "tags": []
   },
   "outputs": [
    {
     "output_type": "stream",
     "name": "stdout",
     "text": "[1, 4, 9, 16, 25, 36, 49, 64, 81, 100]\n"
    }
   ],
   "source": [
    "# I want 'number*number' for each 'number' in numbers\n",
    "\n",
    "# initialize list\n",
    "my_list = []\n",
    "\n",
    "numbers = [1,2,3,4,5,6,7,8,9,10]\n",
    "\n",
    "for number in numbers:\n",
    "  my_list.append(number*number)\n",
    "\n",
    "print(my_list)"
   ]
  },
  {
   "cell_type": "markdown",
   "metadata": {},
   "source": [
    "### Set comprehension"
   ]
  },
  {
   "cell_type": "code",
   "execution_count": 36,
   "metadata": {},
   "outputs": [
    {
     "output_type": "execute_result",
     "data": {
      "text/plain": "{'ABC', 'DEF'}"
     },
     "metadata": {},
     "execution_count": 36
    }
   ],
   "source": [
    "# transform to uppercase\n",
    "set1 = {\"abc\", \"def\"}\n",
    "{letter.upper() for letter in set1}"
   ]
  },
  {
   "cell_type": "code",
   "execution_count": 20,
   "metadata": {
    "tags": []
   },
   "outputs": [
    {
     "output_type": "stream",
     "name": "stdout",
     "text": "{1, 2, 3, 4, 5, 6, 7, 8, 9}\n"
    }
   ],
   "source": [
    "# initialize set\n",
    "y_set = set()\n",
    "\n",
    "numbers = [1,1,2,1,3,4,3,4,5,5,6,7,8,7,9,9]\n",
    "\n",
    "\n",
    "for number in numbers:\n",
    "    y_set.add(number)\n",
    "\n",
    "print(y_set)"
   ]
  },
  {
   "cell_type": "markdown",
   "metadata": {},
   "source": [
    "### Dict comprehension"
   ]
  },
  {
   "cell_type": "code",
   "execution_count": 23,
   "metadata": {
    "tags": []
   },
   "outputs": [
    {
     "output_type": "stream",
     "name": "stdout",
     "text": "<zip object at 0x0659C0E8>\n"
    }
   ],
   "source": []
  },
  {
   "cell_type": "code",
   "execution_count": 25,
   "metadata": {
    "tags": []
   },
   "outputs": [
    {
     "output_type": "stream",
     "name": "stdout",
     "text": "{'Bruce': 'Batman', 'Clark': 'Superman', 'Peter': 'Spiderman', 'Logan': 'Wolverine', 'Wade': 'Deadpool'}\n"
    }
   ],
   "source": [
    "# I want a dict{'name': 'hero'} for each name, hero in zip(names, heros)\n",
    "my_dict = {}\n",
    "\n",
    "for name, hero in zip(names, heros):\n",
    "    my_dict[name] = hero\n",
    "print(my_dict)"
   ]
  },
  {
   "cell_type": "code",
   "execution_count": 7,
   "metadata": {},
   "outputs": [
    {
     "name": "stdout",
     "output_type": "stream",
     "text": [
      "[0, 2, 4, 6, 8]\n"
     ]
    }
   ],
   "source": [
    "# example with no list comprehension\n",
    "values = []\n",
    "\n",
    "for x in range(5):\n",
    "    values.append(x * 2)\n",
    "print(values)"
   ]
  },
  {
   "cell_type": "code",
   "execution_count": 26,
   "metadata": {
    "tags": []
   },
   "outputs": [
    {
     "output_type": "stream",
     "name": "stdout",
     "text": "[0, 2, 4, 6, 8]\n"
    }
   ],
   "source": [
    "# this is the same as the lines above with comprehension\n",
    "values = [x * 2 for x in range(5)] \n",
    "print(values)"
   ]
  }
 ],
 "metadata": {
  "kernelspec": {
   "display_name": "Python 3",
   "language": "python",
   "name": "python3"
  },
  "language_info": {
   "codemirror_mode": {
    "name": "ipython",
    "version": 3
   },
   "file_extension": ".py",
   "mimetype": "text/x-python",
   "name": "python",
   "nbconvert_exporter": "python",
   "pygments_lexer": "ipython3",
   "version": "3.8.2"
  }
 },
 "nbformat": 4,
 "nbformat_minor": 2
}