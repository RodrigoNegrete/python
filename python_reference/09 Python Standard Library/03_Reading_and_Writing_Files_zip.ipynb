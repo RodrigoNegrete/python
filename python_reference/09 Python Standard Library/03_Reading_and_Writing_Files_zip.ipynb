{
 "cells": [
  {
   "cell_type": "markdown",
   "metadata": {},
   "source": [
    "# Reading and Writing Files\n"
   ]
  },
  {
   "cell_type": "markdown",
   "metadata": {},
   "source": [
    "## zip files"
   ]
  },
  {
   "cell_type": "code",
   "execution_count": null,
   "metadata": {},
   "outputs": [],
   "source": [
    "## Working with files\n",
    "from pathlib import Path\n",
    "from time import ctime\n",
    "import shutil\n",
    "\n",
    "path = Path(\"ecommerce/__init__.py\")\n",
    "\n",
    "# path.unlink() # deletes the file or dir # permission problem\n",
    "path.stat() # returns statistics\n",
    "print(path.stat())\n",
    "\n",
    "print(ctime(path.stat().st_ctime)) # returns creation time\n",
    "\n",
    "# these methods dont need to open and closing files\n",
    "print(path.read_bytes()) # returns size\n",
    "print(path.read_text()) # returns text\n",
    "\n",
    "### copy files with path\n",
    "# not recommended\n",
    "source = Path(\"ecommerce/__init__.py\")\n",
    "target = Path() / \"__init__.py\"\n",
    "target.write_text(source.read_text())\n",
    "### copy files shutil\n",
    "# recommended\n",
    "shutil.copy(source, target)"
   ]
  },
  {
   "cell_type": "code",
   "execution_count": null,
   "metadata": {},
   "outputs": [],
   "source": [
    "## Working with zip files\n",
    "from pathlib import Path\n",
    "from zipfile import ZipFile\n",
    "\n",
    "### create zip and ad files\n",
    "with ZipFile(\"files.zip\", \"w\") as zip:# use w to create writable archive\n",
    "    for path in Path(\"ecommerce\").rglob(\"*.*\"): # search recursively on path\n",
    "        zip.write(path)\n",
    "\n",
    "### read file details on zip\n",
    "with ZipFile(\"files.zip\") as zip:\n",
    "    print(zip.namelist()) # read file names\n",
    "    info = zip.getinfo(\"ecommerce/__init__.py\") # get info on the file\n",
    "    print(info.file_size)\n",
    "    print(info.compress_size)\n",
    "    zip.extractall(\"extract\") # extracts all files to the folder specified"
   ]
  },
  {
   "cell_type": "markdown",
   "metadata": {},
   "source": [
    "### Reading ZIP Files"
   ]
  },
  {
   "cell_type": "code",
   "execution_count": null,
   "metadata": {},
   "outputs": [],
   "source": [
    "import zipfile, os\n",
    "\n",
    "os.chdir('C:\\\\')    # move to the folder with example.zip\n",
    "with zipfile.ZipFile('example.zip') as example_zip:\n",
    "    print(example_zip.namelist())\n",
    "    spam_info = example_zip.getinfo('spam.txt')\n",
    "    print(spam_info.file_size)\n",
    "    print(spam_info.compress_size)\n",
    "    print('Compressed file is %sx smaller!' % (round(spam_info.file_size / spam_info.compress_size, 2)))"
   ]
  },
  {
   "cell_type": "markdown",
   "metadata": {},
   "source": [
    "### Extracting from ZIP Files\n",
    "\n",
    "The extractall() method for ZipFile objects extracts all the files and folders from a ZIP file into the current working directory."
   ]
  },
  {
   "cell_type": "code",
   "execution_count": null,
   "metadata": {},
   "outputs": [],
   "source": [
    "import zipfile, os\n",
    "\n",
    "os.chdir('C:\\\\')    # move to the folder with example.zip\n",
    "\n",
    "with zipfile.ZipFile('example.zip') as example_zip:\n",
    "    example_zip.extractall()"
   ]
  },
  {
   "cell_type": "markdown",
   "metadata": {},
   "source": [
    "The extract() method for ZipFile objects will extract a single file from the ZIP file. Continue the interactive shell example:"
   ]
  },
  {
   "cell_type": "code",
   "execution_count": null,
   "metadata": {},
   "outputs": [],
   "source": [
    "with zipfile.ZipFile('example.zip') as example_zip:\n",
    "    print(example_zip.extract('spam.txt'))\n",
    "    print(example_zip.extract('spam.txt', 'C:\\\\some\\\\new\\\\folders'))"
   ]
  },
  {
   "cell_type": "markdown",
   "metadata": {},
   "source": [
    "### Creating and Adding to ZIP Files"
   ]
  },
  {
   "cell_type": "code",
   "execution_count": null,
   "metadata": {},
   "outputs": [],
   "source": [
    "import zipfile\n",
    "\n",
    "with zipfile.ZipFile('new.zip', 'w') as new_zip:\n",
    "    new_zip.write('spam.txt', compress_type=zipfile.ZIP_DEFLATED)"
   ]
  },
  {
   "cell_type": "markdown",
   "metadata": {},
   "source": [
    "This code will create a new ZIP file named new.zip that has the compressed contents of spam.txt."
   ]
  }
 ],
 "metadata": {
  "kernelspec": {
   "display_name": "Python 3",
   "language": "python",
   "name": "python3"
  },
  "language_info": {
   "codemirror_mode": {
    "name": "ipython",
    "version": 3
   },
   "file_extension": ".py",
   "mimetype": "text/x-python",
   "name": "python",
   "nbconvert_exporter": "python",
   "pygments_lexer": "ipython3",
   "version": "3.8.4"
  }
 },
 "nbformat": 4,
 "nbformat_minor": 2
}
