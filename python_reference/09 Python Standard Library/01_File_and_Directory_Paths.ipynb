{
 "cells": [
  {
   "cell_type": "markdown",
   "metadata": {},
   "source": [
    "#  Handling File and Directory Paths\n",
    "\n",
    "There are two main modules in Python that deals with path manipulation.\n",
    "One is the `os.path` module and the other is the `pathlib` module.\n",
    "The `pathlib` module was added in Python 3.4, offering an object-oriented way\n",
    "to handle file system paths.\n",
    "\n",
    "### Backslash on Windows and Forward Slash on OS X and Linux\n",
    "\n",
    "On Windows, paths are written using backslashes (\\) as the separator between\n",
    "folder names. On Unix based operating system such as macOS, Linux, and BSDs,\n",
    "the forward slash (/) is used as the path separator. Joining paths can be\n",
    "a headache if your code needs to work on different platforms.\n",
    "\n",
    "Fortunately, Python provides easy ways to handle this. We will showcase\n",
    "how to deal with this with both `os.path.join` and `pathlib.Path.joinpath`\n",
    "\n",
    "Using `os.path.join` on Windows:"
   ]
  },
  {
   "cell_type": "code",
   "execution_count": null,
   "metadata": {},
   "outputs": [],
   "source": [
    "## Paths\n",
    "# google pathlib to see options\n",
    "from pathlib import Path\n",
    "\n",
    "### Windows\n",
    "# Path(\"C:\\\\Program Files\\\\Microsoft\") # you need double \\\\ for windows paths\n",
    "Path(r\"C:\\Program Files\\Microsoft\") # create a raw string as an alternative\n",
    "\n",
    "### Linux\n",
    "Path('/usr/local')\n",
    "\n",
    "### Current Folder\n",
    "Path()\n",
    "\n",
    "### Subfolder\n",
    "Path(\"ecommerce/__init__.py\") # assuming you have a ecommerce subfolder in the working directory\n",
    "\n",
    "### Combine paths\n",
    "# option 1\n",
    "Path() / Path(\"ecommerce\") \n",
    "# Option 2\n",
    "Path() / \"ecommerce\" / \"__init__.py\" # working with srtings\n",
    "\n",
    "### Home directory\n",
    "Path.home()"
   ]
  },
  {
   "cell_type": "code",
   "execution_count": null,
   "metadata": {},
   "outputs": [],
   "source": [
    "## Paths\n",
    "from pathlib import Path\n",
    "\n",
    "path = Path(\"ecommerce/__init__.py\")\n",
    "path.exists()\n",
    "path.is_file()\n",
    "path.is_dir()\n",
    "print(path.name) # returns name of file\n",
    "print(path.stem) # returns name of file with no extension\n",
    "print(path.suffix) # returns extension\n",
    "print(path.parent) # returns parent folder name\n",
    "\n",
    "path = path.with_name(\"file.txt\") # provides file name to the representation of the path\n",
    "print(path.absolute()) # returns absolute path\n",
    "\n",
    "path = path.with_suffix(\".csv\") # provides extension to the representation of the path\n",
    "print(path.absolute()) "
   ]
  },
  {
   "cell_type": "code",
   "execution_count": null,
   "metadata": {},
   "outputs": [],
   "source": [
    "import os\n",
    "\n",
    "os.path.join('usr', 'bin', 'spam')"
   ]
  },
  {
   "cell_type": "markdown",
   "metadata": {},
   "source": [
    "And using `pathlib` on \\*nix:"
   ]
  },
  {
   "cell_type": "code",
   "execution_count": null,
   "metadata": {},
   "outputs": [],
   "source": [
    "from pathlib import Path\n",
    "\n",
    "print(Path('usr').joinpath('bin').joinpath('spam'))"
   ]
  },
  {
   "cell_type": "markdown",
   "metadata": {},
   "source": [
    "`pathlib` also provides a shortcut to joinpath using the `/` operator:"
   ]
  },
  {
   "cell_type": "code",
   "execution_count": null,
   "metadata": {},
   "outputs": [],
   "source": [
    "from pathlib import Path\n",
    "\n",
    "print(Path('usr') / 'bin' / 'spam')"
   ]
  },
  {
   "cell_type": "markdown",
   "metadata": {},
   "source": [
    "Notice the path separator is different between Windows and Unix based operating\n",
    "system, that's why you want to use one of the above methods instead of\n",
    "adding strings together to join paths together.\n",
    "\n",
    "Joining paths is helpful if you need to create different file paths under\n",
    "the same directory.\n",
    "\n",
    "Using `os.path.join` on Windows:"
   ]
  },
  {
   "cell_type": "code",
   "execution_count": null,
   "metadata": {},
   "outputs": [],
   "source": [
    "my_files = ['accounts.txt', 'details.csv', 'invite.docx']\n",
    "\n",
    "for filename in my_files:\n",
    "    print(os.path.join('C:\\\\Users\\\\asweigart', filename))"
   ]
  },
  {
   "cell_type": "markdown",
   "metadata": {},
   "source": [
    "Using `pathlib` on \\*nix:"
   ]
  },
  {
   "cell_type": "code",
   "execution_count": null,
   "metadata": {},
   "outputs": [],
   "source": [
    "my_files = ['accounts.txt', 'details.csv', 'invite.docx']\n",
    "home = Path.home()\n",
    "for filename in my_files:\n",
    "    print(home / filename)"
   ]
  },
  {
   "cell_type": "code",
   "execution_count": null,
   "metadata": {},
   "outputs": [],
   "source": [
    "## Working with directories\n",
    "from pathlib import Path\n",
    "\n",
    "### self explanatory\n",
    "path = Path(\"ecommerce\")\n",
    "path.exists()\n",
    "# path.mkdir()\n",
    "# path.rmdir() # not recursive\n",
    "path.rename(\"ecommerce2\")\n",
    "path = Path(\"ecommerce2\")\n",
    "path.rename(\"ecommerce\")\n",
    "path = Path(\"ecommerce\")\n",
    "\n",
    "### other \n",
    "print(path.iterdir()) # returns an iterable object\n",
    "# returns list of files and directories\n",
    "for p in path.iterdir():\n",
    "    print(p)\n",
    "\n",
    "# get array of path objects using comprehensions\n",
    "# posix is unixlike\n",
    "# limitation is not recursive\n",
    "# limitation cant search by pattern\n",
    "paths = [p for p in path.iterdir()]\n",
    "print(paths)\n",
    "# get only directories\n",
    "paths = [p for p in path.iterdir() if p.is_dir()]\n",
    "print(paths)\n",
    "# get only files\n",
    "paths = [p for p in path.iterdir() if p.is_file()]\n",
    "print(paths)\n",
    "\n",
    "# get array of path objects using glob\n",
    "# not recursive\n",
    "paths = [p for p in path.iterdir() if p.is_file()] # filter for only files\n",
    "py_files = [p for p in path.glob(\"*.py\")] # filter for py files\n",
    "print(py_files)\n",
    "# recursive\n",
    "paths = [p for p in path.iterdir() if p.is_file()] \n",
    "py_files = [p for p in path.rglob(\"*.py\")] # rglob allow recursive\n",
    "print(py_files)"
   ]
  },
  {
   "cell_type": "markdown",
   "metadata": {},
   "source": [
    "### The Current Working Directory\n",
    "\n",
    "Using `os` on Windows:"
   ]
  },
  {
   "cell_type": "code",
   "execution_count": null,
   "metadata": {},
   "outputs": [],
   "source": [
    "import os\n",
    "\n",
    "os.getcwd()"
   ]
  },
  {
   "cell_type": "code",
   "execution_count": null,
   "metadata": {},
   "outputs": [],
   "source": [
    "os.chdir('C:\\\\Windows\\\\System32')\n",
    "os.getcwd()"
   ]
  },
  {
   "cell_type": "markdown",
   "metadata": {},
   "source": [
    "Using `pathlib` on \\*nix:"
   ]
  },
  {
   "cell_type": "code",
   "execution_count": null,
   "metadata": {},
   "outputs": [],
   "source": [
    "from pathlib import Path\n",
    "from os import chdir\n",
    "\n",
    "print(Path.cwd())"
   ]
  },
  {
   "cell_type": "code",
   "execution_count": null,
   "metadata": {},
   "outputs": [],
   "source": [
    "chdir('/usr/lib/python3.6')\n",
    "print(Path.cwd())"
   ]
  },
  {
   "cell_type": "markdown",
   "metadata": {},
   "source": [
    "### Creating New Folders\n",
    "\n",
    "Using `os` on Windows:"
   ]
  },
  {
   "cell_type": "code",
   "execution_count": null,
   "metadata": {},
   "outputs": [],
   "source": [
    "import os\n",
    "\n",
    "os.makedirs('C:\\\\delicious\\\\walnut\\\\waffles')"
   ]
  },
  {
   "cell_type": "markdown",
   "metadata": {},
   "source": [
    "Using `pathlib` on \\*nix:"
   ]
  },
  {
   "cell_type": "code",
   "execution_count": null,
   "metadata": {},
   "outputs": [],
   "source": [
    "from pathlib import Path\n",
    "cwd = Path.cwd()\n",
    "(cwd / 'delicious' / 'walnut' / 'waffles').mkdir()"
   ]
  },
  {
   "cell_type": "markdown",
   "metadata": {},
   "source": [
    "Oh no, we got a nasty error! The reason is that the 'delicious' directory does\n",
    "not exist, so we cannot make the 'walnut' and the 'waffles' directories under\n",
    "it. To fix this, do:"
   ]
  },
  {
   "cell_type": "code",
   "execution_count": null,
   "metadata": {},
   "outputs": [],
   "source": [
    "from pathlib import Path\n",
    "cwd = Path.cwd()\n",
    "(cwd / 'delicious' / 'walnut' / 'waffles').mkdir(parents=True)"
   ]
  },
  {
   "cell_type": "markdown",
   "metadata": {},
   "source": [
    "And all is good :)\n",
    "\n",
    "### Absolute vs. Relative Paths\n",
    "\n",
    "There are two ways to specify a file path.\n",
    "\n",
    "- An absolute path, which always begins with the root folder\n",
    "- A relative path, which is relative to the program’s current working directory\n",
    "\n",
    "There are also the dot (.) and dot-dot (..) folders. These are not real folders but special names that can be used in a path. A single period (“dot”) for a folder name is shorthand for “this directory.” Two periods (“dot-dot”) means “the parent folder.”\n",
    "\n",
    "### Handling Absolute and Relative Paths\n",
    "\n",
    "To see if a path is an absolute path:\n",
    "\n",
    "Using `os.path` on \\*nix:"
   ]
  },
  {
   "cell_type": "code",
   "execution_count": null,
   "metadata": {},
   "outputs": [],
   "source": [
    "import os\n",
    "\n",
    "os.path.isabs('/')"
   ]
  },
  {
   "cell_type": "code",
   "execution_count": null,
   "metadata": {},
   "outputs": [],
   "source": [
    "os.path.isabs('..')"
   ]
  },
  {
   "cell_type": "markdown",
   "metadata": {},
   "source": [
    "Using `pathlib` on \\*nix:"
   ]
  },
  {
   "cell_type": "code",
   "execution_count": null,
   "metadata": {},
   "outputs": [],
   "source": [
    "from pathlib import Path\n",
    "Path('/').is_absolute()"
   ]
  },
  {
   "cell_type": "code",
   "execution_count": null,
   "metadata": {},
   "outputs": [],
   "source": [
    "Path('..').is_absolute()"
   ]
  },
  {
   "cell_type": "markdown",
   "metadata": {},
   "source": [
    "You can extract an absolute path with both `os.path` and `pathlib`\n",
    "\n",
    "Using `os.path` on \\*nix:"
   ]
  },
  {
   "cell_type": "code",
   "execution_count": null,
   "metadata": {},
   "outputs": [],
   "source": [
    "import os\n",
    "\n",
    "os.getcwd()"
   ]
  },
  {
   "cell_type": "code",
   "execution_count": null,
   "metadata": {},
   "outputs": [],
   "source": [
    "os.path.abspath('..')"
   ]
  },
  {
   "cell_type": "markdown",
   "metadata": {},
   "source": [
    "Using `pathlib` on \\*nix:"
   ]
  },
  {
   "cell_type": "code",
   "execution_count": null,
   "metadata": {},
   "outputs": [],
   "source": [
    "from pathlib import Path\n",
    "\n",
    "print(Path.cwd())"
   ]
  },
  {
   "cell_type": "code",
   "execution_count": null,
   "metadata": {},
   "outputs": [],
   "source": [
    "print(Path('..').resolve())"
   ]
  },
  {
   "cell_type": "markdown",
   "metadata": {},
   "source": [
    "You can get a relative path from a starting path to another path.\n",
    "\n",
    "Using `os.path` on \\*nix:"
   ]
  },
  {
   "cell_type": "code",
   "execution_count": null,
   "metadata": {},
   "outputs": [],
   "source": [
    "import os\n",
    "\n",
    "os.path.relpath('/etc/passwd', '/')"
   ]
  },
  {
   "cell_type": "markdown",
   "metadata": {},
   "source": [
    "Using `pathlib` on \\*nix:"
   ]
  },
  {
   "cell_type": "code",
   "execution_count": null,
   "metadata": {},
   "outputs": [],
   "source": [
    "from pathlib import Path\n",
    "\n",
    "print(Path('/etc/passwd').relative_to('/'))"
   ]
  },
  {
   "cell_type": "markdown",
   "metadata": {},
   "source": [
    "### Checking Path Validity\n",
    "\n",
    "Checking if a file/directory exists:\n",
    "\n",
    "Using `os.path` on \\*nix:"
   ]
  },
  {
   "cell_type": "code",
   "execution_count": null,
   "metadata": {},
   "outputs": [],
   "source": [
    "import os\n",
    "os.path.exists('.')"
   ]
  },
  {
   "cell_type": "code",
   "execution_count": null,
   "metadata": {},
   "outputs": [],
   "source": [
    "os.path.exists('setup.py')"
   ]
  },
  {
   "cell_type": "code",
   "execution_count": null,
   "metadata": {},
   "outputs": [],
   "source": [
    "os.path.exists('/etc')"
   ]
  },
  {
   "cell_type": "code",
   "execution_count": null,
   "metadata": {},
   "outputs": [],
   "source": [
    "os.path.exists('nonexistentfile')"
   ]
  },
  {
   "cell_type": "markdown",
   "metadata": {},
   "source": [
    "Using `pathlib` on \\*nix:"
   ]
  },
  {
   "cell_type": "code",
   "execution_count": null,
   "metadata": {},
   "outputs": [],
   "source": [
    "from pathlib import Path\n",
    "Path('.').exists()"
   ]
  },
  {
   "cell_type": "code",
   "execution_count": null,
   "metadata": {},
   "outputs": [],
   "source": [
    "Path('setup.py').exists()"
   ]
  },
  {
   "cell_type": "code",
   "execution_count": null,
   "metadata": {},
   "outputs": [],
   "source": [
    "Path('/etc').exists()"
   ]
  },
  {
   "cell_type": "code",
   "execution_count": null,
   "metadata": {},
   "outputs": [],
   "source": [
    "Path('nonexistentfile').exists()"
   ]
  },
  {
   "cell_type": "markdown",
   "metadata": {},
   "source": [
    "Checking if a path is a file:\n",
    "\n",
    "Using `os.path` on \\*nix:"
   ]
  },
  {
   "cell_type": "code",
   "execution_count": null,
   "metadata": {},
   "outputs": [],
   "source": [
    "import os\n",
    "os.path.isfile('setup.py')"
   ]
  },
  {
   "cell_type": "code",
   "execution_count": null,
   "metadata": {},
   "outputs": [],
   "source": [
    "os.path.isfile('/home')"
   ]
  },
  {
   "cell_type": "code",
   "execution_count": null,
   "metadata": {},
   "outputs": [],
   "source": [
    "os.path.isfile('nonexistentfile')"
   ]
  },
  {
   "cell_type": "markdown",
   "metadata": {},
   "source": [
    "Using `pathlib` on \\*nix:"
   ]
  },
  {
   "cell_type": "code",
   "execution_count": null,
   "metadata": {},
   "outputs": [],
   "source": [
    "from pathlib import Path\n",
    "\n",
    "Path('setup.py').is_file()"
   ]
  },
  {
   "cell_type": "code",
   "execution_count": null,
   "metadata": {},
   "outputs": [],
   "source": [
    "Path('/home').is_file()"
   ]
  },
  {
   "cell_type": "code",
   "execution_count": null,
   "metadata": {},
   "outputs": [],
   "source": [
    "Path('nonexistentfile').is_file()"
   ]
  },
  {
   "cell_type": "markdown",
   "metadata": {},
   "source": [
    "Checking if a path is a directory:\n",
    "\n",
    "Using `os.path` on \\*nix:"
   ]
  },
  {
   "cell_type": "code",
   "execution_count": null,
   "metadata": {},
   "outputs": [],
   "source": [
    "import os\n",
    "os.path.isdir('/')"
   ]
  },
  {
   "cell_type": "code",
   "execution_count": null,
   "metadata": {},
   "outputs": [],
   "source": [
    "os.path.isdir('setup.py')"
   ]
  },
  {
   "cell_type": "code",
   "execution_count": null,
   "metadata": {},
   "outputs": [],
   "source": [
    "os.path.isdir('/spam')"
   ]
  },
  {
   "cell_type": "markdown",
   "metadata": {},
   "source": [
    "Using `pathlib` on \\*nix:"
   ]
  },
  {
   "cell_type": "code",
   "execution_count": null,
   "metadata": {},
   "outputs": [],
   "source": [
    "from pathlib import Path\n",
    "\n",
    "Path('/').is_dir()"
   ]
  },
  {
   "cell_type": "code",
   "execution_count": null,
   "metadata": {},
   "outputs": [],
   "source": [
    "Path('setup.py').is_dir()"
   ]
  },
  {
   "cell_type": "code",
   "execution_count": null,
   "metadata": {},
   "outputs": [],
   "source": [
    "Path('/spam').is_dir()"
   ]
  },
  {
   "cell_type": "markdown",
   "metadata": {},
   "source": [
    "### Finding File Sizes and Folder Contents\n",
    "\n",
    "Getting a file's size in bytes:\n",
    "\n",
    "Using `os.path` on Windows:"
   ]
  },
  {
   "cell_type": "code",
   "execution_count": null,
   "metadata": {},
   "outputs": [],
   "source": [
    "import os\n",
    "os.path.getsize('C:\\\\Windows\\\\System32\\\\calc.exe')"
   ]
  },
  {
   "cell_type": "markdown",
   "metadata": {},
   "source": [
    "Using `pathlib` on \\*nix:"
   ]
  },
  {
   "cell_type": "code",
   "execution_count": null,
   "metadata": {},
   "outputs": [],
   "source": [
    "from pathlib import Path\n",
    "\n",
    "stat = Path('/bin/python3.6').stat()\n",
    "print(stat) # stat contains some other information about the file as well"
   ]
  },
  {
   "cell_type": "code",
   "execution_count": null,
   "metadata": {},
   "outputs": [],
   "source": [
    "print(stat.st_size) # size in bytes"
   ]
  },
  {
   "cell_type": "markdown",
   "metadata": {},
   "source": [
    "Listing directory contents using `os.listdir` on Windows:"
   ]
  },
  {
   "cell_type": "code",
   "execution_count": null,
   "metadata": {},
   "outputs": [],
   "source": [
    "import os\n",
    "os.listdir('C:\\\\Windows\\\\System32')"
   ]
  },
  {
   "cell_type": "markdown",
   "metadata": {},
   "source": [
    "Listing directory contents using `pathlib` on \\*nix:"
   ]
  },
  {
   "cell_type": "code",
   "execution_count": null,
   "metadata": {},
   "outputs": [],
   "source": [
    "from pathlib import Path\n",
    "\n",
    "for f in Path('/usr/bin').iterdir():\n",
    "    print(f)"
   ]
  },
  {
   "cell_type": "markdown",
   "metadata": {},
   "source": [
    "To find the total size of all the files in this directory:\n",
    "\n",
    "**WARNING**: Directories themselves also have a size! So you might want to\n",
    "check for whether a path is a file or directory using the methods in the methods discussed in the above section!\n",
    "\n",
    "Using `os.path.getsize()` and `os.listdir()` together on Windows:"
   ]
  },
  {
   "cell_type": "code",
   "execution_count": null,
   "metadata": {},
   "outputs": [],
   "source": [
    "import os\n",
    "\n",
    "total_size = 0\n",
    "\n",
    "for filename in os.listdir('C:\\\\Windows\\\\System32'):\n",
    "      total_size = total_size + os.path.getsize(os.path.join('C:\\\\Windows\\\\System32', filename))\n",
    "\n",
    "print(total_size)"
   ]
  },
  {
   "cell_type": "markdown",
   "metadata": {},
   "source": [
    "Using `pathlib` on \\*nix:"
   ]
  },
  {
   "cell_type": "code",
   "execution_count": null,
   "metadata": {},
   "outputs": [],
   "source": [
    "from pathlib import Path\n",
    "total_size = 0\n",
    "\n",
    "for sub_path in Path('/usr/bin').iterdir():\n",
    "    total_size += sub_path.stat().st_size\n",
    "\n",
    "print(total_size)"
   ]
  }
 ],
 "metadata": {
  "kernelspec": {
   "display_name": "Python 3",
   "language": "python",
   "name": "python3"
  },
  "language_info": {
   "codemirror_mode": {
    "name": "ipython",
    "version": 3
   },
   "file_extension": ".py",
   "mimetype": "text/x-python",
   "name": "python",
   "nbconvert_exporter": "python",
   "pygments_lexer": "ipython3",
   "version": "3.8.4"
  }
 },
 "nbformat": 4,
 "nbformat_minor": 2
}
