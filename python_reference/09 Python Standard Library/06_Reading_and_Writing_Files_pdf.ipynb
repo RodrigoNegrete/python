{
 "cells": [
  {
   "cell_type": "markdown",
   "metadata": {},
   "source": [
    "# Reading and Writing Files\n"
   ]
  },
  {
   "cell_type": "markdown",
   "metadata": {},
   "source": [
    "This code will create a new ZIP file named new.zip that has the compressed contents of spam.txt."
   ]
  },
  {
   "cell_type": "code",
   "execution_count": null,
   "metadata": {},
   "outputs": [],
   "source": [
    "## Working with PDFs\n",
    "import PyPDF2\n",
    "\n",
    "with open(\"first.pdf\", \"rb\") as file: # rb is read in binary\n",
    "    reader = PyPDF2.PdfFileReader(file)\n",
    "    print(reader.numPages)\n",
    "    page = reader.getPage(0)\n",
    "    page.rotateClockwise(90)\n",
    "    writer = PyPDF2.PdfFileWriter() # before this everything was in memory\n",
    "    writer.addPage(page)\n",
    "    with open(\"rotated.pdf\", \"wb\") as output:\n",
    "        writer.write(output)\n",
    "\n",
    "# add page adds a page at the end\n",
    "# insert requires an index\n",
    "# wb is write binary"
   ]
  },
  {
   "cell_type": "code",
   "execution_count": null,
   "metadata": {},
   "outputs": [],
   "source": [
    "## Combine pdf\n",
    "import PyPDF2\n",
    "\n",
    "merger = PyPDF2.PdfFileMerger()\n",
    "file_names = [\"first.pdf\", \"second.pdf\"]\n",
    "for file_name in file_names:\n",
    "    merger.append(file_name)\n",
    "merger.write(\"combined.pdf\")"
   ]
  },
  {
   "cell_type": "code",
   "execution_count": null,
   "metadata": {},
   "outputs": [],
   "source": []
  }
 ],
 "metadata": {
  "kernelspec": {
   "display_name": "Python 3",
   "language": "python",
   "name": "python3"
  },
  "language_info": {
   "codemirror_mode": {
    "name": "ipython",
    "version": 3
   },
   "file_extension": ".py",
   "mimetype": "text/x-python",
   "name": "python",
   "nbconvert_exporter": "python",
   "pygments_lexer": "ipython3",
   "version": "3.8.4"
  }
 },
 "nbformat": 4,
 "nbformat_minor": 2
}
