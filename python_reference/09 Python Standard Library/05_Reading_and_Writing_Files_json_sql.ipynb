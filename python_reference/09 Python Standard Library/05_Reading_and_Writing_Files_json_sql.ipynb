{
 "cells": [
  {
   "cell_type": "markdown",
   "metadata": {},
   "source": [
    "# Reading and Writing Files"
   ]
  },
  {
   "cell_type": "code",
   "execution_count": null,
   "metadata": {},
   "outputs": [],
   "source": [
    "## working with json files\n",
    "import json\n",
    "from pathlib import Path\n",
    "\n",
    "movies = [\n",
    "    {\"id\": 1, \"title\": \"terminator\", \"year\": 1989},\n",
    "    {\"id\": 2, \"title\": \"terminator 2\", \"year\": 1992},\n",
    "]\n",
    "\n",
    "# write json file\n",
    "data = json.dumps(movies) # dumps collects the data\n",
    "print(data)\n",
    "Path(\"movies.json\").write_text(data) # creates a file with the data\n",
    "\n",
    "# read json file\n",
    "read_data = Path(\"movies.json\").read_text() # creates a file with the data\n",
    "read_movies = json.loads(read_data) # get array of dictionaries\n",
    "print(read_data) \n",
    "\n",
    "print(read_movies[0]) # get item in the array\n",
    "print(read_movies[0] [\"title\"]) # get item in the array"
   ]
  },
  {
   "cell_type": "code",
   "execution_count": null,
   "metadata": {},
   "outputs": [],
   "source": [
    "## Working with sqlite\n",
    "### Creating databases and writing\n",
    "# google db browser for sqlite\n",
    "import sqlite3\n",
    "import json\n",
    "from pathlib import Path\n",
    "\n",
    "movies = json.loads(Path(\"movies.json\").read_text())\n",
    "\n",
    "with sqlite3.connect(\"db.sqlite3\") as conn:\n",
    "    command = \"INSERT INTO Movies VALUES(?, ?, ?)\" # assumes you already have a table called movies - values are the columns id, title, year\n",
    "    for movie in movies:\n",
    "        conn.execute(command, tuple(movie.values())) # the second argument provides the values\n",
    "    conn.commit() # writes the data\n",
    "\n",
    "# run the program to create db it will throw error but its ok\n",
    "# install sqlite3 browser\n",
    "# open created db\n",
    "# create table for Movies\n",
    "# Create fields to match id title year\n",
    "# id is integer mark PK for primary key\n",
    "# not means that it doesn't allow null values\n",
    "# write changes\n",
    "\n",
    "# run program again\n",
    "# browse data on sqlite"
   ]
  },
  {
   "cell_type": "code",
   "execution_count": null,
   "metadata": {},
   "outputs": [],
   "source": [
    "## Working with sqlite\n",
    "# read databases all rows\n",
    "import sqlite3\n",
    "import json\n",
    "from pathlib import Path\n",
    "\n",
    "with sqlite3.connect(\"db.sqlite3\") as conn:\n",
    "    command = \"SELECT * FROM Movies\" # assumes you already have a table called movies - values are the columns id, title, year\n",
    "    cursor = conn.execute(command) # you get a cursor which is iterable\n",
    "    fetched_movies = cursor.fetchall() # returns all the rows at once\n",
    "    print(fetched_movies) # you get a list of tuples"
   ]
  }
 ],
 "metadata": {
  "kernelspec": {
   "display_name": "Python 3",
   "language": "python",
   "name": "python3"
  },
  "language_info": {
   "codemirror_mode": {
    "name": "ipython",
    "version": 3
   },
   "file_extension": ".py",
   "mimetype": "text/x-python",
   "name": "python",
   "nbconvert_exporter": "python",
   "pygments_lexer": "ipython3",
   "version": "3.8.4"
  }
 },
 "nbformat": 4,
 "nbformat_minor": 2
}
