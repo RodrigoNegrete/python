{
 "cells": [
  {
   "cell_type": "markdown",
   "metadata": {},
   "source": [
    "# Working with datetime\n",
    "## time module"
   ]
  },
  {
   "cell_type": "code",
   "execution_count": 1,
   "metadata": {},
   "outputs": [],
   "source": [
    "import time"
   ]
  },
  {
   "cell_type": "code",
   "execution_count": 2,
   "metadata": {
    "tags": []
   },
   "outputs": [
    {
     "output_type": "stream",
     "name": "stdout",
     "text": "1595627955.46383\n"
    }
   ],
   "source": [
    "# print current time\n",
    "# counts seconds from the day linux starts counting time in the 1970s\n",
    "# creates a timestamp\n",
    "print(time.time())"
   ]
  },
  {
   "cell_type": "code",
   "execution_count": 5,
   "metadata": {
    "tags": []
   },
   "outputs": [
    {
     "output_type": "stream",
     "name": "stdout",
     "text": "0.24917054176330566\n"
    }
   ],
   "source": [
    "def send_emails():\n",
    "    for i in range(10000000):\n",
    "        pass\n",
    "\n",
    "start = time.time()\n",
    "send_emails()\n",
    "end = time.time()\n",
    "duration = end - start\n",
    "print(duration)"
   ]
  },
  {
   "cell_type": "markdown",
   "metadata": {},
   "source": [
    "## datetime"
   ]
  },
  {
   "cell_type": "code",
   "execution_count": 7,
   "metadata": {},
   "outputs": [],
   "source": [
    "import datetime"
   ]
  },
  {
   "cell_type": "code",
   "execution_count": 8,
   "metadata": {},
   "outputs": [
    {
     "output_type": "execute_result",
     "data": {
      "text/plain": "datetime.datetime(2018, 1, 1, 0, 0)"
     },
     "metadata": {},
     "execution_count": 8
    }
   ],
   "source": [
    "# year - month - date\n",
    "datetime.datetime(2018, 1, 1)"
   ]
  },
  {
   "cell_type": "code",
   "execution_count": 32,
   "metadata": {
    "tags": []
   },
   "outputs": [
    {
     "output_type": "stream",
     "name": "stdout",
     "text": "2018-01-01 00:00:00\n"
    }
   ],
   "source": [
    "## option 2\n",
    "# recommended\n",
    "from datetime import datetime\n",
    "\n",
    "dt = datetime(2018, 1, 1)\n",
    "print(dt)"
   ]
  },
  {
   "cell_type": "code",
   "execution_count": 12,
   "metadata": {},
   "outputs": [
    {
     "output_type": "execute_result",
     "data": {
      "text/plain": "datetime.datetime(2020, 7, 24, 17, 8, 55, 215557)"
     },
     "metadata": {},
     "execution_count": 12
    }
   ],
   "source": [
    "# now with method 2\n",
    "datetime.now()"
   ]
  },
  {
   "cell_type": "code",
   "execution_count": 30,
   "metadata": {
    "tags": []
   },
   "outputs": [
    {
     "output_type": "stream",
     "name": "stdout",
     "text": "2018-01-01 00:00:00\n"
    }
   ],
   "source": [
    "# convert string to datetime\n",
    "# datetime.strptime()\n",
    "# %Y 4 digit year\n",
    "# %m 2 digit month\n",
    "# %d 2 digit day\n",
    "# google strptime to see more directives\n",
    "dt = datetime.strptime(\"2018/01/01\", \"%Y/%m/%d\")\n",
    "print(dt)"
   ]
  },
  {
   "cell_type": "code",
   "execution_count": 17,
   "metadata": {
    "tags": []
   },
   "outputs": [
    {
     "output_type": "stream",
     "name": "stdout",
     "text": "2020-07-24 17:16:50.003297\n"
    }
   ],
   "source": [
    "# convert timestamp to date \n",
    "import time\n",
    "dt = datetime.fromtimestamp(time.time())\n",
    "print(dt)"
   ]
  },
  {
   "cell_type": "code",
   "execution_count": 18,
   "metadata": {
    "tags": []
   },
   "outputs": [
    {
     "output_type": "stream",
     "name": "stdout",
     "text": "2020/7\n"
    }
   ],
   "source": [
    "# separate months and days\n",
    "print(f\"{dt.year}/{dt.month}\")"
   ]
  },
  {
   "cell_type": "code",
   "execution_count": 19,
   "metadata": {},
   "outputs": [
    {
     "output_type": "execute_result",
     "data": {
      "text/plain": "'2020/07'"
     },
     "metadata": {},
     "execution_count": 19
    }
   ],
   "source": [
    "# convert datetime to string\n",
    "# strftime()\n",
    "dt.strftime(\"%Y/%m\")"
   ]
  },
  {
   "cell_type": "code",
   "execution_count": 20,
   "metadata": {
    "tags": []
   },
   "outputs": [
    {
     "output_type": "stream",
     "name": "stdout",
     "text": "True\n"
    }
   ],
   "source": [
    "# compare datetime objects\n",
    "dt1 = datetime(2018, 1, 1)\n",
    "dt2 = datetime.fromtimestamp(time.time())\n",
    "print(dt2 > dt1)"
   ]
  },
  {
   "cell_type": "markdown",
   "metadata": {},
   "source": [
    "## time deltas"
   ]
  },
  {
   "cell_type": "code",
   "execution_count": 21,
   "metadata": {
    "tags": []
   },
   "outputs": [
    {
     "output_type": "stream",
     "name": "stdout",
     "text": "935 days, 17:21:38.070937\n"
    }
   ],
   "source": [
    "from datetime import datetime, timedelta\n",
    "\n",
    "dt1 = datetime(2018, 1, 1)\n",
    "dt2 = datetime.fromtimestamp(time.time())\n",
    "\n",
    "duration = dt2 - dt1\n",
    "print(duration)"
   ]
  },
  {
   "cell_type": "code",
   "execution_count": 22,
   "metadata": {},
   "outputs": [
    {
     "output_type": "execute_result",
     "data": {
      "text/plain": "935"
     },
     "metadata": {},
     "execution_count": 22
    }
   ],
   "source": [
    "duration.days"
   ]
  },
  {
   "cell_type": "code",
   "execution_count": 24,
   "metadata": {},
   "outputs": [
    {
     "output_type": "execute_result",
     "data": {
      "text/plain": "62498"
     },
     "metadata": {},
     "execution_count": 24
    }
   ],
   "source": [
    "# seconds subtracts days and gives the actual day´s seconds\n",
    "duration.seconds"
   ]
  },
  {
   "cell_type": "code",
   "execution_count": 26,
   "metadata": {},
   "outputs": [
    {
     "output_type": "execute_result",
     "data": {
      "text/plain": "80846498.070937"
     },
     "metadata": {},
     "execution_count": 26
    }
   ],
   "source": [
    "# total secondas count from linux date start\n",
    "duration.total_seconds()"
   ]
  },
  {
   "cell_type": "code",
   "execution_count": 28,
   "metadata": {
    "tags": []
   },
   "outputs": [
    {
     "output_type": "stream",
     "name": "stdout",
     "text": "2018-01-02 00:00:00\n"
    }
   ],
   "source": [
    "# time delta\n",
    "# add one day\n",
    "dt1 = datetime(2018, 1, 1) + timedelta(1)\n",
    "print(dt1)"
   ]
  },
  {
   "cell_type": "code",
   "execution_count": 29,
   "metadata": {
    "tags": []
   },
   "outputs": [
    {
     "output_type": "stream",
     "name": "stdout",
     "text": "2018-01-02 00:01:40\n"
    }
   ],
   "source": [
    "# use kewords for clarity\n",
    "dt1 = datetime(2018, 1, 1) + timedelta(days=1, seconds=100)\n",
    "print(dt1)"
   ]
  },
  {
   "cell_type": "code",
   "execution_count": null,
   "metadata": {},
   "outputs": [],
   "source": []
  }
 ],
 "metadata": {
  "kernelspec": {
   "display_name": "Python 3.8.5 32-bit",
   "language": "python",
   "name": "python_defaultSpec_1595627133924"
  },
  "language_info": {
   "codemirror_mode": {
    "name": "ipython",
    "version": 3
   },
   "file_extension": ".py",
   "mimetype": "text/x-python",
   "name": "python",
   "nbconvert_exporter": "python",
   "pygments_lexer": "ipython3",
   "version": "3.8.4"
  }
 },
 "nbformat": 4,
 "nbformat_minor": 2
}