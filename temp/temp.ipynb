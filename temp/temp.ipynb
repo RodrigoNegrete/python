{
 "cells": [
  {
   "cell_type": "code",
   "execution_count": 3,
   "source": [
    "cliente = \"cliente\"\r\n",
    "name = \"NAME\"\r\n",
    "formatted_string = f\"{cliente} {name} \"\r\n",
    "print(formatted_string)"
   ],
   "outputs": [
    {
     "output_type": "stream",
     "name": "stdout",
     "text": [
      "cliente NAME \n"
     ]
    }
   ],
   "metadata": {}
  }
 ],
 "metadata": {
  "orig_nbformat": 4,
  "language_info": {
   "name": "python",
   "version": "3.9.5",
   "mimetype": "text/x-python",
   "codemirror_mode": {
    "name": "ipython",
    "version": 3
   },
   "pygments_lexer": "ipython3",
   "nbconvert_exporter": "python",
   "file_extension": ".py"
  },
  "kernelspec": {
   "name": "python3",
   "display_name": "Python 3.9.5 32-bit ('venv': venv)"
  },
  "interpreter": {
   "hash": "a67fe6c412f916882b910c131fcaa4251190ab13d1ca41434ed355df77b9abd3"
  }
 },
 "nbformat": 4,
 "nbformat_minor": 2
}