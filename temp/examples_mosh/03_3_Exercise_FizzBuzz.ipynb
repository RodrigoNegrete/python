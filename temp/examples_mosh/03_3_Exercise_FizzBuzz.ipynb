{
 "cells": [
  {
   "cell_type": "code",
   "execution_count": 1,
   "metadata": {
    "tags": []
   },
   "outputs": [
    {
     "output_type": "stream",
     "name": "stdout",
     "text": "1\nFizz\nBuzz\nFizzBuzz\n"
    }
   ],
   "source": [
    "def fizz_buzz(input):\n",
    "    if(input % 3 == 0) and (input % 5 == 0):\n",
    "        return \"FizzBuzz\"\n",
    "    if input % 3 == 0:\n",
    "        return \"Fizz\"\n",
    "    if input % 5 == 0:\n",
    "        return \"Buzz\"\n",
    "    return input\n",
    "\n",
    "print(fizz_buzz(1))\n",
    "print(fizz_buzz(3))\n",
    "print(fizz_buzz(5))\n",
    "print(fizz_buzz(15))"
   ]
  },
  {
   "cell_type": "code",
   "execution_count": null,
   "metadata": {},
   "outputs": [],
   "source": []
  }
 ],
 "metadata": {
  "language_info": {
   "codemirror_mode": {
    "name": "ipython",
    "version": 3
   },
   "file_extension": ".py",
   "mimetype": "text/x-python",
   "name": "python",
   "nbconvert_exporter": "python",
   "pygments_lexer": "ipython3",
   "version": 3
  },
  "orig_nbformat": 2,
  "kernelspec": {
   "name": "python_defaultSpec_1594777227491",
   "display_name": "Python 3.8.2 64-bit"
  }
 },
 "nbformat": 4,
 "nbformat_minor": 2
}