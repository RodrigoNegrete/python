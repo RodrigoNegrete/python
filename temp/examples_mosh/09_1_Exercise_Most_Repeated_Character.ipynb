{
 "cells": [
  {
   "cell_type": "code",
   "execution_count": null,
   "metadata": {},
   "outputs": [],
   "source": [
    "# Excersice\n",
    "- find the character that repeats the most\n",
    "- dictionaries can store key value pairs.\n",
    "- letters can be keys and values the number of repetitions"
   ]
  },
  {
   "cell_type": "code",
   "execution_count": 1,
   "metadata": {},
   "outputs": [
    {
     "name": "stdout",
     "output_type": "stream",
     "text": [
      "{'T': 1, 'h': 1, 'i': 5, 's': 3, ' ': 5, 'a': 1, 'c': 1, 'o': 3, 'm': 2, 'n': 3, 't': 2, 'e': 3, 'r': 1, 'v': 1, 'w': 1, 'q': 1, 'u': 1}\n"
     ]
    }
   ],
   "source": [
    "sentence = \"This is a common interview question\"\n",
    "\n",
    "char_frequency = {}\n",
    "for char in sentence:\n",
    "    if char in char_frequency:\n",
    "        char_frequency[char] += 1 # if you find the character get the actual value and add 1\n",
    "    else:\n",
    "        char_frequency[char] = 1 # if you can't find it, create a new key\n",
    "\n",
    "print(char_frequency)"
   ]
  },
  {
   "cell_type": "code",
   "execution_count": 2,
   "metadata": {},
   "outputs": [
    {
     "name": "stdout",
     "output_type": "stream",
     "text": [
      "{' ': 5,\n",
      " 'T': 1,\n",
      " 'a': 1,\n",
      " 'c': 1,\n",
      " 'e': 3,\n",
      " 'h': 1,\n",
      " 'i': 5,\n",
      " 'm': 2,\n",
      " 'n': 3,\n",
      " 'o': 3,\n",
      " 'q': 1,\n",
      " 'r': 1,\n",
      " 's': 3,\n",
      " 't': 2,\n",
      " 'u': 1,\n",
      " 'v': 1,\n",
      " 'w': 1}\n"
     ]
    }
   ],
   "source": [
    "# make it readable\n",
    "# use pretty printing\n",
    "from pprint import pprint\n",
    "\n",
    "char_frequency = {}\n",
    "for char in sentence:\n",
    "    if char in char_frequency:\n",
    "        char_frequency[char] += 1 \n",
    "    else:\n",
    "        char_frequency[char] = 1 \n",
    "\n",
    "pprint(char_frequency, width=1) # onecharacter per line"
   ]
  },
  {
   "cell_type": "code",
   "execution_count": 3,
   "metadata": {},
   "outputs": [
    {
     "name": "stdout",
     "output_type": "stream",
     "text": [
      "('i', 5)\n"
     ]
    }
   ],
   "source": [
    "# only lists can be sorted\n",
    "# you need to make touples and then convert touples into lists\n",
    "char_frequency = {}\n",
    "for char in sentence:\n",
    "    if char in char_frequency:\n",
    "        char_frequency[char] += 1 \n",
    "    else:\n",
    "        char_frequency[char] = 1 \n",
    "\n",
    "char_frequency_sorted = sorted(char_frequency.items(), key=lambda kv: kv[1], reverse=True)\n",
    "print(char_frequency_sorted[0]) # the first item is the solution"
   ]
  },
  {
   "cell_type": "code",
   "execution_count": null,
   "metadata": {},
   "outputs": [],
   "source": []
  }
 ],
 "metadata": {
  "kernelspec": {
   "display_name": "Python 3",
   "language": "python",
   "name": "python3"
  },
  "language_info": {
   "codemirror_mode": {
    "name": "ipython",
    "version": 3
   },
   "file_extension": ".py",
   "mimetype": "text/x-python",
   "name": "python",
   "nbconvert_exporter": "python",
   "pygments_lexer": "ipython3",
   "version": "3.8.2"
  }
 },
 "nbformat": 4,
 "nbformat_minor": 4
}
