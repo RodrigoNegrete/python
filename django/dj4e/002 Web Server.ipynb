{
 "cells": [
  {
   "cell_type": "code",
   "execution_count": 1,
   "source": [
    "from socket import *\r\n",
    "\r\n",
    "def createServer():\r\n",
    "    serversocket = socket(AF_INET, SOCK_STREAM)\r\n",
    "    try :\r\n",
    "        serversocket.bind(('localhost',9000))\r\n",
    "        serversocket.listen(5)\r\n",
    "        while(1):\r\n",
    "            (clientsocket, address) = serversocket.accept()\r\n",
    "\r\n",
    "            rd = clientsocket.recv(5000).decode()\r\n",
    "            pieces = rd.split(\"\\n\")\r\n",
    "            if ( len(pieces) > 0 ) : print(pieces[0])\r\n",
    "\r\n",
    "            data = \"HTTP/1.1 200 OK\\r\\n\"\r\n",
    "            data += \"Content-Type: text/html; charset=utf-8\\r\\n\"\r\n",
    "            data += \"\\r\\n\"\r\n",
    "            data += \"<html><body>Hello World</body></html>\\r\\n\\r\\n\"\r\n",
    "            clientsocket.sendall(data.encode())\r\n",
    "            clientsocket.shutdown(SHUT_WR)\r\n",
    "\r\n",
    "    except KeyboardInterrupt :\r\n",
    "        print(\"\\nShutting down...\\n\");\r\n",
    "    except Exception as exc :\r\n",
    "        print(\"Error:\\n\");\r\n",
    "        print(exc)\r\n",
    "\r\n",
    "    serversocket.close()\r\n",
    "\r\n",
    "print('Access http://localhost:9000')\r\n",
    "createServer()"
   ],
   "outputs": [
    {
     "output_type": "stream",
     "name": "stdout",
     "text": [
      "Access http://localhost:9000\n"
     ]
    }
   ],
   "metadata": {}
  }
 ],
 "metadata": {
  "orig_nbformat": 4,
  "language_info": {
   "name": "python",
   "version": "3.9.5",
   "mimetype": "text/x-python",
   "codemirror_mode": {
    "name": "ipython",
    "version": 3
   },
   "pygments_lexer": "ipython3",
   "nbconvert_exporter": "python",
   "file_extension": ".py"
  },
  "kernelspec": {
   "name": "python3",
   "display_name": "Python 3.9.5 32-bit ('venv': venv)"
  },
  "interpreter": {
   "hash": "1bcdaed21db24c966e11f32bce4596af70ae696510708b2c261ff414536c8318"
  }
 },
 "nbformat": 4,
 "nbformat_minor": 2
}