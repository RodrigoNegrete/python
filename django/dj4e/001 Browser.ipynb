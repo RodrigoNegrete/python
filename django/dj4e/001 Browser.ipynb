{
 "cells": [
  {
   "cell_type": "code",
   "execution_count": 1,
   "source": [
    "import socket\r\n",
    "  \r\n",
    "mysock = socket.socket(socket.AF_INET, socket.SOCK_STREAM)\r\n",
    "mysock.connect(('data.pr4e.org', 80))\r\n",
    "cmd = 'GET http://data.pr4e.org/page1.htm HTTP/1.0\\r\\n\\r\\n'.encode()\r\n",
    "mysock.send(cmd)\r\n",
    "\r\n",
    "while True:\r\n",
    "    data = mysock.recv(512)\r\n",
    "    if len(data) < 1:\r\n",
    "        break\r\n",
    "    print(data.decode(),end='')\r\n",
    "\r\n",
    "mysock.close()"
   ],
   "outputs": [
    {
     "output_type": "stream",
     "name": "stdout",
     "text": [
      "HTTP/1.1 200 OK\n",
      "Date: Thu, 23 Sep 2021 18:40:16 GMT\n",
      "Server: Apache/2.4.18 (Ubuntu)\n",
      "Last-Modified: Mon, 15 May 2017 11:11:47 GMT\n",
      "ETag: \"80-54f8e1f004857\"\n",
      "Accept-Ranges: bytes\n",
      "Content-Length: 128\n",
      "Cache-Control: max-age=0, no-cache, no-store, must-revalidate\n",
      "Pragma: no-cache\n",
      "Expires: Wed, 11 Jan 1984 05:00:00 GMT\n",
      "Connection: close\n",
      "Content-Type: text/html\n",
      "\n",
      "<h1>The First Page</h1>\n",
      "<p>\n",
      "If you like, you can switch to the \n",
      "<a href=\"http://data.pr4e.org/page2.htm\">\n",
      "Second Page</a>.\n",
      "</p>\n"
     ]
    }
   ],
   "metadata": {}
  }
 ],
 "metadata": {
  "orig_nbformat": 4,
  "language_info": {
   "name": "python",
   "version": "3.9.5",
   "mimetype": "text/x-python",
   "codemirror_mode": {
    "name": "ipython",
    "version": 3
   },
   "pygments_lexer": "ipython3",
   "nbconvert_exporter": "python",
   "file_extension": ".py"
  },
  "kernelspec": {
   "name": "python3",
   "display_name": "Python 3.9.5 32-bit ('venv': venv)"
  },
  "interpreter": {
   "hash": "1bcdaed21db24c966e11f32bce4596af70ae696510708b2c261ff414536c8318"
  }
 },
 "nbformat": 4,
 "nbformat_minor": 2
}