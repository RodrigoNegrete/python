{
 "cells": [
  {
   "cell_type": "code",
   "execution_count": null,
   "metadata": {},
   "outputs": [],
   "source": [
    "import json"
   ]
  },
  {
   "cell_type": "code",
   "execution_count": 6,
   "metadata": {},
   "outputs": [
    {
     "name": "stdout",
     "output_type": "stream",
     "text": [
      "[25, 36, 48, 54]\n"
     ]
    }
   ],
   "source": [
    "# Example 1: Convert python list to JSON\n",
    "numbers = [25, 36, 48, 54]\n",
    "json_numbers = json.dumps(numbers)\n",
    "print(json_numbers)"
   ]
  },
  {
   "cell_type": "code",
   "execution_count": 7,
   "metadata": {},
   "outputs": [
    {
     "name": "stdout",
     "output_type": "stream",
     "text": [
      "[\"Hadoop\", \"Spark\", \"Python\"]\n"
     ]
    }
   ],
   "source": [
    "# Example 2: Convert python  string type list to JSON\n",
    "technology = [\"Hadoop\", \"Spark\", \"Python\"]\n",
    "json_string = json.dumps(technology)\n",
    "print(json_string)"
   ]
  },
  {
   "cell_type": "code",
   "execution_count": 8,
   "metadata": {},
   "outputs": [
    {
     "name": "stdout",
     "output_type": "stream",
     "text": [
      "[{\"course\": \"python\", \"fee\": 4000}, {\"duration\": \"60days\", \"discount\": 1200}]\n"
     ]
    }
   ],
   "source": [
    "# Example 3: Convert list of dictionaries to JSON\n",
    "my_dict = [{'course':'python','fee':4000}, {'duration':'60days', 'discount':1200}]\n",
    "jsondict = json.dumps(my_dict)\n",
    "print(jsondict)"
   ]
  },
  {
   "cell_type": "code",
   "execution_count": 9,
   "metadata": {},
   "outputs": [
    {
     "name": "stdout",
     "output_type": "stream",
     "text": [
      "[[{\"course\": \"python\", \"fee\": 4000}], [{\"duration\": \"60days\", \"discount\": 1200}]]\n"
     ]
    }
   ],
   "source": [
    "# Example 4: Convert a list of lists to JSON\n",
    "List = [[{'course':'python','fee':4000}], [{'duration':'60days', 'discount':1200}]]\n",
    "jsonList = json.dumps(List)\n",
    "print(jsonList)"
   ]
  },
  {
   "cell_type": "code",
   "execution_count": 4,
   "metadata": {},
   "outputs": [
    {
     "name": "stdout",
     "output_type": "stream",
     "text": [
      "Original list:\n",
      " [[{'course': 'python', 'fee': 4000}], [{'duration': '60days', 'discount': 1200}]]\n",
      "<class 'list'>\n",
      "Convert list of lists to JSON:\n",
      " [[{\"course\": \"python\", \"fee\": 4000}], [{\"duration\": \"60days\", \"discount\": 1200}]]\n",
      "<class 'str'>\n"
     ]
    }
   ],
   "source": [
    "# Convert a List of Lists to JSON\n",
    "\n",
    "# Create a list of dictionaries\n",
    "List = [[{'course':'python','fee':4000}], [{'duration':'60days', 'discount':1200}]]\n",
    "print(\"Original list:\\n\",List)\n",
    "print(type(List))\n",
    "\n",
    "# Convert a list of lists to JSON\n",
    "jsonList = json.dumps(List)\n",
    "print(\"Convert list of lists to JSON:\\n\",jsonList)\n",
    "print(type(jsonList))"
   ]
  },
  {
   "cell_type": "code",
   "execution_count": 1,
   "metadata": {},
   "outputs": [
    {
     "name": "stdout",
     "output_type": "stream",
     "text": [
      "<class 'list'>\n",
      "[[\"1\", \"2\", \"3\"], [\"4\", \"5\", \"6\"], [\"7\", \"8\", \"9\"]]\n",
      "<class 'str'>\n"
     ]
    }
   ],
   "source": [
    "# Convert a List of Lists to JSON\n",
    "\n",
    "class ListOfListsEncoder(json.JSONEncoder):\n",
    "    def default(self, obj):\n",
    "        if isinstance(obj, list):\n",
    "            return obj\n",
    "        return json.JSONEncoder.default(self, obj)\n",
    "\n",
    "# List of lists\n",
    "data = [\n",
    "    [\"1\", \"2\", \"3\"],\n",
    "    [\"4\", \"5\", \"6\"],\n",
    "    [\"7\", \"8\", \"9\"]\n",
    "]\n",
    "\n",
    "print(type(data))\n",
    "\n",
    "# Convert into JSON using custom encoder\n",
    "json_output = json.dumps(data, cls=ListOfListsEncoder)\n",
    "\n",
    "print(json_output)\n",
    "print(type(json_output))"
   ]
  }
 ],
 "metadata": {
  "kernelspec": {
   "display_name": "Python 3",
   "language": "python",
   "name": "python3"
  },
  "language_info": {
   "codemirror_mode": {
    "name": "ipython",
    "version": 3
   },
   "file_extension": ".py",
   "mimetype": "text/x-python",
   "name": "python",
   "nbconvert_exporter": "python",
   "pygments_lexer": "ipython3",
   "version": "3.11.4"
  }
 },
 "nbformat": 4,
 "nbformat_minor": 2
}
