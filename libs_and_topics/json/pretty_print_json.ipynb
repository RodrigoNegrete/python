{
 "cells": [
  {
   "cell_type": "code",
   "execution_count": 1,
   "metadata": {},
   "outputs": [],
   "source": [
    "import json"
   ]
  },
  {
   "cell_type": "code",
   "execution_count": 2,
   "metadata": {},
   "outputs": [
    {
     "name": "stdout",
     "output_type": "stream",
     "text": [
      "[\n",
      "    {\n",
      "        \"studentid\": 1,\n",
      "        \"name\": \"ABC\",\n",
      "        \"subjects\": [\n",
      "            \"Python\",\n",
      "            \"Data Structures\"\n",
      "        ]\n",
      "    },\n",
      "    {\n",
      "        \"studentid\": 2,\n",
      "        \"name\": \"PQR\",\n",
      "        \"subjects\": [\n",
      "            \"Java\",\n",
      "            \"Operating System\"\n",
      "        ]\n",
      "    }\n",
      "]\n"
     ]
    }
   ],
   "source": [
    "# Pretty Print JSON String\n",
    "\n",
    "json_data = '[ {\"studentid\": 1, \"name\": \"ABC\", \\\n",
    "\"subjects\": [\"Python\", \"Data Structures\"]}, \\\n",
    "                {\"studentid\": 2, \"name\": \"PQR\",\\\n",
    "                \"subjects\": [\"Java\", \"Operating System\"]} ]'\n",
    "obj = json.loads(json_data)\n",
    "json_formatted_str = json.dumps(obj, indent=4)\n",
    "print(json_formatted_str)"
   ]
  },
  {
   "cell_type": "code",
   "execution_count": 3,
   "metadata": {},
   "outputs": [
    {
     "name": "stdout",
     "output_type": "stream",
     "text": [
      "[\n",
      "{\n",
      "\"studentid\": 1,\n",
      "\"name\": \"ABC\",\n",
      "\"subjects\": [\n",
      "\"Python\",\n",
      "\"Data Structures\"\n",
      "]\n",
      "},\n",
      "{\n",
      "\"studentid\": 2,\n",
      "\"name\": \"PQR\",\n",
      "\"subjects\": [\n",
      "\"Java\",\n",
      "\"Operating System\"\n",
      "]\n",
      "}\n",
      "]\n"
     ]
    }
   ],
   "source": [
    "# Pretty-Printed JSON data into a file with indent=0.\n",
    "\n",
    "json_data = '[ {\"studentid\": 1, \"name\": \"ABC\", \\\n",
    "    \"subjects\": [\"Python\", \"Data Structures\"]},\\\n",
    "    {\"studentid\": 2, \"name\": \"PQR\", \\\n",
    "    \"subjects\": [\"Java\", \"Operating System\"]} ]'\n",
    "obj = json.loads(json_data)\n",
    "json_formatted_str = json.dumps(obj, indent=0)\n",
    "print(json_formatted_str)"
   ]
  },
  {
   "cell_type": "code",
   "execution_count": 4,
   "metadata": {},
   "outputs": [],
   "source": [
    "# Write Pretty Print JSON data to file\n",
    " \n",
    "data = [{\"studentid\": 1, \"name\": \"ABC\", \n",
    "         \"subjects\": [\"Python\", \"Data Structures\"]},\n",
    "        {\"studentid\": 2, \"name\": \"PQR\", \n",
    "         \"subjects\": [\"Java\", \"Operating System\"]}]\n",
    " \n",
    "with open(\"filename.json\", \"w\") as write_file:\n",
    "    json.dump(data, write_file, indent=4)"
   ]
  },
  {
   "cell_type": "code",
   "execution_count": 5,
   "metadata": {},
   "outputs": [
    {
     "name": "stdout",
     "output_type": "stream",
     "text": [
      "[\n",
      "    {\n",
      "        \"studentid\": 1,\n",
      "        \"name\": \"ABC\",\n",
      "        \"subjects\": [\n",
      "            \"Python\",\n",
      "            \"Data Structures\"\n",
      "        ]\n",
      "    },\n",
      "    {\n",
      "        \"studentid\": 2,\n",
      "        \"name\": \"PQR\",\n",
      "        \"subjects\": [\n",
      "            \"Java\",\n",
      "            \"Operating System\"\n",
      "        ]\n",
      "    }\n",
      "]\n"
     ]
    }
   ],
   "source": [
    "# Reading JSON data and pretty print it\n",
    "\n",
    "with open(\"filename.json\", \"r\") as read_file:\n",
    "    \n",
    "    obj = json.load(read_file)\n",
    " \n",
    "    pretty_json = json.dumps(obj, indent=4)\n",
    "    print(pretty_json)"
   ]
  }
 ],
 "metadata": {
  "kernelspec": {
   "display_name": "Python 3",
   "language": "python",
   "name": "python3"
  },
  "language_info": {
   "codemirror_mode": {
    "name": "ipython",
    "version": 3
   },
   "file_extension": ".py",
   "mimetype": "text/x-python",
   "name": "python",
   "nbconvert_exporter": "python",
   "pygments_lexer": "ipython3",
   "version": "3.11.4"
  }
 },
 "nbformat": 4,
 "nbformat_minor": 2
}
