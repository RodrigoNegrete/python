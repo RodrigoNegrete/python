{
 "cells": [
  {
   "cell_type": "markdown",
   "metadata": {},
   "source": [
    "# itertools Module\n",
    "\n",
    "The _itertools_ module is a collection of tools intented to be fast and use memory efficiently when handling iterators (like [lists](#lists) or [dictionaries](#dictionaries-and-structuring-data)).\n",
    "\n",
    "From the official [Python 3.x documentation](https://docs.python.org/3/library/itertools.html):\n",
    "\n",
    "> The module standardizes a core set of fast, memory efficient tools that are useful by themselves or in combination. Together, they form an “iterator algebra” making it possible to construct specialized tools succinctly and efficiently in pure Python.\n",
    "\n",
    "The _itertools_ module comes in the standard library and must be imported.\n",
    "\n",
    "The [operator](https://docs.python.org/3/library/operator.html) module will also be used. This module is not necessary when using itertools, but needed for some of the examples below."
   ]
  },
  {
   "cell_type": "code",
   "execution_count": 3,
   "metadata": {},
   "outputs": [],
   "source": [
    "import itertools\n",
    "import operator"
   ]
  },
  {
   "cell_type": "markdown",
   "metadata": {},
   "source": [
    "### accumulate\n",
    "\n",
    "Makes an iterator that returns the results of a function."
   ]
  },
  {
   "cell_type": "markdown",
   "metadata": {},
   "source": [
    "Example:"
   ]
  },
  {
   "cell_type": "code",
   "execution_count": 26,
   "metadata": {
    "tags": []
   },
   "outputs": [
    {
     "output_type": "stream",
     "name": "stdout",
     "text": "1\n2\n6\n24\n120\n"
    }
   ],
   "source": [
    "data = [1, 2, 3, 4, 5]\n",
    "\n",
    "result = itertools.accumulate(data, operator.mul)\n",
    "\n",
    "for each in result:\n",
    "   print(each)"
   ]
  },
  {
   "cell_type": "markdown",
   "metadata": {},
   "source": [
    "The operator.mul takes two numbers and multiplies them:"
   ]
  },
  {
   "cell_type": "code",
   "execution_count": 27,
   "metadata": {},
   "outputs": [
    {
     "output_type": "execute_result",
     "data": {
      "text/plain": "2"
     },
     "metadata": {},
     "execution_count": 27
    }
   ],
   "source": [
    "operator.mul(1, 2)"
   ]
  },
  {
   "cell_type": "code",
   "execution_count": 28,
   "metadata": {},
   "outputs": [
    {
     "output_type": "execute_result",
     "data": {
      "text/plain": "6"
     },
     "metadata": {},
     "execution_count": 28
    }
   ],
   "source": [
    "operator.mul(2, 3)"
   ]
  },
  {
   "cell_type": "code",
   "execution_count": 29,
   "metadata": {},
   "outputs": [
    {
     "output_type": "execute_result",
     "data": {
      "text/plain": "24"
     },
     "metadata": {},
     "execution_count": 29
    }
   ],
   "source": [
    "operator.mul(6, 4)"
   ]
  },
  {
   "cell_type": "markdown",
   "metadata": {},
   "source": [
    "Passing a function is optional:"
   ]
  },
  {
   "cell_type": "code",
   "execution_count": 30,
   "metadata": {
    "tags": []
   },
   "outputs": [
    {
     "output_type": "stream",
     "name": "stdout",
     "text": "5\n7\n13\n17\n22\n31\n32\n"
    }
   ],
   "source": [
    "data = [5, 2, 6, 4, 5, 9, 1]\n",
    "\n",
    "result = itertools.accumulate(data)\n",
    "\n",
    "for each in result:\n",
    "   print(each)"
   ]
  },
  {
   "cell_type": "markdown",
   "metadata": {},
   "source": [
    "If no function is designated the items will be summed:"
   ]
  },
  {
   "cell_type": "markdown",
   "metadata": {},
   "source": [
    "### combinations\n",
    "\n",
    "Takes an iterable and a integer. This will create all the unique combination that have r members."
   ]
  },
  {
   "cell_type": "code",
   "execution_count": 2,
   "metadata": {},
   "outputs": [],
   "source": [
    "# syntax-> itertools.combinations(data, r)"
   ]
  },
  {
   "cell_type": "markdown",
   "metadata": {},
   "source": [
    "Example:"
   ]
  },
  {
   "cell_type": "code",
   "execution_count": 33,
   "metadata": {
    "tags": []
   },
   "outputs": [
    {
     "output_type": "stream",
     "name": "stdout",
     "text": "<itertools.combinations object at 0x065FAB18>\n"
    }
   ],
   "source": [
    "shapes = ['circle', 'triangle', 'square',]\n",
    "\n",
    "result = itertools.combinations(shapes, 2)\n",
    "\n",
    "print(result)"
   ]
  },
  {
   "cell_type": "code",
   "execution_count": 34,
   "metadata": {
    "tags": []
   },
   "outputs": [
    {
     "output_type": "stream",
     "name": "stdout",
     "text": "('circle', 'triangle')\n('circle', 'square')\n('triangle', 'square')\n"
    }
   ],
   "source": [
    "# extract items\n",
    "for each in result:\n",
    "   print(each)"
   ]
  },
  {
   "cell_type": "markdown",
   "metadata": {},
   "source": [
    "### combinations_with_replacement\n",
    "\n",
    "Just like combinations(), but allows individual elements to be repeated more than once."
   ]
  },
  {
   "cell_type": "code",
   "execution_count": 35,
   "metadata": {},
   "outputs": [],
   "source": [
    "# syntax - > itertools.combinations_with_replacement(iterable, r)"
   ]
  },
  {
   "cell_type": "markdown",
   "metadata": {},
   "source": [
    "Example:"
   ]
  },
  {
   "cell_type": "code",
   "execution_count": 14,
   "metadata": {
    "tags": []
   },
   "outputs": [
    {
     "output_type": "stream",
     "name": "stdout",
     "text": "('circle', 'circle')\n('circle', 'triangle')\n('circle', 'square')\n('triangle', 'triangle')\n('triangle', 'square')\n('square', 'square')\n"
    }
   ],
   "source": [
    "shapes = ['circle', 'triangle', 'square']\n",
    "\n",
    "result = itertools.combinations_with_replacement(shapes, 2)\n",
    "\n",
    "for each in result:\n",
    "   print(each)"
   ]
  },
  {
   "cell_type": "markdown",
   "metadata": {},
   "source": [
    "### count\n",
    "\n",
    "Makes an iterator that returns evenly spaced values starting with number start."
   ]
  },
  {
   "cell_type": "code",
   "execution_count": 37,
   "metadata": {},
   "outputs": [
    {
     "output_type": "execute_result",
     "data": {
      "text/plain": "count(0)"
     },
     "metadata": {},
     "execution_count": 37
    }
   ],
   "source": [
    "itertools.count(start=0, step=1)"
   ]
  },
  {
   "cell_type": "markdown",
   "metadata": {},
   "source": [
    "Example:"
   ]
  },
  {
   "cell_type": "code",
   "execution_count": 38,
   "metadata": {
    "tags": []
   },
   "outputs": [
    {
     "output_type": "stream",
     "name": "stdout",
     "text": "10\n13\n16\n19\n22\n"
    }
   ],
   "source": [
    "for i in itertools.count(10,3):\n",
    "   print(i)\n",
    "   if i > 20:\n",
    "       break"
   ]
  },
  {
   "cell_type": "markdown",
   "metadata": {},
   "source": [
    "### cycle\n",
    "\n",
    "This function cycles through an iterator endlessly.\n",
    "\n",
    "You need to stop the interpreter to stop execution\n",
    "\n",
    "When reached the end of the iterable it start over again from the beginning."
   ]
  },
  {
   "cell_type": "code",
   "execution_count": 39,
   "metadata": {},
   "outputs": [],
   "source": [
    "# syntax -> itertools.cycle(iterable)"
   ]
  },
  {
   "cell_type": "markdown",
   "metadata": {},
   "source": [
    "Example:"
   ]
  },
  {
   "cell_type": "code",
   "execution_count": 40,
   "metadata": {
    "tags": [
     "outputPrepend"
    ]
   },
   "outputs": [
    {
     "output_type": "stream",
     "name": "stdout",
     "text": "reen\nblue\nviolet\nred\norange\nyellow\ngreen\nblue\nviolet\nred\norange\nyellow\ngreen\nblue\nviolet\nred\norange\nyellow\ngreen\nblue\nviolet\nred\norange\nyellow\ngreen\nblue\nviolet\nred\norange\nyellow\ngreen\nblue\nviolet\nred\norange\nyellow\ngreen\nblue\nviolet\nred\norange\nyellow\ngreen\nblue\nviolet\nred\norange\nyellow\ngreen\nblue\nviolet\nred\norange\nyellow\ngreen\nblue\nviolet\nred\norange\nyellow\ngreen\nblue\nviolet\nred\norange\nyellow\ngreen\nblue\nviolet\nred\norange\nyellow\ngreen\nblue\nviolet\nred\norange\nyellow\ngreen\nblue\nviolet\nred\norange\nyellow\ngreen\nblue\nviolet\nred\norange\nyellow\ngreen\nblue\nviolet\nred\norange\nyellow\ngreen\nblue\nviolet\nred\norange\nyellow\ngreen\nblue\nviolet\nred\norange\nyellow\ngreen\nblue\nviolet\nred\norange\nyellow\ngreen\nblue\nviolet\nred\norange\nyellow\ngreen\nblue\nviolet\nred\norange\nyellow\ngreen\nblue\nviolet\nred\norange\nyellow\ngreen\nblue\nviolet\nred\norange\nyellow\ngreen\nblue\nviolet\nred\norange\nyellow\ngreen\nblue\nviolet\nred\norange\nyellow\ngreen\nblue\nviolet\nred\norange\nyellow\ngreen\nblue\nviolet\nred\norange\nyellow\ngreen\nblue\nviolet\nred\norange\nyellow\ngreen\nblue\nviolet\nred\norange\nyellow\ngreen\nblue\nviolet\nred\norange\nyellow\ngreen\nblue\nviolet\nred\norange\nyellow\ngreen\nblue\nviolet\nred\norange\nyellow\ngreen\nblue\nviolet\nred\norange\nyellow\ngreen\nblue\nviolet\nred\norange\nyellow\ngreen\nblue\nviolet\nred\norange\nyellow\ngreen\nblue\nviolet\nred\norange\nyellow\ngreen\nblue\nviolet\nred\norange\nyellow\ngreen\nblue\nviolet\nred\norange\nyellow\ngreen\nblue\nviolet\nred\norange\nyellow\ngreen\nblue\nviolet\nred\norange\nyellow\ngreen\nblue\nviolet\nred\norange\nyellow\ngreen\nblue\nviolet\nred\norange\nyellow\ngreen\nblue\nviolet\nred\norange\nyellow\ngreen\nblue\nviolet\nred\norange\nyellow\ngreen\nblue\nviolet\nred\norange\nyellow\ngreen\nblue\nviolet\nred\norange\nyellow\ngreen\nblue\nviolet\nred\norange\nyellow\ngreen\nblue\nviolet\nred\norange\nyellow\ngreen\nblue\nviolet\nred\norange\nyellow\ngreen\nblue\nviolet\nred\norange\nyellow\ngreen\nblue\nviolet\nred\norange\nyellow\ngreen\nblue\nviolet\nred\norange\nyellow\ngreen\nblue\nviolet\nred\norange\nyellow\ngreen\nblue\nviolet\nred\norange\nyellow\ngreen\nblue\nviolet\nred\norange\nyellow\ngreen\nblue\nviolet\nred\norange\nyellow\ngreen\nblue\nviolet\nred\norange\nyellow\ngreen\nblue\nviolet\nred\norange\nyellow\ngreen\nblue\nviolet\nred\norange\nyellow\ngreen\nblue\nviolet\nred\norange\nyellow\ngreen\nblue\nviolet\nred\norange\nyellow\ngreen\nblue\nviolet\nred\norange\nyellow\ngreen\nblue\nviolet\nred\norange\nyellow\ngreen\nblue\nviolet\nred\norange\nyellow\ngreen\nblue\nviolet\nred\norange\nyellow\ngreen\nblue\nviolet\nred\norange\nyellow\ngreen\nblue\nviolet\nred\norange\nyellow\ngreen\nblue\nviolet\nred\norange\nyellow\ngreen\nblue\nviolet\nred\norange\nyellow\ngreen\nblue\nviolet\nred\norange\nyellow\ngreen\nblue\nviolet\nred\norange\nyellow\ngreen\nblue\nviolet\nred\norange\nyellow\ngreen\nblue\nviolet\nred\norange\nyellow\ngreen\nblue\nviolet\nred\norange\nyellow\ngreen\nblue\nviolet\nred\norange\nyellow\ngreen\nblue\nviolet\nred\norange\nyellow\ngreen\nblue\nviolet\nred\norange\nyellow\ngreen\nblue\nviolet\nred\norange\nyellow\ngreen\nblue\nviolet\nred\norange\nyellow\ngreen\nblue\nviolet\nred\norange\nyellow\ngreen\nblue\nviolet\nred\norange\nyellow\ngreen\nblue\nviolet\nred\norange\nyellow\ngreen\nblue\nviolet\nred\norange\nyellow\ngreen\nblue\nviolet\nred\norange\nyellow\ngreen\nblue\nviolet\nred\norange\nyellow\ngreen\nblue\nviolet\nred\norange\nyellow\ngreen\nblue\nviolet\nred\norange\nyellow\ngreen\nblue\nviolet\nred\norange\nyellow\ngreen\nblue\nviolet\nred\norange\nyellow\ngreen\nblue\nviolet\nred\norange\nyellow\ngreen\nblue\nviolet\nred\norange\nyellow\ngreen\nblue\nviolet\nred\norange\nyellow\ngreen\nblue\nviolet\nred\norange\nyellow\ngreen\nblue\nviolet\nred\norange\nyellow\ngreen\nblue\nviolet\nred\norange\nyellow\ngreen\nblue\nviolet\nred\norange\nyellow\ngreen\nblue\nviolet\nred\norange\nyellow\ngreen\nblue\nviolet\nred\norange\nyellow\ngreen\nblue\nviolet\nred\norange\nyellow\ngreen\nblue\nviolet\nred\norange\nyellow\ngreen\nblue\nviolet\nred\norange\nyellow\ngreen\nblue\nviolet\nred\norange\nyellow\ngreen\nblue\nviolet\nred\norange\nyellow\ngreen\nblue\nviolet\nred\norange\nyellow\ngreen\nblue\nviolet\nred\norange\nyellow\ngreen\nblue\nviolet\nred\norange\nyellow\ngreen\nblue\nviolet\nred\norange\nyellow\ngreen\nblue\nviolet\nred\norange\nyellow\ngreen\nblue\nviolet\nred\norange\nyellow\ngreen\nblue\nviolet\nred\norange\nyellow\ngreen\nblue\nviolet\nred\norange\nyellow\ngreen\nblue\nviolet\nred\norange\nyellow\ngreen\nblue\nviolet\nred\norange\nyellow\ngreen\nblue\nviolet\nred\norange\nyellow\ngreen\nblue\nviolet\nred\norange\nyellow\ngreen\nblue\nviolet\nred\norange\nyellow\ngreen\nblue\nviolet\nred\norange\nyellow\ngreen\nblue\nviolet\nred\norange\nyellow\ngreen\nblue\nviolet\nred\norange\nyellow\ngreen\nblue\nviolet\nred\norange\nyellow\ngreen\nblue\nviolet\nred\norange\nyellow\ngreen\nblue\nviolet\nred\norange\nyellow\ngreen\nblue\nviolet\nred\norange\nyellow\ngreen\nblue\nviolet\nred\norange\nyellow\ngreen\nblue\nviolet\nred\norange\nyellow\ngreen\nblue\nviolet\nred\norange\nyellow\ngreen\nblue\nviolet\nred\norange\nyellow\ngreen\nblue\nviolet\nred\norange\nyellow\ngreen\nblue\nviolet\nred\norange\nyellow\ngreen\nblue\nviolet\nred\norange\nyellow\ngreen\nblue\nviolet\nred\norange\nyellow\ngreen\nblue\nviolet\nred\norange\nyellow\ngreen\nblue\nviolet\nred\norange\nyellow\ngreen\nblue\nviolet\nred\norange\nyellow\ngreen\nblue\nviolet\nred\norange\nyellow\ngreen\nblue\nviolet\nred\norange\nyellow\ngreen\nblue\nviolet\nred\norange\nyellow\ngreen\nblue\nviolet\nred\norange\nyellow\ngreen\nblue\nviolet\nred\norange\nyellow\ngreen\nblue\nviolet\nred\norange\nyellow\ngreen\nblue\nviolet\nred\norange\nyellow\ngreen\nblue\nviolet\nred\norange\nyellow\ngreen\nblue\nviolet\nred\norange\nyellow\ngreen\nblue\nviolet\nred\norange\nyellow\ngreen\nblue\nviolet\nred\norange\nyellow\ngreen\nblue\nviolet\nred\norange\nyellow\ngreen\nblue\nviolet\nred\norange\nyellow\ngreen\nblue\nviolet\nred\norange\nyellow\ngreen\nblue\nviolet\nred\norange\nyellow\ngreen\nblue\nviolet\nred\norange\nyellow\ngreen\nblue\nviolet\nred\norange\nyellow\ngreen\nblue\nviolet\nred\norange\nyellow\ngreen\nblue\nviolet\nred\norange\nyellow\ngreen\nblue\nviolet\nred\norange\nyellow\ngreen\nblue\nviolet\nred\norange\nyellow\ngreen\nblue\nviolet\nred\norange\nyellow\ngreen\nblue\nviolet\nred\norange\nyellow\ngreen\nblue\nviolet\nred\norange\nyellow\ngreen\nblue\nviolet\nred\norange\nyellow\ngreen\nblue\nviolet\nred\norange\nyellow\ngreen\nblue\nviolet\nred\norange\nyellow\ngreen\nblue\nviolet\nred\norange\nyellow\ngreen\nblue\nviolet\nred\norange\nyellow\ngreen\nblue\nviolet\nred\norange\nyellow\ngreen\nblue\nviolet\nred\norange\nyellow\ngreen\nblue\nviolet\nred\norange\nyellow\ngreen\nblue\nviolet\nred\norange\nyellow\ngreen\nblue\nviolet\nred\norange\nyellow\ngreen\nblue\nviolet\nred\norange\nyellow\ngreen\nblue\nviolet\nred\norange\nyellow\ngreen\nblue\nviolet\nred\norange\nyellow\ngreen\nblue\nviolet\nred\norange\nyellow\ngreen\nblue\nviolet\nred\norange\nyellow\ngreen\nblue\nviolet\nred\norange\nyellow\ngreen\nblue\nviolet\nred\norange\nyellow\ngreen\nblue\nviolet\nred\norange\nyellow\ngreen\nblue\nviolet\nred\norange\nyellow\ngreen\nblue\nviolet\nred\norange\nyellow\ngreen\nblue\nviolet\nred\norange\nyellow\ngreen\nblue\nviolet\nred\norange\nyellow\ngreen\nblue\nviolet\nred\norange\nyellow\ngreen\nblue\nviolet\nred\norange\nyellow\ngreen\nblue\nviolet\nred\norange\nyellow\ngreen\nblue\nviolet\nred\norange\nyellow\ngreen\nblue\nviolet\nred\norange\nyellow\ngreen\nblue\nviolet\nred\norange\nyellow\ngreen\nblue\nviolet\nred\norange\nyellow\ngreen\nblue\nviolet\nred\norange\nyellow\ngreen\nblue\nviolet\nred\norange\nyellow\ngreen\nblue\nviolet\nred\norange\nyellow\ngreen\nblue\nviolet\nred\norange\nyellow\ngreen\nblue\nviolet\nred\norange\nyellow\ngreen\nblue\nviolet\nred\norange\nyellow\ngreen\nblue\nviolet\nred\norange\nyellow\ngreen\nblue\nviolet\nred\norange\nyellow\ngreen\nblue\nviolet\nred\norange\nyellow\ngreen\nblue\nviolet\nred\norange\nyellow\ngreen\nblue\nviolet\nred\norange\nyellow\ngreen\nblue\nviolet\nred\norange\nyellow\ngreen\nblue\nviolet\nred\norange\nyellow\ngreen\nblue\nviolet\nred\norange\nyellow\ngreen\nblue\nviolet\nred\norange\nyellow\ngreen\nblue\nviolet\nred\norange\nyellow\ngreen\nblue\nviolet\nred\norange\nyellow\ngreen\nblue\nviolet\nred\norange\nyellow\ngreen\nblue\nviolet\nred\norange\nyellow\ngreen\nblue\nviolet\nred\norange\nyellow\ngreen\nblue\nviolet\nred\norange\nyellow\ngreen\nblue\nviolet\nred\norange\nyellow\ngreen\nblue\nviolet\nred\norange\nyellow\ngreen\nblue\nviolet\nred\norange\nyellow\ngreen\nblue\nviolet\nred\norange\nyellow\ngreen\nblue\nviolet\nred\norange\nyellow\ngreen\nblue\nviolet\nred\norange\nyellow\ngreen\nblue\nviolet\nred\norange\nyellow\ngreen\nblue\nviolet\nred\norange\nyellow\ngreen\nblue\nviolet\nred\norange\nyellow\ngreen\nblue\nviolet\nred\norange\nyellow\ngreen\nblue\nviolet\nred\norange\nyellow\ngreen\nblue\nviolet\nred\norange\nyellow\ngreen\nblue\nviolet\nred\norange\nyellow\ngreen\nblue\nviolet\nred\norange\nyellow\ngreen\nblue\nviolet\nred\norange\nyellow\ngreen\nblue\nviolet\nred\norange\nyellow\ngreen\nblue\nviolet\nred\norange\nyellow\ngreen\nblue\nviolet\nred\norange\nyellow\ngreen\nblue\nviolet\nred\norange\nyellow\ngreen\nblue\nviolet\nred\norange\nyellow\ngreen\nblue\nviolet\nred\norange\nyellow\ngreen\nblue\nviolet\nred\norange\nyellow\ngreen\nblue\nviolet\nred\norange\nyellow\ngreen\nblue\nviolet\nred\norange\nyellow\ngreen\nblue\nviolet\nred\norange\nyellow\ngreen\nblue\nviolet\nred\norange\nyellow\ngreen\nblue\nviolet\nred\norange\nyellow\ngreen\nblue\nviolet\nred\norange\nyellow\ngreen\nblue\nviolet\nred\norange\nyellow\ngreen\nblue\nviolet\nred\norange\nyellow\ngreen\nblue\nviolet\nred\norange\nyellow\ngreen\nblue\nviolet\nred\norange\nyellow\ngreen\nblue\nviolet\nred\norange\nyellow\ngreen\nblue\nviolet\nred\norange\nyellow\ngreen\nblue\nviolet\nred\norange\nyellow\ngreen\nblue\nviolet\nred\norange\nyellow\ngreen\nblue\nviolet\nred\norange\nyellow\ngreen\nblue\nviolet\nred\norange\nyellow\ngreen\nblue\nviolet\nred\norange\nyellow\ngreen\nblue\nviolet\nred\norange\nyellow\ngreen\nblue\nviolet\nred\norange\nyellow\ngreen\nblue\nviolet\nred\norange\nyellow\ngreen\nblue\nviolet\nred\norange\nyellow\ngreen\nblue\nviolet\nred\norange\nyellow\ngreen\nblue\nviolet\nred\norange\nyellow\ngreen\nblue\nviolet\nred\norange\nyellow\ngreen\nblue\nviolet\nred\norange\nyellow\ngreen\nblue\nviolet\nred\norange\nyellow\ngreen\nblue\nviolet\nred\norange\nyellow\ngreen\nblue\nviolet\nred\norange\nyellow\ngreen\nblue\nviolet\nred\norange\nyellow\ngreen\nblue\nviolet\nred\norange\nyellow\ngreen\nblue\nviolet\nred\norange\nyellow\ngreen\nblue\nviolet\nred\norange\nyellow\ngreen\nblue\nviolet\nred\norange\nyellow\ngreen\nblue\nviolet\nred\norange\nyellow\ngreen\nblue\nviolet\nred\norange\nyellow\ngreen\nblue\nviolet\nred\norange\nyellow\ngreen\nblue\nviolet\nred\norange\nyellow\ngreen\nblue\nviolet\nred\norange\nyellow\ngreen\nblue\nviolet\nred\norange\nyellow\ngreen\nblue\nviolet\nred\norange\nyellow\ngreen\nblue\nviolet\nred\norange\nyellow\ngreen\nblue\nviolet\nred\norange\nyellow\ngreen\nblue\nviolet\nred\norange\nyellow\ngreen\nblue\nviolet\nred\norange\nyellow\ngreen\nblue\nviolet\nred\norange\nyellow\ngreen\nblue\nviolet\nred\norange\nyellow\ngreen\nblue\nviolet\nred\norange\nyellow\ngreen\nblue\nviolet\nred\norange\nyellow\ngreen\nblue\nviolet\nred\norange\nyellow\ngreen\nblue\nviolet\nred\norange\nyellow\ngreen\nblue\nviolet\nred\norange\nyellow\ngreen\nblue\nviolet\nred\norange\nyellow\ngreen\nblue\nviolet\nred\norange\nyellow\ngreen\nblue\nviolet\nred\norange\nyellow\ngreen\nblue\nviolet\nred\norange\nyellow\ngreen\nblue\nviolet\nred\norange\nyellow\ngreen\nblue\nviolet\nred\norange\nyellow\ngreen\nblue\nviolet\nred\norange\nyellow\ngreen\nblue\nviolet\nred\norange\nyellow\ngreen\nblue\nviolet\nred\norange\nyellow\ngreen\nblue\nviolet\nred\norange\nyellow\ngreen\nblue\nviolet\nred\norange\nyellow\ngreen\nblue\nviolet\nred\norange\nyellow\ngreen\nblue\nviolet\nred\norange\nyellow\ngreen\nblue\nviolet\nred\norange\nyellow\ngreen\nblue\nviolet\nred\norange\nyellow\ngreen\nblue\nviolet\nred\norange\nyellow\ngreen\nblue\nviolet\nred\norange\nyellow\ngreen\nblue\nviolet\nred\norange\nyellow\ngreen\nblue\nviolet\nred\norange\nyellow\ngreen\nblue\nviolet\nred\norange\nyellow\ngreen\nblue\nviolet\nred\norange\nyellow\ngreen\nblue\nviolet\nred\norange\nyellow\ngreen\nblue\nviolet\nred\norange\nyellow\ngreen\nblue\nviolet\nred\norange\nyellow\ngreen\nblue\nviolet\nred\norange\nyellow\ngreen\nblue\nviolet\nred\norange\nyellow\ngreen\nblue\nviolet\nred\norange\nyellow\ngreen\nblue\nviolet\nred\norange\nyellow\ngreen\nblue\nviolet\nred\norange\nyellow\ngreen\nblue\nviolet\nred\norange\nyellow\ngreen\nblue\nviolet\nred\norange\nyellow\ngreen\nblue\nviolet\nred\norange\nyellow\ngreen\nblue\nviolet\nred\norange\nyellow\ngreen\nblue\nviolet\nred\norange\nyellow\ngreen\nblue\nviolet\nred\norange\nyellow\ngreen\nblue\nviolet\nred\norange\nyellow\ngreen\nblue\nviolet\nred\norange\nyellow\ngreen\nblue\nviolet\nred\norange\nyellow\ngreen\nblue\nviolet\nred\norange\nyellow\ngreen\nblue\nviolet\nred\norange\nyellow\ngreen\nblue\nviolet\nred\norange\nyellow\ngreen\nblue\nviolet\nred\norange\nyellow\ngreen\nblue\nviolet\nred\norange\nyellow\ngreen\nblue\nviolet\nred\norange\nyellow\ngreen\nblue\nviolet\nred\norange\nyellow\ngreen\nblue\nviolet\nred\norange\nyellow\ngreen\nblue\nviolet\nred\norange\nyellow\ngreen\nblue\nviolet\nred\norange\nyellow\ngreen\nblue\nviolet\nred\norange\nyellow\ngreen\nblue\nviolet\nred\norange\nyellow\ngreen\nblue\nviolet\nred\norange\nyellow\ngreen\nblue\nviolet\nred\norange\nyellow\ngreen\nblue\nviolet\nred\norange\nyellow\ngreen\nblue\nviolet\nred\norange\nyellow\ngreen\nblue\nviolet\nred\norange\nyellow\ngreen\nblue\nviolet\nred\norange\nyellow\ngreen\nblue\nviolet\nred\norange\nyellow\ngreen\nblue\nviolet\nred\norange\nyellow\ngreen\nblue\nviolet\nred\norange\nyellow\ngreen\nblue\nviolet\nred\norange\nyellow\ngreen\nblue\nviolet\nred\norange\nyellow\ngreen\nblue\nviolet\nred\norange\nyellow\ngreen\nblue\nviolet\nred\norange\nyellow\ngreen\nblue\nviolet\nred\norange\nyellow\ngreen\nblue\nviolet\nred\norange\nyellow\ngreen\nblue\nviolet\nred\norange\nyellow\ngreen\nblue\nviolet\nred\norange\nyellow\ngreen\nblue\nviolet\nred\norange\nyellow\ngreen\nblue\nviolet\nred\norange\nyellow\ngreen\nblue\nviolet\nred\norange\nyellow\ngreen\nblue\nviolet\nred\norange\nyellow\ngreen\nblue\nviolet\nred\norange\nyellow\ngreen\nblue\nviolet\nred\norange\nyellow\ngreen\nblue\nviolet\nred\norange\nyellow\ngreen\nblue\nviolet\nred\norange\nyellow\ngreen\nblue\nviolet\nred\norange\nyellow\ngreen\nblue\nviolet\nred\norange\nyellow\ngreen\nblue\nviolet\nred\norange\nyellow\ngreen\nblue\nviolet\nred\norange\nyellow\ngreen\nblue\nviolet\nred\norange\nyellow\ngreen\nblue\nviolet\nred\norange\nyellow\ngreen\nblue\nviolet\nred\norange\nyellow\ngreen\nblue\nviolet\nred\norange\nyellow\ngreen\nblue\nviolet\nred\norange\nyellow\ngreen\nblue\nviolet\nred\norange\nyellow\ngreen\nblue\nviolet\nred\norange\nyellow\ngreen\nblue\nviolet\nred\norange\nyellow\ngreen\nblue\nviolet\nred\norange\nyellow\ngreen\nblue\nviolet\nred\norange\nyellow\ngreen\nblue\nviolet\nred\norange\nyellow\ngreen\nblue\nviolet\nred\norange\nyellow\ngreen\nblue\nviolet\nred\norange\nyellow\ngreen\nblue\nviolet\nred\norange\nyellow\ngreen\nblue\nviolet\nred\norange\nyellow\ngreen\nblue\nviolet\nred\norange\nyellow\ngreen\nblue\nviolet\nred\norange\nyellow\ngreen\nblue\nviolet\nred\norange\nyellow\ngreen\nblue\nviolet\nred\norange\nyellow\ngreen\nblue\nviolet\nred\norange\nyellow\ngreen\nblue\nviolet\nred\norange\nyellow\ngreen\nblue\nviolet\nred\norange\nyellow\ngreen\nblue\nviolet\nred\norange\nyellow\ngreen\nblue\nviolet\nred\norange\nyellow\ngreen\nblue\nviolet\nred\norange\nyellow\ngreen\nblue\nviolet\nred\norange\nyellow\ngreen\nblue\nviolet\nred\norange\nyellow\ngreen\nblue\nviolet\nred\norange\nyellow\ngreen\nblue\nviolet\nred\norange\nyellow\ngreen\nblue\nviolet\nred\norange\nyellow\ngreen\nblue\nviolet\nred\norange\nyellow\ngreen\nblue\nviolet\nred\norange\nyellow\ngreen\nblue\nviolet\nred\norange\nyellow\ngreen\nblue\nviolet\nred\norange\nyellow\ngreen\nblue\nviolet\nred\norange\nyellow\ngreen\nblue\nviolet\nred\norange\nyellow\ngreen\nblue\nviolet\nred\norange\nyellow\ngreen\nblue\nviolet\nred\norange\nyellow\ngreen\nblue\nviolet\nred\norange\nyellow\ngreen\nblue\nviolet\nred\norange\nyellow\ngreen\nblue\nviolet\nred\norange\nyellow\ngreen\nblue\nviolet\nred\norange\nyellow\ngreen\nblue\nviolet\nred\norange\nyellow\ngreen\nblue\nviolet\nred\norange\nyellow\ngreen\nblue\nviolet\nred\norange\nyellow\ngreen\nblue\nviolet\nred\norange\nyellow\ngreen\nblue\nviolet\nred\norange\nyellow\ngreen\nblue\nviolet\nred\norange\nyellow\ngreen\nblue\nviolet\nred\norange\nyellow\ngreen\nblue\nviolet\nred\norange\nyellow\ngreen\nblue\nviolet\nred\norange\nyellow\ngreen\nblue\nviolet\nred\norange\nyellow\ngreen\nblue\nviolet\nred\norange\nyellow\ngreen\nblue\nviolet\nred\norange\nyellow\ngreen\nblue\nviolet\nred\norange\nyellow\ngreen\nblue\nviolet\nred\norange\nyellow\ngreen\nblue\nviolet\nred\norange\nyellow\ngreen\nblue\nviolet\nred\norange\nyellow\ngreen\nblue\nviolet\nred\norange\nyellow\ngreen\nblue\nviolet\nred\norange\nyellow\ngreen\nblue\nviolet\nred\norange\nyellow\ngreen\nblue\nviolet\nred\norange\nyellow\ngreen\nblue\nviolet\nred\norange\nyellow\ngreen\nblue\nviolet\nred\norange\nyellow\ngreen\nblue\nviolet\nred\norange\nyellow\ngreen\nblue\nviolet\nred\norange\nyellow\ngreen\nblue\nviolet\nred\norange\nyellow\ngreen\nblue\nviolet\nred\norange\nyellow\ngreen\nblue\nviolet\nred\norange\nyellow\ngreen\nblue\nviolet\nred\norange\nyellow\ngreen\nblue\nviolet\nred\norange\nyellow\ngreen\nblue\nviolet\nred\norange\nyellow\ngreen\nblue\nviolet\nred\norange\nyellow\ngreen\nblue\nviolet\nred\norange\nyellow\ngreen\nblue\nviolet\nred\norange\nyellow\ngreen\nblue\nviolet\nred\norange\nyellow\ngreen\nblue\nviolet\nred\norange\nyellow\ngreen\nblue\nviolet\nred\norange\nyellow\ngreen\nblue\nviolet\nred\norange\nyellow\ngreen\nblue\nviolet\nred\norange\nyellow\ngreen\nblue\nviolet\nred\norange\nyellow\ngreen\nblue\nviolet\nred\norange\nyellow\ngreen\nblue\nviolet\nred\norange\nyellow\ngreen\nblue\nviolet\nred\norange\nyellow\ngreen\nblue\nviolet\nred\norange\nyellow\ngreen\nblue\nviolet\nred\norange\nyellow\ngreen\nblue\nviolet\nred\norange\nyellow\ngreen\nblue\nviolet\nred\norange\nyellow\ngreen\nblue\nviolet\nred\norange\nyellow\ngreen\nblue\nviolet\nred\norange\nyellow\ngreen\nblue\nviolet\nred\norange\nyellow\ngreen\nblue\nviolet\nred\norange\nyellow\ngreen\nblue\nviolet\nred\norange\nyellow\ngreen\nblue\nviolet\nred\norange\nyellow\ngreen\nblue\nviolet\nred\norange\nyellow\ngreen\nblue\nviolet\nred\norange\nyellow\ngreen\nblue\nviolet\nred\norange\nyellow\ngreen\nblue\nviolet\nred\norange\nyellow\ngreen\nblue\nviolet\nred\norange\nyellow\ngreen\nblue\nviolet\nred\norange\nyellow\ngreen\nblue\nviolet\nred\norange\nyellow\ngreen\nblue\nviolet\nred\norange\nyellow\ngreen\nblue\nviolet\nred\norange\nyellow\ngreen\nblue\nviolet\nred\norange\nyellow\ngreen\nblue\nviolet\nred\norange\nyellow\ngreen\nblue\nviolet\nred\norange\nyellow\ngreen\nblue\nviolet\nred\norange\nyellow\ngreen\nblue\nviolet\nred\norange\nyellow\ngreen\nblue\nviolet\nred\norange\nyellow\ngreen\nblue\nviolet\nred\norange\nyellow\ngreen\nblue\nviolet\nred\norange\nyellow\ngreen\nblue\nviolet\nred\norange\nyellow\ngreen\nblue\nviolet\nred\norange\nyellow\ngreen\nblue\nviolet\nred\norange\nyellow\ngreen\nblue\nviolet\nred\norange\nyellow\ngreen\nblue\nviolet\nred\norange\nyellow\ngreen\nblue\nviolet\nred\norange\nyellow\ngreen\nblue\nviolet\nred\norange\nyellow\ngreen\nblue\nviolet\nred\norange\nyellow\ngreen\nblue\nviolet\nred\norange\nyellow\ngreen\nblue\nviolet\nred\norange\nyellow\ngreen\nblue\nviolet\nred\norange\nyellow\ngreen\nblue\nviolet\nred\norange\nyellow\ngreen\nblue\nviolet\nred\norange\nyellow\ngreen\nblue\nviolet\nred\norange\nyellow\ngreen\nblue\nviolet\nred\norange\nyellow\ngreen\nblue\nviolet\nred\norange\nyellow\ngreen\nblue\nviolet\nred\norange\nyellow\ngreen\nblue\nviolet\nred\norange\nyellow\ngreen\nblue\nviolet\nred\norange\nyellow\ngreen\nblue\nviolet\nred\norange\nyellow\ngreen\nblue\nviolet\nred\norange\nyellow\ngreen\nblue\nviolet\nred\norange\nyellow\ngreen\nblue\nviolet\nred\norange\nyellow\ngreen\nblue\nviolet\nred\norange\nyellow\ngreen\nblue\nviolet\nred\norange\nyellow\ngreen\nblue\nviolet\nred\norange\nyellow\ngreen\nblue\nviolet\nred\norange\nyellow\ngreen\nblue\nviolet\nred\norange\nyellow\ngreen\nblue\nviolet\nred\norange\nyellow\ngreen\nblue\nviolet\nred\norange\nyellow\ngreen\nblue\nviolet\nred\norange\nyellow\ngreen\nblue\nviolet\nred\norange\nyellow\ngreen\nblue\nviolet\nred\norange\nyellow\ngreen\nblue\nviolet\nred\norange\nyellow\ngreen\nblue\nviolet\nred\norange\nyellow\ngreen\nblue\nviolet\nred\norange\nyellow\ngreen\nblue\nviolet\nred\norange\nyellow\ngreen\nblue\nviolet\nred\norange\nyellow\ngreen\nblue\nviolet\nred\norange\nyellow\ngreen\nblue\nviolet\nred\norange\nyellow\ngreen\nblue\nviolet\nred\norange\nyellow\ngreen\nblue\nviolet\nred\norange\nyellow\ngreen\nblue\nviolet\nred\norange\nyellow\ngreen\nblue\nviolet\nred\norange\nyellow\ngreen\nblue\nviolet\nred\norange\nyellow\ngreen\nblue\nviolet\nred\norange\nyellow\ngreen\nblue\nviolet\nred\norange\nyellow\ngreen\nblue\nviolet\nred\norange\nyellow\ngreen\nblue\nviolet\nred\norange\nyellow\ngreen\nblue\nviolet\nred\norange\nyellow\ngreen\nblue\nviolet\nred\norange\nyellow\ngreen\nblue\nviolet\nred\norange\nyellow\ngreen\nblue\nviolet\nred\norange\nyellow\ngreen\nblue\nviolet\nred\norange\nyellow\ngreen\nblue\nviolet\nred\norange\nyellow\ngreen\nblue\nviolet\nred\norange\nyellow\ngreen\nblue\nviolet\nred\norange\nyellow\ngreen\nblue\nviolet\nred\norange\nyellow\ngreen\nblue\nviolet\nred\norange\nyellow\ngreen\nblue\nviolet\nred\norange\nyellow\ngreen\nblue\nviolet\nred\norange\nyellow\ngreen\nblue\nviolet\nred\norange\nyellow\ngreen\nblue\nviolet\nred\norange\nyellow\ngreen\nblue\nviolet\nred\norange\nyellow\ngreen\nblue\nviolet\nred\norange\nyellow\ngreen\nblue\nviolet\nred\norange\nyellow\ngreen\nblue\nviolet\nred\norange\nyellow\ngreen\nblue\nviolet\nred\norange\nyellow\ngreen\nblue\nviolet\nred\norange\nyellow\ngreen\nblue\nviolet\nred\norange\nyellow\ngreen\nblue\nviolet\nred\norange\nyellow\ngreen\nblue\nviolet\nred\norange\nyellow\ngreen\nblue\nviolet\nred\norange\nyellow\ngreen\nblue\nviolet\nred\norange\nyellow\ngreen\nblue\nviolet\nred\norange\nyellow\ngreen\nblue\nviolet\nred\norange\nyellow\ngreen\nblue\nviolet\nred\norange\nyellow\ngreen\nblue\nviolet\nred\norange\nyellow\ngreen\nblue\nviolet\nred\norange\nyellow\ngreen\nblue\nviolet\nred\norange\nyellow\ngreen\nblue\nviolet\nred\norange\nyellow\ngreen\nblue\nviolet\nred\norange\nyellow\ngreen\nblue\nviolet\nred\norange\nyellow\ngreen\nblue\nviolet\nred\norange\nyellow\ngreen\nblue\nviolet\nred"
    },
    {
     "output_type": "error",
     "ename": "KeyboardInterrupt",
     "evalue": "",
     "traceback": [
      "\u001b[1;31m---------------------------------------------------------------------------\u001b[0m",
      "\u001b[1;31mKeyboardInterrupt\u001b[0m                         Traceback (most recent call last)",
      "\u001b[1;32m<ipython-input-40-0cbe117eece6>\u001b[0m in \u001b[0;36m<module>\u001b[1;34m\u001b[0m\n\u001b[0;32m      2\u001b[0m \u001b[1;33m\u001b[0m\u001b[0m\n\u001b[0;32m      3\u001b[0m \u001b[1;32mfor\u001b[0m \u001b[0mcolor\u001b[0m \u001b[1;32min\u001b[0m \u001b[0mitertools\u001b[0m\u001b[1;33m.\u001b[0m\u001b[0mcycle\u001b[0m\u001b[1;33m(\u001b[0m\u001b[0mcolors\u001b[0m\u001b[1;33m)\u001b[0m\u001b[1;33m:\u001b[0m\u001b[1;33m\u001b[0m\u001b[1;33m\u001b[0m\u001b[0m\n\u001b[1;32m----> 4\u001b[1;33m    \u001b[0mprint\u001b[0m\u001b[1;33m(\u001b[0m\u001b[0mcolor\u001b[0m\u001b[1;33m)\u001b[0m\u001b[1;33m\u001b[0m\u001b[1;33m\u001b[0m\u001b[0m\n\u001b[0m",
      "\u001b[1;32m~\\AppData\\Local\\Programs\\Python\\Python38-32\\lib\\site-packages\\ipykernel\\iostream.py\u001b[0m in \u001b[0;36mwrite\u001b[1;34m(self, string)\u001b[0m\n\u001b[0;32m    402\u001b[0m             \u001b[0mis_child\u001b[0m \u001b[1;33m=\u001b[0m \u001b[1;33m(\u001b[0m\u001b[1;32mnot\u001b[0m \u001b[0mself\u001b[0m\u001b[1;33m.\u001b[0m\u001b[0m_is_master_process\u001b[0m\u001b[1;33m(\u001b[0m\u001b[1;33m)\u001b[0m\u001b[1;33m)\u001b[0m\u001b[1;33m\u001b[0m\u001b[1;33m\u001b[0m\u001b[0m\n\u001b[0;32m    403\u001b[0m             \u001b[1;31m# only touch the buffer in the IO thread to avoid races\u001b[0m\u001b[1;33m\u001b[0m\u001b[1;33m\u001b[0m\u001b[1;33m\u001b[0m\u001b[0m\n\u001b[1;32m--> 404\u001b[1;33m             \u001b[0mself\u001b[0m\u001b[1;33m.\u001b[0m\u001b[0mpub_thread\u001b[0m\u001b[1;33m.\u001b[0m\u001b[0mschedule\u001b[0m\u001b[1;33m(\u001b[0m\u001b[1;32mlambda\u001b[0m \u001b[1;33m:\u001b[0m \u001b[0mself\u001b[0m\u001b[1;33m.\u001b[0m\u001b[0m_buffer\u001b[0m\u001b[1;33m.\u001b[0m\u001b[0mwrite\u001b[0m\u001b[1;33m(\u001b[0m\u001b[0mstring\u001b[0m\u001b[1;33m)\u001b[0m\u001b[1;33m)\u001b[0m\u001b[1;33m\u001b[0m\u001b[1;33m\u001b[0m\u001b[0m\n\u001b[0m\u001b[0;32m    405\u001b[0m             \u001b[1;32mif\u001b[0m \u001b[0mis_child\u001b[0m\u001b[1;33m:\u001b[0m\u001b[1;33m\u001b[0m\u001b[1;33m\u001b[0m\u001b[0m\n\u001b[0;32m    406\u001b[0m                 \u001b[1;31m# mp.Pool cannot be trusted to flush promptly (or ever),\u001b[0m\u001b[1;33m\u001b[0m\u001b[1;33m\u001b[0m\u001b[1;33m\u001b[0m\u001b[0m\n",
      "\u001b[1;32m~\\AppData\\Local\\Programs\\Python\\Python38-32\\lib\\site-packages\\ipykernel\\iostream.py\u001b[0m in \u001b[0;36mschedule\u001b[1;34m(self, f)\u001b[0m\n\u001b[0;32m    203\u001b[0m             \u001b[0mself\u001b[0m\u001b[1;33m.\u001b[0m\u001b[0m_events\u001b[0m\u001b[1;33m.\u001b[0m\u001b[0mappend\u001b[0m\u001b[1;33m(\u001b[0m\u001b[0mf\u001b[0m\u001b[1;33m)\u001b[0m\u001b[1;33m\u001b[0m\u001b[1;33m\u001b[0m\u001b[0m\n\u001b[0;32m    204\u001b[0m             \u001b[1;31m# wake event thread (message content is ignored)\u001b[0m\u001b[1;33m\u001b[0m\u001b[1;33m\u001b[0m\u001b[1;33m\u001b[0m\u001b[0m\n\u001b[1;32m--> 205\u001b[1;33m             \u001b[0mself\u001b[0m\u001b[1;33m.\u001b[0m\u001b[0m_event_pipe\u001b[0m\u001b[1;33m.\u001b[0m\u001b[0msend\u001b[0m\u001b[1;33m(\u001b[0m\u001b[1;34mb''\u001b[0m\u001b[1;33m)\u001b[0m\u001b[1;33m\u001b[0m\u001b[1;33m\u001b[0m\u001b[0m\n\u001b[0m\u001b[0;32m    206\u001b[0m         \u001b[1;32melse\u001b[0m\u001b[1;33m:\u001b[0m\u001b[1;33m\u001b[0m\u001b[1;33m\u001b[0m\u001b[0m\n\u001b[0;32m    207\u001b[0m             \u001b[0mf\u001b[0m\u001b[1;33m(\u001b[0m\u001b[1;33m)\u001b[0m\u001b[1;33m\u001b[0m\u001b[1;33m\u001b[0m\u001b[0m\n",
      "\u001b[1;32m~\\AppData\\Local\\Programs\\Python\\Python38-32\\lib\\site-packages\\zmq\\sugar\\socket.py\u001b[0m in \u001b[0;36msend\u001b[1;34m(self, data, flags, copy, track, routing_id, group)\u001b[0m\n\u001b[0;32m    398\u001b[0m                                  copy_threshold=self.copy_threshold)\n\u001b[0;32m    399\u001b[0m             \u001b[0mdata\u001b[0m\u001b[1;33m.\u001b[0m\u001b[0mgroup\u001b[0m \u001b[1;33m=\u001b[0m \u001b[0mgroup\u001b[0m\u001b[1;33m\u001b[0m\u001b[1;33m\u001b[0m\u001b[0m\n\u001b[1;32m--> 400\u001b[1;33m         \u001b[1;32mreturn\u001b[0m \u001b[0msuper\u001b[0m\u001b[1;33m(\u001b[0m\u001b[0mSocket\u001b[0m\u001b[1;33m,\u001b[0m \u001b[0mself\u001b[0m\u001b[1;33m)\u001b[0m\u001b[1;33m.\u001b[0m\u001b[0msend\u001b[0m\u001b[1;33m(\u001b[0m\u001b[0mdata\u001b[0m\u001b[1;33m,\u001b[0m \u001b[0mflags\u001b[0m\u001b[1;33m=\u001b[0m\u001b[0mflags\u001b[0m\u001b[1;33m,\u001b[0m \u001b[0mcopy\u001b[0m\u001b[1;33m=\u001b[0m\u001b[0mcopy\u001b[0m\u001b[1;33m,\u001b[0m \u001b[0mtrack\u001b[0m\u001b[1;33m=\u001b[0m\u001b[0mtrack\u001b[0m\u001b[1;33m)\u001b[0m\u001b[1;33m\u001b[0m\u001b[1;33m\u001b[0m\u001b[0m\n\u001b[0m\u001b[0;32m    401\u001b[0m \u001b[1;33m\u001b[0m\u001b[0m\n\u001b[0;32m    402\u001b[0m     \u001b[1;32mdef\u001b[0m \u001b[0msend_multipart\u001b[0m\u001b[1;33m(\u001b[0m\u001b[0mself\u001b[0m\u001b[1;33m,\u001b[0m \u001b[0mmsg_parts\u001b[0m\u001b[1;33m,\u001b[0m \u001b[0mflags\u001b[0m\u001b[1;33m=\u001b[0m\u001b[1;36m0\u001b[0m\u001b[1;33m,\u001b[0m \u001b[0mcopy\u001b[0m\u001b[1;33m=\u001b[0m\u001b[1;32mTrue\u001b[0m\u001b[1;33m,\u001b[0m \u001b[0mtrack\u001b[0m\u001b[1;33m=\u001b[0m\u001b[1;32mFalse\u001b[0m\u001b[1;33m,\u001b[0m \u001b[1;33m**\u001b[0m\u001b[0mkwargs\u001b[0m\u001b[1;33m)\u001b[0m\u001b[1;33m:\u001b[0m\u001b[1;33m\u001b[0m\u001b[1;33m\u001b[0m\u001b[0m\n",
      "\u001b[1;32mzmq\\backend\\cython\\socket.pyx\u001b[0m in \u001b[0;36mzmq.backend.cython.socket.Socket.send\u001b[1;34m()\u001b[0m\n",
      "\u001b[1;32mzmq\\backend\\cython\\socket.pyx\u001b[0m in \u001b[0;36mzmq.backend.cython.socket.Socket.send\u001b[1;34m()\u001b[0m\n",
      "\u001b[1;32mzmq\\backend\\cython\\socket.pyx\u001b[0m in \u001b[0;36mzmq.backend.cython.socket._send_copy\u001b[1;34m()\u001b[0m\n",
      "\u001b[1;32m~\\AppData\\Local\\Programs\\Python\\Python38-32\\lib\\site-packages\\zmq\\backend\\cython\\checkrc.pxd\u001b[0m in \u001b[0;36mzmq.backend.cython.checkrc._check_rc\u001b[1;34m()\u001b[0m\n",
      "\u001b[1;31mKeyboardInterrupt\u001b[0m: "
     ]
    }
   ],
   "source": [
    "colors = ['red', 'orange', 'yellow', 'green', 'blue', 'violet']\n",
    "\n",
    "for color in itertools.cycle(colors):\n",
    "   print(color)"
   ]
  },
  {
   "cell_type": "markdown",
   "metadata": {},
   "source": [
    "### chain\n",
    "\n",
    "Take a series of iterables and return them as one long iterable.\n",
    "\n",
    "similar to concatenation"
   ]
  },
  {
   "cell_type": "code",
   "execution_count": null,
   "metadata": {},
   "outputs": [],
   "source": [
    "# Syntax -> itertools.chain(*iterables)"
   ]
  },
  {
   "cell_type": "markdown",
   "metadata": {},
   "source": [
    "Example:"
   ]
  },
  {
   "cell_type": "code",
   "execution_count": 4,
   "metadata": {
    "tags": []
   },
   "outputs": [
    {
     "output_type": "stream",
     "name": "stdout",
     "text": "red\norange\nyellow\ngreen\nblue\ncircle\ntriangle\nsquare\npentagon\n"
    }
   ],
   "source": [
    "colors = ['red', 'orange', 'yellow', 'green', 'blue']\n",
    "shapes = ['circle', 'triangle', 'square', 'pentagon']\n",
    "\n",
    "result = itertools.chain(colors, shapes)\n",
    "\n",
    "for each in result:\n",
    "   print(each)"
   ]
  },
  {
   "cell_type": "markdown",
   "metadata": {},
   "source": [
    "### compress\n",
    "\n",
    "Filters one iterable with another."
   ]
  },
  {
   "cell_type": "code",
   "execution_count": null,
   "metadata": {},
   "outputs": [],
   "source": [
    "# syntax -. itertools.compress(data, selectors)"
   ]
  },
  {
   "cell_type": "markdown",
   "metadata": {},
   "source": [
    "Example:"
   ]
  },
  {
   "cell_type": "code",
   "execution_count": 5,
   "metadata": {
    "tags": []
   },
   "outputs": [
    {
     "output_type": "stream",
     "name": "stdout",
     "text": "circle\nsquare\n"
    }
   ],
   "source": [
    "shapes = ['circle', 'triangle', 'square', 'pentagon']\n",
    "selections = [True, False, True, False]\n",
    "\n",
    "result = itertools.compress(shapes, selections)\n",
    "\n",
    "for each in result:\n",
    "   print(each)"
   ]
  },
  {
   "cell_type": "markdown",
   "metadata": {},
   "source": [
    "### dropwhile\n",
    "\n",
    "Make an iterator that drops elements from the iterable as long as the predicate is true; afterwards, returns every element."
   ]
  },
  {
   "cell_type": "code",
   "execution_count": null,
   "metadata": {},
   "outputs": [],
   "source": [
    "# syntax itertools.dropwhile(predicate, iterable)"
   ]
  },
  {
   "cell_type": "markdown",
   "metadata": {},
   "source": [
    "Example:"
   ]
  },
  {
   "cell_type": "code",
   "execution_count": 6,
   "metadata": {
    "tags": []
   },
   "outputs": [
    {
     "output_type": "stream",
     "name": "stdout",
     "text": "5\n6\n7\n8\n9\n10\n1\n"
    }
   ],
   "source": [
    "data = [1, 2, 3, 4, 5, 6, 7, 8, 9, 10, 1]\n",
    "result = itertools.dropwhile(lambda x: x<5, data)\n",
    "\n",
    "for each in result:\n",
    "   print(each)"
   ]
  },
  {
   "cell_type": "markdown",
   "metadata": {},
   "source": [
    "### filterfalse\n",
    "\n",
    "Makes an iterator that filters elements from iterable returning only those for which the predicate is False."
   ]
  },
  {
   "cell_type": "code",
   "execution_count": null,
   "metadata": {},
   "outputs": [],
   "source": [
    "# syntax itertools.filterfalse(predicate, iterable)"
   ]
  },
  {
   "cell_type": "markdown",
   "metadata": {},
   "source": [
    "Example:"
   ]
  },
  {
   "cell_type": "code",
   "execution_count": 7,
   "metadata": {
    "tags": []
   },
   "outputs": [
    {
     "output_type": "stream",
     "name": "stdout",
     "text": "5\n6\n7\n8\n9\n10\n"
    }
   ],
   "source": [
    "data = [1, 2, 3, 4, 5, 6, 7, 8, 9, 10]\n",
    "result = itertools.filterfalse(lambda x: x<5, data)\n",
    "\n",
    "for each in result:\n",
    "   print(each)"
   ]
  },
  {
   "cell_type": "markdown",
   "metadata": {},
   "source": [
    "### groupby\n",
    "\n",
    "Simply put, this function groups things together."
   ]
  },
  {
   "cell_type": "code",
   "execution_count": null,
   "metadata": {},
   "outputs": [],
   "source": [
    "# syntax itertools.groupby(iterable, key=None)"
   ]
  },
  {
   "cell_type": "markdown",
   "metadata": {},
   "source": [
    "Example:"
   ]
  },
  {
   "cell_type": "code",
   "execution_count": 8,
   "metadata": {
    "tags": []
   },
   "outputs": [
    {
     "output_type": "stream",
     "name": "stdout",
     "text": "autobot\n[{'name': 'blaster', 'faction': 'autobot'}]\ndecepticon\n[{'name': 'galvatron', 'faction': 'decepticon'}]\nautobot\n[{'name': 'jazz', 'faction': 'autobot'}, {'name': 'metroplex', 'faction': 'autobot'}]\ndecepticon\n[{'name': 'megatron', 'faction': 'decepticon'}, {'name': 'starcream', 'faction': 'decepticon'}]\n"
    }
   ],
   "source": [
    "robots = [{\n",
    "    'name': 'blaster',\n",
    "    'faction': 'autobot'\n",
    "}, {\n",
    "    'name': 'galvatron',\n",
    "    'faction': 'decepticon'\n",
    "}, {\n",
    "    'name': 'jazz',\n",
    "    'faction': 'autobot'\n",
    "}, {\n",
    "    'name': 'metroplex',\n",
    "    'faction': 'autobot'\n",
    "}, {\n",
    "    'name': 'megatron',\n",
    "    'faction': 'decepticon'\n",
    "}, {\n",
    "    'name': 'starcream',\n",
    "    'faction': 'decepticon'\n",
    "}]\n",
    "\n",
    "for key, group in itertools.groupby(robots, key=lambda x: x['faction']):\n",
    "   print(key)\n",
    "   print(list(group))"
   ]
  },
  {
   "cell_type": "markdown",
   "metadata": {},
   "source": [
    "### islice\n",
    "\n",
    "This function is very much like slices. This allows you to cut out a piece of an iterable."
   ]
  },
  {
   "cell_type": "code",
   "execution_count": null,
   "metadata": {},
   "outputs": [],
   "source": [
    "itertools.islice(iterable, start, stop[, step])"
   ]
  },
  {
   "cell_type": "markdown",
   "metadata": {},
   "source": [
    "Example:"
   ]
  },
  {
   "cell_type": "code",
   "execution_count": null,
   "metadata": {},
   "outputs": [],
   "source": [
    "colors = ['red', 'orange', 'yellow', 'green', 'blue',]\n",
    "few_colors = itertools.islice(colors, 2)\n",
    "\n",
    "for each in few_colors:\n",
    "   print(each)"
   ]
  },
  {
   "cell_type": "markdown",
   "metadata": {},
   "source": [
    "### permutations"
   ]
  },
  {
   "cell_type": "code",
   "execution_count": null,
   "metadata": {},
   "outputs": [],
   "source": [
    "itertools.permutations(iterable, r=None)"
   ]
  },
  {
   "cell_type": "markdown",
   "metadata": {},
   "source": [
    "Example:"
   ]
  },
  {
   "cell_type": "code",
   "execution_count": null,
   "metadata": {},
   "outputs": [],
   "source": [
    "alpha_data = ['a', 'b', 'c']\n",
    "result = itertools.permutations(alpha_data)\n",
    "\n",
    "for each in result:\n",
    "   print(each)"
   ]
  },
  {
   "cell_type": "markdown",
   "metadata": {},
   "source": [
    "### product\n",
    "\n",
    "Creates the cartesian products from a series of iterables."
   ]
  },
  {
   "cell_type": "code",
   "execution_count": null,
   "metadata": {},
   "outputs": [],
   "source": [
    "num_data = [1, 2, 3]\n",
    "alpha_data = ['a', 'b', 'c']\n",
    "result = itertools.product(num_data, alpha_data)\n",
    "\n",
    "for each in result:\n",
    "    print(each)"
   ]
  },
  {
   "cell_type": "markdown",
   "metadata": {},
   "source": [
    "### repeat\n",
    "\n",
    "This function will repeat an object over and over again. Unless, there is a times argument."
   ]
  },
  {
   "cell_type": "code",
   "execution_count": null,
   "metadata": {},
   "outputs": [],
   "source": [
    "itertools.repeat(object[, times])"
   ]
  },
  {
   "cell_type": "markdown",
   "metadata": {},
   "source": [
    "Example:"
   ]
  },
  {
   "cell_type": "code",
   "execution_count": null,
   "metadata": {},
   "outputs": [],
   "source": [
    "for i in itertools.repeat(\"spam\", 3):\n",
    "    print(i)"
   ]
  },
  {
   "cell_type": "markdown",
   "metadata": {},
   "source": [
    "### starmap\n",
    "\n",
    "Makes an iterator that computes the function using arguments obtained from the iterable."
   ]
  },
  {
   "cell_type": "code",
   "execution_count": null,
   "metadata": {},
   "outputs": [],
   "source": [
    "itertools.starmap(function, iterable)"
   ]
  },
  {
   "cell_type": "markdown",
   "metadata": {},
   "source": [
    "Example:"
   ]
  },
  {
   "cell_type": "code",
   "execution_count": null,
   "metadata": {},
   "outputs": [],
   "source": [
    "data = [(2, 6), (8, 4), (7, 3)]\n",
    "result = itertools.starmap(operator.mul, data)\n",
    "\n",
    "for each in result:\n",
    "   print(each)"
   ]
  },
  {
   "cell_type": "markdown",
   "metadata": {},
   "source": [
    "### takewhile\n",
    "\n",
    "The opposite of dropwhile(). Makes an iterator and returns elements from the iterable as long as the predicate is true."
   ]
  },
  {
   "cell_type": "code",
   "execution_count": null,
   "metadata": {},
   "outputs": [],
   "source": [
    "itertools.takewhile(predicate, iterable)"
   ]
  },
  {
   "cell_type": "markdown",
   "metadata": {},
   "source": [
    "Example:"
   ]
  },
  {
   "cell_type": "code",
   "execution_count": null,
   "metadata": {},
   "outputs": [],
   "source": [
    "data = [1, 2, 3, 4, 5, 6, 7, 8, 9, 10, 1]\n",
    "result = itertools.takewhile(lambda x: x<5, data)\n",
    "\n",
    "for each in result:\n",
    "   print(each)"
   ]
  },
  {
   "cell_type": "markdown",
   "metadata": {},
   "source": [
    "### tee\n",
    "\n",
    "Return n independent iterators from a single iterable."
   ]
  },
  {
   "cell_type": "code",
   "execution_count": null,
   "metadata": {},
   "outputs": [],
   "source": [
    "itertools.tee(iterable, n=2)"
   ]
  },
  {
   "cell_type": "markdown",
   "metadata": {},
   "source": [
    "Example:"
   ]
  },
  {
   "cell_type": "code",
   "execution_count": null,
   "metadata": {},
   "outputs": [],
   "source": [
    "colors = ['red', 'orange', 'yellow', 'green', 'blue']\n",
    "alpha_colors, beta_colors = itertools.tee(colors)\n",
    "\n",
    "for each in alpha_colors:\n",
    "   print(each)"
   ]
  },
  {
   "cell_type": "code",
   "execution_count": null,
   "metadata": {},
   "outputs": [],
   "source": [
    "colors = ['red', 'orange', 'yellow', 'green', 'blue']\n",
    "alpha_colors, beta_colors = itertools.tee(colors)\n",
    "\n",
    "for each in beta_colors:\n",
    "   print(each)"
   ]
  },
  {
   "cell_type": "markdown",
   "metadata": {},
   "source": [
    "### zip_longest\n",
    "\n",
    "Makes an iterator that aggregates elements from each of the iterables. If the iterables are of uneven length, missing values are filled-in with fillvalue. Iteration continues until the longest iterable is exhausted."
   ]
  },
  {
   "cell_type": "code",
   "execution_count": null,
   "metadata": {},
   "outputs": [],
   "source": [
    "itertools.zip_longest(*iterables, fillvalue=None)"
   ]
  },
  {
   "cell_type": "markdown",
   "metadata": {},
   "source": [
    "Example:"
   ]
  },
  {
   "cell_type": "code",
   "execution_count": null,
   "metadata": {},
   "outputs": [],
   "source": [
    "colors = ['red', 'orange', 'yellow', 'green', 'blue',]\n",
    "data = [1, 2, 3, 4, 5, 6, 7, 8, 9, 10,]\n",
    "\n",
    "for each in itertools.zip_longest(colors, data, fillvalue=None):\n",
    "   print(each)"
   ]
  }
 ],
 "metadata": {
  "kernelspec": {
   "display_name": "Python 3",
   "language": "python",
   "name": "python3"
  },
  "language_info": {
   "codemirror_mode": {
    "name": "ipython",
    "version": 3
   },
   "file_extension": ".py",
   "mimetype": "text/x-python",
   "name": "python",
   "nbconvert_exporter": "python",
   "pygments_lexer": "ipython3",
   "version": "3.8.2"
  }
 },
 "nbformat": 4,
 "nbformat_minor": 2
}