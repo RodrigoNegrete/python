{
 "cells": [
  {
   "cell_type": "markdown",
   "metadata": {},
   "source": [
    "# HTML files\n",
    "\n",
    "In scripts and Jupyter notebooks employing the bokeh.plotting interface, you can call the output_file() function in conjunction with show() or save() instead. The show() function creates an HTML document and displays it in a web browser whereas save() creates an HTML document and saves it locally."
   ]
  },
  {
   "cell_type": "code",
   "execution_count": 4,
   "metadata": {},
   "outputs": [
    {
     "name": "stdout",
     "output_type": "stream",
     "text": [
      "<!DOCTYPE html>\n",
      "<html lang=\"en\">\n",
      "  <head>\n",
      "    <meta charset=\"utf-8\">\n",
      "    <title>my plot</title>\n",
      "    <style>\n",
      "      html, body {\n",
      "        box-sizing: border-box;\n",
      "        display: flow-root;\n",
      "        height: 100%;\n",
      "        margin: 0;\n",
      "        padding: 0;\n",
      "      }\n",
      "    </style>\n",
      "    <script type=\"text/javascript\" src=\"https://cdn.bokeh.org/bokeh/release/bokeh-3.5.2.min.js\"></script>\n",
      "    <script type=\"text/javascript\">\n",
      "        Bokeh.set_log_level(\"info\");\n",
      "    </script>\n",
      "  </head>\n",
      "  <body>\n",
      "    <div id=\"bd1975cd-e14a-42d0-93b3-3b81a866123d\" data-root-id=\"p1121\" style=\"display: contents;\"></div>\n",
      "  \n",
      "    <script type=\"application/json\" id=\"e1943df3-3a7e-4c7e-b49e-5f33950f1c86\">\n",
      "      {\"14b6f0ba-322b-47f2-a394-3586acda1e34\":{\"version\":\"3.5.2\",\"title\":\"Bokeh Application\",\"roots\":[{\"type\":\"object\",\"name\":\"Figure\",\"id\":\"p1121\",\"attributes\":{\"x_range\":{\"type\":\"object\",\"name\":\"DataRange1d\",\"id\":\"p1122\"},\"y_range\":{\"type\":\"object\",\"name\":\"DataRange1d\",\"id\":\"p1123\"},\"x_scale\":{\"type\":\"object\",\"name\":\"LinearScale\",\"id\":\"p1130\"},\"y_scale\":{\"type\":\"object\",\"name\":\"LinearScale\",\"id\":\"p1131\"},\"title\":{\"type\":\"object\",\"name\":\"Title\",\"id\":\"p1128\"},\"renderers\":[{\"type\":\"object\",\"name\":\"GlyphRenderer\",\"id\":\"p1161\",\"attributes\":{\"data_source\":{\"type\":\"object\",\"name\":\"ColumnDataSource\",\"id\":\"p1155\",\"attributes\":{\"selected\":{\"type\":\"object\",\"name\":\"Selection\",\"id\":\"p1156\",\"attributes\":{\"indices\":[],\"line_indices\":[]}},\"selection_policy\":{\"type\":\"object\",\"name\":\"UnionRenderers\",\"id\":\"p1157\"},\"data\":{\"type\":\"map\",\"entries\":[[\"x\",[1,2]],[\"y\",[3,4]]]}}},\"view\":{\"type\":\"object\",\"name\":\"CDSView\",\"id\":\"p1162\",\"attributes\":{\"filter\":{\"type\":\"object\",\"name\":\"AllIndices\",\"id\":\"p1163\"}}},\"glyph\":{\"type\":\"object\",\"name\":\"Circle\",\"id\":\"p1158\",\"attributes\":{\"x\":{\"type\":\"field\",\"field\":\"x\"},\"y\":{\"type\":\"field\",\"field\":\"y\"},\"line_color\":{\"type\":\"value\",\"value\":\"#1f77b4\"},\"fill_color\":{\"type\":\"value\",\"value\":\"#1f77b4\"}}},\"nonselection_glyph\":{\"type\":\"object\",\"name\":\"Circle\",\"id\":\"p1159\",\"attributes\":{\"x\":{\"type\":\"field\",\"field\":\"x\"},\"y\":{\"type\":\"field\",\"field\":\"y\"},\"line_color\":{\"type\":\"value\",\"value\":\"#1f77b4\"},\"line_alpha\":{\"type\":\"value\",\"value\":0.1},\"fill_color\":{\"type\":\"value\",\"value\":\"#1f77b4\"},\"fill_alpha\":{\"type\":\"value\",\"value\":0.1},\"hatch_alpha\":{\"type\":\"value\",\"value\":0.1}}},\"muted_glyph\":{\"type\":\"object\",\"name\":\"Circle\",\"id\":\"p1160\",\"attributes\":{\"x\":{\"type\":\"field\",\"field\":\"x\"},\"y\":{\"type\":\"field\",\"field\":\"y\"},\"line_color\":{\"type\":\"value\",\"value\":\"#1f77b4\"},\"line_alpha\":{\"type\":\"value\",\"value\":0.2},\"fill_color\":{\"type\":\"value\",\"value\":\"#1f77b4\"},\"fill_alpha\":{\"type\":\"value\",\"value\":0.2},\"hatch_alpha\":{\"type\":\"value\",\"value\":0.2}}}}}],\"toolbar\":{\"type\":\"object\",\"name\":\"Toolbar\",\"id\":\"p1129\",\"attributes\":{\"tools\":[{\"type\":\"object\",\"name\":\"PanTool\",\"id\":\"p1142\"},{\"type\":\"object\",\"name\":\"WheelZoomTool\",\"id\":\"p1143\",\"attributes\":{\"renderers\":\"auto\"}},{\"type\":\"object\",\"name\":\"BoxZoomTool\",\"id\":\"p1144\",\"attributes\":{\"overlay\":{\"type\":\"object\",\"name\":\"BoxAnnotation\",\"id\":\"p1145\",\"attributes\":{\"syncable\":false,\"line_color\":\"black\",\"line_alpha\":1.0,\"line_width\":2,\"line_dash\":[4,4],\"fill_color\":\"lightgrey\",\"fill_alpha\":0.5,\"level\":\"overlay\",\"visible\":false,\"left\":{\"type\":\"number\",\"value\":\"nan\"},\"right\":{\"type\":\"number\",\"value\":\"nan\"},\"top\":{\"type\":\"number\",\"value\":\"nan\"},\"bottom\":{\"type\":\"number\",\"value\":\"nan\"},\"left_units\":\"canvas\",\"right_units\":\"canvas\",\"top_units\":\"canvas\",\"bottom_units\":\"canvas\",\"handles\":{\"type\":\"object\",\"name\":\"BoxInteractionHandles\",\"id\":\"p1151\",\"attributes\":{\"all\":{\"type\":\"object\",\"name\":\"AreaVisuals\",\"id\":\"p1150\",\"attributes\":{\"fill_color\":\"white\",\"hover_fill_color\":\"lightgray\"}}}}}}}},{\"type\":\"object\",\"name\":\"SaveTool\",\"id\":\"p1152\"},{\"type\":\"object\",\"name\":\"ResetTool\",\"id\":\"p1153\"},{\"type\":\"object\",\"name\":\"HelpTool\",\"id\":\"p1154\"}]}},\"left\":[{\"type\":\"object\",\"name\":\"LinearAxis\",\"id\":\"p1137\",\"attributes\":{\"ticker\":{\"type\":\"object\",\"name\":\"BasicTicker\",\"id\":\"p1138\",\"attributes\":{\"mantissas\":[1,2,5]}},\"formatter\":{\"type\":\"object\",\"name\":\"BasicTickFormatter\",\"id\":\"p1139\"},\"major_label_policy\":{\"type\":\"object\",\"name\":\"AllLabels\",\"id\":\"p1140\"}}}],\"below\":[{\"type\":\"object\",\"name\":\"LinearAxis\",\"id\":\"p1132\",\"attributes\":{\"ticker\":{\"type\":\"object\",\"name\":\"BasicTicker\",\"id\":\"p1133\",\"attributes\":{\"mantissas\":[1,2,5]}},\"formatter\":{\"type\":\"object\",\"name\":\"BasicTickFormatter\",\"id\":\"p1134\"},\"major_label_policy\":{\"type\":\"object\",\"name\":\"AllLabels\",\"id\":\"p1135\"}}}],\"center\":[{\"type\":\"object\",\"name\":\"Grid\",\"id\":\"p1136\",\"attributes\":{\"axis\":{\"id\":\"p1132\"}}},{\"type\":\"object\",\"name\":\"Grid\",\"id\":\"p1141\",\"attributes\":{\"dimension\":1,\"axis\":{\"id\":\"p1137\"}}}]}}]}}\n",
      "    </script>\n",
      "    <script type=\"text/javascript\">\n",
      "      (function() {\n",
      "        const fn = function() {\n",
      "          Bokeh.safely(function() {\n",
      "            (function(root) {\n",
      "              function embed_document(root) {\n",
      "              const docs_json = document.getElementById('e1943df3-3a7e-4c7e-b49e-5f33950f1c86').textContent;\n",
      "              const render_items = [{\"docid\":\"14b6f0ba-322b-47f2-a394-3586acda1e34\",\"roots\":{\"p1121\":\"bd1975cd-e14a-42d0-93b3-3b81a866123d\"},\"root_ids\":[\"p1121\"]}];\n",
      "              root.Bokeh.embed.embed_items(docs_json, render_items);\n",
      "              }\n",
      "              if (root.Bokeh !== undefined) {\n",
      "                embed_document(root);\n",
      "              } else {\n",
      "                let attempts = 0;\n",
      "                const timer = setInterval(function(root) {\n",
      "                  if (root.Bokeh !== undefined) {\n",
      "                    clearInterval(timer);\n",
      "                    embed_document(root);\n",
      "                  } else {\n",
      "                    attempts++;\n",
      "                    if (attempts > 100) {\n",
      "                      clearInterval(timer);\n",
      "                      console.log(\"Bokeh: ERROR: Unable to run BokehJS code because BokehJS library is missing\");\n",
      "                    }\n",
      "                  }\n",
      "                }, 10, root)\n",
      "              }\n",
      "            })(window);\n",
      "          });\n",
      "        };\n",
      "        if (document.readyState != \"loading\") fn();\n",
      "        else document.addEventListener(\"DOMContentLoaded\", fn);\n",
      "      })();\n",
      "    </script>\n",
      "  </body>\n",
      "</html>\n"
     ]
    }
   ],
   "source": [
    "from bokeh.plotting import figure\n",
    "from bokeh.resources import CDN\n",
    "from bokeh.embed import file_html\n",
    "\n",
    "plot = figure()\n",
    "plot.circle([1,2], [3,4])\n",
    "\n",
    "html = file_html(plot, CDN, \"my plot\")\n",
    "\n",
    "print(html)"
   ]
  },
  {
   "cell_type": "markdown",
   "metadata": {},
   "source": [
    "# JSON items"
   ]
  },
  {
   "cell_type": "code",
   "execution_count": 7,
   "metadata": {},
   "outputs": [
    {
     "ename": "NameError",
     "evalue": "name 'json_item' is not defined",
     "output_type": "error",
     "traceback": [
      "\u001b[1;31m---------------------------------------------------------------------------\u001b[0m",
      "\u001b[1;31mNameError\u001b[0m                                 Traceback (most recent call last)",
      "Cell \u001b[1;32mIn[7], line 6\u001b[0m\n\u001b[0;32m      3\u001b[0m p \u001b[38;5;241m=\u001b[39m figure()\n\u001b[0;32m      4\u001b[0m plot\u001b[38;5;241m.\u001b[39mcircle([\u001b[38;5;241m1\u001b[39m,\u001b[38;5;241m2\u001b[39m], [\u001b[38;5;241m3\u001b[39m,\u001b[38;5;241m4\u001b[39m])\n\u001b[1;32m----> 6\u001b[0m item_text \u001b[38;5;241m=\u001b[39m json\u001b[38;5;241m.\u001b[39mdumps(\u001b[43mjson_item\u001b[49m(p, \u001b[38;5;124m\"\u001b[39m\u001b[38;5;124mmyplot\u001b[39m\u001b[38;5;124m\"\u001b[39m))\n\u001b[0;32m      8\u001b[0m \u001b[38;5;28mprint\u001b[39m(item_text)\n",
      "\u001b[1;31mNameError\u001b[0m: name 'json_item' is not defined"
     ]
    }
   ],
   "source": [
    "import json\n",
    "\n",
    "p = figure()\n",
    "plot.circle([1,2], [3,4])\n",
    "\n",
    "item_text = json.dumps(json_item(p, \"myplot\"))\n",
    "\n",
    "print(item_text)"
   ]
  },
  {
   "cell_type": "markdown",
   "metadata": {},
   "source": [
    "# Components\n",
    "\n",
    "You can also have Bokeh return individual components of a standalone document to embed them one by one with the components() function. This function returns a <script> that contains the data for your plot and provides a target <div> to display the plot view. You can use these elements in HTML documents however you like."
   ]
  },
  {
   "cell_type": "code",
   "execution_count": 10,
   "metadata": {},
   "outputs": [],
   "source": [
    "from bokeh.plotting import figure\n",
    "from bokeh.embed import components\n",
    "\n",
    "plot = figure()\n",
    "plot.circle([1,2], [3,4])\n",
    "\n",
    "script, div = components(plot)"
   ]
  },
  {
   "cell_type": "code",
   "execution_count": 12,
   "metadata": {},
   "outputs": [
    {
     "name": "stdout",
     "output_type": "stream",
     "text": [
      "    <script type=\"text/javascript\">\n",
      "        (function() {\n",
      "  const fn = function() {\n",
      "    Bokeh.safely(function() {\n",
      "      (function(root) {\n",
      "        function embed_document(root) {\n",
      "        const docs_json = '{\"764faa2f-d272-43be-93b7-a3cd148d5b1f\":{\"version\":\"3.5.2\",\"title\":\"Bokeh Application\",\"roots\":[{\"type\":\"object\",\"name\":\"Figure\",\"id\":\"p1370\",\"attributes\":{\"x_range\":{\"type\":\"object\",\"name\":\"DataRange1d\",\"id\":\"p1371\"},\"y_range\":{\"type\":\"object\",\"name\":\"DataRange1d\",\"id\":\"p1372\"},\"x_scale\":{\"type\":\"object\",\"name\":\"LinearScale\",\"id\":\"p1379\"},\"y_scale\":{\"type\":\"object\",\"name\":\"LinearScale\",\"id\":\"p1380\"},\"title\":{\"type\":\"object\",\"name\":\"Title\",\"id\":\"p1377\"},\"renderers\":[{\"type\":\"object\",\"name\":\"GlyphRenderer\",\"id\":\"p1410\",\"attributes\":{\"data_source\":{\"type\":\"object\",\"name\":\"ColumnDataSource\",\"id\":\"p1404\",\"attributes\":{\"selected\":{\"type\":\"object\",\"name\":\"Selection\",\"id\":\"p1405\",\"attributes\":{\"indices\":[],\"line_indices\":[]}},\"selection_policy\":{\"type\":\"object\",\"name\":\"UnionRenderers\",\"id\":\"p1406\"},\"data\":{\"type\":\"map\",\"entries\":[[\"x\",[1,2]],[\"y\",[3,4]]]}}},\"view\":{\"type\":\"object\",\"name\":\"CDSView\",\"id\":\"p1411\",\"attributes\":{\"filter\":{\"type\":\"object\",\"name\":\"AllIndices\",\"id\":\"p1412\"}}},\"glyph\":{\"type\":\"object\",\"name\":\"Circle\",\"id\":\"p1407\",\"attributes\":{\"x\":{\"type\":\"field\",\"field\":\"x\"},\"y\":{\"type\":\"field\",\"field\":\"y\"},\"line_color\":{\"type\":\"value\",\"value\":\"#1f77b4\"},\"fill_color\":{\"type\":\"value\",\"value\":\"#1f77b4\"}}},\"nonselection_glyph\":{\"type\":\"object\",\"name\":\"Circle\",\"id\":\"p1408\",\"attributes\":{\"x\":{\"type\":\"field\",\"field\":\"x\"},\"y\":{\"type\":\"field\",\"field\":\"y\"},\"line_color\":{\"type\":\"value\",\"value\":\"#1f77b4\"},\"line_alpha\":{\"type\":\"value\",\"value\":0.1},\"fill_color\":{\"type\":\"value\",\"value\":\"#1f77b4\"},\"fill_alpha\":{\"type\":\"value\",\"value\":0.1},\"hatch_alpha\":{\"type\":\"value\",\"value\":0.1}}},\"muted_glyph\":{\"type\":\"object\",\"name\":\"Circle\",\"id\":\"p1409\",\"attributes\":{\"x\":{\"type\":\"field\",\"field\":\"x\"},\"y\":{\"type\":\"field\",\"field\":\"y\"},\"line_color\":{\"type\":\"value\",\"value\":\"#1f77b4\"},\"line_alpha\":{\"type\":\"value\",\"value\":0.2},\"fill_color\":{\"type\":\"value\",\"value\":\"#1f77b4\"},\"fill_alpha\":{\"type\":\"value\",\"value\":0.2},\"hatch_alpha\":{\"type\":\"value\",\"value\":0.2}}}}}],\"toolbar\":{\"type\":\"object\",\"name\":\"Toolbar\",\"id\":\"p1378\",\"attributes\":{\"tools\":[{\"type\":\"object\",\"name\":\"PanTool\",\"id\":\"p1391\"},{\"type\":\"object\",\"name\":\"WheelZoomTool\",\"id\":\"p1392\",\"attributes\":{\"renderers\":\"auto\"}},{\"type\":\"object\",\"name\":\"BoxZoomTool\",\"id\":\"p1393\",\"attributes\":{\"overlay\":{\"type\":\"object\",\"name\":\"BoxAnnotation\",\"id\":\"p1394\",\"attributes\":{\"syncable\":false,\"line_color\":\"black\",\"line_alpha\":1.0,\"line_width\":2,\"line_dash\":[4,4],\"fill_color\":\"lightgrey\",\"fill_alpha\":0.5,\"level\":\"overlay\",\"visible\":false,\"left\":{\"type\":\"number\",\"value\":\"nan\"},\"right\":{\"type\":\"number\",\"value\":\"nan\"},\"top\":{\"type\":\"number\",\"value\":\"nan\"},\"bottom\":{\"type\":\"number\",\"value\":\"nan\"},\"left_units\":\"canvas\",\"right_units\":\"canvas\",\"top_units\":\"canvas\",\"bottom_units\":\"canvas\",\"handles\":{\"type\":\"object\",\"name\":\"BoxInteractionHandles\",\"id\":\"p1400\",\"attributes\":{\"all\":{\"type\":\"object\",\"name\":\"AreaVisuals\",\"id\":\"p1399\",\"attributes\":{\"fill_color\":\"white\",\"hover_fill_color\":\"lightgray\"}}}}}}}},{\"type\":\"object\",\"name\":\"SaveTool\",\"id\":\"p1401\"},{\"type\":\"object\",\"name\":\"ResetTool\",\"id\":\"p1402\"},{\"type\":\"object\",\"name\":\"HelpTool\",\"id\":\"p1403\"}]}},\"left\":[{\"type\":\"object\",\"name\":\"LinearAxis\",\"id\":\"p1386\",\"attributes\":{\"ticker\":{\"type\":\"object\",\"name\":\"BasicTicker\",\"id\":\"p1387\",\"attributes\":{\"mantissas\":[1,2,5]}},\"formatter\":{\"type\":\"object\",\"name\":\"BasicTickFormatter\",\"id\":\"p1388\"},\"major_label_policy\":{\"type\":\"object\",\"name\":\"AllLabels\",\"id\":\"p1389\"}}}],\"below\":[{\"type\":\"object\",\"name\":\"LinearAxis\",\"id\":\"p1381\",\"attributes\":{\"ticker\":{\"type\":\"object\",\"name\":\"BasicTicker\",\"id\":\"p1382\",\"attributes\":{\"mantissas\":[1,2,5]}},\"formatter\":{\"type\":\"object\",\"name\":\"BasicTickFormatter\",\"id\":\"p1383\"},\"major_label_policy\":{\"type\":\"object\",\"name\":\"AllLabels\",\"id\":\"p1384\"}}}],\"center\":[{\"type\":\"object\",\"name\":\"Grid\",\"id\":\"p1385\",\"attributes\":{\"axis\":{\"id\":\"p1381\"}}},{\"type\":\"object\",\"name\":\"Grid\",\"id\":\"p1390\",\"attributes\":{\"dimension\":1,\"axis\":{\"id\":\"p1386\"}}}]}}]}}';\n",
      "        const render_items = [{\"docid\":\"764faa2f-d272-43be-93b7-a3cd148d5b1f\",\"roots\":{\"p1370\":\"eb474475-e0a0-4dfd-a4c2-b980601b89f5\"},\"root_ids\":[\"p1370\"]}];\n",
      "        root.Bokeh.embed.embed_items(docs_json, render_items);\n",
      "        }\n",
      "        if (root.Bokeh !== undefined) {\n",
      "          embed_document(root);\n",
      "        } else {\n",
      "          let attempts = 0;\n",
      "          const timer = setInterval(function(root) {\n",
      "            if (root.Bokeh !== undefined) {\n",
      "              clearInterval(timer);\n",
      "              embed_document(root);\n",
      "            } else {\n",
      "              attempts++;\n",
      "              if (attempts > 100) {\n",
      "                clearInterval(timer);\n",
      "                console.log(\"Bokeh: ERROR: Unable to run BokehJS code because BokehJS library is missing\");\n",
      "              }\n",
      "            }\n",
      "          }, 10, root)\n",
      "        }\n",
      "      })(window);\n",
      "    });\n",
      "  };\n",
      "  if (document.readyState != \"loading\") fn();\n",
      "  else document.addEventListener(\"DOMContentLoaded\", fn);\n",
      "})();\n",
      "    </script>\n",
      "\n"
     ]
    }
   ],
   "source": [
    "print(script)"
   ]
  },
  {
   "cell_type": "code",
   "execution_count": 13,
   "metadata": {},
   "outputs": [
    {
     "name": "stdout",
     "output_type": "stream",
     "text": [
      "<div id=\"eb474475-e0a0-4dfd-a4c2-b980601b89f5\" data-root-id=\"p1370\" style=\"display: contents;\"></div>\n"
     ]
    }
   ],
   "source": [
    "print(div)"
   ]
  }
 ],
 "metadata": {
  "kernelspec": {
   "display_name": "Python 3",
   "language": "python",
   "name": "python3"
  },
  "language_info": {
   "codemirror_mode": {
    "name": "ipython",
    "version": 3
   },
   "file_extension": ".py",
   "mimetype": "text/x-python",
   "name": "python",
   "nbconvert_exporter": "python",
   "pygments_lexer": "ipython3",
   "version": "3.11.4"
  }
 },
 "nbformat": 4,
 "nbformat_minor": 2
}
