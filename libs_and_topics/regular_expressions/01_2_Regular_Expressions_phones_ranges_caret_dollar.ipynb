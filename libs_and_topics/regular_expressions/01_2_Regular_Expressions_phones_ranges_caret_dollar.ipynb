{
 "cells": [
  {
   "cell_type": "markdown",
   "metadata": {},
   "source": [
    "### match phones"
   ]
  },
  {
   "cell_type": "code",
   "execution_count": 1,
   "metadata": {},
   "outputs": [],
   "source": [
    "import re"
   ]
  },
  {
   "cell_type": "code",
   "execution_count": 2,
   "metadata": {},
   "outputs": [],
   "source": [
    "text_to_search = \"\"\"Start\n",
    "abcdefghijklmnopqurtuvwxyz\n",
    "ABCDEFGHIJKLMNOPQRSTUVWXYZ\n",
    "1234567890\n",
    "\n",
    "Ha HaHa\n",
    "\n",
    "MetaCharacters (Need to be escaped):\n",
    ".[{()\\^$|?*+\n",
    "\n",
    "coreyms.com\n",
    "\n",
    "Middle\n",
    "\n",
    "321-555-4321\n",
    "123.555.1234\n",
    "123*555*1234\n",
    "800-555-1234\n",
    "900-555-1234\n",
    "\n",
    "Mr. Schafer\n",
    "Mr Smith\n",
    "Ms Davis\n",
    "Mrs. Robinson\n",
    "Mr. T\n",
    "\n",
    "cat\n",
    "mat\n",
    "pat\n",
    "bat\n",
    "\n",
    "end\n",
    "\"\"\""
   ]
  },
  {
   "cell_type": "code",
   "execution_count": 2,
   "metadata": {},
   "outputs": [
    {
     "name": "stdout",
     "output_type": "stream",
     "text": [
      "Phone number found: 415-555-4242\n"
     ]
    }
   ],
   "source": [
    "pattern = re.compile(r'\\d\\d\\d-\\d\\d\\d-\\d\\d\\d\\d')\n",
    "matches = pattern.search('My number is 415-555-4242.')\n",
    "print('Phone number found: {}'.format(matches.group()))"
   ]
  },
  {
   "cell_type": "code",
   "execution_count": 5,
   "metadata": {},
   "outputs": [
    {
     "name": "stdout",
     "output_type": "stream",
     "text": [
      "<re.Match object; span=(153, 165), match='321-555-4321'>\n",
      "<re.Match object; span=(192, 204), match='800-555-1234'>\n",
      "<re.Match object; span=(205, 217), match='900-555-1234'>\n"
     ]
    }
   ],
   "source": [
    "# phone number only with -\n",
    "pattern = re.compile(r\"\\d\\d\\d-\\d\\d\\d-\\d\\d\\d\\d\")\n",
    "\n",
    "matches = pattern.finditer(text_to_search)\n",
    "\n",
    "for match in matches:\n",
    "    print(match)"
   ]
  },
  {
   "cell_type": "code",
   "execution_count": 6,
   "metadata": {},
   "outputs": [
    {
     "name": "stdout",
     "output_type": "stream",
     "text": [
      "<re.Match object; span=(153, 165), match='321-555-4321'>\n",
      "<re.Match object; span=(166, 178), match='123.555.1234'>\n",
      "<re.Match object; span=(179, 191), match='123*555*1234'>\n",
      "<re.Match object; span=(192, 204), match='800-555-1234'>\n",
      "<re.Match object; span=(205, 217), match='900-555-1234'>\n"
     ]
    }
   ],
   "source": [
    "# phone number pattern with any character using dot \n",
    "pattern = re.compile(r\"\\d\\d\\d.\\d\\d\\d.\\d\\d\\d\\d\")\n",
    "\n",
    "matches = pattern.finditer(text_to_search)\n",
    "\n",
    "for match in matches:\n",
    "    print(match)"
   ]
  },
  {
   "cell_type": "code",
   "execution_count": 7,
   "metadata": {},
   "outputs": [
    {
     "name": "stdout",
     "output_type": "stream",
     "text": [
      "<re.Match object; span=(192, 204), match='800-555-1234'>\n",
      "<re.Match object; span=(205, 217), match='900-555-1234'>\n"
     ]
    }
   ],
   "source": [
    "# match 800 and 900 numbers\n",
    "pattern = re.compile(r'[89]00[-.]\\d\\d\\d[-.]\\d\\d\\d\\d')\n",
    "\n",
    "matches = pattern.finditer(text_to_search)\n",
    "\n",
    "for match in matches:\n",
    "    print(match)"
   ]
  },
  {
   "cell_type": "markdown",
   "metadata": {},
   "source": [
    "## ranges"
   ]
  },
  {
   "cell_type": "code",
   "execution_count": 8,
   "metadata": {},
   "outputs": [
    {
     "name": "stdout",
     "output_type": "stream",
     "text": [
      "<re.Match object; span=(60, 61), match='1'>\n",
      "<re.Match object; span=(61, 62), match='2'>\n",
      "<re.Match object; span=(62, 63), match='3'>\n",
      "<re.Match object; span=(63, 64), match='4'>\n",
      "<re.Match object; span=(64, 65), match='5'>\n",
      "<re.Match object; span=(153, 154), match='3'>\n",
      "<re.Match object; span=(154, 155), match='2'>\n",
      "<re.Match object; span=(155, 156), match='1'>\n",
      "<re.Match object; span=(157, 158), match='5'>\n",
      "<re.Match object; span=(158, 159), match='5'>\n",
      "<re.Match object; span=(159, 160), match='5'>\n",
      "<re.Match object; span=(161, 162), match='4'>\n",
      "<re.Match object; span=(162, 163), match='3'>\n",
      "<re.Match object; span=(163, 164), match='2'>\n",
      "<re.Match object; span=(164, 165), match='1'>\n",
      "<re.Match object; span=(166, 167), match='1'>\n",
      "<re.Match object; span=(167, 168), match='2'>\n",
      "<re.Match object; span=(168, 169), match='3'>\n",
      "<re.Match object; span=(170, 171), match='5'>\n",
      "<re.Match object; span=(171, 172), match='5'>\n",
      "<re.Match object; span=(172, 173), match='5'>\n",
      "<re.Match object; span=(174, 175), match='1'>\n",
      "<re.Match object; span=(175, 176), match='2'>\n",
      "<re.Match object; span=(176, 177), match='3'>\n",
      "<re.Match object; span=(177, 178), match='4'>\n",
      "<re.Match object; span=(179, 180), match='1'>\n",
      "<re.Match object; span=(180, 181), match='2'>\n",
      "<re.Match object; span=(181, 182), match='3'>\n",
      "<re.Match object; span=(183, 184), match='5'>\n",
      "<re.Match object; span=(184, 185), match='5'>\n",
      "<re.Match object; span=(185, 186), match='5'>\n",
      "<re.Match object; span=(187, 188), match='1'>\n",
      "<re.Match object; span=(188, 189), match='2'>\n",
      "<re.Match object; span=(189, 190), match='3'>\n",
      "<re.Match object; span=(190, 191), match='4'>\n",
      "<re.Match object; span=(196, 197), match='5'>\n",
      "<re.Match object; span=(197, 198), match='5'>\n",
      "<re.Match object; span=(198, 199), match='5'>\n",
      "<re.Match object; span=(200, 201), match='1'>\n",
      "<re.Match object; span=(201, 202), match='2'>\n",
      "<re.Match object; span=(202, 203), match='3'>\n",
      "<re.Match object; span=(203, 204), match='4'>\n",
      "<re.Match object; span=(209, 210), match='5'>\n",
      "<re.Match object; span=(210, 211), match='5'>\n",
      "<re.Match object; span=(211, 212), match='5'>\n",
      "<re.Match object; span=(213, 214), match='1'>\n",
      "<re.Match object; span=(214, 215), match='2'>\n",
      "<re.Match object; span=(215, 216), match='3'>\n",
      "<re.Match object; span=(216, 217), match='4'>\n"
     ]
    }
   ],
   "source": [
    "# match a range of letter or digits use [-]\n",
    "pattern = re.compile(r'[1-5]')\n",
    "\n",
    "matches = pattern.finditer(text_to_search)\n",
    "\n",
    "for match in matches:\n",
    "    print(match)"
   ]
  },
  {
   "cell_type": "code",
   "execution_count": 9,
   "metadata": {},
   "outputs": [
    {
     "name": "stdout",
     "output_type": "stream",
     "text": [
      "<re.Match object; span=(1, 2), match='t'>\n",
      "<re.Match object; span=(2, 3), match='a'>\n",
      "<re.Match object; span=(3, 4), match='r'>\n",
      "<re.Match object; span=(4, 5), match='t'>\n",
      "<re.Match object; span=(6, 7), match='a'>\n",
      "<re.Match object; span=(7, 8), match='b'>\n",
      "<re.Match object; span=(8, 9), match='c'>\n",
      "<re.Match object; span=(9, 10), match='d'>\n",
      "<re.Match object; span=(10, 11), match='e'>\n",
      "<re.Match object; span=(11, 12), match='f'>\n",
      "<re.Match object; span=(12, 13), match='g'>\n",
      "<re.Match object; span=(13, 14), match='h'>\n",
      "<re.Match object; span=(14, 15), match='i'>\n",
      "<re.Match object; span=(15, 16), match='j'>\n",
      "<re.Match object; span=(16, 17), match='k'>\n",
      "<re.Match object; span=(17, 18), match='l'>\n",
      "<re.Match object; span=(18, 19), match='m'>\n",
      "<re.Match object; span=(19, 20), match='n'>\n",
      "<re.Match object; span=(20, 21), match='o'>\n",
      "<re.Match object; span=(21, 22), match='p'>\n",
      "<re.Match object; span=(22, 23), match='q'>\n",
      "<re.Match object; span=(23, 24), match='u'>\n",
      "<re.Match object; span=(24, 25), match='r'>\n",
      "<re.Match object; span=(25, 26), match='t'>\n",
      "<re.Match object; span=(26, 27), match='u'>\n",
      "<re.Match object; span=(27, 28), match='v'>\n",
      "<re.Match object; span=(28, 29), match='w'>\n",
      "<re.Match object; span=(29, 30), match='x'>\n",
      "<re.Match object; span=(30, 31), match='y'>\n",
      "<re.Match object; span=(31, 32), match='z'>\n",
      "<re.Match object; span=(73, 74), match='a'>\n",
      "<re.Match object; span=(76, 77), match='a'>\n",
      "<re.Match object; span=(78, 79), match='a'>\n",
      "<re.Match object; span=(82, 83), match='e'>\n",
      "<re.Match object; span=(83, 84), match='t'>\n",
      "<re.Match object; span=(84, 85), match='a'>\n",
      "<re.Match object; span=(86, 87), match='h'>\n",
      "<re.Match object; span=(87, 88), match='a'>\n",
      "<re.Match object; span=(88, 89), match='r'>\n",
      "<re.Match object; span=(89, 90), match='a'>\n",
      "<re.Match object; span=(90, 91), match='c'>\n",
      "<re.Match object; span=(91, 92), match='t'>\n",
      "<re.Match object; span=(92, 93), match='e'>\n",
      "<re.Match object; span=(93, 94), match='r'>\n",
      "<re.Match object; span=(94, 95), match='s'>\n",
      "<re.Match object; span=(98, 99), match='e'>\n",
      "<re.Match object; span=(99, 100), match='e'>\n",
      "<re.Match object; span=(100, 101), match='d'>\n",
      "<re.Match object; span=(102, 103), match='t'>\n",
      "<re.Match object; span=(103, 104), match='o'>\n",
      "<re.Match object; span=(105, 106), match='b'>\n",
      "<re.Match object; span=(106, 107), match='e'>\n",
      "<re.Match object; span=(108, 109), match='e'>\n",
      "<re.Match object; span=(109, 110), match='s'>\n",
      "<re.Match object; span=(110, 111), match='c'>\n",
      "<re.Match object; span=(111, 112), match='a'>\n",
      "<re.Match object; span=(112, 113), match='p'>\n",
      "<re.Match object; span=(113, 114), match='e'>\n",
      "<re.Match object; span=(114, 115), match='d'>\n",
      "<re.Match object; span=(132, 133), match='c'>\n",
      "<re.Match object; span=(133, 134), match='o'>\n",
      "<re.Match object; span=(134, 135), match='r'>\n",
      "<re.Match object; span=(135, 136), match='e'>\n",
      "<re.Match object; span=(136, 137), match='y'>\n",
      "<re.Match object; span=(137, 138), match='m'>\n",
      "<re.Match object; span=(138, 139), match='s'>\n",
      "<re.Match object; span=(140, 141), match='c'>\n",
      "<re.Match object; span=(141, 142), match='o'>\n",
      "<re.Match object; span=(142, 143), match='m'>\n",
      "<re.Match object; span=(146, 147), match='i'>\n",
      "<re.Match object; span=(147, 148), match='d'>\n",
      "<re.Match object; span=(148, 149), match='d'>\n",
      "<re.Match object; span=(149, 150), match='l'>\n",
      "<re.Match object; span=(150, 151), match='e'>\n",
      "<re.Match object; span=(220, 221), match='r'>\n",
      "<re.Match object; span=(224, 225), match='c'>\n",
      "<re.Match object; span=(225, 226), match='h'>\n",
      "<re.Match object; span=(226, 227), match='a'>\n",
      "<re.Match object; span=(227, 228), match='f'>\n",
      "<re.Match object; span=(228, 229), match='e'>\n",
      "<re.Match object; span=(229, 230), match='r'>\n",
      "<re.Match object; span=(232, 233), match='r'>\n",
      "<re.Match object; span=(235, 236), match='m'>\n",
      "<re.Match object; span=(236, 237), match='i'>\n",
      "<re.Match object; span=(237, 238), match='t'>\n",
      "<re.Match object; span=(238, 239), match='h'>\n",
      "<re.Match object; span=(241, 242), match='s'>\n",
      "<re.Match object; span=(244, 245), match='a'>\n",
      "<re.Match object; span=(245, 246), match='v'>\n",
      "<re.Match object; span=(246, 247), match='i'>\n",
      "<re.Match object; span=(247, 248), match='s'>\n",
      "<re.Match object; span=(250, 251), match='r'>\n",
      "<re.Match object; span=(251, 252), match='s'>\n",
      "<re.Match object; span=(255, 256), match='o'>\n",
      "<re.Match object; span=(256, 257), match='b'>\n",
      "<re.Match object; span=(257, 258), match='i'>\n",
      "<re.Match object; span=(258, 259), match='n'>\n",
      "<re.Match object; span=(259, 260), match='s'>\n",
      "<re.Match object; span=(260, 261), match='o'>\n",
      "<re.Match object; span=(261, 262), match='n'>\n",
      "<re.Match object; span=(264, 265), match='r'>\n",
      "<re.Match object; span=(270, 271), match='c'>\n",
      "<re.Match object; span=(271, 272), match='a'>\n",
      "<re.Match object; span=(272, 273), match='t'>\n",
      "<re.Match object; span=(274, 275), match='m'>\n",
      "<re.Match object; span=(275, 276), match='a'>\n",
      "<re.Match object; span=(276, 277), match='t'>\n",
      "<re.Match object; span=(278, 279), match='p'>\n",
      "<re.Match object; span=(279, 280), match='a'>\n",
      "<re.Match object; span=(280, 281), match='t'>\n",
      "<re.Match object; span=(282, 283), match='b'>\n",
      "<re.Match object; span=(283, 284), match='a'>\n",
      "<re.Match object; span=(284, 285), match='t'>\n",
      "<re.Match object; span=(287, 288), match='e'>\n",
      "<re.Match object; span=(288, 289), match='n'>\n",
      "<re.Match object; span=(289, 290), match='d'>\n"
     ]
    }
   ],
   "source": [
    "pattern = re.compile(r'[a-z]')\n",
    "\n",
    "matches = pattern.finditer(text_to_search)\n",
    "\n",
    "for match in matches:\n",
    "    print(match)"
   ]
  },
  {
   "cell_type": "code",
   "execution_count": 10,
   "metadata": {},
   "outputs": [
    {
     "name": "stdout",
     "output_type": "stream",
     "text": [
      "<re.Match object; span=(0, 1), match='S'>\n",
      "<re.Match object; span=(1, 2), match='t'>\n",
      "<re.Match object; span=(2, 3), match='a'>\n",
      "<re.Match object; span=(3, 4), match='r'>\n",
      "<re.Match object; span=(4, 5), match='t'>\n",
      "<re.Match object; span=(6, 7), match='a'>\n",
      "<re.Match object; span=(7, 8), match='b'>\n",
      "<re.Match object; span=(8, 9), match='c'>\n",
      "<re.Match object; span=(9, 10), match='d'>\n",
      "<re.Match object; span=(10, 11), match='e'>\n",
      "<re.Match object; span=(11, 12), match='f'>\n",
      "<re.Match object; span=(12, 13), match='g'>\n",
      "<re.Match object; span=(13, 14), match='h'>\n",
      "<re.Match object; span=(14, 15), match='i'>\n",
      "<re.Match object; span=(15, 16), match='j'>\n",
      "<re.Match object; span=(16, 17), match='k'>\n",
      "<re.Match object; span=(17, 18), match='l'>\n",
      "<re.Match object; span=(18, 19), match='m'>\n",
      "<re.Match object; span=(19, 20), match='n'>\n",
      "<re.Match object; span=(20, 21), match='o'>\n",
      "<re.Match object; span=(21, 22), match='p'>\n",
      "<re.Match object; span=(22, 23), match='q'>\n",
      "<re.Match object; span=(23, 24), match='u'>\n",
      "<re.Match object; span=(24, 25), match='r'>\n",
      "<re.Match object; span=(25, 26), match='t'>\n",
      "<re.Match object; span=(26, 27), match='u'>\n",
      "<re.Match object; span=(27, 28), match='v'>\n",
      "<re.Match object; span=(28, 29), match='w'>\n",
      "<re.Match object; span=(29, 30), match='x'>\n",
      "<re.Match object; span=(30, 31), match='y'>\n",
      "<re.Match object; span=(31, 32), match='z'>\n",
      "<re.Match object; span=(33, 34), match='A'>\n",
      "<re.Match object; span=(34, 35), match='B'>\n",
      "<re.Match object; span=(35, 36), match='C'>\n",
      "<re.Match object; span=(36, 37), match='D'>\n",
      "<re.Match object; span=(37, 38), match='E'>\n",
      "<re.Match object; span=(38, 39), match='F'>\n",
      "<re.Match object; span=(39, 40), match='G'>\n",
      "<re.Match object; span=(40, 41), match='H'>\n",
      "<re.Match object; span=(41, 42), match='I'>\n",
      "<re.Match object; span=(42, 43), match='J'>\n",
      "<re.Match object; span=(43, 44), match='K'>\n",
      "<re.Match object; span=(44, 45), match='L'>\n",
      "<re.Match object; span=(45, 46), match='M'>\n",
      "<re.Match object; span=(46, 47), match='N'>\n",
      "<re.Match object; span=(47, 48), match='O'>\n",
      "<re.Match object; span=(48, 49), match='P'>\n",
      "<re.Match object; span=(49, 50), match='Q'>\n",
      "<re.Match object; span=(50, 51), match='R'>\n",
      "<re.Match object; span=(51, 52), match='S'>\n",
      "<re.Match object; span=(52, 53), match='T'>\n",
      "<re.Match object; span=(53, 54), match='U'>\n",
      "<re.Match object; span=(54, 55), match='V'>\n",
      "<re.Match object; span=(55, 56), match='W'>\n",
      "<re.Match object; span=(56, 57), match='X'>\n",
      "<re.Match object; span=(57, 58), match='Y'>\n",
      "<re.Match object; span=(58, 59), match='Z'>\n",
      "<re.Match object; span=(72, 73), match='H'>\n",
      "<re.Match object; span=(73, 74), match='a'>\n",
      "<re.Match object; span=(75, 76), match='H'>\n",
      "<re.Match object; span=(76, 77), match='a'>\n",
      "<re.Match object; span=(77, 78), match='H'>\n",
      "<re.Match object; span=(78, 79), match='a'>\n",
      "<re.Match object; span=(81, 82), match='M'>\n",
      "<re.Match object; span=(82, 83), match='e'>\n",
      "<re.Match object; span=(83, 84), match='t'>\n",
      "<re.Match object; span=(84, 85), match='a'>\n",
      "<re.Match object; span=(85, 86), match='C'>\n",
      "<re.Match object; span=(86, 87), match='h'>\n",
      "<re.Match object; span=(87, 88), match='a'>\n",
      "<re.Match object; span=(88, 89), match='r'>\n",
      "<re.Match object; span=(89, 90), match='a'>\n",
      "<re.Match object; span=(90, 91), match='c'>\n",
      "<re.Match object; span=(91, 92), match='t'>\n",
      "<re.Match object; span=(92, 93), match='e'>\n",
      "<re.Match object; span=(93, 94), match='r'>\n",
      "<re.Match object; span=(94, 95), match='s'>\n",
      "<re.Match object; span=(97, 98), match='N'>\n",
      "<re.Match object; span=(98, 99), match='e'>\n",
      "<re.Match object; span=(99, 100), match='e'>\n",
      "<re.Match object; span=(100, 101), match='d'>\n",
      "<re.Match object; span=(102, 103), match='t'>\n",
      "<re.Match object; span=(103, 104), match='o'>\n",
      "<re.Match object; span=(105, 106), match='b'>\n",
      "<re.Match object; span=(106, 107), match='e'>\n",
      "<re.Match object; span=(108, 109), match='e'>\n",
      "<re.Match object; span=(109, 110), match='s'>\n",
      "<re.Match object; span=(110, 111), match='c'>\n",
      "<re.Match object; span=(111, 112), match='a'>\n",
      "<re.Match object; span=(112, 113), match='p'>\n",
      "<re.Match object; span=(113, 114), match='e'>\n",
      "<re.Match object; span=(114, 115), match='d'>\n",
      "<re.Match object; span=(132, 133), match='c'>\n",
      "<re.Match object; span=(133, 134), match='o'>\n",
      "<re.Match object; span=(134, 135), match='r'>\n",
      "<re.Match object; span=(135, 136), match='e'>\n",
      "<re.Match object; span=(136, 137), match='y'>\n",
      "<re.Match object; span=(137, 138), match='m'>\n",
      "<re.Match object; span=(138, 139), match='s'>\n",
      "<re.Match object; span=(140, 141), match='c'>\n",
      "<re.Match object; span=(141, 142), match='o'>\n",
      "<re.Match object; span=(142, 143), match='m'>\n",
      "<re.Match object; span=(145, 146), match='M'>\n",
      "<re.Match object; span=(146, 147), match='i'>\n",
      "<re.Match object; span=(147, 148), match='d'>\n",
      "<re.Match object; span=(148, 149), match='d'>\n",
      "<re.Match object; span=(149, 150), match='l'>\n",
      "<re.Match object; span=(150, 151), match='e'>\n",
      "<re.Match object; span=(219, 220), match='M'>\n",
      "<re.Match object; span=(220, 221), match='r'>\n",
      "<re.Match object; span=(223, 224), match='S'>\n",
      "<re.Match object; span=(224, 225), match='c'>\n",
      "<re.Match object; span=(225, 226), match='h'>\n",
      "<re.Match object; span=(226, 227), match='a'>\n",
      "<re.Match object; span=(227, 228), match='f'>\n",
      "<re.Match object; span=(228, 229), match='e'>\n",
      "<re.Match object; span=(229, 230), match='r'>\n",
      "<re.Match object; span=(231, 232), match='M'>\n",
      "<re.Match object; span=(232, 233), match='r'>\n",
      "<re.Match object; span=(234, 235), match='S'>\n",
      "<re.Match object; span=(235, 236), match='m'>\n",
      "<re.Match object; span=(236, 237), match='i'>\n",
      "<re.Match object; span=(237, 238), match='t'>\n",
      "<re.Match object; span=(238, 239), match='h'>\n",
      "<re.Match object; span=(240, 241), match='M'>\n",
      "<re.Match object; span=(241, 242), match='s'>\n",
      "<re.Match object; span=(243, 244), match='D'>\n",
      "<re.Match object; span=(244, 245), match='a'>\n",
      "<re.Match object; span=(245, 246), match='v'>\n",
      "<re.Match object; span=(246, 247), match='i'>\n",
      "<re.Match object; span=(247, 248), match='s'>\n",
      "<re.Match object; span=(249, 250), match='M'>\n",
      "<re.Match object; span=(250, 251), match='r'>\n",
      "<re.Match object; span=(251, 252), match='s'>\n",
      "<re.Match object; span=(254, 255), match='R'>\n",
      "<re.Match object; span=(255, 256), match='o'>\n",
      "<re.Match object; span=(256, 257), match='b'>\n",
      "<re.Match object; span=(257, 258), match='i'>\n",
      "<re.Match object; span=(258, 259), match='n'>\n",
      "<re.Match object; span=(259, 260), match='s'>\n",
      "<re.Match object; span=(260, 261), match='o'>\n",
      "<re.Match object; span=(261, 262), match='n'>\n",
      "<re.Match object; span=(263, 264), match='M'>\n",
      "<re.Match object; span=(264, 265), match='r'>\n",
      "<re.Match object; span=(267, 268), match='T'>\n",
      "<re.Match object; span=(270, 271), match='c'>\n",
      "<re.Match object; span=(271, 272), match='a'>\n",
      "<re.Match object; span=(272, 273), match='t'>\n",
      "<re.Match object; span=(274, 275), match='m'>\n",
      "<re.Match object; span=(275, 276), match='a'>\n",
      "<re.Match object; span=(276, 277), match='t'>\n",
      "<re.Match object; span=(278, 279), match='p'>\n",
      "<re.Match object; span=(279, 280), match='a'>\n",
      "<re.Match object; span=(280, 281), match='t'>\n",
      "<re.Match object; span=(282, 283), match='b'>\n",
      "<re.Match object; span=(283, 284), match='a'>\n",
      "<re.Match object; span=(284, 285), match='t'>\n",
      "<re.Match object; span=(287, 288), match='e'>\n",
      "<re.Match object; span=(288, 289), match='n'>\n",
      "<re.Match object; span=(289, 290), match='d'>\n"
     ]
    }
   ],
   "source": [
    "# upper or lower case\n",
    "pattern = re.compile(r'[a-zA-Z]')\n",
    "\n",
    "matches = pattern.finditer(text_to_search)\n",
    "\n",
    "for match in matches:\n",
    "    print(match)"
   ]
  },
  {
   "cell_type": "markdown",
   "metadata": {},
   "source": [
    "## The Caret and Dollar Sign Characters"
   ]
  },
  {
   "cell_type": "markdown",
   "metadata": {},
   "source": [
    "### match string at the beginning\n",
    " use ^ at the beginning"
   ]
  },
  {
   "cell_type": "code",
   "execution_count": 44,
   "metadata": {},
   "outputs": [
    {
     "data": {
      "text/plain": [
       "<re.Match object; span=(0, 5), match='Hello'>"
      ]
     },
     "execution_count": 44,
     "metadata": {},
     "output_type": "execute_result"
    }
   ],
   "source": [
    "# The r'^Hello' regular expression string matches strings that begin with 'Hello':\n",
    "begins_with_hello = re.compile(r'^Hello')\n",
    "begins_with_hello.search('Hello world!')"
   ]
  },
  {
   "cell_type": "code",
   "execution_count": 45,
   "metadata": {},
   "outputs": [
    {
     "data": {
      "text/plain": [
       "False"
      ]
     },
     "execution_count": 45,
     "metadata": {},
     "output_type": "execute_result"
    }
   ],
   "source": [
    "begins_with_hello.search('He said hello.') is True"
   ]
  },
  {
   "cell_type": "code",
   "execution_count": null,
   "metadata": {},
   "outputs": [],
   "source": [
    "# all characters must be numbers\n",
    "# use the ^ and $ together\n",
    "# + means one or more of the preceeding group"
   ]
  },
  {
   "cell_type": "code",
   "execution_count": 46,
   "metadata": {},
   "outputs": [],
   "source": [
    "whole_string_is_num.search('12345xyz67890')"
   ]
  },
  {
   "cell_type": "code",
   "execution_count": 49,
   "metadata": {},
   "outputs": [],
   "source": [
    "whole_string_is_num.search('123 4567890')"
   ]
  },
  {
   "cell_type": "code",
   "execution_count": 50,
   "metadata": {
    "scrolled": true
   },
   "outputs": [
    {
     "data": {
      "text/plain": [
       "<re.Match object; span=(0, 10), match='1234567890'>"
      ]
     },
     "execution_count": 50,
     "metadata": {},
     "output_type": "execute_result"
    }
   ],
   "source": [
    "whole_string_is_num.search('1234567890')"
   ]
  },
  {
   "cell_type": "markdown",
   "metadata": {},
   "source": [
    "### match a string at the end"
   ]
  },
  {
   "cell_type": "markdown",
   "metadata": {},
   "source": [
    "# example needed"
   ]
  },
  {
   "cell_type": "markdown",
   "metadata": {},
   "source": [
    "### negating a character set \n",
    " use ^ inside a list"
   ]
  },
  {
   "cell_type": "code",
   "execution_count": null,
   "metadata": {},
   "outputs": [],
   "source": [
    "# example needed"
   ]
  }
 ],
 "metadata": {
  "kernelspec": {
   "display_name": "Python 3.8.5 32-bit",
   "language": "python",
   "name": "python_defaultSpec_1595619143660"
  },
  "language_info": {
   "codemirror_mode": {
    "name": "ipython",
    "version": 3
   },
   "file_extension": ".py",
   "mimetype": "text/x-python",
   "name": "python",
   "nbconvert_exporter": "python",
   "pygments_lexer": "ipython3",
   "version": "3.8.4"
  }
 },
 "nbformat": 4,
 "nbformat_minor": 2
}