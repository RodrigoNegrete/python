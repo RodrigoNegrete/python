{
 "cells": [
  {
   "cell_type": "markdown",
   "metadata": {},
   "source": [
    "# Regular Expressions\n",
    "\n",
    "1. Import the regex module with `import re`.\n",
    "2. Create a Regex object with the `re.compile()` function. (Remember to use a raw string.)\n",
    "3. Pass the string you want to search into the Regex object’s `search()` method. This returns a `Match` object.\n",
    "4. Call the Match object’s `group()` method to return a string of the actual matched text.\n",
    "\n",
    "All the regex functions in Python are in the re module:"
   ]
  },
  {
   "cell_type": "markdown",
   "metadata": {},
   "source": [
    "### Review of Regex Symbols\n",
    "\n",
    "| Symbol                   | Matches                                                      |\n",
    "| ------------------------ | ------------------------------------------------------------ |\n",
    "| `?`                      | zero or one of the preceding group.                          |\n",
    "| `*`                      | zero or more of the preceding group.                         |\n",
    "| `+`                      | one or more of the preceding group.                          |\n",
    "| `{n}`                    | exactly n of the preceding group.                            |\n",
    "| `{n,}`                   | n or more of the preceding group.                            |\n",
    "| `{,m}`                   | 0 to m of the preceding group.                               |\n",
    "| `{n,m}`                  | at least n and at most m of the preceding p.                 |\n",
    "| `{n,m}?` or `*?` or `+?` | performs a nongreedy match of the preceding p.               |\n",
    "| `^spam`                  | means the string must begin with spam.                       |\n",
    "| `spam$`                  | means the string must end with spam.                         |\n",
    "| `.`                      | any character, except newline characters.                    |\n",
    "| `\\d`, `\\w`, and `\\s`     | a digit, word, or space character, resectively.              |\n",
    "| `\\D`, `\\W`, and `\\S`     | anything except a digit, word, or space acter, respectively. |\n",
    "| `[abc]`                  | any character between the brackets (such as a, b, ).         |\n",
    "| `[^abc]`                 | any character that isn’t between the brackets.              |"
   ]
  },
  {
   "cell_type": "code",
   "execution_count": 7,
   "metadata": {
    "tags": []
   },
   "outputs": [
    {
     "output_type": "stream",
     "name": "stdout",
     "text": "Tab\n\tTab\n\\tTab\n"
    }
   ],
   "source": [
    "# raw string\n",
    "print('Tab')\n",
    "print('\\tTab')\n",
    "print(r'\\tTab')"
   ]
  },
  {
   "cell_type": "code",
   "execution_count": 8,
   "metadata": {},
   "outputs": [],
   "source": [
    "import re"
   ]
  },
  {
   "cell_type": "code",
   "execution_count": 2,
   "metadata": {},
   "outputs": [],
   "source": [
    "text_to_search = \"\"\"start\n",
    "abcdefghijklmnopqurtuvwxyz\n",
    "ABCDEFGHIJKLMNOPQRSTUVWXYZ\n",
    "1234567890\n",
    "\n",
    "Ha HaHa\n",
    "\n",
    "MetaCharacters (Need to be escaped):\n",
    ".[{()\\^$|?*+\n",
    "\n",
    "coreyms.com\n",
    "\n",
    "Middle\n",
    "\n",
    "321-555-4321\n",
    "123.555.1234\n",
    "123*555*1234\n",
    "800-555-1234\n",
    "900-555-1234\n",
    "\n",
    "Mr. Schafer\n",
    "Mr Smith\n",
    "Ms Davis\n",
    "Mrs. Robinson\n",
    "Mr. T\n",
    "\n",
    "cat\n",
    "mat\n",
    "pat\n",
    "bat\n",
    "\n",
    "end\n",
    "\"\"\""
   ]
  },
  {
   "cell_type": "markdown",
   "metadata": {},
   "source": [
    "### Matching Regex Objects - finditer"
   ]
  },
  {
   "cell_type": "code",
   "execution_count": 13,
   "metadata": {
    "tags": []
   },
   "outputs": [
    {
     "output_type": "stream",
     "name": "stdout",
     "text": "<callable_iterator object at 0x059CCEC8>\n"
    }
   ],
   "source": [
    "# default pattern syntax\n",
    "pattern = re.compile(r\"\")\n",
    "matches = pattern.finditer(text_to_search)\n",
    "print(matches)"
   ]
  },
  {
   "cell_type": "markdown",
   "metadata": {},
   "source": [
    "### Common Regular Expressions"
   ]
  },
  {
   "cell_type": "code",
   "execution_count": 3,
   "metadata": {
    "tags": []
   },
   "outputs": [
    {
     "output_type": "stream",
     "name": "stdout",
     "text": "None\n"
    }
   ],
   "source": [
    "# match\n",
    "# text has to start with expression\n",
    "# not iterable\n",
    "pattern = re.compile(r'Start')\n",
    "\n",
    "matches = pattern.match(text_to_search)\n",
    "\n",
    "print(matches)"
   ]
  },
  {
   "cell_type": "code",
   "execution_count": 23,
   "metadata": {
    "tags": []
   },
   "outputs": [
    {
     "output_type": "stream",
     "name": "stdout",
     "text": "<re.Match object; span=(145, 151), match='Middle'>\n"
    }
   ],
   "source": [
    "# search\n",
    "# text can be anywhere in the expression\n",
    "# returns the first one\n",
    "# not iterable\n",
    "pattern = re.compile(r'Middle')\n",
    "\n",
    "matches = pattern.search(text_to_search)\n",
    "\n",
    "print(matches)"
   ]
  },
  {
   "cell_type": "code",
   "execution_count": 24,
   "metadata": {
    "scrolled": true,
    "tags": []
   },
   "outputs": [
    {
     "output_type": "stream",
     "name": "stdout",
     "text": "<callable_iterator object at 0x05757718>\n"
    }
   ],
   "source": [
    "# finditer\n",
    "# match uppercas, lowercase or mixed case\n",
    "pattern = re.compile(r'start', re.IGNORECASE)\n",
    "\n",
    "matches = pattern.finditer(text_to_search)\n",
    "\n",
    "print(matches)"
   ]
  },
  {
   "cell_type": "markdown",
   "metadata": {},
   "source": [
    "### The Wildcard Character\n",
    "\n",
    "The . (or dot) character in a regular expression is called a wildcard and will match any character except for a newline:"
   ]
  },
  {
   "cell_type": "code",
   "execution_count": 14,
   "metadata": {},
   "outputs": [
    {
     "output_type": "execute_result",
     "data": {
      "text/plain": "['cat', 'hat', 'sat', 'lat', 'mat']"
     },
     "metadata": {},
     "execution_count": 14
    }
   ],
   "source": [
    "at_regex = re.compile(r'.at')\n",
    "at_regex.findall('The cat in the hat sat on the flat mat.')"
   ]
  },
  {
   "cell_type": "code",
   "execution_count": 15,
   "metadata": {},
   "outputs": [
    {
     "output_type": "execute_result",
     "data": {
      "text/plain": "re.compile(r'abc', re.UNICODE)"
     },
     "metadata": {},
     "execution_count": 15
    }
   ],
   "source": [
    "# extract exact text\n",
    "pattern = re.compile(r\"abc\")\n",
    "pattern"
   ]
  },
  {
   "source": [
    "### Other methods"
   ],
   "cell_type": "markdown",
   "metadata": {}
  },
  {
   "cell_type": "code",
   "execution_count": 19,
   "metadata": {
    "tags": []
   },
   "outputs": [
    {
     "output_type": "stream",
     "name": "stdout",
     "text": "start\ntar\n"
    }
   ],
   "source": [
    "# slice text to extract\n",
    "print(text_to_search[0:5])\n",
    "print(text_to_search[1:4])"
   ]
  },
  {
   "cell_type": "code",
   "execution_count": 20,
   "metadata": {
    "tags": []
   },
   "outputs": [
    {
     "output_type": "stream",
     "name": "stdout",
     "text": "<re.Match object; span=(118, 119), match='.'>\n<re.Match object; span=(139, 140), match='.'>\n<re.Match object; span=(169, 170), match='.'>\n<re.Match object; span=(173, 174), match='.'>\n<re.Match object; span=(221, 222), match='.'>\n<re.Match object; span=(252, 253), match='.'>\n<re.Match object; span=(265, 266), match='.'>\n"
    }
   ],
   "source": [
    "# escape characters to search for them\n",
    "pattern = re.compile(r\"\\.\")\n",
    "\n",
    "# loop to get all matches\n",
    "matches = pattern.finditer(text_to_search)\n",
    "\n",
    "for match in matches:\n",
    "    print(match)"
   ]
  },
  {
   "cell_type": "code",
   "execution_count": 21,
   "metadata": {
    "tags": []
   },
   "outputs": [
    {
     "output_type": "stream",
     "name": "stdout",
     "text": "<re.Match object; span=(60, 61), match='1'>\n<re.Match object; span=(61, 62), match='2'>\n<re.Match object; span=(62, 63), match='3'>\n<re.Match object; span=(63, 64), match='4'>\n<re.Match object; span=(64, 65), match='5'>\n<re.Match object; span=(65, 66), match='6'>\n<re.Match object; span=(66, 67), match='7'>\n<re.Match object; span=(67, 68), match='8'>\n<re.Match object; span=(68, 69), match='9'>\n<re.Match object; span=(69, 70), match='0'>\n<re.Match object; span=(153, 154), match='3'>\n<re.Match object; span=(154, 155), match='2'>\n<re.Match object; span=(155, 156), match='1'>\n<re.Match object; span=(157, 158), match='5'>\n<re.Match object; span=(158, 159), match='5'>\n<re.Match object; span=(159, 160), match='5'>\n<re.Match object; span=(161, 162), match='4'>\n<re.Match object; span=(162, 163), match='3'>\n<re.Match object; span=(163, 164), match='2'>\n<re.Match object; span=(164, 165), match='1'>\n<re.Match object; span=(166, 167), match='1'>\n<re.Match object; span=(167, 168), match='2'>\n<re.Match object; span=(168, 169), match='3'>\n<re.Match object; span=(170, 171), match='5'>\n<re.Match object; span=(171, 172), match='5'>\n<re.Match object; span=(172, 173), match='5'>\n<re.Match object; span=(174, 175), match='1'>\n<re.Match object; span=(175, 176), match='2'>\n<re.Match object; span=(176, 177), match='3'>\n<re.Match object; span=(177, 178), match='4'>\n<re.Match object; span=(179, 180), match='1'>\n<re.Match object; span=(180, 181), match='2'>\n<re.Match object; span=(181, 182), match='3'>\n<re.Match object; span=(183, 184), match='5'>\n<re.Match object; span=(184, 185), match='5'>\n<re.Match object; span=(185, 186), match='5'>\n<re.Match object; span=(187, 188), match='1'>\n<re.Match object; span=(188, 189), match='2'>\n<re.Match object; span=(189, 190), match='3'>\n<re.Match object; span=(190, 191), match='4'>\n<re.Match object; span=(192, 193), match='8'>\n<re.Match object; span=(193, 194), match='0'>\n<re.Match object; span=(194, 195), match='0'>\n<re.Match object; span=(196, 197), match='5'>\n<re.Match object; span=(197, 198), match='5'>\n<re.Match object; span=(198, 199), match='5'>\n<re.Match object; span=(200, 201), match='1'>\n<re.Match object; span=(201, 202), match='2'>\n<re.Match object; span=(202, 203), match='3'>\n<re.Match object; span=(203, 204), match='4'>\n<re.Match object; span=(205, 206), match='9'>\n<re.Match object; span=(206, 207), match='0'>\n<re.Match object; span=(207, 208), match='0'>\n<re.Match object; span=(209, 210), match='5'>\n<re.Match object; span=(210, 211), match='5'>\n<re.Match object; span=(211, 212), match='5'>\n<re.Match object; span=(213, 214), match='1'>\n<re.Match object; span=(214, 215), match='2'>\n<re.Match object; span=(215, 216), match='3'>\n<re.Match object; span=(216, 217), match='4'>\n"
    }
   ],
   "source": [
    "# digits\n",
    "pattern = re.compile(r\"\\d\")\n",
    "\n",
    "matches = pattern.finditer(text_to_search)\n",
    "\n",
    "for match in matches:\n",
    "    print(match)"
   ]
  },
  {
   "cell_type": "code",
   "execution_count": 22,
   "metadata": {
    "tags": []
   },
   "outputs": [
    {
     "output_type": "stream",
     "name": "stdout",
     "text": "<re.Match object; span=(60, 62), match='12'>\n<re.Match object; span=(62, 64), match='34'>\n<re.Match object; span=(64, 66), match='56'>\n<re.Match object; span=(66, 68), match='78'>\n<re.Match object; span=(68, 70), match='90'>\n<re.Match object; span=(153, 155), match='32'>\n<re.Match object; span=(157, 159), match='55'>\n<re.Match object; span=(161, 163), match='43'>\n<re.Match object; span=(163, 165), match='21'>\n<re.Match object; span=(166, 168), match='12'>\n<re.Match object; span=(170, 172), match='55'>\n<re.Match object; span=(174, 176), match='12'>\n<re.Match object; span=(176, 178), match='34'>\n<re.Match object; span=(179, 181), match='12'>\n<re.Match object; span=(183, 185), match='55'>\n<re.Match object; span=(187, 189), match='12'>\n<re.Match object; span=(189, 191), match='34'>\n<re.Match object; span=(192, 194), match='80'>\n<re.Match object; span=(196, 198), match='55'>\n<re.Match object; span=(200, 202), match='12'>\n<re.Match object; span=(202, 204), match='34'>\n<re.Match object; span=(205, 207), match='90'>\n<re.Match object; span=(209, 211), match='55'>\n<re.Match object; span=(213, 215), match='12'>\n<re.Match object; span=(215, 217), match='34'>\n"
    }
   ],
   "source": [
    "# 2 consecutive digits\n",
    "pattern = re.compile(r\"\\d\\d\")\n",
    "\n",
    "matches = pattern.finditer(text_to_search)\n",
    "\n",
    "for match in matches:\n",
    "    print(match)"
   ]
  },
  {
   "cell_type": "code",
   "execution_count": null,
   "metadata": {},
   "outputs": [],
   "source": [
    "# # NOT digits\n",
    "pattern = re.compile(r\"\\D\")\n",
    "\n",
    "matches = pattern.finditer(text_to_search)\n",
    "\n",
    "for match in matches:\n",
    "    print(match)"
   ]
  },
  {
   "cell_type": "code",
   "execution_count": 20,
   "metadata": {},
   "outputs": [
    {
     "name": "stdout",
     "output_type": "stream",
     "text": [
      "<re.Match object; span=(72, 74), match='Ha'>\n",
      "<re.Match object; span=(75, 77), match='Ha'>\n"
     ]
    }
   ],
   "source": [
    "# Word boundaries before character - starts with\n",
    "pattern = re.compile(r\"\\bHa\")\n",
    "\n",
    "matches = pattern.finditer(text_to_search)\n",
    "\n",
    "for match in matches:\n",
    "    print(match)"
   ]
  },
  {
   "cell_type": "code",
   "execution_count": 26,
   "metadata": {
    "tags": []
   },
   "outputs": [
    {
     "output_type": "stream",
     "name": "stdout",
     "text": "<re.Match object; span=(0, 3), match='abc'>\n"
    }
   ],
   "source": [
    "# String boundaries at beginning - string starts with\n",
    "pattern = re.compile(r\"^abc\")\n",
    "\n",
    "sentence = \"abc blah end\"\n",
    "matches = pattern.finditer(sentence)\n",
    "\n",
    "for match in matches:\n",
    "    print(match)"
   ]
  },
  {
   "cell_type": "code",
   "execution_count": 27,
   "metadata": {
    "tags": []
   },
   "outputs": [
    {
     "output_type": "stream",
     "name": "stdout",
     "text": "<re.Match object; span=(9, 12), match='end'>\n"
    }
   ],
   "source": [
    "########## String boundaries at beginning - string starts with\n",
    "pattern = re.compile(r\"end$\")\n",
    "\n",
    "matches = pattern.finditer(sentence)\n",
    "\n",
    "for match in matches:\n",
    "    print(match)"
   ]
  },
  {
   "cell_type": "markdown",
   "metadata": {},
   "source": [
    "### The findall Method\n",
    "\n",
    "In addition to the search() method, Regex objects also have a findall() method. While search() will return a Match object of the first matched text in the searched string, the findall() method will return the strings of every match in the searched string."
   ]
  },
  {
   "cell_type": "markdown",
   "metadata": {},
   "source": [
    "To summarize what the findall() method returns, remember the following:\n",
    "\n",
    "- When called on a regex with no groups, such as \\d-\\d\\d\\d-\\d\\d\\d\\d, the method findall() returns a list of ng matches, such as ['415-555-9999', '212-555-0000'].\n",
    "\n",
    "- When called on a regex that has groups, such as (\\d\\d\\d)-d\\d)-(\\d\\ d\\d\\d), the method findall() returns a list of es of strings (one string for each group), such as [('415', ', '9999'), ('212', '555', '0000')]."
   ]
  },
  {
   "cell_type": "code",
   "execution_count": 28,
   "metadata": {},
   "outputs": [
    {
     "output_type": "execute_result",
     "data": {
      "text/plain": "['415-555-9999', '212-555-0000']"
     },
     "metadata": {},
     "execution_count": 28
    }
   ],
   "source": [
    "phone_num_regex = re.compile(r'\\d\\d\\d-\\d\\d\\d-\\d\\d\\d\\d') # has no groups\n",
    "\n",
    "phone_num_regex.findall('Cell: 415-555-9999 Work: 212-555-0000')"
   ]
  },
  {
   "cell_type": "markdown",
   "metadata": {},
   "source": [
    "## search over a file"
   ]
  },
  {
   "cell_type": "code",
   "execution_count": 27,
   "metadata": {},
   "outputs": [
    {
     "name": "stdout",
     "output_type": "stream",
     "text": [
      "<re.Match object; span=(153, 165), match='321-555-4321'>\n",
      "<re.Match object; span=(166, 178), match='123.555.1234'>\n",
      "<re.Match object; span=(192, 204), match='800-555-1234'>\n",
      "<re.Match object; span=(205, 217), match='900-555-1234'>\n"
     ]
    }
   ],
   "source": [
    "with open('data.txt', 'r', encoding='utf-8') as file:\n",
    "    contents = file.read()\n",
    "\n",
    "# character set [] - match any character on the set -> match - and .\n",
    "pattern = re.compile(r'\\d\\d\\d[-.]\\d\\d\\d[-.]\\d\\d\\d\\d')\n",
    "\n",
    "matches = pattern.finditer(text_to_search)\n",
    "\n",
    "for match in matches:\n",
    "    print(match)"
   ]
  }
 ],
 "metadata": {
  "kernelspec": {
   "name": "Python 3.8.5 32-bit",
   "display_name": "Python 3.8.5 32-bit",
   "metadata": {
    "interpreter": {
     "hash": "8090f737a24c000d63d2b3fd43c3cc8c02e97407065c9cf8c0157ebfa5afde6c"
    }
   }
  },
  "language_info": {
   "codemirror_mode": {
    "name": "ipython",
    "version": 3
   },
   "file_extension": ".py",
   "mimetype": "text/x-python",
   "name": "python",
   "nbconvert_exporter": "python",
   "pygments_lexer": "ipython3",
   "version": "3.8.5-final"
  }
 },
 "nbformat": 4,
 "nbformat_minor": 2
}