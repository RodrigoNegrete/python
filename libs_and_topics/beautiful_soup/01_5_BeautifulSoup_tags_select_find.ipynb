{
 "cells": [
  {
   "cell_type": "markdown",
   "metadata": {},
   "source": [
    "# Beautiful Soup\n",
    "## Tags"
   ]
  },
  {
   "cell_type": "code",
   "execution_count": 8,
   "metadata": {},
   "outputs": [
    {
     "output_type": "execute_result",
     "data": {
      "text/plain": "200"
     },
     "metadata": {},
     "execution_count": 8
    }
   ],
   "source": [
    "import requests\n",
    "from bs4 import BeautifulSoup\n",
    "\n",
    "\n",
    "response = requests.get(\"https://stackoverflow.com/questions\")\n",
    "response.status_code"
   ]
  },
  {
   "cell_type": "code",
   "execution_count": 9,
   "metadata": {},
   "outputs": [],
   "source": [
    "# extract the text directly from soup\n",
    "soup = BeautifulSoup(response.text, \"html.parser\")  "
   ]
  },
  {
   "cell_type": "markdown",
   "metadata": {},
   "source": [
    "## lists\n",
    "- ul unordered element\n",
    "- ol ordered element\n",
    "- li list item"
   ]
  },
  {
   "cell_type": "code",
   "execution_count": 1,
   "metadata": {},
   "outputs": [],
   "source": [
    "# soup.find('ul')"
   ]
  },
  {
   "cell_type": "markdown",
   "metadata": {},
   "source": [
    "## tables\n",
    "- table is the element\n",
    "- tr is table row element\n",
    "- td is table data element contained inside the row - child of tr"
   ]
  },
  {
   "cell_type": "code",
   "execution_count": 51,
   "metadata": {
    "tags": []
   },
   "outputs": [
    {
     "name": "stdout",
     "output_type": "stream",
     "text": [
      "None\n"
     ]
    }
   ],
   "source": [
    "print(soup.find('table'))"
   ]
  },
  {
   "cell_type": "markdown",
   "metadata": {},
   "source": [
    "## find paragraphs\n",
    "- use p tags\n",
    "- use  select function"
   ]
  },
  {
   "cell_type": "code",
   "execution_count": 52,
   "metadata": {},
   "outputs": [
    {
     "data": {
      "text/plain": [
       "[<p class=\"mb0 lh-lg\">\n",
       "                     By using our site, you acknowledge that you have read and understand our <a class=\"s-link s-link__inherit td-underline fc-white\" href=\"https://stackoverflow.com/legal/cookie-policy\" target=\"_blank\">Cookie Policy</a>, <a class=\"s-link s-link__inherit td-underline fc-white\" href=\"https://stackoverflow.com/legal/privacy-policy\" target=\"_blank\">Privacy Policy</a>, and our <a class=\"s-link s-link__inherit td-underline fc-white\" href=\"https://stackoverflow.com/legal/terms-of-service/public\" target=\"_blank\">Terms of Service</a>.\n",
       "                 </p>,\n",
       " <p class=\"mb2\"><strong>Teams</strong></p>,\n",
       " <p class=\"mb16 fs-caption fc-medium\">Q&amp;A for Work</p>,\n",
       " <p class=\"mb8 fs-caption fc-medium\">\n",
       " \n",
       "                             Stack Overflow for Teams is a private, secure spot for you and\n",
       "                             your coworkers to find and share information.\n",
       "                                         </p>,\n",
       " <p class=\"mt-auto mb24\">\n",
       " site design / logo © 2020 Stack Exchange Inc; user contributions licensed under <a href=\"https://stackoverflow.com/help/licensing\">cc by-sa</a>.                    <span id=\"svnrev\">rev 2020.7.16.37232</span>\n",
       " </p>]"
      ]
     },
     "execution_count": 52,
     "metadata": {},
     "output_type": "execute_result"
    }
   ],
   "source": [
    "soup.select('p')"
   ]
  },
  {
   "cell_type": "markdown",
   "metadata": {},
   "source": [
    "# select divisions\n",
    "- use tags\n",
    "- use function select"
   ]
  },
  {
   "cell_type": "code",
   "execution_count": 2,
   "metadata": {},
   "outputs": [],
   "source": [
    "# soup.select('div')"
   ]
  },
  {
   "cell_type": "markdown",
   "metadata": {},
   "source": [
    "## hyperlink \n",
    "- 'a' tag"
   ]
  },
  {
   "cell_type": "code",
   "execution_count": 54,
   "metadata": {},
   "outputs": [
    {
     "data": {
      "text/plain": [
       "[<a class=\"s-link s-link__inherit td-underline fc-white\" href=\"https://stackoverflow.com/legal/cookie-policy\" target=\"_blank\">Cookie Policy</a>,\n",
       " <a class=\"s-link s-link__inherit td-underline fc-white\" href=\"https://stackoverflow.com/legal/privacy-policy\" target=\"_blank\">Privacy Policy</a>,\n",
       " <a class=\"s-link s-link__inherit td-underline fc-white\" href=\"https://stackoverflow.com/legal/terms-of-service/public\" target=\"_blank\">Terms of Service</a>,\n",
       " <a href=\"https://stackoverflow.com/help/licensing\">cc by-sa</a>]"
      ]
     },
     "execution_count": 54,
     "metadata": {},
     "output_type": "execute_result"
    }
   ],
   "source": [
    "# select a tag within a tag\n",
    "# select a within p\n",
    "soup.select('p a')"
   ]
  },
  {
   "cell_type": "code",
   "execution_count": 3,
   "metadata": {},
   "outputs": [],
   "source": [
    "# # select multiple tags\n",
    "# # finds a and p\n",
    "soup.select('p, a')\n",
    "pass"
   ]
  },
  {
   "cell_type": "markdown",
   "metadata": {},
   "source": [
    "## Select Classes\n",
    "- the dot means it's a class\n",
    "- we get an iterable and get the first item to see type\n",
    "- each object is an instance of the class"
   ]
  },
  {
   "cell_type": "code",
   "execution_count": 56,
   "metadata": {},
   "outputs": [
    {
     "name": "stdout",
     "output_type": "stream",
     "text": [
      "<class 'bs4.element.Tag'>\n",
      "None\n"
     ]
    }
   ],
   "source": [
    "questions = soup.select(\".question-summary\")  \n",
    "# print(questions[0])\n",
    "print(type(questions[0]))\n",
    "print(questions[0].attr)"
   ]
  },
  {
   "cell_type": "markdown",
   "metadata": {},
   "source": [
    "## select classes with space"
   ]
  },
  {
   "cell_type": "code",
   "execution_count": 57,
   "metadata": {},
   "outputs": [
    {
     "data": {
      "text/plain": [
       "[]"
      ]
     },
     "execution_count": 57,
     "metadata": {},
     "output_type": "execute_result"
    }
   ],
   "source": [
    "url = 'http://www.marketwatch.com/'\n",
    "user_headers = {'User-Agent': 'Mozilla/5.0'}\n",
    "response = requests.get(url, headers = user_headers)\n",
    "soup = BeautifulSoup(response.content, 'html.parser')\n",
    "\n",
    "# use . before the class name\n",
    "soup.select('.region region--full')"
   ]
  },
  {
   "cell_type": "code",
   "execution_count": 59,
   "metadata": {
    "scrolled": false
   },
   "outputs": [],
   "source": [
    "## if you have a class with a space\n",
    "# replace all spaces with dots\n",
    "# the above changes to\n",
    "soup.select('.region.region--full')\n",
    "pass"
   ]
  },
  {
   "cell_type": "code",
   "execution_count": 10,
   "metadata": {
    "scrolled": true
   },
   "outputs": [],
   "source": [
    "# select class with tag\n",
    "# preceed the . wth the tag\n",
    "soup.select('div.region.region--full')\n",
    "pass"
   ]
  },
  {
   "cell_type": "code",
   "execution_count": 11,
   "metadata": {},
   "outputs": [],
   "source": [
    "# find and find_all\n",
    "soup.find_all('div')\n",
    "pass"
   ]
  },
  {
   "cell_type": "code",
   "execution_count": 12,
   "metadata": {},
   "outputs": [],
   "source": [
    "# no . neded in spaces inside \"\"\n",
    "soup.find_all('div', class_ = 'region region--full')\n",
    "pass"
   ]
  },
  {
   "cell_type": "code",
   "execution_count": 13,
   "metadata": {},
   "outputs": [],
   "source": [
    "# find a division with specific class\n",
    "# no . neded in spaces\n",
    "soup.find_all('div', class_ = 'region region--full')\n",
    "pass"
   ]
  },
  {
   "cell_type": "markdown",
   "metadata": {},
   "source": [
    "## images"
   ]
  },
  {
   "cell_type": "code",
   "execution_count": 67,
   "metadata": {},
   "outputs": [
    {
     "data": {
      "text/plain": [
       "<img alt=\"Read full story\" class=\"lazyload\" data-sizes=\"auto\" data-srcset=\"https://s.marketwatch.com/public/resources/images/MW-DD868_casino_ZR_20150122054110.jpg 220w,https://s.marketwatch.com/public/resources/images/MW-DD868_casino_ZT_20150122054110.jpg 300w,https://s.marketwatch.com/public/resources/images/MW-DD868_casino_ZQ_20150122054110.jpg 460w,https://s.marketwatch.com/public/resources/images/MW-DD868_casino_ZH_20150122054110.jpg 800w,https://s.marketwatch.com/public/resources/images/MW-DD868_casino_ZG_20150122054110.jpg 1240w\"/>"
      ]
     },
     "execution_count": 67,
     "metadata": {},
     "output_type": "execute_result"
    }
   ],
   "source": [
    "# image\n",
    "# images are usually in img src\n",
    "# this example is i data-srcset and it's a set\n",
    "soup.find('img')"
   ]
  },
  {
   "cell_type": "code",
   "execution_count": 68,
   "metadata": {},
   "outputs": [
    {
     "data": {
      "text/plain": [
       "'https://s.marketwatch.com/public/resources/images/MW-DD868_casino_ZR_20150122054110.jpg 220w,https://s.marketwatch.com/public/resources/images/MW-DD868_casino_ZT_20150122054110.jpg 300w,https://s.marketwatch.com/public/resources/images/MW-DD868_casino_ZQ_20150122054110.jpg 460w,https://s.marketwatch.com/public/resources/images/MW-DD868_casino_ZH_20150122054110.jpg 800w,https://s.marketwatch.com/public/resources/images/MW-DD868_casino_ZG_20150122054110.jpg 1240w'"
      ]
     },
     "execution_count": 68,
     "metadata": {},
     "output_type": "execute_result"
    }
   ],
   "source": [
    "# search for soups's instances - use get\n",
    "soup.find('img').get('data-srcset')"
   ]
  },
  {
   "cell_type": "markdown",
   "metadata": {},
   "source": [
    "## find by id - CHECK "
   ]
  },
  {
   "cell_type": "code",
   "execution_count": 36,
   "metadata": {},
   "outputs": [
    {
     "data": {
      "text/plain": [
       "[]"
      ]
     },
     "execution_count": 36,
     "metadata": {},
     "output_type": "execute_result"
    }
   ],
   "source": [
    "# find division by id\n",
    "# <div class=\"section\" id=\"advanced-usage\">\n",
    "# use select and separate class and if with #\n",
    "# to separate id use #\n",
    "soup.select('div#notify-container')"
   ]
  }
 ],
 "metadata": {
  "kernelspec": {
   "display_name": "Python 3",
   "language": "python",
   "name": "python3"
  },
  "language_info": {
   "codemirror_mode": {
    "name": "ipython",
    "version": 3
   },
   "file_extension": ".py",
   "mimetype": "text/x-python",
   "name": "python",
   "nbconvert_exporter": "python",
   "pygments_lexer": "ipython3",
   "version": "3.8.4"
  }
 },
 "nbformat": 4,
 "nbformat_minor": 4
}