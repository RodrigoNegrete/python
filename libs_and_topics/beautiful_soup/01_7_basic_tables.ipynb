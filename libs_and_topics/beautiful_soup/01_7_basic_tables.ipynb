{
 "cells": [
  {
   "cell_type": "markdown",
   "metadata": {},
   "source": [
    "# Table Basics"
   ]
  },
  {
   "cell_type": "code",
   "execution_count": 25,
   "metadata": {},
   "outputs": [
    {
     "data": {
      "text/plain": [
       "200"
      ]
     },
     "execution_count": 25,
     "metadata": {},
     "output_type": "execute_result"
    }
   ],
   "source": [
    "import requests \n",
    "from bs4 import BeautifulSoup\n",
    "\n",
    "url = 'http://www.espn.com/nba/history/leaders/_/stat/assists'\n",
    "user_headers = {'User-Agent': 'Mozilla/5.0 (X11; Ubuntu; Linux x86_64) AppleWebKit/537.36 (KHTML, like Gecko) Chrome/83.0.4103.61 Safari/537.36 RuxitSynthetic/1.0 v5595704681 t38550'}\n",
    "response = requests.get(url, headers = user_headers)\n",
    "\n",
    "response.status_code"
   ]
  },
  {
   "cell_type": "code",
   "execution_count": 26,
   "metadata": {},
   "outputs": [
    {
     "data": {
      "text/plain": [
       "1"
      ]
     },
     "execution_count": 26,
     "metadata": {},
     "output_type": "execute_result"
    }
   ],
   "source": [
    "soup = BeautifulSoup(response.content, 'html.parser')\n",
    "\n",
    "stat_table = soup.find_all('table', class_ = \"tablehead\")\n",
    "len(stat_table)"
   ]
  },
  {
   "cell_type": "code",
   "execution_count": 27,
   "metadata": {
    "scrolled": true
   },
   "outputs": [
    {
     "data": {
      "text/plain": [
       "bs4.element.ResultSet"
      ]
     },
     "execution_count": 27,
     "metadata": {},
     "output_type": "execute_result"
    }
   ],
   "source": [
    "type(stat_table)"
   ]
  },
  {
   "cell_type": "code",
   "execution_count": 28,
   "metadata": {},
   "outputs": [],
   "source": [
    "## transform resultset into tag"
   ]
  },
  {
   "cell_type": "code",
   "execution_count": 29,
   "metadata": {},
   "outputs": [
    {
     "data": {
      "text/plain": [
       "bs4.element.Tag"
      ]
     },
     "execution_count": 29,
     "metadata": {},
     "output_type": "execute_result"
    }
   ],
   "source": [
    "stat_table = stat_table[0]\n",
    "type(stat_table)"
   ]
  },
  {
   "cell_type": "code",
   "execution_count": 30,
   "metadata": {},
   "outputs": [
    {
     "data": {
      "text/plain": [
       "29"
      ]
     },
     "execution_count": 30,
     "metadata": {},
     "output_type": "execute_result"
    }
   ],
   "source": [
    "len(stat_table)"
   ]
  },
  {
   "cell_type": "code",
   "execution_count": 31,
   "metadata": {},
   "outputs": [
    {
     "name": "stdout",
     "output_type": "stream",
     "text": [
      "Assists Leaders\n",
      "RK\n",
      "PLAYER\n",
      "AST\n",
      "1\n",
      "John Stockton\n",
      "15,806\n",
      "2\n",
      "Jason Kidd\n",
      "12,091\n",
      "3\n",
      "Steve Nash\n",
      "10,335\n",
      "4\n",
      "Mark Jackson\n",
      "10,334\n",
      "5\n",
      "Magic Johnson\n",
      "10,141\n",
      "6\n",
      "Oscar Robertson\n",
      "9,887\n",
      "7\n",
      "CHRIS PAUL\n",
      "9,607\n",
      "8\n",
      "LeBRON JAMES\n",
      "9,298\n",
      "9\n",
      "Isiah Thomas\n",
      "9,061\n",
      "10\n",
      "Gary Payton\n",
      "8,966\n",
      "11\n",
      "Andre Miller\n",
      "8,524\n",
      "12\n",
      "Rod Strickland\n",
      "7,987\n",
      "13\n",
      "Maurice Cheeks\n",
      "7,392\n",
      "14\n",
      "RUSSELL WESTBROOK\n",
      "7,267\n",
      "15\n",
      "RAJON RONDO\n",
      "7,215\n",
      "16\n",
      "Lenny Wilkens\n",
      "7,211\n",
      "17\n",
      "Terry Porter\n",
      "7,160\n",
      "18\n",
      "Tim Hardaway\n",
      "7,095\n",
      "19\n",
      "Tony Parker\n",
      "7,036\n",
      "20\n",
      "Bob Cousy\n",
      "6,955\n",
      "21\n",
      "Guy Rodgers\n",
      "6,917\n",
      "22\n",
      "Deron Williams\n",
      "6,819\n",
      "23\n",
      "Muggsy Bogues\n",
      "6,726\n",
      "24\n",
      "Kevin Johnson\n",
      "6,711\n",
      "25\n",
      "Derek Harper\n",
      "6,577\n"
     ]
    }
   ],
   "source": [
    "# iterate over tablerows\n",
    "for row in stat_table.find_all('tr'):\n",
    "    # find table data for each iteration over rows\n",
    "    # inspect table for the actual values you look for\n",
    "    # if they are text whithin angle brackets like >text< you get the with text function\n",
    "    for cell in row.find_all('td'):\n",
    "        # print the text for each cell\n",
    "        print(cell.text)"
   ]
  },
  {
   "cell_type": "code",
   "execution_count": 32,
   "metadata": {},
   "outputs": [
    {
     "data": {
      "text/plain": [
       "'This is the string1111111111111111111111111111111111111111111111111111111111111111111111111111111111'"
      ]
     },
     "execution_count": 32,
     "metadata": {},
     "output_type": "execute_result"
    }
   ],
   "source": [
    "# example of ljust\n",
    "# ljust justifies text to the left and then pass (string_length, \"character to fill in with\")\n",
    "string = \"This is the string\"\n",
    "string.ljust(100, \"1\")"
   ]
  },
  {
   "cell_type": "code",
   "execution_count": 33,
   "metadata": {},
   "outputs": [
    {
     "name": "stdout",
     "output_type": "stream",
     "text": [
      "Assists Leaders               \n",
      "\n",
      "\n",
      "RK                            \n",
      "PLAYER                        \n",
      "AST                           \n",
      "\n",
      "\n",
      "1                             \n",
      "John Stockton                 \n",
      "15,806                        \n",
      "\n",
      "\n",
      "2                             \n",
      "Jason Kidd                    \n",
      "12,091                        \n",
      "\n",
      "\n",
      "3                             \n",
      "Steve Nash                    \n",
      "10,335                        \n",
      "\n",
      "\n",
      "4                             \n",
      "Mark Jackson                  \n",
      "10,334                        \n",
      "\n",
      "\n",
      "5                             \n",
      "Magic Johnson                 \n",
      "10,141                        \n",
      "\n",
      "\n",
      "6                             \n",
      "Oscar Robertson               \n",
      "9,887                         \n",
      "\n",
      "\n",
      "7                             \n",
      "CHRIS PAUL                    \n",
      "9,607                         \n",
      "\n",
      "\n",
      "8                             \n",
      "LeBRON JAMES                  \n",
      "9,298                         \n",
      "\n",
      "\n",
      "9                             \n",
      "Isiah Thomas                  \n",
      "9,061                         \n",
      "\n",
      "\n",
      "10                            \n",
      "Gary Payton                   \n",
      "8,966                         \n",
      "\n",
      "\n",
      "11                            \n",
      "Andre Miller                  \n",
      "8,524                         \n",
      "\n",
      "\n",
      "12                            \n",
      "Rod Strickland                \n",
      "7,987                         \n",
      "\n",
      "\n",
      "13                            \n",
      "Maurice Cheeks                \n",
      "7,392                         \n",
      "\n",
      "\n",
      "14                            \n",
      "RUSSELL WESTBROOK             \n",
      "7,267                         \n",
      "\n",
      "\n",
      "15                            \n",
      "RAJON RONDO                   \n",
      "7,215                         \n",
      "\n",
      "\n",
      "16                            \n",
      "Lenny Wilkens                 \n",
      "7,211                         \n",
      "\n",
      "\n",
      "17                            \n",
      "Terry Porter                  \n",
      "7,160                         \n",
      "\n",
      "\n",
      "18                            \n",
      "Tim Hardaway                  \n",
      "7,095                         \n",
      "\n",
      "\n",
      "19                            \n",
      "Tony Parker                   \n",
      "7,036                         \n",
      "\n",
      "\n",
      "20                            \n",
      "Bob Cousy                     \n",
      "6,955                         \n",
      "\n",
      "\n",
      "21                            \n",
      "Guy Rodgers                   \n",
      "6,917                         \n",
      "\n",
      "\n",
      "22                            \n",
      "Deron Williams                \n",
      "6,819                         \n",
      "\n",
      "\n",
      "23                            \n",
      "Muggsy Bogues                 \n",
      "6,726                         \n",
      "\n",
      "\n",
      "24                            \n",
      "Kevin Johnson                 \n",
      "6,711                         \n",
      "\n",
      "\n",
      "25                            \n",
      "Derek Harper                  \n",
      "6,577                         \n",
      "\n",
      "\n"
     ]
    }
   ],
   "source": [
    "# padding columns\n",
    "for row in stat_table.find_all('tr'):\n",
    "    for cell in row.find_all('td'):\n",
    "        # use ljust to separate columns\n",
    "        print(cell.text.ljust(30))\n",
    "    # create a new line\n",
    "    print('\\n')"
   ]
  }
 ],
 "metadata": {
  "kernelspec": {
   "display_name": "Python 3",
   "language": "python",
   "name": "python3"
  },
  "language_info": {
   "codemirror_mode": {
    "name": "ipython",
    "version": 3
   },
   "file_extension": ".py",
   "mimetype": "text/x-python",
   "name": "python",
   "nbconvert_exporter": "python",
   "pygments_lexer": "ipython3",
   "version": "3.8.4"
  }
 },
 "nbformat": 4,
 "nbformat_minor": 4
}
