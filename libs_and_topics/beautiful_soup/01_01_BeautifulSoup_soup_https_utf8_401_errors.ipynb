{
 "cells": [
  {
   "cell_type": "markdown",
   "source": [
    "# Web Scraping\n",
    "\n",
    "## Libraries and pre- requisites\n",
    "### Main libraries"
   ],
   "metadata": {}
  },
  {
   "cell_type": "code",
   "execution_count": null,
   "source": [
    "pip install beautifulsoup4\r\n",
    "\r\n",
    "pip install lxml\r\n",
    "\r\n",
    "pip install requests\r\n"
   ],
   "outputs": [],
   "metadata": {}
  },
  {
   "cell_type": "markdown",
   "source": [
    "### Secondary libraries\n",
    "pip install --upgrade certifi\n",
    "pip install html5lib\n",
    "pip install openpyxl"
   ],
   "metadata": {}
  },
  {
   "cell_type": "markdown",
   "source": [
    "# headers\n",
    "- headers mimic browsers\n",
    "- for header information go to whoishostingthis.com/tools/user-agent\n",
    "- copy and paste that\n",
    "- syntax\n",
    "- dictionary {'key': 'value\"}\n",
    "- headers = {'User-Agent': 'result from webpage'}\n",
    "- the following should be enough:\n",
    "- headers = {'User-Agent': 'Mozilla/5.0'}"
   ],
   "metadata": {}
  },
  {
   "cell_type": "code",
   "execution_count": 2,
   "source": [
    "import requests \r\n",
    "from bs4 import BeautifulSoup\r\n",
    "\r\n",
    "url = 'http://www.espn.com/nba/history/leaders/_/stat/assists'\r\n",
    "\r\n",
    "user_headers = {'User-Agent': 'Mozilla/5.0 (X11; Ubuntu; Linux x86_64) AppleWebKit/537.36 (KHTML, like Gecko) Chrome/83.0.4103.61 Safari/537.36 RuxitSynthetic/1.0 v5595704681 t38550'}\r\n",
    "\r\n",
    "# make request with user_headers\r\n",
    "# store request in response\r\n",
    "response = requests.get(url, headers = user_headers)\r\n",
    "response"
   ],
   "outputs": [
    {
     "output_type": "execute_result",
     "data": {
      "text/plain": [
       "<Response [200]>"
      ]
     },
     "metadata": {},
     "execution_count": 2
    }
   ],
   "metadata": {}
  },
  {
   "cell_type": "markdown",
   "source": [
    "## response code"
   ],
   "metadata": {}
  },
  {
   "cell_type": "code",
   "execution_count": 3,
   "source": [
    "# get 200 response that means correct response\r\n",
    "# 403 is forbidden\r\n",
    "# google html response codes\r\n",
    "response.status_code"
   ],
   "outputs": [
    {
     "output_type": "execute_result",
     "data": {
      "text/plain": [
       "200"
      ]
     },
     "metadata": {},
     "execution_count": 3
    }
   ],
   "metadata": {}
  },
  {
   "cell_type": "code",
   "execution_count": 6,
   "source": [
    "# response = requests.get(\"https://stackoverflow.com/questions\")\r\n",
    "response = requests.get(\"http://192.168.1.68:8069/web#id=38&action=343&model=nomina_base.escenario_nomina&view_type=form&cids=3&menu_id=219\")\r\n",
    "\r\n",
    "response.status_code"
   ],
   "outputs": [
    {
     "output_type": "execute_result",
     "data": {
      "text/plain": [
       "200"
      ]
     },
     "metadata": {},
     "execution_count": 6
    }
   ],
   "metadata": {}
  },
  {
   "cell_type": "code",
   "execution_count": 7,
   "source": [
    "# get soup with response content and parser\r\n",
    "soup = BeautifulSoup(response.text, \"html.parser\")  # extract the text"
   ],
   "outputs": [],
   "metadata": {}
  },
  {
   "cell_type": "code",
   "execution_count": 8,
   "source": [
    "soup"
   ],
   "outputs": [
    {
     "output_type": "execute_result",
     "data": {
      "text/plain": [
       "\n",
       "<!DOCTYPE html>\n",
       "\n",
       "<html style=\"height: 100%;\">\n",
       "<head>\n",
       "<meta charset=\"utf-8\"/>\n",
       "<meta content=\"IE=edge,chrome=1\" http-equiv=\"X-UA-Compatible\"/>\n",
       "<meta content=\"width=device-width, initial-scale=1, user-scalable=no\" name=\"viewport\"/>\n",
       "<meta content=\"width=device-width, initial-scale=1, user-scalable=no\" name=\"viewport\"/>\n",
       "<title>Odoo</title>\n",
       "<link href=\"/web/static/src/img/favicon.ico\" rel=\"shortcut icon\" type=\"image/x-icon\"/>\n",
       "<link as=\"font\" crossorigin=\"\" href=\"/web/static/lib/fontawesome/fonts/fontawesome-webfont.woff2?v=4.7.0\" rel=\"preload\"/>\n",
       "<link data-asset-version=\"cdacdaf\" data-asset-xmlid=\"web.assets_common\" href=\"/web/content/600-cdacdaf/web.assets_common.css\" rel=\"stylesheet\" type=\"text/css\"/>\n",
       "<link data-asset-version=\"b3d303c\" data-asset-xmlid=\"web.assets_frontend\" href=\"/web/content/601-b3d303c/web.assets_frontend.css\" rel=\"stylesheet\" type=\"text/css\"/>\n",
       "<script id=\"web.layout.odooscript\" type=\"text/javascript\">\n",
       "                    var odoo = {\n",
       "                        csrf_token: \"70889f7da342e6646778c569f891979223d388a9o1661128417\",\n",
       "                        debug: \"\",\n",
       "                    };\n",
       "                </script>\n",
       "<script type=\"text/javascript\">\n",
       "                odoo.session_info = {\"is_admin\": false, \"is_system\": false, \"is_website_user\": false, \"user_id\": false, \"is_frontend\": true, \"translationURL\": \"/website/translations\", \"cache_hashes\": {\"translations\": \"3f9840f92d2d22f10fb83244d7f7c08c01533309\"}};\n",
       "                if (!/(^|;\\s)tz=/.test(document.cookie)) {\n",
       "                    const userTZ = Intl.DateTimeFormat().resolvedOptions().timeZone;\n",
       "                    document.cookie = `tz=${userTZ}; path=/`;\n",
       "                }\n",
       "            </script>\n",
       "<script data-asset-version=\"8544af9\" data-asset-xmlid=\"web.assets_common_minimal_js\" defer=\"defer\" src=\"/web/content/602-8544af9/web.assets_common_minimal_js.js\" type=\"text/javascript\"></script>\n",
       "<script data-asset-version=\"eadbf77\" data-asset-xmlid=\"web.assets_frontend_minimal_js\" defer=\"defer\" src=\"/web/content/603-eadbf77/web.assets_frontend_minimal_js.js\" type=\"text/javascript\"></script>\n",
       "<script data-asset-version=\"751880f\" data-asset-xmlid=\"web.assets_common_lazy\" data-src=\"/web/content/604-751880f/web.assets_common_lazy.js\" defer=\"defer\" type=\"text/javascript\"></script>\n",
       "<script data-asset-version=\"b0e29aa\" data-asset-xmlid=\"web.assets_frontend_lazy\" data-src=\"/web/content/605-b0e29aa/web.assets_frontend_lazy.js\" defer=\"defer\" type=\"text/javascript\"></script>\n",
       "</head>\n",
       "<body class=\"bg-100\">\n",
       "<div class=\"\" id=\"wrapwrap\">\n",
       "<main>\n",
       "<div class=\"container py-5\">\n",
       "<div class=\"card border-0 mx-auto bg-100 o_database_list\" style=\"max-width: 300px;\">\n",
       "<div class=\"card-body\">\n",
       "<div class=\"text-center pb-3 border-bottom mb-4\">\n",
       "<img alt=\"Logo\" src=\"/web/binary/company_logo\" style=\"max-height:120px; max-width: 100%; width:auto\"/>\n",
       "</div>\n",
       "<form action=\"/web/login\" class=\"oe_login_form\" method=\"post\" onsubmit=\"this.action = '/web/login' + location.hash\" role=\"form\">\n",
       "<input name=\"csrf_token\" type=\"hidden\" value=\"70889f7da342e6646778c569f891979223d388a9o1661128417\"/>\n",
       "<div class=\"form-group field-login\">\n",
       "<label for=\"login\">Email</label>\n",
       "<input autocapitalize=\"off\" autofocus=\"autofocus\" class=\"form-control\" id=\"login\" name=\"login\" placeholder=\"Email\" required=\"required\" type=\"text\"/>\n",
       "</div>\n",
       "<div class=\"form-group field-password\">\n",
       "<label for=\"password\">Password</label>\n",
       "<input autocomplete=\"current-password\" class=\"form-control\" id=\"password\" maxlength=\"4096\" name=\"password\" placeholder=\"Password\" required=\"required\" type=\"password\"/>\n",
       "</div>\n",
       "<div class=\"clearfix oe_login_buttons text-center mb-1 pt-3\">\n",
       "<button class=\"btn btn-primary btn-block\" type=\"submit\">Log in</button>\n",
       "<div class=\"justify-content-between mt-2 d-flex small\">\n",
       "<a href=\"/web/signup?\">Don't have an account?</a>\n",
       "<a href=\"/web/reset_password?\">Reset Password</a>\n",
       "</div>\n",
       "<div class=\"o_login_auth\"></div>\n",
       "</div>\n",
       "<input name=\"redirect\" type=\"hidden\"/>\n",
       "</form>\n",
       "<div class=\"text-center small mt-4 pt-3 border-top\">\n",
       "<a class=\"border-right pr-2 mr-1\" href=\"/web/database/manager\">Manage Databases</a>\n",
       "<a href=\"https://www.odoo.com?utm_source=db&amp;utm_medium=auth\" target=\"_blank\">Powered by <span>Odoo</span></a>\n",
       "</div>\n",
       "</div>\n",
       "</div>\n",
       "</div>\n",
       "</main>\n",
       "</div>\n",
       "</body>\n",
       "</html>"
      ]
     },
     "metadata": {},
     "execution_count": 8
    }
   ],
   "metadata": {}
  },
  {
   "cell_type": "code",
   "execution_count": 8,
   "source": [
    "# inspect website for table by looking at a row\r\n",
    "# get table tag with class element\r\n",
    "# the stat  row class was stathead but we need the class corresponding the table tag\r\n",
    "# we verify we got a unique element\r\n",
    "stat_table = soup.find_all('table', class_ = \"tablehead\")\r\n",
    "len(stat_table)"
   ],
   "outputs": [
    {
     "output_type": "execute_result",
     "data": {
      "text/plain": [
       "1"
      ]
     },
     "metadata": {},
     "execution_count": 8
    }
   ],
   "metadata": {}
  },
  {
   "cell_type": "markdown",
   "source": [
    "## SSLCertVerificationError\n",
    "workaround for https error\n",
    "This restores the same behavior"
   ],
   "metadata": {}
  },
  {
   "cell_type": "code",
   "execution_count": 11,
   "source": [
    "## SSLCertVerificationError   \r\n",
    "url = 'https://infosen.senado.gob.mx/formatos_INAI-INFOSEN/index.php?c=votaciones&a=data'\r\n",
    "response = requests.get(url, headers = {'User-Agent': 'Mozilla/5.0'})\r\n",
    "\r\n",
    "response.status_code"
   ],
   "outputs": [
    {
     "output_type": "error",
     "ename": "SSLError",
     "evalue": "HTTPSConnectionPool(host='infosen.senado.gob.mx', port=443): Max retries exceeded with url: /formatos_INAI-INFOSEN/index.php?c=votaciones&a=data (Caused by SSLError(SSLCertVerificationError(1, '[SSL: CERTIFICATE_VERIFY_FAILED] certificate verify failed: unable to get local issuer certificate (_ssl.c:1123)')))",
     "traceback": [
      "\u001b[1;31m---------------------------------------------------------------------------\u001b[0m",
      "\u001b[1;31mSSLCertVerificationError\u001b[0m                  Traceback (most recent call last)",
      "\u001b[1;32m~\\AppData\\Local\\Programs\\Python\\Python38-32\\lib\\site-packages\\urllib3\\connectionpool.py\u001b[0m in \u001b[0;36murlopen\u001b[1;34m(self, method, url, body, headers, retries, redirect, assert_same_host, timeout, pool_timeout, release_conn, chunked, body_pos, **response_kw)\u001b[0m\n\u001b[0;32m    669\u001b[0m             \u001b[1;31m# Make the request on the httplib connection object.\u001b[0m\u001b[1;33m\u001b[0m\u001b[1;33m\u001b[0m\u001b[1;33m\u001b[0m\u001b[0m\n\u001b[1;32m--> 670\u001b[1;33m             httplib_response = self._make_request(\n\u001b[0m\u001b[0;32m    671\u001b[0m                 \u001b[0mconn\u001b[0m\u001b[1;33m,\u001b[0m\u001b[1;33m\u001b[0m\u001b[1;33m\u001b[0m\u001b[0m\n",
      "\u001b[1;32m~\\AppData\\Local\\Programs\\Python\\Python38-32\\lib\\site-packages\\urllib3\\connectionpool.py\u001b[0m in \u001b[0;36m_make_request\u001b[1;34m(self, conn, method, url, timeout, chunked, **httplib_request_kw)\u001b[0m\n\u001b[0;32m    380\u001b[0m         \u001b[1;32mtry\u001b[0m\u001b[1;33m:\u001b[0m\u001b[1;33m\u001b[0m\u001b[1;33m\u001b[0m\u001b[0m\n\u001b[1;32m--> 381\u001b[1;33m             \u001b[0mself\u001b[0m\u001b[1;33m.\u001b[0m\u001b[0m_validate_conn\u001b[0m\u001b[1;33m(\u001b[0m\u001b[0mconn\u001b[0m\u001b[1;33m)\u001b[0m\u001b[1;33m\u001b[0m\u001b[1;33m\u001b[0m\u001b[0m\n\u001b[0m\u001b[0;32m    382\u001b[0m         \u001b[1;32mexcept\u001b[0m \u001b[1;33m(\u001b[0m\u001b[0mSocketTimeout\u001b[0m\u001b[1;33m,\u001b[0m \u001b[0mBaseSSLError\u001b[0m\u001b[1;33m)\u001b[0m \u001b[1;32mas\u001b[0m \u001b[0me\u001b[0m\u001b[1;33m:\u001b[0m\u001b[1;33m\u001b[0m\u001b[1;33m\u001b[0m\u001b[0m\n",
      "\u001b[1;32m~\\AppData\\Local\\Programs\\Python\\Python38-32\\lib\\site-packages\\urllib3\\connectionpool.py\u001b[0m in \u001b[0;36m_validate_conn\u001b[1;34m(self, conn)\u001b[0m\n\u001b[0;32m    975\u001b[0m         \u001b[1;32mif\u001b[0m \u001b[1;32mnot\u001b[0m \u001b[0mgetattr\u001b[0m\u001b[1;33m(\u001b[0m\u001b[0mconn\u001b[0m\u001b[1;33m,\u001b[0m \u001b[1;34m\"sock\"\u001b[0m\u001b[1;33m,\u001b[0m \u001b[1;32mNone\u001b[0m\u001b[1;33m)\u001b[0m\u001b[1;33m:\u001b[0m  \u001b[1;31m# AppEngine might not have  `.sock`\u001b[0m\u001b[1;33m\u001b[0m\u001b[1;33m\u001b[0m\u001b[0m\n\u001b[1;32m--> 976\u001b[1;33m             \u001b[0mconn\u001b[0m\u001b[1;33m.\u001b[0m\u001b[0mconnect\u001b[0m\u001b[1;33m(\u001b[0m\u001b[1;33m)\u001b[0m\u001b[1;33m\u001b[0m\u001b[1;33m\u001b[0m\u001b[0m\n\u001b[0m\u001b[0;32m    977\u001b[0m \u001b[1;33m\u001b[0m\u001b[0m\n",
      "\u001b[1;32m~\\AppData\\Local\\Programs\\Python\\Python38-32\\lib\\site-packages\\urllib3\\connection.py\u001b[0m in \u001b[0;36mconnect\u001b[1;34m(self)\u001b[0m\n\u001b[0;32m    360\u001b[0m \u001b[1;33m\u001b[0m\u001b[0m\n\u001b[1;32m--> 361\u001b[1;33m         self.sock = ssl_wrap_socket(\n\u001b[0m\u001b[0;32m    362\u001b[0m             \u001b[0msock\u001b[0m\u001b[1;33m=\u001b[0m\u001b[0mconn\u001b[0m\u001b[1;33m,\u001b[0m\u001b[1;33m\u001b[0m\u001b[1;33m\u001b[0m\u001b[0m\n",
      "\u001b[1;32m~\\AppData\\Local\\Programs\\Python\\Python38-32\\lib\\site-packages\\urllib3\\util\\ssl_.py\u001b[0m in \u001b[0;36mssl_wrap_socket\u001b[1;34m(sock, keyfile, certfile, cert_reqs, ca_certs, server_hostname, ssl_version, ciphers, ssl_context, ca_cert_dir, key_password, ca_cert_data)\u001b[0m\n\u001b[0;32m    376\u001b[0m         \u001b[1;32mif\u001b[0m \u001b[0mHAS_SNI\u001b[0m \u001b[1;32mand\u001b[0m \u001b[0mserver_hostname\u001b[0m \u001b[1;32mis\u001b[0m \u001b[1;32mnot\u001b[0m \u001b[1;32mNone\u001b[0m\u001b[1;33m:\u001b[0m\u001b[1;33m\u001b[0m\u001b[1;33m\u001b[0m\u001b[0m\n\u001b[1;32m--> 377\u001b[1;33m             \u001b[1;32mreturn\u001b[0m \u001b[0mcontext\u001b[0m\u001b[1;33m.\u001b[0m\u001b[0mwrap_socket\u001b[0m\u001b[1;33m(\u001b[0m\u001b[0msock\u001b[0m\u001b[1;33m,\u001b[0m \u001b[0mserver_hostname\u001b[0m\u001b[1;33m=\u001b[0m\u001b[0mserver_hostname\u001b[0m\u001b[1;33m)\u001b[0m\u001b[1;33m\u001b[0m\u001b[1;33m\u001b[0m\u001b[0m\n\u001b[0m\u001b[0;32m    378\u001b[0m \u001b[1;33m\u001b[0m\u001b[0m\n",
      "\u001b[1;32m~\\AppData\\Local\\Programs\\Python\\Python38-32\\lib\\ssl.py\u001b[0m in \u001b[0;36mwrap_socket\u001b[1;34m(self, sock, server_side, do_handshake_on_connect, suppress_ragged_eofs, server_hostname, session)\u001b[0m\n\u001b[0;32m    499\u001b[0m         \u001b[1;31m# ctx._wrap_socket()\u001b[0m\u001b[1;33m\u001b[0m\u001b[1;33m\u001b[0m\u001b[1;33m\u001b[0m\u001b[0m\n\u001b[1;32m--> 500\u001b[1;33m         return self.sslsocket_class._create(\n\u001b[0m\u001b[0;32m    501\u001b[0m             \u001b[0msock\u001b[0m\u001b[1;33m=\u001b[0m\u001b[0msock\u001b[0m\u001b[1;33m,\u001b[0m\u001b[1;33m\u001b[0m\u001b[1;33m\u001b[0m\u001b[0m\n",
      "\u001b[1;32m~\\AppData\\Local\\Programs\\Python\\Python38-32\\lib\\ssl.py\u001b[0m in \u001b[0;36m_create\u001b[1;34m(cls, sock, server_side, do_handshake_on_connect, suppress_ragged_eofs, server_hostname, context, session)\u001b[0m\n\u001b[0;32m   1039\u001b[0m                         \u001b[1;32mraise\u001b[0m \u001b[0mValueError\u001b[0m\u001b[1;33m(\u001b[0m\u001b[1;34m\"do_handshake_on_connect should not be specified for non-blocking sockets\"\u001b[0m\u001b[1;33m)\u001b[0m\u001b[1;33m\u001b[0m\u001b[1;33m\u001b[0m\u001b[0m\n\u001b[1;32m-> 1040\u001b[1;33m                     \u001b[0mself\u001b[0m\u001b[1;33m.\u001b[0m\u001b[0mdo_handshake\u001b[0m\u001b[1;33m(\u001b[0m\u001b[1;33m)\u001b[0m\u001b[1;33m\u001b[0m\u001b[1;33m\u001b[0m\u001b[0m\n\u001b[0m\u001b[0;32m   1041\u001b[0m             \u001b[1;32mexcept\u001b[0m \u001b[1;33m(\u001b[0m\u001b[0mOSError\u001b[0m\u001b[1;33m,\u001b[0m \u001b[0mValueError\u001b[0m\u001b[1;33m)\u001b[0m\u001b[1;33m:\u001b[0m\u001b[1;33m\u001b[0m\u001b[1;33m\u001b[0m\u001b[0m\n",
      "\u001b[1;32m~\\AppData\\Local\\Programs\\Python\\Python38-32\\lib\\ssl.py\u001b[0m in \u001b[0;36mdo_handshake\u001b[1;34m(self, block)\u001b[0m\n\u001b[0;32m   1308\u001b[0m                 \u001b[0mself\u001b[0m\u001b[1;33m.\u001b[0m\u001b[0msettimeout\u001b[0m\u001b[1;33m(\u001b[0m\u001b[1;32mNone\u001b[0m\u001b[1;33m)\u001b[0m\u001b[1;33m\u001b[0m\u001b[1;33m\u001b[0m\u001b[0m\n\u001b[1;32m-> 1309\u001b[1;33m             \u001b[0mself\u001b[0m\u001b[1;33m.\u001b[0m\u001b[0m_sslobj\u001b[0m\u001b[1;33m.\u001b[0m\u001b[0mdo_handshake\u001b[0m\u001b[1;33m(\u001b[0m\u001b[1;33m)\u001b[0m\u001b[1;33m\u001b[0m\u001b[1;33m\u001b[0m\u001b[0m\n\u001b[0m\u001b[0;32m   1310\u001b[0m         \u001b[1;32mfinally\u001b[0m\u001b[1;33m:\u001b[0m\u001b[1;33m\u001b[0m\u001b[1;33m\u001b[0m\u001b[0m\n",
      "\u001b[1;31mSSLCertVerificationError\u001b[0m: [SSL: CERTIFICATE_VERIFY_FAILED] certificate verify failed: unable to get local issuer certificate (_ssl.c:1123)",
      "\nDuring handling of the above exception, another exception occurred:\n",
      "\u001b[1;31mMaxRetryError\u001b[0m                             Traceback (most recent call last)",
      "\u001b[1;32m~\\AppData\\Local\\Programs\\Python\\Python38-32\\lib\\site-packages\\requests\\adapters.py\u001b[0m in \u001b[0;36msend\u001b[1;34m(self, request, stream, timeout, verify, cert, proxies)\u001b[0m\n\u001b[0;32m    438\u001b[0m             \u001b[1;32mif\u001b[0m \u001b[1;32mnot\u001b[0m \u001b[0mchunked\u001b[0m\u001b[1;33m:\u001b[0m\u001b[1;33m\u001b[0m\u001b[1;33m\u001b[0m\u001b[0m\n\u001b[1;32m--> 439\u001b[1;33m                 resp = conn.urlopen(\n\u001b[0m\u001b[0;32m    440\u001b[0m                     \u001b[0mmethod\u001b[0m\u001b[1;33m=\u001b[0m\u001b[0mrequest\u001b[0m\u001b[1;33m.\u001b[0m\u001b[0mmethod\u001b[0m\u001b[1;33m,\u001b[0m\u001b[1;33m\u001b[0m\u001b[1;33m\u001b[0m\u001b[0m\n",
      "\u001b[1;32m~\\AppData\\Local\\Programs\\Python\\Python38-32\\lib\\site-packages\\urllib3\\connectionpool.py\u001b[0m in \u001b[0;36murlopen\u001b[1;34m(self, method, url, body, headers, retries, redirect, assert_same_host, timeout, pool_timeout, release_conn, chunked, body_pos, **response_kw)\u001b[0m\n\u001b[0;32m    723\u001b[0m \u001b[1;33m\u001b[0m\u001b[0m\n\u001b[1;32m--> 724\u001b[1;33m             retries = retries.increment(\n\u001b[0m\u001b[0;32m    725\u001b[0m                 \u001b[0mmethod\u001b[0m\u001b[1;33m,\u001b[0m \u001b[0murl\u001b[0m\u001b[1;33m,\u001b[0m \u001b[0merror\u001b[0m\u001b[1;33m=\u001b[0m\u001b[0me\u001b[0m\u001b[1;33m,\u001b[0m \u001b[0m_pool\u001b[0m\u001b[1;33m=\u001b[0m\u001b[0mself\u001b[0m\u001b[1;33m,\u001b[0m \u001b[0m_stacktrace\u001b[0m\u001b[1;33m=\u001b[0m\u001b[0msys\u001b[0m\u001b[1;33m.\u001b[0m\u001b[0mexc_info\u001b[0m\u001b[1;33m(\u001b[0m\u001b[1;33m)\u001b[0m\u001b[1;33m[\u001b[0m\u001b[1;36m2\u001b[0m\u001b[1;33m]\u001b[0m\u001b[1;33m\u001b[0m\u001b[1;33m\u001b[0m\u001b[0m\n",
      "\u001b[1;32m~\\AppData\\Local\\Programs\\Python\\Python38-32\\lib\\site-packages\\urllib3\\util\\retry.py\u001b[0m in \u001b[0;36mincrement\u001b[1;34m(self, method, url, response, error, _pool, _stacktrace)\u001b[0m\n\u001b[0;32m    438\u001b[0m         \u001b[1;32mif\u001b[0m \u001b[0mnew_retry\u001b[0m\u001b[1;33m.\u001b[0m\u001b[0mis_exhausted\u001b[0m\u001b[1;33m(\u001b[0m\u001b[1;33m)\u001b[0m\u001b[1;33m:\u001b[0m\u001b[1;33m\u001b[0m\u001b[1;33m\u001b[0m\u001b[0m\n\u001b[1;32m--> 439\u001b[1;33m             \u001b[1;32mraise\u001b[0m \u001b[0mMaxRetryError\u001b[0m\u001b[1;33m(\u001b[0m\u001b[0m_pool\u001b[0m\u001b[1;33m,\u001b[0m \u001b[0murl\u001b[0m\u001b[1;33m,\u001b[0m \u001b[0merror\u001b[0m \u001b[1;32mor\u001b[0m \u001b[0mResponseError\u001b[0m\u001b[1;33m(\u001b[0m\u001b[0mcause\u001b[0m\u001b[1;33m)\u001b[0m\u001b[1;33m)\u001b[0m\u001b[1;33m\u001b[0m\u001b[1;33m\u001b[0m\u001b[0m\n\u001b[0m\u001b[0;32m    440\u001b[0m \u001b[1;33m\u001b[0m\u001b[0m\n",
      "\u001b[1;31mMaxRetryError\u001b[0m: HTTPSConnectionPool(host='infosen.senado.gob.mx', port=443): Max retries exceeded with url: /formatos_INAI-INFOSEN/index.php?c=votaciones&a=data (Caused by SSLError(SSLCertVerificationError(1, '[SSL: CERTIFICATE_VERIFY_FAILED] certificate verify failed: unable to get local issuer certificate (_ssl.c:1123)')))",
      "\nDuring handling of the above exception, another exception occurred:\n",
      "\u001b[1;31mSSLError\u001b[0m                                  Traceback (most recent call last)",
      "\u001b[1;32m<ipython-input-11-28c168ed9ccb>\u001b[0m in \u001b[0;36m<module>\u001b[1;34m\u001b[0m\n\u001b[0;32m      1\u001b[0m \u001b[1;31m## SSLCertVerificationError\u001b[0m\u001b[1;33m\u001b[0m\u001b[1;33m\u001b[0m\u001b[1;33m\u001b[0m\u001b[0m\n\u001b[0;32m      2\u001b[0m \u001b[0murl\u001b[0m \u001b[1;33m=\u001b[0m \u001b[1;34m'https://infosen.senado.gob.mx/formatos_INAI-INFOSEN/index.php?c=votaciones&a=data'\u001b[0m\u001b[1;33m\u001b[0m\u001b[1;33m\u001b[0m\u001b[0m\n\u001b[1;32m----> 3\u001b[1;33m \u001b[0mresponse\u001b[0m \u001b[1;33m=\u001b[0m \u001b[0mrequests\u001b[0m\u001b[1;33m.\u001b[0m\u001b[0mget\u001b[0m\u001b[1;33m(\u001b[0m\u001b[0murl\u001b[0m\u001b[1;33m,\u001b[0m \u001b[0mheaders\u001b[0m \u001b[1;33m=\u001b[0m \u001b[1;33m{\u001b[0m\u001b[1;34m'User-Agent'\u001b[0m\u001b[1;33m:\u001b[0m \u001b[1;34m'Mozilla/5.0'\u001b[0m\u001b[1;33m}\u001b[0m\u001b[1;33m)\u001b[0m\u001b[1;33m\u001b[0m\u001b[1;33m\u001b[0m\u001b[0m\n\u001b[0m\u001b[0;32m      4\u001b[0m \u001b[1;33m\u001b[0m\u001b[0m\n\u001b[0;32m      5\u001b[0m \u001b[0mresponse\u001b[0m\u001b[1;33m.\u001b[0m\u001b[0mstatus_code\u001b[0m\u001b[1;33m\u001b[0m\u001b[1;33m\u001b[0m\u001b[0m\n",
      "\u001b[1;32m~\\AppData\\Local\\Programs\\Python\\Python38-32\\lib\\site-packages\\requests\\api.py\u001b[0m in \u001b[0;36mget\u001b[1;34m(url, params, **kwargs)\u001b[0m\n\u001b[0;32m     74\u001b[0m \u001b[1;33m\u001b[0m\u001b[0m\n\u001b[0;32m     75\u001b[0m     \u001b[0mkwargs\u001b[0m\u001b[1;33m.\u001b[0m\u001b[0msetdefault\u001b[0m\u001b[1;33m(\u001b[0m\u001b[1;34m'allow_redirects'\u001b[0m\u001b[1;33m,\u001b[0m \u001b[1;32mTrue\u001b[0m\u001b[1;33m)\u001b[0m\u001b[1;33m\u001b[0m\u001b[1;33m\u001b[0m\u001b[0m\n\u001b[1;32m---> 76\u001b[1;33m     \u001b[1;32mreturn\u001b[0m \u001b[0mrequest\u001b[0m\u001b[1;33m(\u001b[0m\u001b[1;34m'get'\u001b[0m\u001b[1;33m,\u001b[0m \u001b[0murl\u001b[0m\u001b[1;33m,\u001b[0m \u001b[0mparams\u001b[0m\u001b[1;33m=\u001b[0m\u001b[0mparams\u001b[0m\u001b[1;33m,\u001b[0m \u001b[1;33m**\u001b[0m\u001b[0mkwargs\u001b[0m\u001b[1;33m)\u001b[0m\u001b[1;33m\u001b[0m\u001b[1;33m\u001b[0m\u001b[0m\n\u001b[0m\u001b[0;32m     77\u001b[0m \u001b[1;33m\u001b[0m\u001b[0m\n\u001b[0;32m     78\u001b[0m \u001b[1;33m\u001b[0m\u001b[0m\n",
      "\u001b[1;32m~\\AppData\\Local\\Programs\\Python\\Python38-32\\lib\\site-packages\\requests\\api.py\u001b[0m in \u001b[0;36mrequest\u001b[1;34m(method, url, **kwargs)\u001b[0m\n\u001b[0;32m     59\u001b[0m     \u001b[1;31m# cases, and look like a memory leak in others.\u001b[0m\u001b[1;33m\u001b[0m\u001b[1;33m\u001b[0m\u001b[1;33m\u001b[0m\u001b[0m\n\u001b[0;32m     60\u001b[0m     \u001b[1;32mwith\u001b[0m \u001b[0msessions\u001b[0m\u001b[1;33m.\u001b[0m\u001b[0mSession\u001b[0m\u001b[1;33m(\u001b[0m\u001b[1;33m)\u001b[0m \u001b[1;32mas\u001b[0m \u001b[0msession\u001b[0m\u001b[1;33m:\u001b[0m\u001b[1;33m\u001b[0m\u001b[1;33m\u001b[0m\u001b[0m\n\u001b[1;32m---> 61\u001b[1;33m         \u001b[1;32mreturn\u001b[0m \u001b[0msession\u001b[0m\u001b[1;33m.\u001b[0m\u001b[0mrequest\u001b[0m\u001b[1;33m(\u001b[0m\u001b[0mmethod\u001b[0m\u001b[1;33m=\u001b[0m\u001b[0mmethod\u001b[0m\u001b[1;33m,\u001b[0m \u001b[0murl\u001b[0m\u001b[1;33m=\u001b[0m\u001b[0murl\u001b[0m\u001b[1;33m,\u001b[0m \u001b[1;33m**\u001b[0m\u001b[0mkwargs\u001b[0m\u001b[1;33m)\u001b[0m\u001b[1;33m\u001b[0m\u001b[1;33m\u001b[0m\u001b[0m\n\u001b[0m\u001b[0;32m     62\u001b[0m \u001b[1;33m\u001b[0m\u001b[0m\n\u001b[0;32m     63\u001b[0m \u001b[1;33m\u001b[0m\u001b[0m\n",
      "\u001b[1;32m~\\AppData\\Local\\Programs\\Python\\Python38-32\\lib\\site-packages\\requests\\sessions.py\u001b[0m in \u001b[0;36mrequest\u001b[1;34m(self, method, url, params, data, headers, cookies, files, auth, timeout, allow_redirects, proxies, hooks, stream, verify, cert, json)\u001b[0m\n\u001b[0;32m    528\u001b[0m         }\n\u001b[0;32m    529\u001b[0m         \u001b[0msend_kwargs\u001b[0m\u001b[1;33m.\u001b[0m\u001b[0mupdate\u001b[0m\u001b[1;33m(\u001b[0m\u001b[0msettings\u001b[0m\u001b[1;33m)\u001b[0m\u001b[1;33m\u001b[0m\u001b[1;33m\u001b[0m\u001b[0m\n\u001b[1;32m--> 530\u001b[1;33m         \u001b[0mresp\u001b[0m \u001b[1;33m=\u001b[0m \u001b[0mself\u001b[0m\u001b[1;33m.\u001b[0m\u001b[0msend\u001b[0m\u001b[1;33m(\u001b[0m\u001b[0mprep\u001b[0m\u001b[1;33m,\u001b[0m \u001b[1;33m**\u001b[0m\u001b[0msend_kwargs\u001b[0m\u001b[1;33m)\u001b[0m\u001b[1;33m\u001b[0m\u001b[1;33m\u001b[0m\u001b[0m\n\u001b[0m\u001b[0;32m    531\u001b[0m \u001b[1;33m\u001b[0m\u001b[0m\n\u001b[0;32m    532\u001b[0m         \u001b[1;32mreturn\u001b[0m \u001b[0mresp\u001b[0m\u001b[1;33m\u001b[0m\u001b[1;33m\u001b[0m\u001b[0m\n",
      "\u001b[1;32m~\\AppData\\Local\\Programs\\Python\\Python38-32\\lib\\site-packages\\requests\\sessions.py\u001b[0m in \u001b[0;36msend\u001b[1;34m(self, request, **kwargs)\u001b[0m\n\u001b[0;32m    641\u001b[0m \u001b[1;33m\u001b[0m\u001b[0m\n\u001b[0;32m    642\u001b[0m         \u001b[1;31m# Send the request\u001b[0m\u001b[1;33m\u001b[0m\u001b[1;33m\u001b[0m\u001b[1;33m\u001b[0m\u001b[0m\n\u001b[1;32m--> 643\u001b[1;33m         \u001b[0mr\u001b[0m \u001b[1;33m=\u001b[0m \u001b[0madapter\u001b[0m\u001b[1;33m.\u001b[0m\u001b[0msend\u001b[0m\u001b[1;33m(\u001b[0m\u001b[0mrequest\u001b[0m\u001b[1;33m,\u001b[0m \u001b[1;33m**\u001b[0m\u001b[0mkwargs\u001b[0m\u001b[1;33m)\u001b[0m\u001b[1;33m\u001b[0m\u001b[1;33m\u001b[0m\u001b[0m\n\u001b[0m\u001b[0;32m    644\u001b[0m \u001b[1;33m\u001b[0m\u001b[0m\n\u001b[0;32m    645\u001b[0m         \u001b[1;31m# Total elapsed time of the request (approximately)\u001b[0m\u001b[1;33m\u001b[0m\u001b[1;33m\u001b[0m\u001b[1;33m\u001b[0m\u001b[0m\n",
      "\u001b[1;32m~\\AppData\\Local\\Programs\\Python\\Python38-32\\lib\\site-packages\\requests\\adapters.py\u001b[0m in \u001b[0;36msend\u001b[1;34m(self, request, stream, timeout, verify, cert, proxies)\u001b[0m\n\u001b[0;32m    512\u001b[0m             \u001b[1;32mif\u001b[0m \u001b[0misinstance\u001b[0m\u001b[1;33m(\u001b[0m\u001b[0me\u001b[0m\u001b[1;33m.\u001b[0m\u001b[0mreason\u001b[0m\u001b[1;33m,\u001b[0m \u001b[0m_SSLError\u001b[0m\u001b[1;33m)\u001b[0m\u001b[1;33m:\u001b[0m\u001b[1;33m\u001b[0m\u001b[1;33m\u001b[0m\u001b[0m\n\u001b[0;32m    513\u001b[0m                 \u001b[1;31m# This branch is for urllib3 v1.22 and later.\u001b[0m\u001b[1;33m\u001b[0m\u001b[1;33m\u001b[0m\u001b[1;33m\u001b[0m\u001b[0m\n\u001b[1;32m--> 514\u001b[1;33m                 \u001b[1;32mraise\u001b[0m \u001b[0mSSLError\u001b[0m\u001b[1;33m(\u001b[0m\u001b[0me\u001b[0m\u001b[1;33m,\u001b[0m \u001b[0mrequest\u001b[0m\u001b[1;33m=\u001b[0m\u001b[0mrequest\u001b[0m\u001b[1;33m)\u001b[0m\u001b[1;33m\u001b[0m\u001b[1;33m\u001b[0m\u001b[0m\n\u001b[0m\u001b[0;32m    515\u001b[0m \u001b[1;33m\u001b[0m\u001b[0m\n\u001b[0;32m    516\u001b[0m             \u001b[1;32mraise\u001b[0m \u001b[0mConnectionError\u001b[0m\u001b[1;33m(\u001b[0m\u001b[0me\u001b[0m\u001b[1;33m,\u001b[0m \u001b[0mrequest\u001b[0m\u001b[1;33m=\u001b[0m\u001b[0mrequest\u001b[0m\u001b[1;33m)\u001b[0m\u001b[1;33m\u001b[0m\u001b[1;33m\u001b[0m\u001b[0m\n",
      "\u001b[1;31mSSLError\u001b[0m: HTTPSConnectionPool(host='infosen.senado.gob.mx', port=443): Max retries exceeded with url: /formatos_INAI-INFOSEN/index.php?c=votaciones&a=data (Caused by SSLError(SSLCertVerificationError(1, '[SSL: CERTIFICATE_VERIFY_FAILED] certificate verify failed: unable to get local issuer certificate (_ssl.c:1123)')))"
     ]
    }
   ],
   "metadata": {}
  },
  {
   "cell_type": "code",
   "execution_count": 14,
   "source": [
    "import ssl\n",
    "\n",
    "soup = urllib.request.urlopen(\n",
    "    \"https://infosen.senado.gob.mx/formatos_INAI-INFOSEN/index.php?c=votaciones&a=data\", context=ssl._create_unverified_context())\n",
    "\n",
    "response.status_code"
   ],
   "outputs": [
    {
     "output_type": "execute_result",
     "data": {
      "text/plain": [
       "200"
      ]
     },
     "metadata": {},
     "execution_count": 14
    }
   ],
   "metadata": {}
  },
  {
   "cell_type": "code",
   "execution_count": null,
   "source": [
    "# decode utf8\n",
    "\n",
    "pip install chardet\n",
    "\n",
    "pip install cchardet \n",
    "\n",
    "Unicode, Dammit’s guesses will get a lot more accurate if you install the chardet or cchardet"
   ],
   "outputs": [],
   "metadata": {}
  },
  {
   "cell_type": "code",
   "execution_count": 15,
   "source": [
    "# if you have special characters not showing up correctly \r\n",
    "extracted_soup = soup.read()\r\n",
    "print(extracted_soup)"
   ],
   "outputs": [
    {
     "output_type": "stream",
     "name": "stdout",
     "text": [
      "b'<!doctype html>\\n<html lang=\"en\">\\n<head>\\n  <title>Senado de la Rep\\xc3\\xbablica</title>\\n  <!-- Required meta tags -->\\n  <meta charset=\"utf-8\">\\n  <meta name=\"viewport\" content=\"width=device-width, initial-scale=1, shrink-to-fit=no\">\\n  <link rel=\"shortcut icon\" type=\"image/x-icon\" href=\"Webroot/img/favicon.ico\" />\\n  <!-- Bootstrap CSS -->\\n  <link rel=\"stylesheet\" href=\"Webroot/css/bootstrap.min.css\" >\\n  <link rel=\"stylesheet\" href=\"Webroot/css/custom-navbar.css\" >\\n  <link rel=\"stylesheet\" href=\"Webroot/css/custom.css\" >\\n  <!-- Optional JavaScript -->\\n  <!-- jQuery first, then Popper.js, then Bootstrap JS -->\\n  <script src=\"Webroot/js/jquery-3.2.1.min.js\"  ></script>\\n  <script src=\"Webroot/js/popper.min.js\"  ></script>\\n  <script src=\"Webroot/js/bootstrap.min.js\"></script>\\n  <script>\\n    $(function () {\\n      $(\\'[data-toggle=\"tooltip\"]\\').tooltip();\\n    });\\n  </script>\\n  <style>\\n  .tooltip-inner {\\n    max-width: 450px;\\n    width: 450px;\\n  }\\n</style>\\n</head>\\n<body>\\n  <div id=\"container\">\\n    <nav class=\"navbar navbar-expand-lg\">\\n  <a class=\"navbar-brand\" href=\"http://www.senado.gob.mx/\">\\n  \\t<img src=\"Webroot/img/senado64.jpg\" alt=\"\" id=\"logo\">\\n  \\t<span id=\"sgsp\">Secretar\\xc3\\xada General de Servicios Parlamentarios</span>\\n  </a>\\n</nav>\\n  </div>\\n\\n  <div class=\"container-fluid\" id=\"main\"> \\n    \\n    <link rel=\"stylesheet\" type=\"text/css\" href=\"Webroot/css/datatables.min.css\">\\r\\n<link rel=\"stylesheet\" type=\"text/css\" href=\"Webroot/css/fixedHeader.bootstrap4.min.css\">\\r\\n<link rel=\"stylesheet\" type=\"text/css\" href=\"Webroot/css/buttons.bootstrap4.min.css\">\\r\\n\\r\\n<script type=\"text/javascript\" charset=\"utf8\" src=\"Webroot/js/jszip.min.js\"></script>\\r\\n<script type=\"text/javascript\" charset=\"utf8\" src=\"Webroot/js/datatables.js\"></script>\\r\\n<script type=\"text/javascript\" charset=\"utf8\" src=\"Webroot/js/dataTables.fixedHeader.min.js\"></script>\\r\\n<script type=\"text/javascript\" charset=\"utf8\" src=\"Webroot/js/dataTables.buttons.min.js\"></script>\\r\\n<script type=\"text/javascript\" charset=\"utf8\" src=\"Webroot/js/buttons.bootstrap4.min.js\"></script>\\r\\n<script type=\"text/javascript\" charset=\"utf8\" src=\"Webroot/js/buttons.html5.min.js\"></script>\\r\\n\\r\\n<div class=\"justify-content-center\">\\r\\n\\t<h2>Art\\xc3\\xadculo 72 de la Ley General de Transparencia y Acceso a la Informaci\\xc3\\xb3n P\\xc3\\xbablica</h2>\\r\\n\\t\\r\\n\\t<div class=\"row\">\\r\\n\\t\\t<div class=\"col-12\"><h3>IX. e) Listas de Votaciones nominales en el Pleno</h3></div>\\r\\n\\t\\t<div class=\"col-8\" style=\"color: white; background-color: rgba(30, 30, 30, 0.64);\">\\r\\n\\t\\t\\tFecha de actualizaci\\xc3\\xb3n y validaci\\xc3\\xb3n:  01 de julio de 2020\\t\\t\\t<br>\\xc3\\x81rea(s) o unidad(es) administrativa(s) responsable(s) de la informaci\\xc3\\xb3n:   Cuerpo T\\xc3\\xa9cnico\\r\\n\\t\\t\\t<br/>La consulta de la informaci\\xc3\\xb3n se presenta conforme a la estructura de los formatos generados por el INAI, por lo que, para visualizar la informaci\\xc3\\xb3n completa se tendr\\xc3\\xa1 que desplazar hacia la derecha con la barra respectiva o con las teclas de flecha correspondientes.\\r\\n            <br/>\\r\\n\\t\\t</div>\\r\\n    </div>\\r\\n    <br/>\\r\\n    <div class=\"row\">\\r\\n        <div class=\"col-12\">\\r\\n            <div class=\"btn-group\" role=\"group\">\\r\\n\\t\\t\\t\\t<a style=\"border-color: #8d9093;\" type=\"button\" class=\"btn btn-light\" href=\"?c=menu&a=index\"><img src=\"Webroot/img/home_icon.png\" alt=\"Men\\xc3\\xba\"></a>\\r\\n\\t\\t\\t\\t<button style=\"border-color: #8d9093;\" type=\"button\" class=\"btn btn-light\" data-toggle=\"modal\" data-target=\"#quecontine\">\\xc2\\xbfQu\\xc3\\xa9 contiene?</button>\\r\\n\\t\\t\\t\\t<button style=\"border-color: #8d9093;\" type=\"button\" class=\"btn btn-light\" data-toggle=\"modal\" data-target=\"#comoconsulta\">\\xc2\\xbfC\\xc3\\xb3mo se consulta?</button>\\r\\n\\t\\t\\t</div>\\r\\n        </div>\\r\\n    </div>\\r\\n</div>\\r\\n<br/>\\r\\n<div class=\"align-items-center justify-content-center\">\\r\\n\\t<table class=\"table table-hover table-striped\" id=\\'dataTableVotaciones\\'>\\r\\n\\t\\t<thead class=\"bg-sen\">\\r\\n\\t\\t\\t<tr>\\r\\n\\t\\t\\t\\t<th></th>\\r\\n\\t\\t\\t\\t<th scope=\"col\">Ejercicio</th>\\r\\n\\t\\t\\t\\t<th scope=\"col\">Fecha inicio Periodo</th>\\r\\n\\t\\t\\t\\t<th scope=\"col\">Fecha t\\xc3\\xa9rmino Periodo</th>\\r\\n\\t\\t\\t\\t<th scope=\"col\">N&uacute;mero&nbsp;de legislatura</th>\\r\\n\\t\\t\\t\\t<th scope=\"col\">Duraci\\xc3\\xb3n&nbsp;de la&nbsp;legislatura</th>\\r\\n\\t\\t\\t\\t<th scope=\"col\">A&ntilde;o legislativo</th>\\r\\n\\t\\t\\t\\t<th scope=\"col\">Periodo de&nbsp;sesiones</th>\\r\\n\\t\\t\\t\\t<th scope=\"col\">Inicio Periodos&nbsp;de&nbsp;sesiones</th>\\r\\n\\t\\t\\t\\t<th scope=\"col\">T&eacute;rmino Periodos&nbsp;de&nbsp;sesiones</th>\\r\\n\\t\\t\\t\\t<th scope=\"col\">N&uacute;mero de&nbsp;sesi&oacute;n</th>\\r\\n\\t\\t\\t\\t<th scope=\"col\">N\\xc3\\xbamero de gaceta parlamentaria</th>\\r\\n\\t\\t\\t\\t<th scope=\"col\">Fecha&nbsp;de la&nbsp;gaceta</th>\\r\\n\\t\\t\\t\\t<th scope=\"col\">Sesi\\xc3\\xb3n&nbsp;celebrada&nbsp;y el tipo de la misma</th>\\r\\n\\t\\t\\t\\t<th scope=\"col\">Organismo que llev\\xc3\\xb3 a cabo&nbsp;la&nbsp;sesi\\xc3\\xb3n</th>\\r\\n\\t\\t\\t\\t<th scope=\"col\">Tipo&nbsp;de&nbsp;votaci\\xc3\\xb3n</th>\\r\\n\\t\\t\\t\\t<th scope=\"col\">Tipo&nbsp;de&nbsp;asunto&nbsp;que&nbsp;se&nbsp;vota</th>\\r\\n\\t\\t\\t\\t<th scope=\"col\" style=\"min-width: 35rem;\">T&iacute;tulo&nbsp;del&nbsp;asunto</th>\\r\\n\\t\\t\\t\\t<th scope=\"col\">Nombre</th>\\r\\n\\t\\t\\t\\t<th scope=\"col\">Primer apellido</th>\\r\\n\\t\\t\\t\\t<th scope=\"col\">Segundo apellido</th>\\r\\n\\t\\t\\t\\t<th scope=\"col\">Sentido del voto</th>\\r\\n\\t\\t\\t\\t<th scope=\"col\">Denominaci&oacute;n&nbsp;de&nbsp;la&nbsp;normatividad</th>\\r\\n\\t\\t\\t\\t<th scope=\"col\">Fundamento&nbsp;legal</th>\\r\\n\\t\\t\\t\\t<th scope=\"col\">Hiperv&iacute;nculo al acta de la votaci&oacute;n</th>\\r\\n\\t\\t\\t\\t<th scope=\"col\" style=\"min-width: 75rem;\">Nota</th>\\r\\n\\t\\t\\t</tr>\\r\\n\\t\\t</thead>\\r\\n\\t\\t<tbody class=\"bd-sen\">\\r\\n\\t\\t\\t\\r\\n\\t\\t</tbody>\\r\\n\\t</table>\\r\\n</div>\\r\\n\\r\\n<!-- Modal -->\\r\\n<div class=\"modal fade\" id=\"quecontine\" role=\"dialog\">\\r\\n\\t<div class=\"modal-dialog modal-lg\" role=\"document\">\\r\\n\\r\\n\\t\\t<!-- Modal content-->\\r\\n\\t\\t<div class=\"modal-content\">\\r\\n\\t\\t\\t<div class=\"modal-header\">\\r\\n\\t\\t\\t\\t<h4 class=\"modal-title\">\\xc2\\xbfQu&eacute; contiene?</h4>\\r\\n\\t\\t\\t\\t<button type=\"button\" class=\"close\" data-dismiss=\"modal\" aria-label=\"Close\">\\r\\n\\t\\t\\t\\t\\t<span aria-hidden=\"true\">&times;</span>\\r\\n\\t\\t\\t\\t</button>\\r\\n\\t\\t\\t</div>\\r\\n\\r\\n\\t\\t\\t<div class=\"modal-body\">\\r\\n\\t\\t\\t\\t<div class=\"text-justify\">\\r\\n\\t\\t\\t\\t\\t<b>\\xc2\\xbfQu\\xc3\\xa9 contiene el formato de Art\\xc3\\xadculo 72 Fracci\\xc3\\xb3n IX. e) Listas de Votaciones nominales en el Pleno?</b>\\r\\n\\t\\t\\t\\t\\t<p>Contiene la informaci\\xc3\\xb3n de las convocatorias, actas, acuerdos, listas de asistencia y votaci\\xc3\\xb3n de las comisiones y comit\\xc3\\xa9s y de las sesiones del Pleno, identificando el sentido del voto, en votaci\\xc3\\xb3n econ\\xc3\\xb3mica, y por cada legislador, en la votaci\\xc3\\xb3n nominal y el resultado de la votaci\\xc3\\xb3n por c\\xc3\\xa9dula, as\\xc3\\xad como votos particulares y reservas de los dict\\xc3\\xa1menes y acuerdos sometidos a consideraci\\xc3\\xb3n</p>\\r\\n\\t\\t\\t\\t\\t<p>Descripci\\xc3\\xb3n informaci\\xc3\\xb3n de las columnas:</p>\\r\\n\\t\\t\\t\\t\\t<ul>\\r\\n\\t\\t\\t\\t\\t\\t<li>Ejercicio</li>\\r\\n\\t\\t\\t\\t\\t\\t<li>Periodo que se informa (fecha de inicio y fecha de t\\xc3\\xa9rmino con el formato a\\xc3\\xb1o/mes/d\\xc3\\xada)</li>\\r\\n\\t\\t\\t\\t\\t\\t<li>N\\xc3\\xbamero de legislatura</li>\\r\\n\\t\\t\\t\\t\\t\\t<li>Duraci\\xc3\\xb3n de la legislatura (del a\\xc3\\xb1o aaaa al a\\xc3\\xb1o aaaa, por ejemplo del a\\xc3\\xb1o 2015 al a\\xc3\\xb1o 2018)</li>\\r\\n\\t\\t\\t\\t\\t\\t<li>A\\xc3\\xb1o legislativo: Primer a\\xc3\\xb1o/Segundo a\\xc3\\xb1o/Tercer a\\xc3\\xb1o/Cuarto a\\xc3\\xb1o/Quinto a\\xc3\\xb1o/Sexto a\\xc3\\xb1o</li>\\r\\n\\t\\t\\t\\t\\t\\t<li>Periodos de sesiones: Primer periodo ordinario/Segundo periodo ordinario/Primer receso/Segundo receso/Periodo extraordinario</li>\\r\\n\\t\\t\\t\\t\\t\\t<li>Fecha de inicio del periodo de sesiones con el formato a\\xc3\\xb1o/mes/d\\xc3\\xada </li>\\r\\n\\t\\t\\t\\t\\t\\t<li>Fecha de t\\xc3\\xa9rmino del periodo de sesiones con el formato a\\xc3\\xb1o/mes/d\\xc3\\xada </li>\\r\\n\\t\\t\\t\\t\\t\\t<li>N\\xc3\\xbamero de sesi\\xc3\\xb3n o reuni\\xc3\\xb3n</li>\\r\\n\\t\\t\\t\\t\\t\\t<li>N\\xc3\\xbamero de gaceta parlamentaria o equivalente, seg\\xc3\\xban la denominaci\\xc3\\xb3n que se le d\\xc3\\xa9 en los \\xc3\\xb3rganos legislativos</li>\\r\\n\\t\\t\\t\\t\\t\\t<li>Fecha de la gaceta con el formato a\\xc3\\xb1o/mes/d\\xc3\\xada</li>\\r\\n\\t\\t\\t\\t\\t\\t<li>Sesi\\xc3\\xb3n o reuni\\xc3\\xb3n celebrada (por ejemplo: Primera sesi\\xc3\\xb3n, Cuarta Sesi\\xc3\\xb3n) y el tipo de la misma (por ejemplo: ordinaria, extraordinaria o en su caso, solemne)</li>\\r\\n\\t\\t\\t\\t\\t\\t<li>Organismo que llev\\xc3\\xb3 a cabo la sesi\\xc3\\xb3n o reuni\\xc3\\xb3n: Pleno/Comisi\\xc3\\xb3n/Comit\\xc3\\xa9/ Comisi\\xc3\\xb3n ordinaria/Comisi\\xc3\\xb3n especial</li>\\r\\n\\t\\t\\t\\t\\t\\t<li>Tipo de votaci\\xc3\\xb3n: Votaci\\xc3\\xb3n econ\\xc3\\xb3mica/Votaci\\xc3\\xb3n nominal/Votaci\\xc3\\xb3n por c\\xc3\\xa9dula</li>\\r\\n\\t\\t\\t\\t\\t\\t<li>Tipo de asunto que se vota (breve descripci\\xc3\\xb3n)</li>\\r\\n\\t\\t\\t\\t\\t\\t<li>T\\xc3\\xadtulo del asunto (por ejemplo: \\xe2\\x80\\x9cAcuerdo de los grupos parlamentarios por el que se postula a los diputados que habr\\xc3\\xa1n de integrar la Mesa Directiva\\xe2\\x80\\x9d)</li>\\r\\n\\t\\t\\t\\t\\t\\t<li>Nombre completo de los legisladores (nombre[s], primer apellido, segundo apellido)</li>\\r\\n\\t\\t\\t\\t\\t\\t<li>Sentido del voto (afirmativa/negativa/abstenci\\xc3\\xb3n)</li>\\r\\n\\t\\t\\t\\t\\t\\t<li>Denominaci\\xc3\\xb3n de la normatividad que obliga a la publicaci\\xc3\\xb3n de la votaci\\xc3\\xb3n de las comisiones y comit\\xc3\\xa9s (por ejemplo: Ley, C\\xc3\\xb3digo, Reglamento o la norma que corresponda)</li>\\r\\n\\t\\t\\t\\t\\t\\t<li>Fundamento legal que obliga a la publicaci\\xc3\\xb3n de la votaci\\xc3\\xb3n de las comisiones y comit\\xc3\\xa9s (n\\xc3\\xbamero y texto del art\\xc3\\xadculo, fracci\\xc3\\xb3n, inciso)</li>\\r\\n\\t\\t\\t\\t\\t\\t<li>Hiperv\\xc3\\xadnculo al acta de votaci\\xc3\\xb3n</li>\\r\\n\\t\\t\\t\\t\\t</ul>\\r\\n\\t\\t\\t\\t\\t<p>Los registros conformar\\xc3\\xa1n la base de datos que contiene la informaci\\xc3\\xb3n que debe estar y/o est\\xc3\\xa1 publicada en el portal de transparencia de los sujetos obligados y en la Plataforma Nacional.</p>\\r\\n\\t\\t\\t\\t</div>\\r\\n\\t\\t\\t</div>\\r\\n\\r\\n\\t\\t\\t<div class=\"modal-footer\">\\r\\n\\t\\t\\t\\t<button type=\"button\" class=\"btn btn-secondary\" data-dismiss=\"modal\">Cerrar</button>\\r\\n\\t\\t\\t</div>\\r\\n\\t\\t</div>\\r\\n\\t</div>\\r\\n</div>\\r\\n\\r\\n<script>\\r\\n$(document).ready( function () {\\r\\n\\tvar table_asistenciaVI = $(\\'#dataTableVotaciones\\').DataTable({\\r\\n\\t\\t\"lengthMenu\": [5, 10, 25, 50, 100, 500],\\r\\n\\t\\t\"fixedHeader\": true,\\r\\n\\t\\t\"dom\":\\t\"<\\'row\\'<\\'col-sm-4\\'B><\\'col-sm-8\\'i>>\"+\\r\\n\\t\\t\\t\\t\"<\\'row\\'<\\'col-sm-4\\'f><\\'col-sm-4\\'l><\\'col-sm-4\\'p>>\"+\\r\\n\\t\\t\\t\\t\"<\\'row\\'<\\'col-sm-12\\'tr>>\",\\r\\n\\t\\t\"buttons\": [\\r\\n\\t\\t\\t{ extend: \\'copyHtml5\\', text: \"Copiar\", title: \"Listas de Votaciones nominales en el Pleno.\"},\\r\\n\\t\\t\\t{ extend: \\'excelHtml5\\', filename: \"Listas de Votaciones nominales en el Pleno.\", title: \"Listas de Votaciones nominales en el Pleno.\"},\\r\\n\\t\\t\\t{ extend: \\'csvHtml5\\', charset: \"utf8\", filename: \"Listas de Votaciones nominales en el Pleno.\", bom: true}\\r\\n\\t\\t],\\r\\n\\t\\t\"language\": {\\r\\n\\t\\t\\t\\t\"lengthMenu\": \"Mostrar _MENU_ registros por p\\xc3\\xa1gina\",\\r\\n\\t\\t\\t\\t\"zeroRecords\": \"No hay coincidencia de b\\xc3\\xbasqueda\",\\r\\n\\t\\t\\t\\t\"info\": \"_TOTAL_ Registros en total <br/> Mostrando p\\xc3\\xa1gina _PAGE_ de _PAGES_\",\\r\\n\\t\\t\\t\\t\"infoEmpty\": \"No hay registros disponibles\",\\r\\n\\t\\t\\t\\t\"infoFiltered\": \"(_TOTAL_ registros de un total de _MAX_)\",\\r\\n\\t\\t\\t\\t\"search\": \"Buscar:\",\\r\\n\\t\\t\\t\\t\"processing\": \"Buscando...\",\\r\\n\\t\\t\\t\\t\"paginate\": {\\r\\n\\t\\t\\t\\t\\t\"first\": \"Primera\",\\r\\n\\t\\t\\t\\t\\t\"last\": \"\\xc3\\x9altimo\",\\r\\n\\t\\t\\t\\t\\t\"next\": \"Siguiente\",\\r\\n\\t\\t\\t\\t\\t\"previous\": \"Anterior\"\\r\\n\\t\\t\\t\\t},\\r\\n\\t\\t\\t\\t\"buttons\": {\\r\\n\\t\\t\\t\\t\\t\"copyTitle\": \\'Copiado al portapapeles\\',\\r\\n\\t\\t\\t\\t\\t\"copyKeys\": \\'Presione las teclas <i>ctrl</i> o <i>\\\\u2318</i> + <i>C</i> para copiar los datos\\',\\r\\n\\t\\t\\t\\t\\t\"copySuccess\":{\\r\\n\\t\\t\\t\\t\\t\\t_: \\'%d filas copiadas\\',\\r\\n\\t\\t\\t\\t\\t\\t1: \\'1 fila copiada\\'\\r\\n\\t\\t\\t\\t\\t}\\r\\n\\t\\t\\t\\t},\\r\\n\\t\\t},\\r\\n\\t\\t\"processing\": true,\\r\\n\\t\\t\"serverSide\": true,\\r\\n\\t\\t\"ajax\": {\\r\\n\\t\\t\\t\"url\": \"Controller/VotacionesController.php\",\\r\\n\\t\\t\\t\"type\": \"POST\"\\r\\n\\t\\t},\\r\\n\\t\\t\"columns\": [\\r\\n\\t\\t\\t\\t{\\r\\n\\t\\t\\t\\t\"className\": \\'details-control\\',\\r\\n\\t\\t\\t\\t\"orderable\": false,\\r\\n\\t\\t\\t\\t\"data\": null,\\r\\n\\t\\t\\t\\t\"defaultContent\": \\'\\'\\r\\n\\t\\t\\t\\t},\\r\\n\\t\\t\\t\\t{ \"data\": \"ejercicio\"},\\r\\n\\t\\t\\t\\t{ \"data\": \"fecha_inicio_periodo\"},\\r\\n\\t\\t\\t\\t{ \"data\": \"fecha_termino_periodo\"},\\r\\n\\t\\t\\t\\t{ \"data\": \"legislatura\"},\\r\\n\\t\\t\\t\\t{ \"data\": \"duracion\"},\\r\\n\\t\\t\\t\\t{ \"data\": \"anio_legislativo\"},\\r\\n\\t\\t\\t\\t{ \"data\": \"periodo\"},\\r\\n\\t\\t\\t\\t{ \"data\": \"fecha_inicio\"},\\r\\n\\t\\t\\t\\t{ \"data\": \"fecha_termino\"},\\r\\n\\t\\t\\t\\t{ \"data\": \"no_sesion\"},\\r\\n\\t\\t\\t\\t{ \"data\": \"numero_gaceta\"},\\r\\n\\t\\t\\t\\t{ \"data\": \"fecha_gaceta\"},\\r\\n\\t\\t\\t\\t{ \"data\": \"sesion_reunion_tipo\"},\\r\\n\\t\\t\\t\\t{ \"data\": \"organismo\"},\\r\\n\\t\\t\\t\\t{ \"data\": \"tipo_votacion\"},\\r\\n\\t\\t\\t\\t{ \"data\": \"asunto\"},\\r\\n\\t\\t\\t\\t{ \"data\": \"titulo_asunto\"},\\r\\n\\t\\t\\t\\t{ \"data\": \"nombre\"},\\r\\n\\t\\t\\t\\t{ \"data\": \"paterno\"},\\r\\n\\t\\t\\t\\t{ \"data\": \"materno\"},\\r\\n\\t\\t\\t\\t{ \"data\": \"sentido_voto\"},\\r\\n\\t\\t\\t\\t{ \"data\": \"normatividad\"},\\r\\n\\t\\t\\t\\t{ \"data\": \"fundamento_legal\"},\\r\\n\\t\\t\\t\\t{ \"data\": \"vinculo\",\\r\\n\\t\\t\\t\\t\\t\"fnCreatedCell\": function(nTd, sData, oData, iRow, iCol){\\r\\n\\t\\t\\t\\t\\t\\t$(nTd).html(\"<a href=\\'\"+oData.vinculo+\"\\' target=\\'_blank\\' >\"+oData.vinculo+\"</a>\");\\r\\n\\t\\t\\t\\t\\t}\\r\\n\\t\\t\\t\\t},\\r\\n\\t\\t\\t\\t{ \"data\": \"nota\"}\\r\\n\\t\\t],\\r\\n\\t\\t\"columnDefs\": [\\r\\n\\t\\t\\t{\\r\\n\\t\\t\\t\\t\"targets\": [ 18,19,20,21 ],\\r\\n\\t\\t\\t\\t\"visible\": false,\\r\\n\\t\\t\\t\\t\"searchable\": false\\r\\n\\t\\t\\t}\\r\\n\\t\\t],\\r\\n\\t\\t\"order\": [[1, \\'asc\\']]\\r\\n\\t});\\r\\n\\r\\n\\t// Add event listener for opening and closing details\\r\\n\\t$(\\'#dataTableVotaciones tbody\\').on(\\'click\\', \\'td.details-control\\', function(){\\r\\n\\t\\tvar tr = $(this).closest(\\'tr\\');\\r\\n\\t\\tvar row = table_asistenciaVI.row( tr );\\r\\n\\r\\n\\t\\tif ( row.child.isShown() ) {\\r\\n\\t\\t\\t// This row is already open - close it\\r\\n\\t\\t\\trow.child.hide();\\r\\n\\t\\t\\ttr.removeClass(\\'shown\\');\\r\\n\\t\\t}\\r\\n\\t\\telse {\\r\\n\\t\\t\\t// Open this row\\r\\n\\t\\t\\trow.child( format(row.data()) ).show();\\r\\n\\t\\t\\ttr.addClass(\\'shown\\');\\r\\n\\t\\t}\\r\\n\\t});\\r\\n});\\r\\n\\r\\n/* Formatting function for row details - modify as you need */\\r\\nfunction format ( d ) {\\r\\n\\t// `d` is the original data object for the row\\r\\n\\treturn \\'<table class=\"table-bordered\">\\'+\\r\\n\\t\\t\\'<tr><th colspan=\"6\" class=\"text-center\">Detalles de la Asistencia</th></tr>\\'+\\r\\n\\t\\t\\'<tr>\\'+\\r\\n\\t\\t\\t\\'<td>Nombre</td>\\'+\\r\\n\\t\\t\\t\\'<td>Apellido Paterno</td>\\'+\\r\\n\\t\\t\\t\\'<td>Apellido Materno</td>\\'+\\r\\n\\t\\t\\t\\'<td>Sentido del voto</td>\\'+\\r\\n\\t\\t\\'</tr>\\'+\\r\\n\\t\\t\\'<tr>\\'+\\r\\n\\t\\t\\t\\'<td>\\'+saltoLinea(d.nombre)+\\'</td>\\'+\\r\\n\\t\\t\\t\\'<td>\\'+saltoLinea(d.paterno)+\\'</td>\\'+\\r\\n\\t\\t\\t\\'<td>\\'+saltoLinea(d.materno)+\\'</td>\\'+\\r\\n\\t\\t\\t\\'<td>\\'+saltoLinea(d.sentido_voto)+\\'</td>\\'+\\r\\n\\t\\t\\'</tr>\\'+\\r\\n\\t\\'</table>\\';\\r\\n}\\r\\n\\r\\nfunction saltoLinea(cadena){\\r\\n\\tvar cadenaFormada = \"\";\\r\\n\\tcadenaFormada = cadena.replace(/\\\\|/g, \"<br/>\");\\r\\n\\treturn cadenaFormada;\\r\\n}\\r\\n</script>  </div>\\n  <br></br>\\n  <footer>\\n    Senado de la Rep\\xc3\\xbablica\\n  </footer>\\n\\n  <!--Modal como se consulta-->\\n  <div class=\"modal fade\" id=\"comoconsulta\" role=\"dialog\">\\n    <div class=\"modal-dialog modal-lg\" role=\"document\">\\n\\n      <!-- Modal content-->\\n      <div class=\"modal-content\">\\n        <div class=\"modal-header\">\\n          <h4 class=\"modal-title\">\\xc2\\xbfC\\xc3\\xb3mo se consulta?</h4>\\n          <button type=\"button\" class=\"close\" data-dismiss=\"modal\" aria-label=\"Close\">\\n            <span aria-hidden=\"true\">&times;</span>\\n          </button>\\n        </div>\\n\\n        <div class=\"modal-body\">\\n          <ol>\\n            <li>Normatividad</li>\\n            <li>Art\\xc3\\xadculo y fracci\\xc3\\xb3n</li>\\n            <li>Fecha de actualizaci\\xc3\\xb3n y \\xc3\\xa1rea responsable</li>\\n            <li>N\\xc3\\xbamero de registros y p\\xc3\\xa1ginas</li>\\n            <li>Nombre de columnas</li>\\n            <li>\\xc3\\x81rea de datos</li>\\n          </ol>\\n          <img src=\"Webroot/img/como_consulta.png\" alt=\"como se consulta img\" class=\"img-fluid\">\\n        </div>\\n\\n        <div class=\"modal-footer\">\\n          <button type=\"button\" class=\"btn btn-secondary\" data-dismiss=\"modal\">Cerrar</button>\\n        </div>\\n      </div>\\n    </div>\\n  </div>\\n  <!---->\\n\\n</body>\\n</html>\\n'\n"
     ]
    }
   ],
   "metadata": {
    "tags": []
   }
  },
  {
   "cell_type": "code",
   "execution_count": 19,
   "source": [
    "# unicodedammit fixes them\r\n",
    "decoded_soup = UnicodeDammit(extracted_soup)\r\n",
    "print(decoded_soup)"
   ],
   "outputs": [
    {
     "output_type": "stream",
     "name": "stdout",
     "text": [
      "<bs4.dammit.UnicodeDammit object at 0x0517C8F8>\n"
     ]
    }
   ],
   "metadata": {
    "tags": []
   }
  },
  {
   "cell_type": "code",
   "execution_count": 20,
   "source": [
    "print(decoded_soup.unicode_markup)"
   ],
   "outputs": [
    {
     "output_type": "stream",
     "name": "stdout",
     "text": [
      "<!doctype html>\n",
      "<html lang=\"en\">\n",
      "<head>\n",
      "  <title>Senado de la República</title>\n",
      "  <!-- Required meta tags -->\n",
      "  <meta charset=\"utf-8\">\n",
      "  <meta name=\"viewport\" content=\"width=device-width, initial-scale=1, shrink-to-fit=no\">\n",
      "  <link rel=\"shortcut icon\" type=\"image/x-icon\" href=\"Webroot/img/favicon.ico\" />\n",
      "  <!-- Bootstrap CSS -->\n",
      "  <link rel=\"stylesheet\" href=\"Webroot/css/bootstrap.min.css\" >\n",
      "  <link rel=\"stylesheet\" href=\"Webroot/css/custom-navbar.css\" >\n",
      "  <link rel=\"stylesheet\" href=\"Webroot/css/custom.css\" >\n",
      "  <!-- Optional JavaScript -->\n",
      "  <!-- jQuery first, then Popper.js, then Bootstrap JS -->\n",
      "  <script src=\"Webroot/js/jquery-3.2.1.min.js\"  ></script>\n",
      "  <script src=\"Webroot/js/popper.min.js\"  ></script>\n",
      "  <script src=\"Webroot/js/bootstrap.min.js\"></script>\n",
      "  <script>\n",
      "    $(function () {\n",
      "      $('[data-toggle=\"tooltip\"]').tooltip();\n",
      "    });\n",
      "  </script>\n",
      "  <style>\n",
      "  .tooltip-inner {\n",
      "    max-width: 450px;\n",
      "    width: 450px;\n",
      "  }\n",
      "</style>\n",
      "</head>\n",
      "<body>\n",
      "  <div id=\"container\">\n",
      "    <nav class=\"navbar navbar-expand-lg\">\n",
      "  <a class=\"navbar-brand\" href=\"http://www.senado.gob.mx/\">\n",
      "  \t<img src=\"Webroot/img/senado64.jpg\" alt=\"\" id=\"logo\">\n",
      "  \t<span id=\"sgsp\">Secretaría General de Servicios Parlamentarios</span>\n",
      "  </a>\n",
      "</nav>\n",
      "  </div>\n",
      "\n",
      "  <div class=\"container-fluid\" id=\"main\"> \n",
      "    \n",
      "    <link rel=\"stylesheet\" type=\"text/css\" href=\"Webroot/css/datatables.min.css\">\n",
      "<link rel=\"stylesheet\" type=\"text/css\" href=\"Webroot/css/fixedHeader.bootstrap4.min.css\">\n",
      "<link rel=\"stylesheet\" type=\"text/css\" href=\"Webroot/css/buttons.bootstrap4.min.css\">\n",
      "\n",
      "<script type=\"text/javascript\" charset=\"utf8\" src=\"Webroot/js/jszip.min.js\"></script>\n",
      "<script type=\"text/javascript\" charset=\"utf8\" src=\"Webroot/js/datatables.js\"></script>\n",
      "<script type=\"text/javascript\" charset=\"utf8\" src=\"Webroot/js/dataTables.fixedHeader.min.js\"></script>\n",
      "<script type=\"text/javascript\" charset=\"utf8\" src=\"Webroot/js/dataTables.buttons.min.js\"></script>\n",
      "<script type=\"text/javascript\" charset=\"utf8\" src=\"Webroot/js/buttons.bootstrap4.min.js\"></script>\n",
      "<script type=\"text/javascript\" charset=\"utf8\" src=\"Webroot/js/buttons.html5.min.js\"></script>\n",
      "\n",
      "<div class=\"justify-content-center\">\n",
      "\t<h2>Artículo 72 de la Ley General de Transparencia y Acceso a la Información Pública</h2>\n",
      "\t\n",
      "\t<div class=\"row\">\n",
      "\t\t<div class=\"col-12\"><h3>IX. e) Listas de Votaciones nominales en el Pleno</h3></div>\n",
      "\t\t<div class=\"col-8\" style=\"color: white; background-color: rgba(30, 30, 30, 0.64);\">\n",
      "\t\t\tFecha de actualización y validación:  01 de julio de 2020\t\t\t<br>Área(s) o unidad(es) administrativa(s) responsable(s) de la información:   Cuerpo Técnico\n",
      "\t\t\t<br/>La consulta de la información se presenta conforme a la estructura de los formatos generados por el INAI, por lo que, para visualizar la información completa se tendrá que desplazar hacia la derecha con la barra respectiva o con las teclas de flecha correspondientes.\n",
      "            <br/>\n",
      "\t\t</div>\n",
      "    </div>\n",
      "    <br/>\n",
      "    <div class=\"row\">\n",
      "        <div class=\"col-12\">\n",
      "            <div class=\"btn-group\" role=\"group\">\n",
      "\t\t\t\t<a style=\"border-color: #8d9093;\" type=\"button\" class=\"btn btn-light\" href=\"?c=menu&a=index\"><img src=\"Webroot/img/home_icon.png\" alt=\"Menú\"></a>\n",
      "\t\t\t\t<button style=\"border-color: #8d9093;\" type=\"button\" class=\"btn btn-light\" data-toggle=\"modal\" data-target=\"#quecontine\">¿Qué contiene?</button>\n",
      "\t\t\t\t<button style=\"border-color: #8d9093;\" type=\"button\" class=\"btn btn-light\" data-toggle=\"modal\" data-target=\"#comoconsulta\">¿Cómo se consulta?</button>\n",
      "\t\t\t</div>\n",
      "        </div>\n",
      "    </div>\n",
      "</div>\n",
      "<br/>\n",
      "<div class=\"align-items-center justify-content-center\">\n",
      "\t<table class=\"table table-hover table-striped\" id='dataTableVotaciones'>\n",
      "\t\t<thead class=\"bg-sen\">\n",
      "\t\t\t<tr>\n",
      "\t\t\t\t<th></th>\n",
      "\t\t\t\t<th scope=\"col\">Ejercicio</th>\n",
      "\t\t\t\t<th scope=\"col\">Fecha inicio Periodo</th>\n",
      "\t\t\t\t<th scope=\"col\">Fecha término Periodo</th>\n",
      "\t\t\t\t<th scope=\"col\">N&uacute;mero&nbsp;de legislatura</th>\n",
      "\t\t\t\t<th scope=\"col\">Duración&nbsp;de la&nbsp;legislatura</th>\n",
      "\t\t\t\t<th scope=\"col\">A&ntilde;o legislativo</th>\n",
      "\t\t\t\t<th scope=\"col\">Periodo de&nbsp;sesiones</th>\n",
      "\t\t\t\t<th scope=\"col\">Inicio Periodos&nbsp;de&nbsp;sesiones</th>\n",
      "\t\t\t\t<th scope=\"col\">T&eacute;rmino Periodos&nbsp;de&nbsp;sesiones</th>\n",
      "\t\t\t\t<th scope=\"col\">N&uacute;mero de&nbsp;sesi&oacute;n</th>\n",
      "\t\t\t\t<th scope=\"col\">Número de gaceta parlamentaria</th>\n",
      "\t\t\t\t<th scope=\"col\">Fecha&nbsp;de la&nbsp;gaceta</th>\n",
      "\t\t\t\t<th scope=\"col\">Sesión&nbsp;celebrada&nbsp;y el tipo de la misma</th>\n",
      "\t\t\t\t<th scope=\"col\">Organismo que llevó a cabo&nbsp;la&nbsp;sesión</th>\n",
      "\t\t\t\t<th scope=\"col\">Tipo&nbsp;de&nbsp;votación</th>\n",
      "\t\t\t\t<th scope=\"col\">Tipo&nbsp;de&nbsp;asunto&nbsp;que&nbsp;se&nbsp;vota</th>\n",
      "\t\t\t\t<th scope=\"col\" style=\"min-width: 35rem;\">T&iacute;tulo&nbsp;del&nbsp;asunto</th>\n",
      "\t\t\t\t<th scope=\"col\">Nombre</th>\n",
      "\t\t\t\t<th scope=\"col\">Primer apellido</th>\n",
      "\t\t\t\t<th scope=\"col\">Segundo apellido</th>\n",
      "\t\t\t\t<th scope=\"col\">Sentido del voto</th>\n",
      "\t\t\t\t<th scope=\"col\">Denominaci&oacute;n&nbsp;de&nbsp;la&nbsp;normatividad</th>\n",
      "\t\t\t\t<th scope=\"col\">Fundamento&nbsp;legal</th>\n",
      "\t\t\t\t<th scope=\"col\">Hiperv&iacute;nculo al acta de la votaci&oacute;n</th>\n",
      "\t\t\t\t<th scope=\"col\" style=\"min-width: 75rem;\">Nota</th>\n",
      "\t\t\t</tr>\n",
      "\t\t</thead>\n",
      "\t\t<tbody class=\"bd-sen\">\n",
      "\t\t\t\n",
      "\t\t</tbody>\n",
      "\t</table>\n",
      "</div>\n",
      "\n",
      "<!-- Modal -->\n",
      "<div class=\"modal fade\" id=\"quecontine\" role=\"dialog\">\n",
      "\t<div class=\"modal-dialog modal-lg\" role=\"document\">\n",
      "\n",
      "\t\t<!-- Modal content-->\n",
      "\t\t<div class=\"modal-content\">\n",
      "\t\t\t<div class=\"modal-header\">\n",
      "\t\t\t\t<h4 class=\"modal-title\">¿Qu&eacute; contiene?</h4>\n",
      "\t\t\t\t<button type=\"button\" class=\"close\" data-dismiss=\"modal\" aria-label=\"Close\">\n",
      "\t\t\t\t\t<span aria-hidden=\"true\">&times;</span>\n",
      "\t\t\t\t</button>\n",
      "\t\t\t</div>\n",
      "\n",
      "\t\t\t<div class=\"modal-body\">\n",
      "\t\t\t\t<div class=\"text-justify\">\n",
      "\t\t\t\t\t<b>¿Qué contiene el formato de Artículo 72 Fracción IX. e) Listas de Votaciones nominales en el Pleno?</b>\n",
      "\t\t\t\t\t<p>Contiene la información de las convocatorias, actas, acuerdos, listas de asistencia y votación de las comisiones y comités y de las sesiones del Pleno, identificando el sentido del voto, en votación económica, y por cada legislador, en la votación nominal y el resultado de la votación por cédula, así como votos particulares y reservas de los dictámenes y acuerdos sometidos a consideración</p>\n",
      "\t\t\t\t\t<p>Descripción información de las columnas:</p>\n",
      "\t\t\t\t\t<ul>\n",
      "\t\t\t\t\t\t<li>Ejercicio</li>\n",
      "\t\t\t\t\t\t<li>Periodo que se informa (fecha de inicio y fecha de término con el formato año/mes/día)</li>\n",
      "\t\t\t\t\t\t<li>Número de legislatura</li>\n",
      "\t\t\t\t\t\t<li>Duración de la legislatura (del año aaaa al año aaaa, por ejemplo del año 2015 al año 2018)</li>\n",
      "\t\t\t\t\t\t<li>Año legislativo: Primer año/Segundo año/Tercer año/Cuarto año/Quinto año/Sexto año</li>\n",
      "\t\t\t\t\t\t<li>Periodos de sesiones: Primer periodo ordinario/Segundo periodo ordinario/Primer receso/Segundo receso/Periodo extraordinario</li>\n",
      "\t\t\t\t\t\t<li>Fecha de inicio del periodo de sesiones con el formato año/mes/día </li>\n",
      "\t\t\t\t\t\t<li>Fecha de término del periodo de sesiones con el formato año/mes/día </li>\n",
      "\t\t\t\t\t\t<li>Número de sesión o reunión</li>\n",
      "\t\t\t\t\t\t<li>Número de gaceta parlamentaria o equivalente, según la denominación que se le dé en los órganos legislativos</li>\n",
      "\t\t\t\t\t\t<li>Fecha de la gaceta con el formato año/mes/día</li>\n",
      "\t\t\t\t\t\t<li>Sesión o reunión celebrada (por ejemplo: Primera sesión, Cuarta Sesión) y el tipo de la misma (por ejemplo: ordinaria, extraordinaria o en su caso, solemne)</li>\n",
      "\t\t\t\t\t\t<li>Organismo que llevó a cabo la sesión o reunión: Pleno/Comisión/Comité/ Comisión ordinaria/Comisión especial</li>\n",
      "\t\t\t\t\t\t<li>Tipo de votación: Votación económica/Votación nominal/Votación por cédula</li>\n",
      "\t\t\t\t\t\t<li>Tipo de asunto que se vota (breve descripción)</li>\n",
      "\t\t\t\t\t\t<li>Título del asunto (por ejemplo: “Acuerdo de los grupos parlamentarios por el que se postula a los diputados que habrán de integrar la Mesa Directiva”)</li>\n",
      "\t\t\t\t\t\t<li>Nombre completo de los legisladores (nombre[s], primer apellido, segundo apellido)</li>\n",
      "\t\t\t\t\t\t<li>Sentido del voto (afirmativa/negativa/abstención)</li>\n",
      "\t\t\t\t\t\t<li>Denominación de la normatividad que obliga a la publicación de la votación de las comisiones y comités (por ejemplo: Ley, Código, Reglamento o la norma que corresponda)</li>\n",
      "\t\t\t\t\t\t<li>Fundamento legal que obliga a la publicación de la votación de las comisiones y comités (número y texto del artículo, fracción, inciso)</li>\n",
      "\t\t\t\t\t\t<li>Hipervínculo al acta de votación</li>\n",
      "\t\t\t\t\t</ul>\n",
      "\t\t\t\t\t<p>Los registros conformarán la base de datos que contiene la información que debe estar y/o está publicada en el portal de transparencia de los sujetos obligados y en la Plataforma Nacional.</p>\n",
      "\t\t\t\t</div>\n",
      "\t\t\t</div>\n",
      "\n",
      "\t\t\t<div class=\"modal-footer\">\n",
      "\t\t\t\t<button type=\"button\" class=\"btn btn-secondary\" data-dismiss=\"modal\">Cerrar</button>\n",
      "\t\t\t</div>\n",
      "\t\t</div>\n",
      "\t</div>\n",
      "</div>\n",
      "\n",
      "<script>\n",
      "$(document).ready( function () {\n",
      "\tvar table_asistenciaVI = $('#dataTableVotaciones').DataTable({\n",
      "\t\t\"lengthMenu\": [5, 10, 25, 50, 100, 500],\n",
      "\t\t\"fixedHeader\": true,\n",
      "\t\t\"dom\":\t\"<'row'<'col-sm-4'B><'col-sm-8'i>>\"+\n",
      "\t\t\t\t\"<'row'<'col-sm-4'f><'col-sm-4'l><'col-sm-4'p>>\"+\n",
      "\t\t\t\t\"<'row'<'col-sm-12'tr>>\",\n",
      "\t\t\"buttons\": [\n",
      "\t\t\t{ extend: 'copyHtml5', text: \"Copiar\", title: \"Listas de Votaciones nominales en el Pleno.\"},\n",
      "\t\t\t{ extend: 'excelHtml5', filename: \"Listas de Votaciones nominales en el Pleno.\", title: \"Listas de Votaciones nominales en el Pleno.\"},\n",
      "\t\t\t{ extend: 'csvHtml5', charset: \"utf8\", filename: \"Listas de Votaciones nominales en el Pleno.\", bom: true}\n",
      "\t\t],\n",
      "\t\t\"language\": {\n",
      "\t\t\t\t\"lengthMenu\": \"Mostrar _MENU_ registros por página\",\n",
      "\t\t\t\t\"zeroRecords\": \"No hay coincidencia de búsqueda\",\n",
      "\t\t\t\t\"info\": \"_TOTAL_ Registros en total <br/> Mostrando página _PAGE_ de _PAGES_\",\n",
      "\t\t\t\t\"infoEmpty\": \"No hay registros disponibles\",\n",
      "\t\t\t\t\"infoFiltered\": \"(_TOTAL_ registros de un total de _MAX_)\",\n",
      "\t\t\t\t\"search\": \"Buscar:\",\n",
      "\t\t\t\t\"processing\": \"Buscando...\",\n",
      "\t\t\t\t\"paginate\": {\n",
      "\t\t\t\t\t\"first\": \"Primera\",\n",
      "\t\t\t\t\t\"last\": \"Último\",\n",
      "\t\t\t\t\t\"next\": \"Siguiente\",\n",
      "\t\t\t\t\t\"previous\": \"Anterior\"\n",
      "\t\t\t\t},\n",
      "\t\t\t\t\"buttons\": {\n",
      "\t\t\t\t\t\"copyTitle\": 'Copiado al portapapeles',\n",
      "\t\t\t\t\t\"copyKeys\": 'Presione las teclas <i>ctrl</i> o <i>\\u2318</i> + <i>C</i> para copiar los datos',\n",
      "\t\t\t\t\t\"copySuccess\":{\n",
      "\t\t\t\t\t\t_: '%d filas copiadas',\n",
      "\t\t\t\t\t\t1: '1 fila copiada'\n",
      "\t\t\t\t\t}\n",
      "\t\t\t\t},\n",
      "\t\t},\n",
      "\t\t\"processing\": true,\n",
      "\t\t\"serverSide\": true,\n",
      "\t\t\"ajax\": {\n",
      "\t\t\t\"url\": \"Controller/VotacionesController.php\",\n",
      "\t\t\t\"type\": \"POST\"\n",
      "\t\t},\n",
      "\t\t\"columns\": [\n",
      "\t\t\t\t{\n",
      "\t\t\t\t\"className\": 'details-control',\n",
      "\t\t\t\t\"orderable\": false,\n",
      "\t\t\t\t\"data\": null,\n",
      "\t\t\t\t\"defaultContent\": ''\n",
      "\t\t\t\t},\n",
      "\t\t\t\t{ \"data\": \"ejercicio\"},\n",
      "\t\t\t\t{ \"data\": \"fecha_inicio_periodo\"},\n",
      "\t\t\t\t{ \"data\": \"fecha_termino_periodo\"},\n",
      "\t\t\t\t{ \"data\": \"legislatura\"},\n",
      "\t\t\t\t{ \"data\": \"duracion\"},\n",
      "\t\t\t\t{ \"data\": \"anio_legislativo\"},\n",
      "\t\t\t\t{ \"data\": \"periodo\"},\n",
      "\t\t\t\t{ \"data\": \"fecha_inicio\"},\n",
      "\t\t\t\t{ \"data\": \"fecha_termino\"},\n",
      "\t\t\t\t{ \"data\": \"no_sesion\"},\n",
      "\t\t\t\t{ \"data\": \"numero_gaceta\"},\n",
      "\t\t\t\t{ \"data\": \"fecha_gaceta\"},\n",
      "\t\t\t\t{ \"data\": \"sesion_reunion_tipo\"},\n",
      "\t\t\t\t{ \"data\": \"organismo\"},\n",
      "\t\t\t\t{ \"data\": \"tipo_votacion\"},\n",
      "\t\t\t\t{ \"data\": \"asunto\"},\n",
      "\t\t\t\t{ \"data\": \"titulo_asunto\"},\n",
      "\t\t\t\t{ \"data\": \"nombre\"},\n",
      "\t\t\t\t{ \"data\": \"paterno\"},\n",
      "\t\t\t\t{ \"data\": \"materno\"},\n",
      "\t\t\t\t{ \"data\": \"sentido_voto\"},\n",
      "\t\t\t\t{ \"data\": \"normatividad\"},\n",
      "\t\t\t\t{ \"data\": \"fundamento_legal\"},\n",
      "\t\t\t\t{ \"data\": \"vinculo\",\n",
      "\t\t\t\t\t\"fnCreatedCell\": function(nTd, sData, oData, iRow, iCol){\n",
      "\t\t\t\t\t\t$(nTd).html(\"<a href='\"+oData.vinculo+\"' target='_blank' >\"+oData.vinculo+\"</a>\");\n",
      "\t\t\t\t\t}\n",
      "\t\t\t\t},\n",
      "\t\t\t\t{ \"data\": \"nota\"}\n",
      "\t\t],\n",
      "\t\t\"columnDefs\": [\n",
      "\t\t\t{\n",
      "\t\t\t\t\"targets\": [ 18,19,20,21 ],\n",
      "\t\t\t\t\"visible\": false,\n",
      "\t\t\t\t\"searchable\": false\n",
      "\t\t\t}\n",
      "\t\t],\n",
      "\t\t\"order\": [[1, 'asc']]\n",
      "\t});\n",
      "\n",
      "\t// Add event listener for opening and closing details\n",
      "\t$('#dataTableVotaciones tbody').on('click', 'td.details-control', function(){\n",
      "\t\tvar tr = $(this).closest('tr');\n",
      "\t\tvar row = table_asistenciaVI.row( tr );\n",
      "\n",
      "\t\tif ( row.child.isShown() ) {\n",
      "\t\t\t// This row is already open - close it\n",
      "\t\t\trow.child.hide();\n",
      "\t\t\ttr.removeClass('shown');\n",
      "\t\t}\n",
      "\t\telse {\n",
      "\t\t\t// Open this row\n",
      "\t\t\trow.child( format(row.data()) ).show();\n",
      "\t\t\ttr.addClass('shown');\n",
      "\t\t}\n",
      "\t});\n",
      "});\n",
      "\n",
      "/* Formatting function for row details - modify as you need */\n",
      "function format ( d ) {\n",
      "\t// `d` is the original data object for the row\n",
      "\treturn '<table class=\"table-bordered\">'+\n",
      "\t\t'<tr><th colspan=\"6\" class=\"text-center\">Detalles de la Asistencia</th></tr>'+\n",
      "\t\t'<tr>'+\n",
      "\t\t\t'<td>Nombre</td>'+\n",
      "\t\t\t'<td>Apellido Paterno</td>'+\n",
      "\t\t\t'<td>Apellido Materno</td>'+\n",
      "\t\t\t'<td>Sentido del voto</td>'+\n",
      "\t\t'</tr>'+\n",
      "\t\t'<tr>'+\n",
      "\t\t\t'<td>'+saltoLinea(d.nombre)+'</td>'+\n",
      "\t\t\t'<td>'+saltoLinea(d.paterno)+'</td>'+\n",
      "\t\t\t'<td>'+saltoLinea(d.materno)+'</td>'+\n",
      "\t\t\t'<td>'+saltoLinea(d.sentido_voto)+'</td>'+\n",
      "\t\t'</tr>'+\n",
      "\t'</table>';\n",
      "}\n",
      "\n",
      "function saltoLinea(cadena){\n",
      "\tvar cadenaFormada = \"\";\n",
      "\tcadenaFormada = cadena.replace(/\\|/g, \"<br/>\");\n",
      "\treturn cadenaFormada;\n",
      "}\n",
      "</script>  </div>\n",
      "  <br></br>\n",
      "  <footer>\n",
      "    Senado de la República\n",
      "  </footer>\n",
      "\n",
      "  <!--Modal como se consulta-->\n",
      "  <div class=\"modal fade\" id=\"comoconsulta\" role=\"dialog\">\n",
      "    <div class=\"modal-dialog modal-lg\" role=\"document\">\n",
      "\n",
      "      <!-- Modal content-->\n",
      "      <div class=\"modal-content\">\n",
      "        <div class=\"modal-header\">\n",
      "          <h4 class=\"modal-title\">¿Cómo se consulta?</h4>\n",
      "          <button type=\"button\" class=\"close\" data-dismiss=\"modal\" aria-label=\"Close\">\n",
      "            <span aria-hidden=\"true\">&times;</span>\n",
      "          </button>\n",
      "        </div>\n",
      "\n",
      "        <div class=\"modal-body\">\n",
      "          <ol>\n",
      "            <li>Normatividad</li>\n",
      "            <li>Artículo y fracción</li>\n",
      "            <li>Fecha de actualización y área responsable</li>\n",
      "            <li>Número de registros y páginas</li>\n",
      "            <li>Nombre de columnas</li>\n",
      "            <li>Área de datos</li>\n",
      "          </ol>\n",
      "          <img src=\"Webroot/img/como_consulta.png\" alt=\"como se consulta img\" class=\"img-fluid\">\n",
      "        </div>\n",
      "\n",
      "        <div class=\"modal-footer\">\n",
      "          <button type=\"button\" class=\"btn btn-secondary\" data-dismiss=\"modal\">Cerrar</button>\n",
      "        </div>\n",
      "      </div>\n",
      "    </div>\n",
      "  </div>\n",
      "  <!---->\n",
      "\n",
      "</body>\n",
      "</html>\n",
      "\n"
     ]
    }
   ],
   "metadata": {
    "tags": []
   }
  },
  {
   "cell_type": "code",
   "execution_count": 21,
   "source": [
    "decoded_soup.original_encoding"
   ],
   "outputs": [
    {
     "output_type": "execute_result",
     "data": {
      "text/plain": [
       "'utf-8'"
      ]
     },
     "metadata": {},
     "execution_count": 21
    }
   ],
   "metadata": {}
  },
  {
   "cell_type": "code",
   "execution_count": 23,
   "source": [
    "# 401 error - CHECK WHEN FINDING 401\n",
    "# use a session\n",
    "import requests\n",
    "\n",
    "url = 'https://gamefaqs.gamespot.com/'\n",
    "\n",
    "session = requests.Session()\n",
    "response = session.get(url, headers={'User-Agent': 'Mozilla/5.0'})\n",
    "response.status_code"
   ],
   "outputs": [
    {
     "output_type": "execute_result",
     "data": {
      "text/plain": [
       "200"
      ]
     },
     "metadata": {},
     "execution_count": 23
    }
   ],
   "metadata": {}
  }
 ],
 "metadata": {
  "kernelspec": {
   "name": "python3",
   "display_name": "Python 3.9.5 32-bit ('venv': venv)"
  },
  "language_info": {
   "codemirror_mode": {
    "name": "ipython",
    "version": 3
   },
   "file_extension": ".py",
   "mimetype": "text/x-python",
   "name": "python",
   "nbconvert_exporter": "python",
   "pygments_lexer": "ipython3",
   "version": "3.9.5"
  },
  "interpreter": {
   "hash": "a67fe6c412f916882b910c131fcaa4251190ab13d1ca41434ed355df77b9abd3"
  }
 },
 "nbformat": 4,
 "nbformat_minor": 4
}