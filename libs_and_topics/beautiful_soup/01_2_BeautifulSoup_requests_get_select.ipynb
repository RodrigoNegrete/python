{
 "cells": [
  {
   "cell_type": "markdown",
   "metadata": {},
   "source": [
    "## Requests"
   ]
  },
  {
   "cell_type": "code",
   "execution_count": 1,
   "metadata": {},
   "outputs": [],
   "source": [
    "import requests\n",
    "from bs4 import BeautifulSoup\n",
    "\n",
    "response = requests.get(\"https://stackoverflow.com/questions\")\n",
    "soup = BeautifulSoup(response.text, \"html.parser\")  # extract the html contents"
   ]
  },
  {
   "cell_type": "code",
   "execution_count": 2,
   "metadata": {},
   "outputs": [],
   "source": [
    "questions = soup.select(\".question-summary\")  # the dot means it's a class"
   ]
  },
  {
   "cell_type": "markdown",
   "metadata": {},
   "source": [
    "we get an iterable and get the first item to see type\n",
    "each object is an instance of the class"
   ]
  },
  {
   "cell_type": "code",
   "execution_count": 3,
   "metadata": {},
   "outputs": [
    {
     "name": "stdout",
     "output_type": "stream",
     "text": [
      "<div class=\"question-summary\" id=\"question-summary-62970767\">\n",
      "<div class=\"statscontainer\">\n",
      "<div class=\"stats\">\n",
      "<div class=\"vote\">\n",
      "<div class=\"votes\">\n",
      "<span class=\"vote-count-post\"><strong>0</strong></span>\n",
      "<div class=\"viewcount\">votes</div>\n",
      "</div>\n",
      "</div>\n",
      "<div class=\"status unanswered\">\n",
      "<strong>0</strong>answers\r\n",
      "            </div>\n",
      "</div>\n",
      "<div class=\"views\" title=\"2 views\">\r\n",
      "    2 views\r\n",
      "</div>\n",
      "</div>\n",
      "<div class=\"summary\">\n",
      "<h3><a class=\"question-hyperlink\" href=\"/questions/62970767/problem-converting-fiscal-year-to-calendar-dates\">Problem Converting Fiscal Year to Calendar Dates</a></h3>\n",
      "<div class=\"excerpt\">\r\n",
      "            I need help using a query to convert Fiscal year to Calendar Year. For Example, I have the Fiscal_Year column and Fiscal_Quarter Column, as shown below\n",
      "Fiscal_Year Fiscal_Qtr  Calendar_Year\n",
      "FY21       ...\r\n",
      "        </div>\n",
      "<div class=\"tags t-ms-access-2016\">\n",
      "<a class=\"post-tag\" href=\"/questions/tagged/ms-access-2016\" rel=\"tag\" title=\"show questions tagged 'ms-access-2016'\">ms-access-2016</a>\n",
      "</div>\n",
      "<div class=\"started fr\">\n",
      "<div class=\"user-info\">\n",
      "<div class=\"user-action-time\">\r\n",
      "        asked <span class=\"relativetime\" title=\"2020-07-18 16:08:52Z\">26 secs ago</span>\n",
      "</div>\n",
      "<div class=\"user-gravatar32\">\n",
      "<a href=\"/users/10495192/masikonde\"><div class=\"gravatar-wrapper-32\"><img alt=\"\" class=\"bar-sm\" height=\"32\" src=\"https://www.gravatar.com/avatar/04a38b44cb5753f7913da434f35072df?s=32&amp;d=identicon&amp;r=PG&amp;f=1\" width=\"32\"/></div></a>\n",
      "</div>\n",
      "<div class=\"user-details\">\n",
      "<a href=\"/users/10495192/masikonde\">Masikonde</a>\n",
      "<div class=\"-flair\">\n",
      "<span class=\"reputation-score\" dir=\"ltr\" title=\"reputation score \">1</span><span aria-hidden=\"true\" title=\"1 bronze badge\"><span class=\"badge3\"></span><span class=\"badgecount\">1</span></span><span class=\"v-visible-sr\">1 bronze badge</span>\n",
      "</div>\n",
      "</div>\n",
      "</div>\n",
      "</div>\n",
      "</div>\n",
      "</div>\n",
      "<class 'bs4.element.Tag'>\n",
      "None\n"
     ]
    }
   ],
   "source": [
    "print(questions[0])\n",
    "print(type(questions[0]))\n",
    "print(questions[0].attr)"
   ]
  },
  {
   "cell_type": "markdown",
   "metadata": {},
   "source": [
    "## Get element's id\n",
    "the method get prevents execution errors\n",
    "this gets the actual id of the 0th element"
   ]
  },
  {
   "cell_type": "code",
   "execution_count": 4,
   "metadata": {},
   "outputs": [
    {
     "name": "stdout",
     "output_type": "stream",
     "text": [
      "question-summary-62970767\n"
     ]
    }
   ],
   "source": [
    "print(questions[0].get(\"id\", 0))"
   ]
  },
  {
   "cell_type": "markdown",
   "metadata": {},
   "source": [
    "## Select method"
   ]
  },
  {
   "cell_type": "markdown",
   "metadata": {},
   "source": [
    "returns a single element\n",
    "the href only contains one question title"
   ]
  },
  {
   "cell_type": "code",
   "execution_count": 5,
   "metadata": {},
   "outputs": [
    {
     "name": "stdout",
     "output_type": "stream",
     "text": [
      "[<a class=\"question-hyperlink\" href=\"/questions/62970767/problem-converting-fiscal-year-to-calendar-dates\">Problem Converting Fiscal Year to Calendar Dates</a>]\n"
     ]
    }
   ],
   "source": [
    "print(questions[0].select(\".question-hyperlink\"))"
   ]
  },
  {
   "cell_type": "code",
   "execution_count": 6,
   "metadata": {},
   "outputs": [
    {
     "name": "stdout",
     "output_type": "stream",
     "text": [
      "<a class=\"question-hyperlink\" href=\"/questions/62970767/problem-converting-fiscal-year-to-calendar-dates\">Problem Converting Fiscal Year to Calendar Dates</a>\n"
     ]
    }
   ],
   "source": [
    "print(questions[0].select_one(\".question-hyperlink\"))"
   ]
  },
  {
   "cell_type": "markdown",
   "metadata": {},
   "source": [
    "## getText method\n",
    "gets the text from the anchor"
   ]
  },
  {
   "cell_type": "code",
   "execution_count": 7,
   "metadata": {},
   "outputs": [
    {
     "name": "stdout",
     "output_type": "stream",
     "text": [
      "Problem Converting Fiscal Year to Calendar Dates\n"
     ]
    }
   ],
   "source": [
    "print(questions[0].select_one(\".question-hyperlink\").getText())"
   ]
  },
  {
   "cell_type": "markdown",
   "metadata": {},
   "source": [
    "### iterate over the list to get all the question titles"
   ]
  },
  {
   "cell_type": "code",
   "execution_count": 8,
   "metadata": {},
   "outputs": [
    {
     "name": "stdout",
     "output_type": "stream",
     "text": [
      "Problem Converting Fiscal Year to Calendar Dates\n",
      "WebSocket connection to 'wss://***:6001/socket.io/?EIO=3&transport=websocket' failed: WebSocket is closed\n",
      "In Python OOP can you help me understand why does this code not work\n",
      "Does `mov edx, Len` for printing to stdout store the value or address of Len into the register?\n",
      "Firestore function deployment error when using Twilio\n",
      "Check if a rule already exists while validating\n",
      "How can I test for missing / unused parameters of a template rendered by flask.render_template?\n",
      "Why a missing function parameter has a value of “[object Object]”?\n",
      "Flask GET request are sent to wrong path resulting on 404\n",
      "ggplot - extra label showing up in legend\n",
      "Set black color as default in Google docs\n",
      "In React, how to pass “this.state” as parameter to “socket.on” callback function?\n",
      "Is message-broadcastig (in a lokal network) a client/server or a peere-to-peere system?\n",
      "adb: insufficient permissions for device in ubuntu\n",
      "Regular expression for at least one character before and after the equal sign [duplicate]\n",
      "Maven install build fails for spring boot application with mysql database on Docker container\n",
      "Already html page was existed but i am trying to save again\n",
      "Learning web development for a personal project\n",
      "use of ORM with ODB in c++\n",
      "Difference between this two js in react\n",
      "Average of Numbers in Java\n",
      "GoLang Struct defining multiple XML Envelope\n",
      "XCode UICollectionViewCell appearing much smaller on simulator than in storyboard\n",
      "How do I remove the style in the html and put it in the css section?\n",
      "Does an iOS app that uses StoreKit “use encryption”, as in Apple's Export Compliance Information question?\n",
      "Mixed Content When Accessing CloudFront\n",
      "Find-Module is able to find a module in Powershell 5.1 (Windows), but not in Powershell 7.0.2 (Core)\n",
      "How to get more information on why mount cifs failed?\n",
      "Allure specflow: generating report after test run in from visual studio\n",
      "How to solve java multi inheritance?\n",
      "Google Sheets: “Text to Columns”, but in single column?\n",
      "From Blender mesh to Unity\n",
      "JCA Activation Specification without rar\n",
      "Google Charts only annotation text on first high/low vaule\n",
      "How does Configuration SectionInformation UnprotectSection know what encryption provider to use?\n",
      "How to generate in python all the combinations of a TicTacToe board? [closed]\n",
      "CakePHP 4 Admin Panel\n",
      "Output message is not getting displayed when @ModelAttribute is used with @ControllerAdvice in Spring MVC\n",
      "Is it dangerous opening port 3000 of the server?\n",
      "Is there a way to display raw html code in a template literal?\n",
      "How to programmatically get a list workspaces with their associated windows with Xmonad?\n",
      "Javascript Project import from files\n",
      "For the “/” route, the “home” property, if non-null, is used\n",
      "df['colimn_name'] vs df.loc[:, 'colimn_name']\n",
      "NyTimes API Python, Retrieving Titles from Query\n",
      "I faced this problem while i was doing my react-native project\n",
      "How to select a document whit a specific child in Alfreso?\n",
      "How to display image downloaded from API in listview with text\n",
      "Email sent recieving in spam\n",
      "Dynamic forms with nested attributes in rails\n"
     ]
    }
   ],
   "source": [
    "for question in questions:\n",
    "    # question singular\n",
    "    print(question.select_one(\".question-hyperlink\").getText())"
   ]
  },
  {
   "cell_type": "code",
   "execution_count": null,
   "metadata": {},
   "outputs": [],
   "source": [
    "# # find text's xpath\n",
    "# import re\n",
    "# import itertools\n",
    "\n",
    "# soup = BeautifulSoup(url, 'lxml')\n",
    "# elem = soup.find(string=re.compile('Hello World'))\n",
    "# xpath_soup(elem)"
   ]
  }
 ],
 "metadata": {
  "kernelspec": {
   "display_name": "Python 3",
   "language": "python",
   "name": "python3"
  },
  "language_info": {
   "codemirror_mode": {
    "name": "ipython",
    "version": 3
   },
   "file_extension": ".py",
   "mimetype": "text/x-python",
   "name": "python",
   "nbconvert_exporter": "python",
   "pygments_lexer": "ipython3",
   "version": "3.8.4"
  }
 },
 "nbformat": 4,
 "nbformat_minor": 4
}