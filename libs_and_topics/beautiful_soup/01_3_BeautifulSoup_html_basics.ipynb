{
 "cells": [
  {
   "cell_type": "code",
   "execution_count": 1,
   "metadata": {},
   "outputs": [
    {
     "data": {
      "text/plain": [
       "2"
      ]
     },
     "execution_count": 1,
     "metadata": {},
     "output_type": "execute_result"
    }
   ],
   "source": [
    "import requests\n",
    "from bs4 import BeautifulSoup\n",
    "\n",
    "url = 'http://www.marketwatch.com'\n",
    "\n",
    "response = requests.get(url)\n",
    "# response.text\n",
    "# response.content # very similar to the above\n",
    "\n",
    "soup = BeautifulSoup(response.content, 'html.parser')\n",
    "\n",
    "\n",
    "# find gets the first instance - not iterable\n",
    "soup.find_all('div', class_ = \"region region--primary\")\n",
    "\n",
    "# len gives how many instances you found\n",
    "len(soup.find_all('div', class_ = \"region region--primary\"))"
   ]
  },
  {
   "cell_type": "code",
   "execution_count": 2,
   "metadata": {},
   "outputs": [
    {
     "data": {
      "text/plain": [
       "0"
      ]
     },
     "execution_count": 2,
     "metadata": {},
     "output_type": "execute_result"
    }
   ],
   "source": [
    "# you can also use id with no underscore which returns a unique instance\n",
    "len(soup.find_all('div', id = 'some-id'))"
   ]
  },
  {
   "cell_type": "code",
   "execution_count": 3,
   "metadata": {
    "tags": []
   },
   "outputs": [
    {
     "name": "stdout",
     "output_type": "stream",
     "text": [
      "https://www.marketwatch.com/\n"
     ]
    },
    {
     "data": {
      "text/plain": [
       "28"
      ]
     },
     "execution_count": 3,
     "metadata": {},
     "output_type": "execute_result"
    }
   ],
   "source": [
    "# span is used to create a new element whithin an element\n",
    "\n",
    "# links have attribute href\n",
    "# you need to use get for href\n",
    "# it finds the first a and gets all the href inside\n",
    "print(soup.find('a').get('href'))\n",
    "len(soup.find('a').get('href'))"
   ]
  },
  {
   "cell_type": "code",
   "execution_count": 4,
   "metadata": {},
   "outputs": [
    {
     "data": {
      "text/plain": [
       "'https://ww'"
      ]
     },
     "execution_count": 4,
     "metadata": {},
     "output_type": "execute_result"
    }
   ],
   "source": [
    "# get a the first instances of a non iterable\n",
    "# instances on non iterables are\n",
    "soup.find('a').get('href')[:10]"
   ]
  },
  {
   "cell_type": "code",
   "execution_count": 5,
   "metadata": {},
   "outputs": [
    {
     "data": {
      "text/plain": [
       "<ul class=\"list list--menu j-list\" id=\"nav__menu\">\n",
       "<li class=\"menu__item\" data-click-through=\"top_nav\" data-section=\"latest-news\"><a href=\"https://www.marketwatch.com/latest-news\">Latest</a></li>\n",
       "<li class=\"menu__item\" data-click-through=\"top_nav\" data-section=\"watchlist\"><a href=\"https://www.marketwatch.com/watchlist\">Watchlist</a></li>\n",
       "<li class=\"menu__item\" data-click-through=\"top_nav\" data-section=\"markets\"><a href=\"https://www.marketwatch.com/markets\">Markets</a></li>\n",
       "<li class=\"menu__item\" data-click-through=\"top_nav\" data-section=\"investing\"><a href=\"https://www.marketwatch.com/investing\">Investing</a></li>\n",
       "<li class=\"menu__item\" data-click-through=\"top_nav\" data-section=\"investing/barrons\"><a href=\"https://www.marketwatch.com/investing/barrons\">Barron's</a></li>\n",
       "<li class=\"menu__item\" data-click-through=\"top_nav\" data-section=\"personal-finance\"><a href=\"https://www.marketwatch.com/personal-finance\">Personal Finance</a></li>\n",
       "<li class=\"menu__item\" data-click-through=\"top_nav\" data-section=\"economy-politics\"><a href=\"https://www.marketwatch.com/economy-politics\">Economy</a></li>\n",
       "<li class=\"menu__item\" data-click-through=\"top_nav\" data-section=\"retirement\"><a href=\"https://www.marketwatch.com/retirement\">Retirement</a></li>\n",
       "<li class=\"menu__item\" data-click-through=\"top_nav\" data-section=\"economy-politics/coronavirus\"><a href=\"https://www.marketwatch.com/economy-politics/coronavirus\">Coronavirus</a></li>\n",
       "<li class=\"menu__item\" data-click-through=\"top_nav\" data-section=\"video\"><a href=\"https://www.marketwatch.com/video\">Video Center</a></li>\n",
       "<li class=\"menu__item\" data-click-through=\"top_nav\" data-section=\"newsroom/opinion\"><a href=\"https://www.marketwatch.com/newsroom/opinion\">Commentary</a></li>\n",
       "<li class=\"menu__item item--more\">\n",
       "<button class=\"more__btn j-more__btn\">More</button>\n",
       "<div class=\"more__dropdown j-more__dropdown\" id=\"j-nav__more\">\n",
       "</div>\n",
       "</li>\n",
       "</ul>"
      ]
     },
     "execution_count": 5,
     "metadata": {},
     "output_type": "execute_result"
    }
   ],
   "source": [
    "# lists\n",
    "soup.find('ul')"
   ]
  },
  {
   "cell_type": "code",
   "execution_count": 6,
   "metadata": {},
   "outputs": [
    {
     "data": {
      "text/plain": [
       "bs4.element.ResultSet"
      ]
     },
     "execution_count": 6,
     "metadata": {},
     "output_type": "execute_result"
    }
   ],
   "source": [
    "# all the unordered lists\n",
    "len(soup.find_all('ul'))\n",
    "type(soup.find_all('ul'))"
   ]
  },
  {
   "cell_type": "code",
   "execution_count": 9,
   "metadata": {
    "scrolled": true
   },
   "outputs": [
    {
     "data": {
      "text/plain": [
       "<ul class=\"list list--menu j-list\" id=\"nav__menu\">\n",
       "<li class=\"menu__item\" data-click-through=\"top_nav\" data-section=\"latest-news\"><a href=\"https://www.marketwatch.com/latest-news\">Latest</a></li>\n",
       "<li class=\"menu__item\" data-click-through=\"top_nav\" data-section=\"watchlist\"><a href=\"https://www.marketwatch.com/watchlist\">Watchlist</a></li>\n",
       "<li class=\"menu__item\" data-click-through=\"top_nav\" data-section=\"markets\"><a href=\"https://www.marketwatch.com/markets\">Markets</a></li>\n",
       "<li class=\"menu__item\" data-click-through=\"top_nav\" data-section=\"investing\"><a href=\"https://www.marketwatch.com/investing\">Investing</a></li>\n",
       "<li class=\"menu__item\" data-click-through=\"top_nav\" data-section=\"investing/barrons\"><a href=\"https://www.marketwatch.com/investing/barrons\">Barron's</a></li>\n",
       "<li class=\"menu__item\" data-click-through=\"top_nav\" data-section=\"personal-finance\"><a href=\"https://www.marketwatch.com/personal-finance\">Personal Finance</a></li>\n",
       "<li class=\"menu__item\" data-click-through=\"top_nav\" data-section=\"economy-politics\"><a href=\"https://www.marketwatch.com/economy-politics\">Economy</a></li>\n",
       "<li class=\"menu__item\" data-click-through=\"top_nav\" data-section=\"retirement\"><a href=\"https://www.marketwatch.com/retirement\">Retirement</a></li>\n",
       "<li class=\"menu__item\" data-click-through=\"top_nav\" data-section=\"economy-politics/coronavirus\"><a href=\"https://www.marketwatch.com/economy-politics/coronavirus\">Coronavirus</a></li>\n",
       "<li class=\"menu__item\" data-click-through=\"top_nav\" data-section=\"video\"><a href=\"https://www.marketwatch.com/video\">Video Center</a></li>\n",
       "<li class=\"menu__item\" data-click-through=\"top_nav\" data-section=\"newsroom/opinion\"><a href=\"https://www.marketwatch.com/newsroom/opinion\">Commentary</a></li>\n",
       "<li class=\"menu__item item--more\">\n",
       "<button class=\"more__btn j-more__btn\">More</button>\n",
       "<div class=\"more__dropdown j-more__dropdown\" id=\"j-nav__more\">\n",
       "</div>\n",
       "</li>\n",
       "</ul>"
      ]
     },
     "execution_count": 9,
     "metadata": {},
     "output_type": "execute_result"
    }
   ],
   "source": [
    "# get the first instance of an iterable\n",
    "soup.find_all('ul')[0]"
   ]
  },
  {
   "cell_type": "code",
   "execution_count": 10,
   "metadata": {},
   "outputs": [
    {
     "data": {
      "text/plain": [
       "[<ul class=\"profile__menu\">\n",
       " <li class=\"profile__item profile--name divider\">Account Settings</li>\n",
       " <li class=\"profile__item\"><a class=\"link js-btn--login\" data-track-code=\"MW_Header_Login\" data-track-query=\".btn--login\" href=\"https://accounts.marketwatch.com/login?target=https%3A%2F%2Fwww.marketwatch.com%2F\">Log In</a></li>\n",
       " <li class=\"profile__item\"><a class=\"link\" data-track-code=\"MW_Header_Signup\" data-track-query=\".btn--signup\" href=\"/sign-up\">Sign Up</a></li>\n",
       " </ul>]"
      ]
     },
     "execution_count": 10,
     "metadata": {},
     "output_type": "execute_result"
    }
   ],
   "source": [
    "# get all ul items and then get the desired class\n",
    "soup.find_all('ul', class_ = 'profile__menu')"
   ]
  },
  {
   "cell_type": "code",
   "execution_count": 8,
   "metadata": {},
   "outputs": [
    {
     "data": {
      "text/plain": [
       "1"
      ]
     },
     "execution_count": 8,
     "metadata": {},
     "output_type": "execute_result"
    }
   ],
   "source": [
    "# if you get an empty list it could be that the list needs javascript to run\n",
    "# usually they are identified with a script tag\n",
    "len(soup.find_all('ul', class_ = 'profile__menu'))"
   ]
  }
 ],
 "metadata": {
  "kernelspec": {
   "display_name": "Python 3",
   "language": "python",
   "name": "python3"
  },
  "language_info": {
   "codemirror_mode": {
    "name": "ipython",
    "version": 3
   },
   "file_extension": ".py",
   "mimetype": "text/x-python",
   "name": "python",
   "nbconvert_exporter": "python",
   "pygments_lexer": "ipython3",
   "version": "3.8.4"
  },
  "toc": {
   "base_numbering": 1,
   "nav_menu": {},
   "number_sections": true,
   "sideBar": true,
   "skip_h1_title": false,
   "title_cell": "Table of Contents",
   "title_sidebar": "Contents",
   "toc_cell": false,
   "toc_position": {},
   "toc_section_display": true,
   "toc_window_display": false
  }
 },
 "nbformat": 4,
 "nbformat_minor": 2
}
