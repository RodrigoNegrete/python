{
 "cells": [
  {
   "cell_type": "code",
   "execution_count": null,
   "metadata": {},
   "outputs": [],
   "source": [
    "## Advanced Tables\n",
    "### List comprehensions\n"
   ]
  },
  {
   "cell_type": "code",
   "execution_count": null,
   "metadata": {},
   "outputs": [],
   "source": [
    "import urllib\n",
    "import requests\n",
    "from bs4 import BeautifulSoup\n",
    "import openpyxl\n",
    "\n",
    "url = \"http://sitl.diputados.gob.mx/LXIV_leg/iniciativas_con_cclxiv.php?filit=%20&pert=0&edot=P&comt=0\"\n",
    "\n",
    "request = requests.get(url)\n",
    "soup = BeautifulSoup(request.text, 'html.parser')\n",
    "table_data = soup.find_all('td')\n",
    "\n",
    "for row in table_data:\n",
    "    data_a = row.find_all('a')\n",
    "    rows_a = [i_a.text.strip() for i_a in data_a]\n",
    "    data_b = row.find_all('b')\n",
    "    rows_b = [i_b.text.strip() for i_b in data_b]\n",
    "    data_span = row.find_all('span')\n",
    "    rows_span = [i_span.text.strip() for i_span in data_span]\n",
    "    combined_rows = rows_a + rows_b + rows_span\n",
    "\n",
    "# for row_a in table_data:\n",
    "#     data_a = row_a.find_all('a')\n",
    "#     rows_a = [i_a.text.strip() for i_a in data_a]\n",
    "#     # print(rows_a)\n",
    "\n",
    "# for row_b in table_data:\n",
    "#     data_b = row_b.find_all('b')\n",
    "#     rows_b = [i_b.text.strip() for i_b in data_b]\n",
    "#     # print(rows_b)\n",
    "\n",
    "# for row_span in table_data:\n",
    "#     data_span = row_span.find_all('span')\n",
    "#     rows_span = [i_span.text.strip() for i_span in data_span]\n",
    "#     # print(rows_span)\n",
    "\n",
    "# combined_rows = rows_a + rows_b + rows_span\n",
    "# print(combined_rows)\n",
    "\n",
    "# with open(\"iniciativas.csv\", \"wb\") as file:\n",
    "#     writer = csv.writer(file)\n",
    "#     writer.writerows(combined_rows)\n",
    "\n",
    "# workbook = openpyxl.load_workbook(\"blank.xlsx\")\n",
    "# sheet = workbook[\"Sheet1\"]\n",
    "# sheet.append([combined_rows])\n",
    "# workbook.save(\"iniciativas.xlsx\")\n"
   ]
  }
 ],
 "metadata": {
  "kernelspec": {
   "display_name": "Python 3.8.1 64-bit",
   "language": "python",
   "name": "python38164bit0395e10fda9e4b89be157d2333c7d2e3"
  }
 },
 "nbformat": 4,
 "nbformat_minor": 4
}
