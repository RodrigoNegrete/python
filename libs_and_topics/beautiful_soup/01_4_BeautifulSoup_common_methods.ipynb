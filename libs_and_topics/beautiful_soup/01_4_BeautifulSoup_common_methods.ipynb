{
 "cells": [
  {
   "cell_type": "code",
   "execution_count": null,
   "metadata": {},
   "outputs": [],
   "source": [
    "# common beautifulsoup methods\n",
    "# find and find_all\n",
    "# find_parent() and find_parents()\n",
    "# find_next_sibling() and find_previous_sibling()\n",
    "# find_next() and find_all_next()\n",
    "# find_previous() and find_all_previous()"
   ]
  },
  {
   "cell_type": "markdown",
   "metadata": {},
   "source": [
    "<-- sample html -->\n",
    "<html>\n",
    "    <head>\n",
    "        <h1>Title</h1>\n",
    "    </head>\n",
    "    <body>\n",
    "        <div style=\"background-color: black; color: white; padding:20px;\">\n",
    "            <h2>New York</h2>\n",
    "            <p>New York is Blah Blah</p>\n",
    "        </div>\n",
    "        <div style=\"background-color: black; color: white; padding:20px;\">\n",
    "            <h2>London</h2>\n",
    "            <p>London is Blah Blah</p>\n",
    "        </div>\n",
    "    </body>\n",
    "</html>"
   ]
  },
  {
   "cell_type": "code",
   "execution_count": 7,
   "metadata": {},
   "outputs": [],
   "source": [
    "# store in a variable with multiple lines\n",
    "html = \"\"\"\n",
    "<html>\n",
    "    <head>\n",
    "        <h1>Title</h1>\n",
    "    </head>\n",
    "    <body>\n",
    "        <div style=\"background-color: black; color: white; padding:20px;\">\n",
    "            <h2>New York</h2>\n",
    "            <p>New York is Blah Blah</p>\n",
    "        </div>\n",
    "        <div style=\"background-color: black; color: white; padding:20px;\">\n",
    "            <h2>London</h2>\n",
    "            <p>London is Blah Blah</p>\n",
    "        </div>\n",
    "    </body>\n",
    "</html>\n",
    "\"\"\""
   ]
  },
  {
   "cell_type": "code",
   "execution_count": 8,
   "metadata": {},
   "outputs": [],
   "source": [
    "# make soup\n",
    "from bs4 import BeautifulSoup\n",
    "\n",
    "soup = BeautifulSoup(html, 'html.parser')"
   ]
  },
  {
   "cell_type": "code",
   "execution_count": 9,
   "metadata": {},
   "outputs": [
    {
     "data": {
      "text/plain": [
       "[<div style=\"background-color: black; color: white; padding:20px;\">\n",
       " <h2>New York</h2>\n",
       " <p>New York is Blah Blah</p>\n",
       " </div>,\n",
       " <div style=\"background-color: black; color: white; padding:20px;\">\n",
       " <h2>London</h2>\n",
       " <p>London is Blah Blah</p>\n",
       " </div>]"
      ]
     },
     "execution_count": 9,
     "metadata": {},
     "output_type": "execute_result"
    }
   ],
   "source": [
    "# find and find_all\n",
    "soup.find_all('div')"
   ]
  },
  {
   "cell_type": "code",
   "execution_count": 10,
   "metadata": {},
   "outputs": [
    {
     "data": {
      "text/plain": [
       "<div style=\"background-color: black; color: white; padding:20px;\">\n",
       "<h2>New York</h2>\n",
       "<p>New York is Blah Blah</p>\n",
       "</div>"
      ]
     },
     "execution_count": 10,
     "metadata": {},
     "output_type": "execute_result"
    }
   ],
   "source": [
    "# find and find_all\n",
    "soup.find('div')"
   ]
  },
  {
   "cell_type": "code",
   "execution_count": 11,
   "metadata": {},
   "outputs": [
    {
     "data": {
      "text/plain": [
       "[<h2>New York</h2>,\n",
       " <div style=\"background-color: black; color: white; padding:20px;\">\n",
       " <h2>New York</h2>\n",
       " <p>New York is Blah Blah</p>\n",
       " </div>,\n",
       " <body>\n",
       " <div style=\"background-color: black; color: white; padding:20px;\">\n",
       " <h2>New York</h2>\n",
       " <p>New York is Blah Blah</p>\n",
       " </div>\n",
       " <div style=\"background-color: black; color: white; padding:20px;\">\n",
       " <h2>London</h2>\n",
       " <p>London is Blah Blah</p>\n",
       " </div>\n",
       " </body>,\n",
       " <html>\n",
       " <head>\n",
       " <h1>Title</h1>\n",
       " </head>\n",
       " <body>\n",
       " <div style=\"background-color: black; color: white; padding:20px;\">\n",
       " <h2>New York</h2>\n",
       " <p>New York is Blah Blah</p>\n",
       " </div>\n",
       " <div style=\"background-color: black; color: white; padding:20px;\">\n",
       " <h2>London</h2>\n",
       " <p>London is Blah Blah</p>\n",
       " </div>\n",
       " </body>\n",
       " </html>,\n",
       " \n",
       " <html>\n",
       " <head>\n",
       " <h1>Title</h1>\n",
       " </head>\n",
       " <body>\n",
       " <div style=\"background-color: black; color: white; padding:20px;\">\n",
       " <h2>New York</h2>\n",
       " <p>New York is Blah Blah</p>\n",
       " </div>\n",
       " <div style=\"background-color: black; color: white; padding:20px;\">\n",
       " <h2>London</h2>\n",
       " <p>London is Blah Blah</p>\n",
       " </div>\n",
       " </body>\n",
       " </html>]"
      ]
     },
     "execution_count": 11,
     "metadata": {},
     "output_type": "execute_result"
    }
   ],
   "source": [
    "# find_parent() and find_parents()\n",
    "# prints all instances\n",
    "soup.find(string = 'New York').find_parents()"
   ]
  },
  {
   "cell_type": "code",
   "execution_count": 12,
   "metadata": {},
   "outputs": [
    {
     "data": {
      "text/plain": [
       "<h2>New York</h2>"
      ]
     },
     "execution_count": 12,
     "metadata": {},
     "output_type": "execute_result"
    }
   ],
   "source": [
    "# find_parent() and find_parents()\n",
    "# finds the first instance of New York in the page text\n",
    "soup.find(string = 'New York').find_parent()"
   ]
  },
  {
   "cell_type": "code",
   "execution_count": 14,
   "metadata": {},
   "outputs": [
    {
     "data": {
      "text/plain": [
       "<p>New York is Blah Blah</p>"
      ]
     },
     "execution_count": 14,
     "metadata": {},
     "output_type": "execute_result"
    }
   ],
   "source": [
    "# find_next_sibling() and find_previous_sibling()\n",
    "# find the sibling through the parent\n",
    "soup.find(string = 'New York').find_parent().find_next_sibling()"
   ]
  },
  {
   "cell_type": "code",
   "execution_count": 16,
   "metadata": {},
   "outputs": [],
   "source": [
    "# find_next_sibling() and find_previous_sibling()\n",
    "# it has no previous sibling\n",
    "soup.find(string = 'New York').find_parent().find_previous_sibling()"
   ]
  },
  {
   "cell_type": "code",
   "execution_count": 18,
   "metadata": {},
   "outputs": [
    {
     "data": {
      "text/plain": [
       "<h2>New York</h2>"
      ]
     },
     "execution_count": 18,
     "metadata": {},
     "output_type": "execute_result"
    }
   ],
   "source": [
    "# find_next_sibling() and find_previous_sibling()\n",
    "# get the second sibling and find the previous\n",
    "soup.find(string = 'New York').find_parent().find_next_sibling().find_previous_sibling()"
   ]
  },
  {
   "cell_type": "code",
   "execution_count": 17,
   "metadata": {},
   "outputs": [
    {
     "data": {
      "text/plain": [
       "[<p>New York is Blah Blah</p>]"
      ]
     },
     "execution_count": 17,
     "metadata": {},
     "output_type": "execute_result"
    }
   ],
   "source": [
    "# find_next_sibling() and find_previous_sibling()\n",
    "# it has only one next sibling\n",
    "soup.find(string = 'New York').find_parent().find_next_siblings()"
   ]
  },
  {
   "cell_type": "code",
   "execution_count": 19,
   "metadata": {
    "code_folding": []
   },
   "outputs": [
    {
     "data": {
      "text/plain": [
       "<p>New York is Blah Blah</p>"
      ]
     },
     "execution_count": 19,
     "metadata": {},
     "output_type": "execute_result"
    }
   ],
   "source": [
    "# find_next() and find_all_next()\n",
    "soup.find(string = 'New York').find_next()"
   ]
  },
  {
   "cell_type": "code",
   "execution_count": 20,
   "metadata": {},
   "outputs": [
    {
     "data": {
      "text/plain": [
       "<div style=\"background-color: black; color: white; padding:20px;\">\n",
       "<h2>London</h2>\n",
       "<p>London is Blah Blah</p>\n",
       "</div>"
      ]
     },
     "execution_count": 20,
     "metadata": {},
     "output_type": "execute_result"
    }
   ],
   "source": [
    "# find_next() and find_all_next()\n",
    "# finds the next tag and then the next one\n",
    "soup.find(string = 'New York').find_next().find_next()"
   ]
  },
  {
   "cell_type": "code",
   "execution_count": 21,
   "metadata": {},
   "outputs": [
    {
     "data": {
      "text/plain": [
       "[<p>New York is Blah Blah</p>,\n",
       " <div style=\"background-color: black; color: white; padding:20px;\">\n",
       " <h2>London</h2>\n",
       " <p>London is Blah Blah</p>\n",
       " </div>,\n",
       " <h2>London</h2>,\n",
       " <p>London is Blah Blah</p>]"
      ]
     },
     "execution_count": 21,
     "metadata": {},
     "output_type": "execute_result"
    }
   ],
   "source": [
    "# find_next() and find_all_next()\n",
    "# gets all tags after our string\n",
    "soup.find(string = 'New York').find_all_next()"
   ]
  },
  {
   "cell_type": "code",
   "execution_count": 23,
   "metadata": {},
   "outputs": [
    {
     "data": {
      "text/plain": [
       "<h2>New York</h2>"
      ]
     },
     "execution_count": 23,
     "metadata": {},
     "output_type": "execute_result"
    }
   ],
   "source": [
    "# find_previous() and find_all_previous()\n",
    "soup.find(string = 'New York').find_previous()"
   ]
  },
  {
   "cell_type": "code",
   "execution_count": 24,
   "metadata": {},
   "outputs": [
    {
     "data": {
      "text/plain": [
       "[<h2>New York</h2>,\n",
       " <div style=\"background-color: black; color: white; padding:20px;\">\n",
       " <h2>New York</h2>\n",
       " <p>New York is Blah Blah</p>\n",
       " </div>,\n",
       " <body>\n",
       " <div style=\"background-color: black; color: white; padding:20px;\">\n",
       " <h2>New York</h2>\n",
       " <p>New York is Blah Blah</p>\n",
       " </div>\n",
       " <div style=\"background-color: black; color: white; padding:20px;\">\n",
       " <h2>London</h2>\n",
       " <p>London is Blah Blah</p>\n",
       " </div>\n",
       " </body>,\n",
       " <h1>Title</h1>,\n",
       " <head>\n",
       " <h1>Title</h1>\n",
       " </head>,\n",
       " <html>\n",
       " <head>\n",
       " <h1>Title</h1>\n",
       " </head>\n",
       " <body>\n",
       " <div style=\"background-color: black; color: white; padding:20px;\">\n",
       " <h2>New York</h2>\n",
       " <p>New York is Blah Blah</p>\n",
       " </div>\n",
       " <div style=\"background-color: black; color: white; padding:20px;\">\n",
       " <h2>London</h2>\n",
       " <p>London is Blah Blah</p>\n",
       " </div>\n",
       " </body>\n",
       " </html>]"
      ]
     },
     "execution_count": 24,
     "metadata": {},
     "output_type": "execute_result"
    }
   ],
   "source": [
    "# find_previous() and find_all_previous()\n",
    "soup.find(string = 'New York').find_all_previous()"
   ]
  },
  {
   "cell_type": "code",
   "execution_count": null,
   "metadata": {},
   "outputs": [],
   "source": []
  }
 ],
 "metadata": {
  "kernelspec": {
   "display_name": "Python 3.8.1 64-bit",
   "language": "python",
   "name": "python38164bit0395e10fda9e4b89be157d2333c7d2e3"
  },
  "language_info": {
   "codemirror_mode": {
    "name": "ipython",
    "version": 3
   },
   "file_extension": ".py",
   "mimetype": "text/x-python",
   "name": "python",
   "nbconvert_exporter": "python",
   "pygments_lexer": "ipython3",
   "version": "3.8.1"
  },
  "toc": {
   "base_numbering": 1,
   "nav_menu": {},
   "number_sections": true,
   "sideBar": true,
   "skip_h1_title": false,
   "title_cell": "Table of Contents",
   "title_sidebar": "Contents",
   "toc_cell": false,
   "toc_position": {},
   "toc_section_display": true,
   "toc_window_display": false
  }
 },
 "nbformat": 4,
 "nbformat_minor": 4
}
