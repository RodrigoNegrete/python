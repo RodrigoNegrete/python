{
 "cells": [
  {
   "cell_type": "code",
   "execution_count": null,
   "metadata": {},
   "outputs": [],
   "source": [
    "## Browser automation\n",
    "### selenium\n",
    "from selenium import webdriver\n",
    "\n",
    "browser = webdriver.Chrome()\n",
    "browser.get(\"https://github.com\")\n",
    "\n",
    "# finds the specific text displayed on the page \n",
    "# case sensitive\n",
    "# assign to variable\n",
    "signin_link = browser.find_element_by_link_text(\"Sign in\") \n",
    "\n",
    "#click\n",
    "signin_link.click() # click on link\n",
    "\n",
    "# fill in the form\n",
    "username_box = browser.find_element_by_id(\"login_field\")\n",
    "username_box.send_keys(\"RodrigoNegrete\")\n",
    "# password_box = browser.find_element_by_id(\"password\")\n",
    "# password_box = browser.find_element_by_class_name(\"password\")\n",
    "# password_box = find_elements_by_css_selector('#password')\n",
    "# password_box = find_element_by_xpath('/html/body/div[3]/main/div/form/div[4]/input[2]')\n",
    "username_box.send_keys(\"Qu3l3p0n\")\n",
    "password_box.submit()\n",
    "\n",
    "## determine if text exists in webpage\n",
    "# assert function continues if True ans throws exception if false\n",
    "# .page_source gets all the source code from the page\n",
    "assert \"RodrigoNegrete\" in browser.page_source\n",
    "\n",
    "# a more specific assertion\n",
    "profile_link = browser.find_element_by_class_name(\"user-id\")\n",
    "link_label = profile_link.get_attribute(\"innerHTML\")\n",
    "assert \"RodrigoNegrete\" in link_label\n",
    "\n",
    "# close the browser\n",
    "browser.quit()"
   ]
  }
 ],
 "metadata": {
  "kernelspec": {
   "display_name": "Python 3",
   "language": "python",
   "name": "python3"
  },
  "language_info": {
   "codemirror_mode": {
    "name": "ipython",
    "version": 3
   },
   "file_extension": ".py",
   "mimetype": "text/x-python",
   "name": "python",
   "nbconvert_exporter": "python",
   "pygments_lexer": "ipython3",
   "version": "3.8.4"
  }
 },
 "nbformat": 4,
 "nbformat_minor": 4
}
